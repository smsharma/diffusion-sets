{
 "cells": [
  {
   "cell_type": "code",
   "execution_count": 8,
   "id": "51b2182e-6dd1-447c-a211-fc1ffdf031a7",
   "metadata": {},
   "outputs": [],
   "source": [
    "import numpy as np\n",
    "import pandas as pd\n",
    "\n",
    "n_small = 16\n",
    "\n",
    "halos = np.load(\"/n/holyscratch01/iaifi_lab/ccuesta/data_for_sid/halos.npy\")\n",
    "cosmology = pd.read_csv(\"/n/holyscratch01/iaifi_lab/ccuesta/data_for_sid/cosmology.csv\")"
   ]
  },
  {
   "cell_type": "code",
   "execution_count": 10,
   "id": "ab9a2538-3c2a-429e-9db2-4f4a619bf3e8",
   "metadata": {},
   "outputs": [],
   "source": [
    "np.save(\"data/halos_small.npy\", halos[:n_small])\n",
    "cosmology[:n_small].to_csv(\"data/cosmology_small.csv\")"
   ]
  },
  {
   "cell_type": "code",
   "execution_count": null,
   "id": "5d61caec-9625-4823-b3e5-b171b10271dc",
   "metadata": {},
   "outputs": [],
   "source": []
  }
 ],
 "metadata": {
  "kernelspec": {
   "display_name": "Python 3 (ipykernel)",
   "language": "python",
   "name": "python3"
  },
  "language_info": {
   "codemirror_mode": {
    "name": "ipython",
    "version": 3
   },
   "file_extension": ".py",
   "mimetype": "text/x-python",
   "name": "python",
   "nbconvert_exporter": "python",
   "pygments_lexer": "ipython3",
   "version": "3.9.12"
  }
 },
 "nbformat": 4,
 "nbformat_minor": 5
}
