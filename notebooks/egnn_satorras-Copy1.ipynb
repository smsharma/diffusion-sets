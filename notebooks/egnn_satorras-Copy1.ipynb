{
 "cells": [
  {
   "cell_type": "code",
   "execution_count": 1,
   "id": "6e5abee5-c59f-4c12-b08a-d75f1f4a9746",
   "metadata": {},
   "outputs": [],
   "source": [
    "import jax\n",
    "import jax.numpy as np\n",
    "import jraph\n",
    "import flax.linen as nn\n",
    "import numpy as onp\n",
    "import matplotlib.pyplot as plt\n",
    "\n",
    "from functools import partial"
   ]
  },
  {
   "cell_type": "code",
   "execution_count": 2,
   "id": "92430e0d",
   "metadata": {},
   "outputs": [],
   "source": [
    "%load_ext autoreload\n",
    "%autoreload 2"
   ]
  },
  {
   "cell_type": "code",
   "execution_count": 3,
   "id": "38145712",
   "metadata": {},
   "outputs": [],
   "source": [
    "import sys\n",
    "sys.path.append(\"../\")\n",
    "\n",
    "from models.gnn import GraphConvNet\n",
    "from models.graph_utils import nearest_neighbors\n",
    "from models.graph_utils import add_graphs_tuples\n",
    "from models.train_utils import create_input_iter"
   ]
  },
  {
   "cell_type": "code",
   "execution_count": 4,
   "id": "9a1c76b5-abab-4b40-89fd-dc128c44a06d",
   "metadata": {},
   "outputs": [],
   "source": [
    "from datasets import load_data"
   ]
  },
  {
   "cell_type": "code",
   "execution_count": 5,
   "id": "026efde9-0725-4f6b-964e-f8e3c18733fe",
   "metadata": {},
   "outputs": [],
   "source": [
    "train_ds, norm_dict = load_data(\"nbody\", 3, 5000, 2, 234)"
   ]
  },
  {
   "cell_type": "code",
   "execution_count": 6,
   "id": "431b71dd-8ed7-4ade-86b3-bfd0ad64869d",
   "metadata": {},
   "outputs": [],
   "source": [
    "batches = create_input_iter(train_ds)\n",
    "x = next(batches)\n",
    "x = x[0][0]"
   ]
  },
  {
   "cell_type": "code",
   "execution_count": 7,
   "id": "1b200746-8c90-44dd-91fa-0a9b0dabd6eb",
   "metadata": {},
   "outputs": [
    {
     "data": {
      "text/plain": [
       "{'mean': Array([250.20403, 250.02423, 250.07912], dtype=float32),\n",
       " 'std': Array([144.30989, 144.35008, 144.3569 ], dtype=float32)}"
      ]
     },
     "execution_count": 7,
     "metadata": {},
     "output_type": "execute_result"
    }
   ],
   "source": [
    "norm_dict"
   ]
  },
  {
   "cell_type": "code",
   "execution_count": null,
   "id": "cfa132b2-ed38-4e2f-8a6b-dd933ec8154f",
   "metadata": {},
   "outputs": [],
   "source": [
    "z = [[[-0.74147505 -1.6911283   1.5016145 ]\n",
    "  [-1.2356482   0.83966905 -0.6621572 ]\n",
    "  [-0.93439144  0.7761591   1.7189647 ]\n",
    "  ...\n",
    "  [-0.37795684  0.05500687 -0.8659335 ]\n",
    "  [-1.708255   -1.1711149  -0.9808073 ]\n",
    "  [-1.0818185   0.7704281  -1.5321599 ]]\n",
    "\n",
    " [[-0.5730722  -0.08018497 -0.70453495]\n",
    "  [-0.3276197  -0.12879108 -1.3185476 ]\n",
    "  [-0.8818957  -0.07687593 -1.0378724 ]\n",
    "  ...\n",
    "  [-0.0777759  -0.44764853  1.6243275 ]\n",
    "  [ 0.98842955  0.85802907 -1.4616792 ]\n",
    "  [-1.565508    0.18810192  1.3286879 ]]]"
   ]
  },
  {
   "cell_type": "code",
   "execution_count": 8,
   "id": "a6fdffae-80c7-4d2c-8858-30429cdbee03",
   "metadata": {},
   "outputs": [
    {
     "data": {
      "text/plain": [
       "Array([[[-0.74147505, -1.6911283 ,  1.5016145 ],\n",
       "        [-1.2356482 ,  0.83966905, -0.6621572 ],\n",
       "        [-0.93439144,  0.7761591 ,  1.7189647 ],\n",
       "        ...,\n",
       "        [-0.37795684,  0.05500687, -0.8659335 ],\n",
       "        [-1.708255  , -1.1711149 , -0.9808073 ],\n",
       "        [-1.0818185 ,  0.7704281 , -1.5321599 ]],\n",
       "\n",
       "       [[-0.5730722 , -0.08018497, -0.70453495],\n",
       "        [-0.3276197 , -0.12879108, -1.3185476 ],\n",
       "        [-0.8818957 , -0.07687593, -1.0378724 ],\n",
       "        ...,\n",
       "        [-0.0777759 , -0.44764853,  1.6243275 ],\n",
       "        [ 0.98842955,  0.85802907, -1.4616792 ],\n",
       "        [-1.565508  ,  0.18810192,  1.3286879 ]]], dtype=float32)"
      ]
     },
     "execution_count": 8,
     "metadata": {},
     "output_type": "execute_result"
    }
   ],
   "source": [
    "x"
   ]
  },
  {
   "cell_type": "code",
   "execution_count": 9,
   "id": "bbf52d15-53e7-473d-a48b-98affa5d44d5",
   "metadata": {},
   "outputs": [],
   "source": [
    "k = 20"
   ]
  },
  {
   "cell_type": "code",
   "execution_count": 10,
   "id": "79afde5e-eef2-47c1-8122-ad2bcb0dea71",
   "metadata": {},
   "outputs": [],
   "source": [
    "sources, targets = jax.vmap(nearest_neighbors, in_axes=(0, None))(x, k)"
   ]
  },
  {
   "cell_type": "markdown",
   "id": "22637510-964f-4e2d-8a45-a852497233c5",
   "metadata": {},
   "source": [
    "## EGNN"
   ]
  },
  {
   "cell_type": "code",
   "execution_count": 11,
   "id": "611d36f3-c871-46ff-b427-0a641eb05295",
   "metadata": {},
   "outputs": [],
   "source": [
    "from models.egnn import EGNN"
   ]
  },
  {
   "cell_type": "code",
   "execution_count": 12,
   "id": "22e68794",
   "metadata": {},
   "outputs": [],
   "source": [
    "class GraphWrapper(nn.Module):\n",
    "    @nn.compact\n",
    "    def __call__(self, x):\n",
    "        model = jax.vmap(EGNN(\n",
    "                        message_passing_steps=2, d_hidden=64, n_layers=3, norm_layer=False, skip_connections=False,\n",
    "                ))\n",
    "        return model(x)\n",
    "    \n",
    "model = GraphWrapper()\n",
    "rng = jax.random.PRNGKey(42)"
   ]
  },
  {
   "cell_type": "markdown",
   "id": "792eb383-e935-44b2-80aa-a24196cf5ee0",
   "metadata": {},
   "source": [
    "## Test equivariance"
   ]
  },
  {
   "cell_type": "code",
   "execution_count": 13,
   "id": "8c9c4aef-880f-4c6e-9374-92804dbd066c",
   "metadata": {},
   "outputs": [],
   "source": [
    "from models.graph_utils import rotate_representation"
   ]
  },
  {
   "cell_type": "code",
   "execution_count": 14,
   "id": "e7df693d-2e47-459f-8197-a7c7aec3a648",
   "metadata": {},
   "outputs": [
    {
     "data": {
      "text/plain": [
       "((2, 5000, 3),\n",
       " Array(0.00506021, dtype=float32),\n",
       " Array(1.0109903, dtype=float32))"
      ]
     },
     "execution_count": 14,
     "metadata": {},
     "output_type": "execute_result"
    }
   ],
   "source": [
    "x.shape, x.mean(), x.std()"
   ]
  },
  {
   "cell_type": "code",
   "execution_count": 15,
   "id": "4956f4a2-37ce-41c7-b597-1eb071a3cbaf",
   "metadata": {},
   "outputs": [
    {
     "name": "stdout",
     "output_type": "stream",
     "text": [
      "(100000, 3) (100000, 3)\n",
      "9.999999747378752e-06, 0.40845030546188354, 0.06262736767530441, 0.047285839915275574, 0, 0\n",
      "9.999999747378752e-06, 0.4638831913471222, 0.06226273253560066, 0.04635818302631378, 0, 0\n",
      "xi = [[-0.74147505 -1.6911283   1.5016145 ]\n",
      " [-0.74147505 -1.6911283   1.5016145 ]\n",
      " [-0.74147505 -1.6911283   1.5016145 ]\n",
      " [-0.74147505 -1.6911283   1.5016145 ]], xj = [[-0.74147505 -1.6911283   1.5016145 ]\n",
      " [-0.7410142  -1.6854184   1.5522099 ]\n",
      " [-0.7767966  -1.6671458   1.6424124 ]\n",
      " [-0.771016   -1.5445424   1.5368899 ]]\n",
      "xi = [[-0.5730722  -0.08018497 -0.70453495]\n",
      " [-0.5730722  -0.08018497 -0.70453495]\n",
      " [-0.5730722  -0.08018497 -0.70453495]\n",
      " [-0.5730722  -0.08018497 -0.70453495]], xj = [[-0.5730722  -0.08018497 -0.70453495]\n",
      " [-0.679718    0.01507041 -0.6691244 ]\n",
      " [-0.4275025  -0.15570742 -0.6210643 ]\n",
      " [-0.424658   -0.1758395  -0.6367179 ]]\n",
      "ms = [[9.9999997e-06]\n",
      " [2.6027097e-03]\n",
      " [2.1656834e-02]\n",
      " ...\n",
      " [7.8889132e-02]\n",
      " [8.0581762e-02]\n",
      " [8.6887777e-02]]\n",
      "ms = [[9.9999997e-06]\n",
      " [2.1710822e-02]\n",
      " [3.3871520e-02]\n",
      " ...\n",
      " [4.5045238e-02]\n",
      " [5.5073299e-02]\n",
      " [6.7256458e-02]]\n",
      "(100000, 3) (100000, 3)\n",
      "9.999999747378752e-06, 0.41726768016815186, 0.06306089460849762, 0.04799165576696396, 0, 0\n",
      "9.999999747378752e-06, 0.4867553412914276, 0.06267282366752625, 0.04700668528676033, 0, 0\n",
      "xi = [[-0.74191827 -1.6929219   1.5022235 ]\n",
      " [-0.74191827 -1.6929219   1.5022235 ]\n",
      " [-0.74191827 -1.6929219   1.5022235 ]\n",
      " [-0.74191827 -1.6929219   1.5022235 ]], xj = [[-0.74191827 -1.6929219   1.5022235 ]\n",
      " [-0.74163836 -1.6872185   1.552237  ]\n",
      " [-0.7777873  -1.6684917   1.6429054 ]\n",
      " [-0.773165   -1.5448644   1.5364449 ]]\n",
      "xi = [[-0.5734157  -0.07994252 -0.7034949 ]\n",
      " [-0.5734157  -0.07994252 -0.7034949 ]\n",
      " [-0.5734157  -0.07994252 -0.7034949 ]\n",
      " [-0.5734157  -0.07994252 -0.7034949 ]], xj = [[-0.5734157  -0.07994252 -0.7034949 ]\n",
      " [-0.6794396   0.01359793 -0.6699397 ]\n",
      " [-0.426491   -0.15556249 -0.62118965]\n",
      " [-0.42505267 -0.17540647 -0.6352288 ]]\n",
      "ms = [[9.9999997e-06]\n",
      " [2.5439605e-03]\n",
      " [2.1684809e-02]\n",
      " ...\n",
      " [7.8551255e-02]\n",
      " [7.9126596e-02]\n",
      " [8.7096684e-02]]\n",
      "ms = [[9.9999997e-06]\n",
      " [2.1126837e-02]\n",
      " [3.4089401e-02]\n",
      " ...\n",
      " [4.6674401e-02]\n",
      " [5.4803438e-02]\n",
      " [6.7959733e-02]]\n"
     ]
    }
   ],
   "source": [
    "n_nodes = 5000\n",
    "\n",
    "graph = jraph.GraphsTuple(\n",
    "          n_node=np.array(2 * [[n_nodes]]), \n",
    "          n_edge=np.array(2 * [[k]]),\n",
    "          nodes=x, \n",
    "          edges=None,\n",
    "          globals=np.ones((2, 7)),\n",
    "          senders=sources,\n",
    "          receivers=targets)\n",
    "\n",
    "graph_out, _ = model.init_with_output(rng, graph)\n",
    "\n",
    "x_out = graph_out.nodes\n",
    "\n",
    "# angle_deg = 45.\n",
    "# axis = np.array([0, 1 / np.sqrt(2), 1 / np.sqrt(2)])\n",
    "\n",
    "# x_out_rot = jax.vmap(rotate_representation, in_axes=(0,None,None))(x_out, angle_deg, axis)\n",
    "\n",
    "# graph = jraph.GraphsTuple(\n",
    "#           n_node=np.array(4 * [[n_nodes]]), \n",
    "#           n_edge=np.array(4 * [[20]]),\n",
    "#           nodes=jax.vmap(rotate_representation, in_axes=(0,None,None))(x[0:4, :, :], angle_deg, axis),\n",
    "#           edges=None,\n",
    "#           globals=np.ones((4, 7)),\n",
    "#           senders=sources,\n",
    "#           receivers=targets)\n",
    "\n",
    "# graph_out, params = model.init_with_output(rng, graph)\n",
    "# x_out = graph_out.nodes"
   ]
  },
  {
   "cell_type": "code",
   "execution_count": 67,
   "id": "600f33c5-63a9-4caf-92a3-6a2017a6e60f",
   "metadata": {},
   "outputs": [
    {
     "data": {
      "text/plain": [
       "Array([[[-0.7414756 , -1.6911348 ,  1.5015562 ],\n",
       "        [-1.2356482 ,  0.83966905, -0.6621572 ],\n",
       "        [-0.93439144,  0.7761591 ,  1.7189647 ],\n",
       "        ...,\n",
       "        [-0.37767634,  0.05574466, -0.8661723 ],\n",
       "        [-1.708255  , -1.1711149 , -0.9808073 ],\n",
       "        [-1.0818185 ,  0.7704281 , -1.5321599 ]],\n",
       "\n",
       "       [[-0.5730722 , -0.08018497, -0.70453495],\n",
       "        [-0.3276868 , -0.12839817, -1.3189393 ],\n",
       "        [-0.8818957 , -0.07687593, -1.0378724 ],\n",
       "        ...,\n",
       "        [-0.07786658, -0.44757283,  1.6241324 ],\n",
       "        [ 0.98844427,  0.85803986, -1.4616636 ],\n",
       "        [-1.5655274 ,  0.1881368 ,  1.3286687 ]]], dtype=float32)"
      ]
     },
     "execution_count": 67,
     "metadata": {},
     "output_type": "execute_result"
    }
   ],
   "source": [
    "x_out"
   ]
  },
  {
   "cell_type": "code",
   "execution_count": 92,
   "id": "4e0da170",
   "metadata": {},
   "outputs": [],
   "source": [
    "# plt.hist(onp.array(x_out)[0,:,2])"
   ]
  },
  {
   "cell_type": "code",
   "execution_count": 93,
   "id": "cda2916f-38f0-4e93-b26d-01bb09acad11",
   "metadata": {},
   "outputs": [
    {
     "name": "stdout",
     "output_type": "stream",
     "text": [
      "20.295788 -7.051834 [[[ 1.0008166   1.0008724   0.999304  ]\n",
      "  [ 1.0008503   1.0005685   1.000457  ]\n",
      "  [ 0.99155265  0.9978411   0.99908423]\n",
      "  ...\n",
      "  [ 1.0001603   0.9993249   0.99925137]\n",
      "  [ 0.9889371   0.99885225  0.99559397]\n",
      "  [ 0.9864263   1.0003259   1.0027362 ]]\n",
      "\n",
      " [[ 0.9991339   0.9994029   0.9991387 ]\n",
      "  [ 0.99895686  0.99927497  1.0007412 ]\n",
      "  [ 1.0004698   1.0016893   1.0144402 ]\n",
      "  ...\n",
      "  [ 1.0006037   0.98780954  1.0003967 ]\n",
      "  [ 0.9956347   0.99795693  1.0007982 ]\n",
      "  [-0.8481864   1.0002426   1.0030551 ]]\n",
      "\n",
      " [[ 1.0004767   1.0000732   1.0003489 ]\n",
      "  [ 1.0294195   1.0052049   0.57948416]\n",
      "  [ 1.0051254   0.99525446  1.0029076 ]\n",
      "  ...\n",
      "  [ 1.0045681   0.99976003  0.98984253]\n",
      "  [ 0.9997207   1.0006992   0.99946576]\n",
      "  [ 0.9994839   0.99905413  0.9848319 ]]\n",
      "\n",
      " [[ 1.0067011   0.9998752   0.9987213 ]\n",
      "  [ 0.9998024   1.0002029   1.000398  ]\n",
      "  [ 0.99177223  0.9998248   1.0002543 ]\n",
      "  ...\n",
      "  [ 0.99944764  1.0020063   1.0002644 ]\n",
      "  [ 0.9997483   0.9973999   1.000468  ]\n",
      "  [ 1.0003804   0.9888876   0.9959433 ]]]\n"
     ]
    }
   ],
   "source": [
    "# Equivariance ratio\n",
    "eq_ratio = x_out / x_out_rot\n",
    "print(eq_ratio.max(), eq_ratio.min(), eq_ratio)"
   ]
  },
  {
   "cell_type": "code",
   "execution_count": 346,
   "id": "04b09cd5-667d-423c-8aa1-45c471fab6ab",
   "metadata": {},
   "outputs": [
    {
     "data": {
      "text/plain": [
       "34308"
      ]
     },
     "execution_count": 346,
     "metadata": {},
     "output_type": "execute_result"
    }
   ],
   "source": [
    "sum(x.size for x in jax.tree_util.tree_leaves(params))"
   ]
  },
  {
   "cell_type": "code",
   "execution_count": 347,
   "id": "76e08a13-eb0a-4310-8b6c-c99279307aca",
   "metadata": {},
   "outputs": [
    {
     "name": "stdout",
     "output_type": "stream",
     "text": [
      "+------------------------------------+----------+-------+-----------+-------+\n",
      "| Name                               | Shape    | Size  | Mean      | Std   |\n",
      "+------------------------------------+----------+-------+-----------+-------+\n",
      "| params/EGNN_0/MLP_0/Dense_0/bias   | (64,)    | 64    | 0.0       | 0.0   |\n",
      "| params/EGNN_0/MLP_0/Dense_0/kernel | (2, 64)  | 128   | 0.0302    | 0.675 |\n",
      "| params/EGNN_0/MLP_0/Dense_1/bias   | (64,)    | 64    | 0.0       | 0.0   |\n",
      "| params/EGNN_0/MLP_0/Dense_1/kernel | (64, 64) | 4,096 | 0.00124   | 0.126 |\n",
      "| params/EGNN_0/MLP_0/Dense_2/bias   | (64,)    | 64    | 0.0       | 0.0   |\n",
      "| params/EGNN_0/MLP_0/Dense_2/kernel | (64, 64) | 4,096 | -0.000354 | 0.124 |\n",
      "| params/EGNN_0/MLP_0/Dense_3/bias   | (1,)     | 1     | 0.0       | 0.0   |\n",
      "| params/EGNN_0/MLP_0/Dense_3/kernel | (64, 1)  | 64    | -0.0182   | 0.124 |\n",
      "| params/EGNN_0/MLP_1/Dense_0/bias   | (64,)    | 64    | 0.0       | 0.0   |\n",
      "| params/EGNN_0/MLP_1/Dense_0/kernel | (2, 64)  | 128   | -0.00353  | 0.7   |\n",
      "| params/EGNN_0/MLP_1/Dense_1/bias   | (64,)    | 64    | 0.0       | 0.0   |\n",
      "| params/EGNN_0/MLP_1/Dense_1/kernel | (64, 64) | 4,096 | 0.000531  | 0.123 |\n",
      "| params/EGNN_0/MLP_1/Dense_2/bias   | (64,)    | 64    | 0.0       | 0.0   |\n",
      "| params/EGNN_0/MLP_1/Dense_2/kernel | (64, 64) | 4,096 | -0.00167  | 0.124 |\n",
      "| params/EGNN_0/MLP_1/Dense_3/bias   | (1,)     | 1     | 0.0       | 0.0   |\n",
      "| params/EGNN_0/MLP_1/Dense_3/kernel | (64, 1)  | 64    | -0.0214   | 0.115 |\n",
      "| params/EGNN_0/MLP_2/Dense_0/bias   | (64,)    | 64    | 0.0       | 0.0   |\n",
      "| params/EGNN_0/MLP_2/Dense_0/kernel | (2, 64)  | 128   | 0.0368    | 0.661 |\n",
      "| params/EGNN_0/MLP_2/Dense_1/bias   | (64,)    | 64    | 0.0       | 0.0   |\n",
      "| params/EGNN_0/MLP_2/Dense_1/kernel | (64, 64) | 4,096 | -0.000354 | 0.125 |\n",
      "| params/EGNN_0/MLP_2/Dense_2/bias   | (64,)    | 64    | 0.0       | 0.0   |\n",
      "| params/EGNN_0/MLP_2/Dense_2/kernel | (64, 64) | 4,096 | -0.000893 | 0.124 |\n",
      "| params/EGNN_0/MLP_2/Dense_3/bias   | (1,)     | 1     | 0.0       | 0.0   |\n",
      "| params/EGNN_0/MLP_2/Dense_3/kernel | (64, 1)  | 64    | 0.0116    | 0.12  |\n",
      "| params/EGNN_0/MLP_3/Dense_0/bias   | (64,)    | 64    | 0.0       | 0.0   |\n",
      "| params/EGNN_0/MLP_3/Dense_0/kernel | (2, 64)  | 128   | 0.00358   | 0.735 |\n",
      "| params/EGNN_0/MLP_3/Dense_1/bias   | (64,)    | 64    | 0.0       | 0.0   |\n",
      "| params/EGNN_0/MLP_3/Dense_1/kernel | (64, 64) | 4,096 | 0.0018    | 0.123 |\n",
      "| params/EGNN_0/MLP_3/Dense_2/bias   | (64,)    | 64    | 0.0       | 0.0   |\n",
      "| params/EGNN_0/MLP_3/Dense_2/kernel | (64, 64) | 4,096 | -0.0004   | 0.125 |\n",
      "| params/EGNN_0/MLP_3/Dense_3/bias   | (1,)     | 1     | 0.0       | 0.0   |\n",
      "| params/EGNN_0/MLP_3/Dense_3/kernel | (64, 1)  | 64    | -0.00581  | 0.129 |\n",
      "+------------------------------------+----------+-------+-----------+-------+\n",
      "Total: 34,308\n"
     ]
    }
   ],
   "source": [
    "from clu import parameter_overview\n",
    "print(parameter_overview.get_parameter_overview(params))"
   ]
  },
  {
   "cell_type": "code",
   "execution_count": null,
   "id": "d1c05eb8-9f2f-4636-8400-ebe8ad938ed9",
   "metadata": {},
   "outputs": [],
   "source": []
  },
  {
   "cell_type": "code",
   "execution_count": null,
   "id": "8324112e-6510-487c-b4c6-6084bbf483de",
   "metadata": {},
   "outputs": [],
   "source": []
  }
 ],
 "metadata": {
  "kernelspec": {
   "display_name": "Python 3 (ipykernel)",
   "language": "python",
   "name": "python3"
  },
  "language_info": {
   "codemirror_mode": {
    "name": "ipython",
    "version": 3
   },
   "file_extension": ".py",
   "mimetype": "text/x-python",
   "name": "python",
   "nbconvert_exporter": "python",
   "pygments_lexer": "ipython3",
   "version": "3.9.12"
  },
  "vscode": {
   "interpreter": {
    "hash": "4de8ebced33472280eb2d39fa7eb85126aa4b5bd288871aff7028464b844f159"
   }
  }
 },
 "nbformat": 4,
 "nbformat_minor": 5
}
