{
 "cells": [
  {
   "cell_type": "code",
   "execution_count": 1,
   "metadata": {},
   "outputs": [],
   "source": [
    "# ! pip install --upgrade \"jax[cuda]\" -f https://storage.googleapis.com/jax-releases/jax_cuda_releases.html\n",
    "# ! pip install flax optax jetnet\n",
    "# ! pip install flash_attention_jax\n",
    "# ! pip install tensorflow-probability\n",
    "# ! pip install --upgrade tensorflow"
   ]
  },
  {
   "cell_type": "code",
   "execution_count": 2,
   "metadata": {},
   "outputs": [],
   "source": [
    "import sys\n",
    "sys.path.append(\"../\")\n",
    "\n",
    "import jax\n",
    "import jax.numpy as np\n",
    "import optax\n",
    "import flax\n",
    "from flax.core import FrozenDict\n",
    "\n",
    "import tensorflow as tf\n",
    "\n",
    "# Ensure TF does not see GPU and grab all GPU memory\n",
    "tf.config.set_visible_devices([], device_type='GPU')\n",
    "\n",
    "from tqdm import tqdm, trange\n",
    "\n",
    "replicate = flax.jax_utils.replicate\n",
    "unreplicate = flax.jax_utils.unreplicate\n",
    "\n",
    "from models.diffusion import VariationalDiffusionModel\n",
    "from models.diffusion_utils import loss_vdm, sigma2, generate\n",
    "from models.train_utils import create_input_iter, param_count, train_step\n",
    "\n",
    "from jetnet.datasets import JetNet, TopTagging\n",
    "\n",
    "%load_ext autoreload\n",
    "%autoreload 2"
   ]
  },
  {
   "cell_type": "markdown",
   "metadata": {},
   "source": [
    "## The `JetNet` data"
   ]
  },
  {
   "cell_type": "code",
   "execution_count": 3,
   "metadata": {},
   "outputs": [],
   "source": [
    "num_particles = 150\n",
    "\n",
    "particle_data, jet_data = JetNet.getData(jet_type=[\"q\", \"g\"], data_dir=\"../data/\", num_particles=num_particles)\n",
    "\n",
    "# Normalize everything BUT the class (first element of `jet_data`\n",
    "\n",
    "EPS = 1e-7\n",
    "\n",
    "jet_data_mean = jet_data[:, 1:].mean(axis=(0,))\n",
    "jet_data_std = jet_data[:, 1:].std(axis=(0,))\n",
    "jet_data[:, 1:] = (jet_data[:, 1:] - jet_data_mean) / (jet_data_std + EPS)\n",
    "\n",
    "# Remove cardinality; keep pT, eta, mass as jet features for conditioning on\n",
    "jet_data = jet_data[:, :-1]\n",
    "\n",
    "# Get mask (to specify varying cardinality) and particle features to be modeled (eta, phi, pT)\n",
    "particle_mask = particle_data[:, :, -1]\n",
    "particle_data = particle_data[:, :, :3]"
   ]
  },
  {
   "cell_type": "code",
   "execution_count": 4,
   "metadata": {},
   "outputs": [
    {
     "data": {
      "image/png": "[encoded data removed]",
      "text/plain": [
       "<Figure size 576x576 with 4 Axes>"
      ]
     },
     "metadata": {
      "needs_background": "light"
     },
     "output_type": "display_data"
    }
   ],
   "source": [
    "import matplotlib.pyplot as plt\n",
    "from matplotlib.gridspec import GridSpec\n",
    "\n",
    "fig = plt.figure(figsize=(8, 8))\n",
    "gs = GridSpec(2, 2)\n",
    "\n",
    "for i in range(4):\n",
    "    \n",
    "    ax = fig.add_subplot(gs[i])\n",
    "    ax.scatter(*particle_data[i, :, :2].T, s=1000 * (particle_data[i, :, 2]), alpha=0.5)\n",
    "    \n",
    "    ax.set_xlabel(r\"$\\eta$\", fontsize=14)\n",
    "    ax.set_ylabel(r\"$\\phi$\", fontsize=14)\n",
    "    \n",
    "    ax.set_xlim(-0.3, 0.3)\n",
    "    ax.set_ylim(-0.3, 0.3)\n",
    "    \n",
    "plt.suptitle(\"Sim. jets\", fontsize=16)\n",
    "plt.tight_layout()"
   ]
  },
  {
   "cell_type": "code",
   "execution_count": 5,
   "metadata": {},
   "outputs": [],
   "source": [
    "batch_size = 32\n",
    "n_train = len(particle_data)\n",
    "\n",
    "train_ds = tf.data.Dataset.from_tensor_slices((particle_data, jet_data, particle_mask))\n",
    "train_ds = train_ds.cache()\n",
    "train_ds = train_ds.repeat()\n",
    "\n",
    "batch_dims=[jax.local_device_count(), batch_size // jax.device_count()]\n",
    "\n",
    "for batch_size in reversed(batch_dims):\n",
    "      train_ds = train_ds.batch(batch_size, drop_remainder=False)\n",
    "\n",
    "train_ds = train_ds.shuffle(n_train, seed=42)"
   ]
  },
  {
   "cell_type": "markdown",
   "metadata": {},
   "source": [
    "## Instantiate and train model"
   ]
  },
  {
   "cell_type": "code",
   "execution_count": 6,
   "metadata": {},
   "outputs": [],
   "source": [
    "transformer_dict = FrozenDict({\"d_model\":256, \"d_mlp\":512, \"n_layers\":4, \"n_heads\":4})  # Transformer args\n",
    "\n",
    "vdm = VariationalDiffusionModel(\n",
    "          n_layers=3,\n",
    "          d_embedding=8,\n",
    "          d_hidden_encoding=32,\n",
    "          timesteps=200, \n",
    "          d_t_embedding=16,\n",
    "          d_feature=3,\n",
    "          transformer_dict=transformer_dict,\n",
    "          n_classes=2,\n",
    "          embed_context=True)"
   ]
  },
  {
   "cell_type": "code",
   "execution_count": 7,
   "metadata": {},
   "outputs": [],
   "source": [
    "# Past a test batch through to initialize model\n",
    "\n",
    "n_smoke = 4\n",
    "\n",
    "batch = np.array(particle_data[:n_smoke])\n",
    "conditioning = np.zeros((n_smoke, jet_data.shape[-1]))\n",
    "mask = np.array(particle_mask[:n_smoke])\n",
    "\n",
    "rng = jax.random.PRNGKey(42)\n",
    "out, params = vdm.init_with_output({\"sample\": rng, \"params\": rng}, batch, np.ones_like(conditioning), mask);"
   ]
  },
  {
   "cell_type": "code",
   "execution_count": 8,
   "metadata": {},
   "outputs": [
    {
     "name": "stdout",
     "output_type": "stream",
     "text": [
      "Params: 2,128,667\n"
     ]
    }
   ],
   "source": [
    "print(f\"Params: {param_count(params):,}\")"
   ]
  },
  {
   "cell_type": "code",
   "execution_count": 9,
   "metadata": {},
   "outputs": [
    {
     "data": {
      "text/plain": [
       "Array(21205.438, dtype=float32)"
      ]
     },
     "execution_count": 9,
     "metadata": {},
     "output_type": "execute_result"
    }
   ],
   "source": [
    "# Evaluate the loss for good measure\n",
    "loss_vdm(params, vdm, rng, batch, np.zeros_like(conditioning), mask)"
   ]
  },
  {
   "cell_type": "code",
   "execution_count": 11,
   "metadata": {},
   "outputs": [],
   "source": [
    "train_steps = 50_000\n",
    "\n",
    "schedule = optax.warmup_cosine_decay_schedule(init_value=0.0, peak_value=3e-4, warmup_steps=5000, decay_steps=train_steps)\n",
    "opt = optax.adamw(learning_rate=schedule, weight_decay=1e-4)"
   ]
  },
  {
   "cell_type": "code",
   "execution_count": 12,
   "metadata": {},
   "outputs": [],
   "source": [
    "from functools import partial"
   ]
  },
  {
   "cell_type": "code",
   "execution_count": 13,
   "metadata": {},
   "outputs": [],
   "source": [
    "@partial(jax.pmap, axis_name=\"batch\", static_broadcasted_argnums=(3, 4))\n",
    "def train_step(state, batch, rng, model, loss_fn):\n",
    "    \"\"\"Train for a single step.\"\"\"\n",
    "    x, conditioning, mask = batch\n",
    "    loss, grads = jax.value_and_grad(loss_fn)(state.params, model, rng, x, conditioning, mask)\n",
    "    grads = jax.lax.pmean(grads, \"batch\")\n",
    "    new_state = state.apply_gradients(grads=grads)\n",
    "    metrics = {\"loss\": jax.lax.pmean(loss, \"batch\")}\n",
    "    return new_state, metrics"
   ]
  },
  {
   "cell_type": "code",
   "execution_count": 14,
   "metadata": {},
   "outputs": [
    {
     "name": "stderr",
     "output_type": "stream",
     "text": [
      "100%|██████████████████████████████████████████████████████████████████████████████████████████████████████████████████████████████████████████████████████████| 50000/50000 [29:58<00:00, 27.80it/s, val=-2.3122752]\n"
     ]
    }
   ],
   "source": [
    "from flax.training import train_state\n",
    "\n",
    "batches = create_input_iter(train_ds)\n",
    "        \n",
    "state = train_state.TrainState.create(apply_fn=vdm.apply, params=params, tx=opt)\n",
    "pstate = replicate(state)\n",
    "\n",
    "with trange(train_steps) as steps:\n",
    "    for step in steps:\n",
    "\n",
    "        rng, *train_step_rng = jax.random.split(rng, num=jax.local_device_count() + 1)\n",
    "        train_step_rng = np.asarray(train_step_rng)\n",
    "\n",
    "        pstate, metrics = train_step(pstate, next(batches), train_step_rng, vdm, loss_vdm)\n",
    "        steps.set_postfix(val=unreplicate(metrics[\"loss\"]))"
   ]
  },
  {
   "cell_type": "markdown",
   "metadata": {},
   "source": [
    "## Conditional generation"
   ]
  },
  {
   "cell_type": "markdown",
   "metadata": {},
   "source": [
    "For simplicity, let's just condition the model on random $(\\mathrm{type}, p_T, \\eta, M)$ from the training set."
   ]
  },
  {
   "cell_type": "code",
   "execution_count": 37,
   "metadata": {},
   "outputs": [],
   "source": [
    "import numpy as vnp\n",
    "\n",
    "n_samples = 4000\n",
    "idx_rnd = vnp.random.choice(vnp.arange(len(jet_data)), size=n_samples, replace=False)\n",
    "\n",
    "cond = jet_data[idx_rnd]\n",
    "mask = particle_mask[idx_rnd]\n",
    "\n",
    "x_samples = generate(vdm, unreplicate(pstate).params, rng, (n_samples, num_particles), cond, mask=mask, steps=300)\n",
    "x_samples = x_samples.mean() * mask[:, :, None]"
   ]
  },
  {
   "cell_type": "code",
   "execution_count": 39,
   "metadata": {},
   "outputs": [
    {
     "data": {
      "image/png": "[encoded data removed]",
      "text/plain": [
       "<Figure size 576x576 with 4 Axes>"
      ]
     },
     "metadata": {
      "needs_background": "light"
     },
     "output_type": "display_data"
    }
   ],
   "source": [
    "fig = plt.figure(figsize=(8, 8))\n",
    "gs = GridSpec(2, 2)\n",
    "\n",
    "for i in range(4):\n",
    "    \n",
    "    ax = fig.add_subplot(gs[i])\n",
    "    \n",
    "    ax.scatter(*x_samples[i, :, :2].T, s=1000 * (x_samples[i, :, 2]), alpha=0.5, color=\"firebrick\")\n",
    "            \n",
    "    ax.set_xlabel(r\"$\\eta$\")\n",
    "    ax.set_ylabel(r\"$\\phi$\")\n",
    "    \n",
    "    ax.set_xlim(-0.3, 0.3)\n",
    "    ax.set_ylim(-0.3, 0.3)\n",
    "    \n",
    "plt.suptitle(\"Gen. jets\", fontsize=20, y=1.01)\n",
    "plt.tight_layout()"
   ]
  },
  {
   "cell_type": "markdown",
   "metadata": {},
   "source": [
    "## Evaluate"
   ]
  },
  {
   "cell_type": "markdown",
   "metadata": {},
   "source": [
    "Compare summaries between genreated and training samples."
   ]
  },
  {
   "cell_type": "code",
   "execution_count": 40,
   "metadata": {},
   "outputs": [],
   "source": [
    "# idx_rnd = vnp.random.choice(vnp.arange(len(jet_data)), size=n_samples, replace=False)\n",
    "x = particle_data[idx_rnd] * particle_mask[idx_rnd, :, None]"
   ]
  },
  {
   "cell_type": "code",
   "execution_count": 41,
   "metadata": {},
   "outputs": [],
   "source": [
    "import energyflow as ef\n",
    "\n",
    "def jet_masses(jets_ary):\n",
    "    jets_p4s = ef.p4s_from_ptyphims(jets_ary)\n",
    "    masses = ef.ms_from_p4s(jets_p4s.sum(axis=1))\n",
    "    return masses\n",
    "\n",
    "def jet_ys(jets_ary):\n",
    "    jets_p4s = ef.p4s_from_ptyphims(jets_ary)\n",
    "    ys = ef.ys_from_p4s(jets_p4s.sum(axis=1))\n",
    "    return ys\n",
    "\n",
    "def jet_etas(jets_ary):\n",
    "    jets_p4s = ef.p4s_from_ptyphims(jets_ary)\n",
    "    etas = ef.etas_from_p4s(jets_p4s.sum(axis=1))\n",
    "    return etas\n",
    "\n",
    "def jet_phis(jets_ary):\n",
    "    jets_p4s = ef.p4s_from_ptyphims(jets_ary)\n",
    "    phis = ef.phis_from_p4s(jets_p4s.sum(axis=1), phi_ref=0)\n",
    "    return phis"
   ]
  },
  {
   "cell_type": "code",
   "execution_count": 43,
   "metadata": {},
   "outputs": [],
   "source": [
    "# color_sim = \"cornflowerblue\"\n",
    "# color_gen = \"firebrick\"\n",
    "\n",
    "# fig = plt.figure(figsize=(20, 8))\n",
    "# gs = GridSpec(2, 4)\n",
    "\n",
    "# x_samples = vnp.array(x_samples)\n",
    "# x = vnp.array(x)\n",
    "\n",
    "# x_samples[x == 0.] = -999.\n",
    "# x[x == 0.] = -999.\n",
    "\n",
    "# #####\n",
    "\n",
    "# ax = fig.add_subplot(gs[0])\n",
    "\n",
    "# i_feat = 0\n",
    "\n",
    "# bins= np.linspace(-0.5, 0.5, 50)\n",
    "# ax.hist((np.concatenate(x_samples))[:, i_feat], histtype='step', bins=bins, density=True, lw=2, ls='--', alpha=0.7, label='Gen', color=color_gen);\n",
    "\n",
    "# eta = np.concatenate((np.array(x)))[:, i_feat]\n",
    "# eta = eta[eta != 0.]\n",
    "# ax.hist(eta, histtype='step', density=True, bins=bins, lw=2, alpha=0.7, label='Sim', color=color_sim);\n",
    "\n",
    "# ax.set_xlabel(r\"Particle $\\eta^\\mathrm{rel}$\")\n",
    "# ax.get_yaxis().set_ticklabels([])\n",
    "\n",
    "# ax.set_yscale(\"log\")\n",
    "# ax.legend()\n",
    "\n",
    "# #####\n",
    "\n",
    "# ax = fig.add_subplot(gs[1])\n",
    "\n",
    "# i_feat = 1\n",
    "\n",
    "# bins= np.linspace(-0.5, 0.5, 50)\n",
    "# ax.hist((np.concatenate(x_samples))[:, i_feat], histtype='step', bins=bins, density=True, lw=2, ls='--', alpha=0.7, label='Gen', color=color_gen);\n",
    "\n",
    "# eta = (np.concatenate(np.array(x)))[:, i_feat]\n",
    "# eta = eta[eta != 0.]\n",
    "# ax.hist(eta, histtype='step', density=True, bins=bins, lw=2, alpha=0.7, label='Sim', color=color_sim);\n",
    "\n",
    "# ax.set_xlabel(r\"Particle $\\phi^\\mathrm{rel}$\")\n",
    "# ax.get_yaxis().set_ticklabels([])\n",
    "\n",
    "# ax.set_yscale(\"log\")\n",
    "# ax.legend()\n",
    "\n",
    "# #####\n",
    "\n",
    "# ax = fig.add_subplot(gs[2])\n",
    "\n",
    "# i_feat = 2\n",
    "\n",
    "# bins= np.linspace(-0.1, 0.6, 100)\n",
    "# ax.hist((np.concatenate(x_samples))[:, i_feat], histtype='step', bins=bins, density=True, lw=2, ls='--', alpha=0.7, label='Gen', color=color_gen);\n",
    "\n",
    "# eta = np.concatenate((np.array(x)))[:, i_feat]\n",
    "# eta = eta[eta != 0.]\n",
    "# ax.hist(eta, histtype='step', density=True, bins=bins, lw=2, alpha=0.7, label='Sim', color=color_sim);\n",
    "\n",
    "# ax.set_xlabel(r\"Particle $p_\\mathrm{T}^\\mathrm{rel}$\")\n",
    "# ax.get_yaxis().set_ticklabels([])\n",
    "# ax.legend()\n",
    "\n",
    "# ax.set_yscale(\"log\")\n",
    "# ax.legend()\n",
    "\n",
    "# x_samples[x == -999.] = 0.\n",
    "# x[x == -999.] = 0.\n",
    "\n",
    "# ######\n",
    "\n",
    "# ax = fig.add_subplot(gs[3])\n",
    "\n",
    "# bins = np.linspace(0., 0.8, 100)\n",
    "# ax.hist(np.max(x_samples[:, :, 2], -1), histtype='step', bins=bins, density=True, lw=2, ls='--', alpha=0.7, label='Gen', color=color_gen);\n",
    "# ax.hist(np.max(x[:, :, 2], -1), histtype='step', bins=bins, density=True, lw=2, alpha=0.7, label='Sim', color=color_sim);\n",
    "\n",
    "# ax.set_xlabel(r\"Highest $p_\\mathrm{T}^\\mathrm{rel}$\")\n",
    "# ax.set_yscale(\"log\")\n",
    "# ax.legend()\n",
    "\n",
    "# ######\n",
    "\n",
    "# ax = fig.add_subplot(gs[4])\n",
    "\n",
    "# bins = np.linspace(0., 0.3, 100)\n",
    "# ax.hist(np.sort(x_samples[:, :, 2])[:, -3], histtype='step', bins=bins, density=True, lw=2, ls='--', alpha=0.7, label='Gen', color=color_gen);\n",
    "# ax.hist(np.sort(x[:, :, 2])[:, -3], histtype='step', bins=bins, density=True, lw=2, alpha=0.7, label='Sim', color=color_sim);\n",
    "\n",
    "# ax.set_xlabel(r\"3rd highest $p_\\mathrm{T}^\\mathrm{rel}$\")\n",
    "# ax.set_yscale(\"log\")\n",
    "# ax.legend()\n",
    "\n",
    "# ######\n",
    "\n",
    "# ax = fig.add_subplot(gs[5])\n",
    "\n",
    "# bins = np.linspace(0., 0.1, 100)\n",
    "# ax.hist(np.sort(x_samples[:, :, 2])[:, -10], histtype='step', bins=bins, density=True, lw=2, ls='--', alpha=0.7, label='Gen', color=color_gen);\n",
    "# ax.hist(np.sort(x[:, :, 2])[:, -10], histtype='step', bins=bins, density=True, lw=2, alpha=0.7, label='Sim', color=color_sim);\n",
    "\n",
    "# ax.set_xlabel(r\"10th highest $p_\\mathrm{T}^\\mathrm{rel}$\")\n",
    "# ax.set_yscale(\"log\")\n",
    "# ax.legend()\n",
    "\n",
    "# ######\n",
    "\n",
    "# ax = fig.add_subplot(gs[6])\n",
    "\n",
    "# bins= np.linspace(0., 0.3, 100)\n",
    "\n",
    "# jet_mass = jet_masses(np.array([x_samples[:, :, 2], x_samples[:, :, 0], x_samples[:, :, 1]]).transpose(1,2,0))\n",
    "# ax.hist(jet_mass, histtype='step', bins=bins, density=True, lw=2, ls='--', alpha=0.7, label='Gen', color=color_gen);\n",
    "\n",
    "# jet_mass = jet_masses(np.array([x[:, :, 2], x[:, :, 0], x[:, :, 1]]).transpose(1,2,0))\n",
    "# ax.hist(jet_mass, histtype='step', bins=bins, density=True, lw=2, alpha=0.7, label='Sim', color=color_sim);\n",
    "\n",
    "# ax.set_xlabel(r\"Jet mass\")\n",
    "# ax.set_yscale(\"log\")\n",
    "# ax.legend()\n",
    "\n",
    "# ######\n",
    "\n",
    "# ax = fig.add_subplot(gs[7])\n",
    "\n",
    "# bins= np.linspace(0., 2, 100)\n",
    "\n",
    "# ax.hist(np.abs(x_samples[:, :, 2]).sum(-1), histtype='step', bins=bins, density=True, lw=2, ls='--', alpha=0.7, label='Gen', color=color_gen);\n",
    "# ax.hist(np.abs(x[:, :, 2]).sum(-1), histtype='step', bins=bins, density=True, lw=2, alpha=0.7, label='Sim', color=color_sim);\n",
    "\n",
    "# ax.set_xlabel(r\"Jet $p_\\mathrm{T}^\\mathrm{rel}$\")\n",
    "# ax.set_yscale(\"log\")\n",
    "# ax.legend()\n",
    "\n",
    "# plt.tight_layout()"
   ]
  },
  {
   "cell_type": "code",
   "execution_count": null,
   "metadata": {},
   "outputs": [],
   "source": []
  }
 ],
 "metadata": {
  "kernelspec": {
   "display_name": "Python 3 (ipykernel)",
   "language": "python",
   "name": "python3"
  },
  "language_info": {
   "codemirror_mode": {
    "name": "ipython",
    "version": 3
   },
   "file_extension": ".py",
   "mimetype": "text/x-python",
   "name": "python",
   "nbconvert_exporter": "python",
   "pygments_lexer": "ipython3",
   "version": "3.9.12"
  }
 },
 "nbformat": 4,
 "nbformat_minor": 4
}
