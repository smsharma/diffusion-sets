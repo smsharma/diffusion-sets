{
 "cells": [
  {
   "cell_type": "code",
   "execution_count": 97,
   "id": "81c76e8f-5301-4e73-8535-b790248a1743",
   "metadata": {},
   "outputs": [],
   "source": [
    "import sys\n",
    "sys.path.append(\"../\")\n",
    "\n",
    "import jax\n",
    "import jax.numpy as np\n",
    "from functools import partial\n",
    "import jraph\n",
    "from jax_md import space, partition\n",
    "\n",
    "from models.graph_utils import nearest_neighbors, nearest_neighbors_ann, RadiusSearch"
   ]
  },
  {
   "cell_type": "code",
   "execution_count": 98,
   "id": "ffceb331-d571-4fc8-9a22-1bc1398162ab",
   "metadata": {},
   "outputs": [],
   "source": [
    "rng = jax.random.PRNGKey(42)\n",
    "\n",
    "n_nodes = 5000\n",
    "k = 10\n",
    "n_batch = 4\n",
    "n_pos = 3\n",
    "\n",
    "# x = np.load(\"/n/holyscratch01/iaifi_lab/ccuesta/data_for_sid/halos.npy\")[:n_batch, :n_nodes,:n_pos]\n",
    "x = jax.random.uniform(rng, (n_batch, n_nodes, n_pos)) * 1000."
   ]
  },
  {
   "cell_type": "markdown",
   "id": "fb791e61-e04f-43e9-af90-e7f13dcb4cf8",
   "metadata": {},
   "source": [
    "## Brute force kNN"
   ]
  },
  {
   "cell_type": "code",
   "execution_count": 99,
   "id": "d820b348-0bad-46b9-a9b8-5cd4e0045a98",
   "metadata": {},
   "outputs": [],
   "source": [
    "sources, targets = nearest_neighbors(x[0], k=k)\n",
    "sources_ann, targets_ann = nearest_neighbors_ann(x[0], k=k)"
   ]
  },
  {
   "cell_type": "code",
   "execution_count": 100,
   "id": "929f2491-68b2-41ba-b2a2-f76ed87e07d0",
   "metadata": {},
   "outputs": [
    {
     "data": {
      "text/plain": [
       "(Array(True, dtype=bool), Array(False, dtype=bool))"
      ]
     },
     "execution_count": 100,
     "metadata": {},
     "output_type": "execute_result"
    }
   ],
   "source": [
    "np.array_equal(sources_ann, sources), np.array_equal(targets_ann, targets)"
   ]
  },
  {
   "cell_type": "code",
   "execution_count": 101,
   "id": "c959a1c8-1f7a-4bb4-9f86-366896fa732d",
   "metadata": {},
   "outputs": [
    {
     "data": {
      "text/plain": [
       "Array(34500, dtype=int32)"
      ]
     },
     "execution_count": 101,
     "metadata": {},
     "output_type": "execute_result"
    }
   ],
   "source": [
    "(targets_ann == targets).sum()"
   ]
  },
  {
   "cell_type": "code",
   "execution_count": 102,
   "id": "8bb8f95d-e783-4a2d-a620-33827f3b468a",
   "metadata": {},
   "outputs": [
    {
     "name": "stdout",
     "output_type": "stream",
     "text": [
      "4.9 ms ± 2.16 µs per loop (mean ± std. dev. of 7 runs, 100 loops each)\n"
     ]
    }
   ],
   "source": [
    "%%timeit\n",
    "sources_ann, targets_ann = nearest_neighbors_ann(x[0], k=k)"
   ]
  },
  {
   "cell_type": "code",
   "execution_count": 103,
   "id": "3ff50432-ca5b-4bcc-a4b1-7bdca28eb731",
   "metadata": {},
   "outputs": [
    {
     "name": "stdout",
     "output_type": "stream",
     "text": [
      "7.04 ms ± 1.03 µs per loop (mean ± std. dev. of 7 runs, 100 loops each)\n"
     ]
    }
   ],
   "source": [
    "%%timeit\n",
    "sources, targets = nearest_neighbors(x[0], k=k)"
   ]
  },
  {
   "cell_type": "markdown",
   "id": "444d30f1-b5a7-4e99-9aa6-afe6ba2e8575",
   "metadata": {},
   "source": [
    "## Using jax-md"
   ]
  },
  {
   "cell_type": "markdown",
   "id": "ea5a5bc9-be86-4307-a37c-fd90eea96bb4",
   "metadata": {},
   "source": [
    "Scale up without having to recalculate pairwise distance matrix. Let's see if it can scale to 50000 nodes."
   ]
  },
  {
   "cell_type": "code",
   "execution_count": 104,
   "id": "c6512329-780c-4a37-9c3c-cbcdc0675231",
   "metadata": {},
   "outputs": [],
   "source": [
    "ns = RadiusSearch(1000., 30.)\n",
    "nbr = ns.init_neighbor_lst(x[0])"
   ]
  },
  {
   "cell_type": "code",
   "execution_count": 105,
   "id": "055821c8-0c22-475a-ad8a-31ec915ed3ad",
   "metadata": {},
   "outputs": [],
   "source": [
    "# %%timeit\n",
    "# nbr_update, _ = ns.update_neighbor_lst(x, nbr)"
   ]
  },
  {
   "cell_type": "code",
   "execution_count": 106,
   "id": "fcf10b65-10e9-4528-a156-e256027d35ca",
   "metadata": {},
   "outputs": [],
   "source": [
    "nbr_update, nbr = ns.update_neighbor_lst(x, nbr)"
   ]
  },
  {
   "cell_type": "code",
   "execution_count": 107,
   "id": "6964186d-7c14-4072-9730-aafde9dfb395",
   "metadata": {},
   "outputs": [
    {
     "data": {
      "text/plain": [
       "Array([[[   0,    1,  954, ..., 5000, 5000, 5000],\n",
       "        [   0,    1,    1, ..., 5000, 5000, 5000]],\n",
       "\n",
       "       [[   0,    1, 1924, ..., 5000, 5000, 5000],\n",
       "        [   0,    1,    1, ..., 5000, 5000, 5000]],\n",
       "\n",
       "       [[2935,    0, 3396, ..., 5000, 5000, 5000],\n",
       "        [   0,    0,    0, ..., 5000, 5000, 5000]],\n",
       "\n",
       "       [[   0, 2944,    1, ..., 5000, 5000, 5000],\n",
       "        [   0,    0,    1, ..., 5000, 5000, 5000]]], dtype=int32)"
      ]
     },
     "execution_count": 107,
     "metadata": {},
     "output_type": "execute_result"
    }
   ],
   "source": [
    "nbr_update.idx"
   ]
  },
  {
   "cell_type": "code",
   "execution_count": 108,
   "id": "be12a5a7-9e69-486f-a4f5-19cffb8bea89",
   "metadata": {},
   "outputs": [
    {
     "data": {
      "text/plain": [
       "(4, 2, 13965)"
      ]
     },
     "execution_count": 108,
     "metadata": {},
     "output_type": "execute_result"
    }
   ],
   "source": [
    "# Shape [batch, (senders, receivers), -1]\n",
    "nbr_update.idx.shape"
   ]
  },
  {
   "cell_type": "code",
   "execution_count": 109,
   "id": "15278cde-402e-4ecf-8824-7a85644dfdb6",
   "metadata": {},
   "outputs": [],
   "source": [
    "globals = jax.random.normal(rng, (n_batch, 1, 4))"
   ]
  },
  {
   "cell_type": "markdown",
   "id": "a41439a5-7535-4f77-8924-6c3750f8960f",
   "metadata": {},
   "source": [
    "## Simple graph"
   ]
  },
  {
   "cell_type": "code",
   "execution_count": 110,
   "id": "42c86162-9db5-4704-b2ac-6134b9f0eb4f",
   "metadata": {},
   "outputs": [],
   "source": [
    "def update_edge_fn(\n",
    "  edge_features,\n",
    "  sender_node_features,\n",
    "  receiver_node_features,\n",
    "  globals_):\n",
    "    \"\"\"Returns the update edge features.\"\"\"\n",
    "    del sender_node_features\n",
    "    del receiver_node_features\n",
    "    del globals_\n",
    "    return edge_features\n",
    "\n",
    "def update_node_fn(\n",
    "  node_features,\n",
    "  aggregated_sender_edge_features,\n",
    "  aggregated_receiver_edge_features,\n",
    "  globals_):\n",
    "    \"\"\"Returns the update node features.\"\"\"\n",
    "    del aggregated_sender_edge_features\n",
    "    del aggregated_receiver_edge_features\n",
    "    del globals_\n",
    "    return node_features\n",
    "\n",
    "def update_global_fn(\n",
    "  aggregated_node_features,\n",
    "  aggregated_edge_features,\n",
    "  globals_):\n",
    "    \"\"\"Returns the global features.\"\"\"\n",
    "    del aggregated_node_features\n",
    "    del aggregated_edge_features\n",
    "    return globals_\n",
    "\n",
    "net = jraph.GraphNetwork(update_edge_fn=update_edge_fn,\n",
    "                         update_node_fn=update_node_fn,\n",
    "                         update_global_fn=update_global_fn)\n"
   ]
  },
  {
   "cell_type": "markdown",
   "id": "d26087c7-f899-4c8c-b126-dc654a6c82b7",
   "metadata": {},
   "source": [
    "## Use in graph "
   ]
  },
  {
   "cell_type": "code",
   "execution_count": 111,
   "id": "0c388a63-e0ec-45a2-8b82-a539dadf401a",
   "metadata": {},
   "outputs": [],
   "source": [
    "graph = jax.vmap(partition.to_jraph)(nbr_update, mask=None,  nodes=x, edges=None, globals=globals)"
   ]
  },
  {
   "cell_type": "code",
   "execution_count": 112,
   "id": "de447f49-6964-4ef5-a1e0-c1e66daf9645",
   "metadata": {},
   "outputs": [
    {
     "data": {
      "text/plain": [
       "((4, 2), (4, 2), (4, 5001, 3), (4, 2, 4), (4, 13965), (4, 13965))"
      ]
     },
     "execution_count": 112,
     "metadata": {},
     "output_type": "execute_result"
    }
   ],
   "source": [
    "graph.n_node.shape, graph.n_edge.shape, graph.nodes.shape, graph.globals.shape, graph.senders.shape, graph.receivers.shape"
   ]
  },
  {
   "cell_type": "code",
   "execution_count": 114,
   "id": "a7be7166-f2f7-4c65-9f1c-7b25623d024e",
   "metadata": {},
   "outputs": [],
   "source": [
    "updated_graph = jax.vmap(net)(graph)"
   ]
  },
  {
   "cell_type": "code",
   "execution_count": 115,
   "id": "c5cf089e-464e-4e11-872c-d69be63881f9",
   "metadata": {},
   "outputs": [],
   "source": [
    "from models.gnn import GraphConvNet\n",
    "import flax.linen as nn\n",
    "\n",
    "class GraphWrapper(nn.Module):\n",
    "    @nn.compact\n",
    "    def __call__(self, x):\n",
    "        model = jax.vmap(GraphConvNet(\n",
    "            latent_size=6, \n",
    "            num_mlp_layers=4, \n",
    "            message_passing_steps=3))\n",
    "        return model(x)"
   ]
  },
  {
   "cell_type": "code",
   "execution_count": 117,
   "id": "d2685361-58b2-48cb-85df-1de2fa691ae7",
   "metadata": {},
   "outputs": [],
   "source": [
    "model = GraphWrapper()\n",
    "graph_update, params  = model.init_with_output(rng, graph)"
   ]
  },
  {
   "cell_type": "code",
   "execution_count": 31,
   "id": "776d0662-50c1-40c9-9b5a-fdbc3048b9bf",
   "metadata": {},
   "outputs": [],
   "source": [
    "globals = jax.random.normal(rng, (n_batch, 5))"
   ]
  },
  {
   "cell_type": "code",
   "execution_count": 32,
   "id": "d44321fe-5967-4195-986a-c339ad662ee1",
   "metadata": {},
   "outputs": [],
   "source": [
    "n_batch = 4\n",
    "k = 10\n",
    "graph = jraph.GraphsTuple(\n",
    "    n_node=np.array(n_batch * [[5000]]),\n",
    "    n_edge=np.array(n_batch * [[k]]),\n",
    "    nodes=x,\n",
    "    edges=None,\n",
    "    globals=globals,\n",
    "    senders=np.array(n_batch * [sources]),\n",
    "    receivers=np.array(n_batch * [targets]),\n",
    ")"
   ]
  },
  {
   "cell_type": "code",
   "execution_count": 33,
   "id": "477fc124-7784-4cb4-baf4-bd64380c9d74",
   "metadata": {},
   "outputs": [
    {
     "data": {
      "text/plain": [
       "((4, 1), (4, 1), (4, 5000, 3), (4, 5), (4, 50000), (4, 50000))"
      ]
     },
     "execution_count": 33,
     "metadata": {},
     "output_type": "execute_result"
    }
   ],
   "source": [
    "graph.n_node.shape, graph.n_edge.shape, graph.nodes.shape, graph.globals.shape, graph.senders.shape, graph.receivers.shape"
   ]
  },
  {
   "cell_type": "code",
   "execution_count": 34,
   "id": "1f190e1b-090f-49ea-a5dc-6579dc20c74e",
   "metadata": {},
   "outputs": [],
   "source": [
    "model = GraphWrapper()\n",
    "graph_update, params  = model.init_with_output(rng, graph)"
   ]
  },
  {
   "cell_type": "code",
   "execution_count": 59,
   "id": "3f038e5a-293f-42c0-9802-c30862840521",
   "metadata": {},
   "outputs": [
    {
     "data": {
      "text/plain": [
       "GraphsTuple(nodes=Array([[112.30655 , 701.6364  , 649.7085  ],\n",
       "       [137.20975 , 557.04095 , 747.1494  ],\n",
       "       [ 99.483185, 248.12627 , 932.8447  ],\n",
       "       ...,\n",
       "       [226.60483 , 676.7364  , 757.2367  ],\n",
       "       [677.3594  ,  66.43591 , 264.32083 ],\n",
       "       [  0.      ,   0.      ,   0.      ]], dtype=float32), edges=None, receivers=Array([   0,  331,    1, ..., 5000, 5000, 5000], dtype=int32), senders=Array([   0,    0,    1, ..., 5000, 5000, 5000], dtype=int32), globals=Array([[ 0.18693547,  1.0653336 , -1.5593132 , -1.5352962 ],\n",
       "       [ 0.        ,  0.        ,  0.        ,  0.        ]],      dtype=float32), n_node=Array([5000,    1], dtype=int32), n_edge=Array([19912,  9956], dtype=int32))"
      ]
     },
     "execution_count": 59,
     "metadata": {},
     "output_type": "execute_result"
    }
   ],
   "source": [
    "net(graph)"
   ]
  },
  {
   "cell_type": "markdown",
   "id": "f81b43ec-d1f6-4d08-8fcf-7de26bbb02b3",
   "metadata": {},
   "source": [
    "## Test without batch"
   ]
  },
  {
   "cell_type": "code",
   "execution_count": 39,
   "id": "829d28b8-fb78-4aa1-b4cd-390c38862ad2",
   "metadata": {},
   "outputs": [],
   "source": [
    "class RadiusSearch:\n",
    "    \"\"\"Jittable radius graph\"\"\"\n",
    "\n",
    "    def __init__(self, box_size, cutoff, boundary_cond=\"free\", capacity_multiplier=1.5):\n",
    "\n",
    "        self.box_size = np.array(box_size)\n",
    "\n",
    "        if boundary_cond == \"free\":\n",
    "            self.displacement_fn, _ = space.free()\n",
    "        elif boundary_cond == \"periodic\":\n",
    "            self.displacement_fn, _ = space.periodic(self.box_size)\n",
    "        else:\n",
    "            raise NotImplementedError\n",
    "\n",
    "        self.cutoff = cutoff\n",
    "        self.neighbor_list_fn = partition.neighbor_list(self.displacement_fn, self.box_size, cutoff, format=partition.Sparse, dr_threshold=cutoff / 6.0, mask_self=False, capacity_multiplier=capacity_multiplier)\n",
    "\n",
    "        self.neighbor_list_fn_jit = jax.jit(self.neighbor_list_fn)\n",
    "        self.neighbor_dist_jit = self.displacement_fn\n",
    "\n",
    "        # Each time number of neighbours buffer overflows, reallocate\n",
    "        self.n_times_reallocated = 0\n",
    "\n",
    "    def init_neighbor_lst(self, pos):\n",
    "        \"\"\"Allocate initial neighbour list.\"\"\"\n",
    "        pos = np.mod(pos, self.box_size)\n",
    "        nbr = self.neighbor_list_fn.allocate(pos)\n",
    "        return nbr\n",
    "\n",
    "    def update_neighbor_lst(self, pos, nbr):\n",
    "        \"\"\"Update neighbour list. If buffer overflows, reallocate (re-jit).\"\"\"\n",
    "        pos = np.mod(pos, self.box_size)\n",
    "        nbr_update = self.neighbor_list_fn_jit.update(pos, nbr)\n",
    "\n",
    "        # If buffer overflows, update capacity of neighbours.\n",
    "        # NOTE: This reallocation strategy might be more efficient: https://github.com/jax-md/jax-md/issues/192#issuecomment-1114002995\n",
    "        if np.any(nbr_update.did_buffer_overflow):\n",
    "            nbr = self.neighbor_list_fn.allocate(pos[0], extra_capacity=2**self.n_times_reallocated)\n",
    "            self.n_times_reallocated += 1\n",
    "\n",
    "        return nbr_update, nbr\n"
   ]
  },
  {
   "cell_type": "code",
   "execution_count": 40,
   "id": "6ff47cc5-5521-4a75-9818-1a511ec77677",
   "metadata": {},
   "outputs": [],
   "source": [
    "n_batch = 4\n",
    "n_nodes = 5000\n",
    "n_pos = 3\n",
    "\n",
    "x = np.load(\"/n/holyscratch01/iaifi_lab/ccuesta/data_for_sid/halos.npy\")[:n_batch, :n_nodes,:n_pos][0]"
   ]
  },
  {
   "cell_type": "code",
   "execution_count": 41,
   "id": "e6b85983-84f0-4aa4-9a2d-c2e221aa0d0c",
   "metadata": {},
   "outputs": [],
   "source": [
    "ns = RadiusSearch(1000., 30.)\n",
    "nbr = ns.init_neighbor_lst(x)"
   ]
  },
  {
   "cell_type": "code",
   "execution_count": 42,
   "id": "3391305d-44df-4d93-8621-131c6df21c41",
   "metadata": {},
   "outputs": [],
   "source": [
    "nbr_update, nbr = ns.update_neighbor_lst(x, nbr)"
   ]
  },
  {
   "cell_type": "code",
   "execution_count": 43,
   "id": "74499d98-118e-4e0b-bf32-60519c8aea35",
   "metadata": {},
   "outputs": [],
   "source": [
    "rng = jax.random.PRNGKey(42)\n",
    "globals = jax.random.normal(rng, (1,4))\n",
    "graph = partition.to_jraph(nbr_update, nodes=x, edges=None, globals=globals)"
   ]
  },
  {
   "cell_type": "code",
   "execution_count": 60,
   "id": "70f75ec9-1ff8-4da7-a903-98ee31fd5908",
   "metadata": {},
   "outputs": [
    {
     "data": {
      "text/plain": [
       "((2,), (2,), (5001, 3), (2, 4), (29868,), (29868,))"
      ]
     },
     "execution_count": 60,
     "metadata": {},
     "output_type": "execute_result"
    }
   ],
   "source": [
    "graph.n_node.shape, graph.n_edge.shape, graph.nodes.shape, graph.globals.shape, graph.senders.shape, graph.receivers.shape, "
   ]
  },
  {
   "cell_type": "code",
   "execution_count": 90,
   "id": "2a0b06ce-da71-48b8-9d36-bda91f482fdf",
   "metadata": {},
   "outputs": [
    {
     "data": {
      "text/plain": [
       "((4, 2), (4, 2), (4, 5001, 3), (4, 2, 4), (4, 13965), (4, 13965))"
      ]
     },
     "execution_count": 90,
     "metadata": {},
     "output_type": "execute_result"
    }
   ],
   "source": [
    "graph.n_node.shape, graph.n_edge.shape, graph.nodes.shape, graph.globals.shape, graph.senders.shape, graph.receivers.shape"
   ]
  },
  {
   "cell_type": "code",
   "execution_count": 94,
   "id": "62d5affb-fe6b-4086-94fa-eb9f2cd0de41",
   "metadata": {},
   "outputs": [],
   "source": [
    "updated_graph = net(graph)"
   ]
  },
  {
   "cell_type": "code",
   "execution_count": null,
   "id": "a0cce98d-0efd-4f68-a850-e229361c690b",
   "metadata": {},
   "outputs": [],
   "source": []
  },
  {
   "cell_type": "code",
   "execution_count": null,
   "id": "57b79d3e-94bb-416b-b4da-4a7886b8efa7",
   "metadata": {},
   "outputs": [],
   "source": []
  }
 ],
 "metadata": {
  "kernelspec": {
   "display_name": "Python 3 (ipykernel)",
   "language": "python",
   "name": "python3"
  },
  "language_info": {
   "codemirror_mode": {
    "name": "ipython",
    "version": 3
   },
   "file_extension": ".py",
   "mimetype": "text/x-python",
   "name": "python",
   "nbconvert_exporter": "python",
   "pygments_lexer": "ipython3",
   "version": "3.9.12"
  }
 },
 "nbformat": 4,
 "nbformat_minor": 5
}
