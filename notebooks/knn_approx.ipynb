{
 "cells": [
  {
   "cell_type": "code",
   "execution_count": 1,
   "id": "81c76e8f-5301-4e73-8535-b790248a1743",
   "metadata": {},
   "outputs": [],
   "source": [
    "import sys\n",
    "sys.path.append(\"../\")\n",
    "\n",
    "import jax\n",
    "import jax.numpy as np\n",
    "from functools import partial\n",
    "import jraph\n",
    "from jax_md import space, partition\n",
    "\n",
    "from models.graph_utils import nearest_neighbors, nearest_neighbors_ann, RadiusSearch"
   ]
  },
  {
   "cell_type": "code",
   "execution_count": 2,
   "id": "ffceb331-d571-4fc8-9a22-1bc1398162ab",
   "metadata": {},
   "outputs": [],
   "source": [
    "rng = jax.random.PRNGKey(42)\n",
    "\n",
    "n_nodes = 5000\n",
    "k = 10\n",
    "n_batch = 4\n",
    "n_pos = 3\n",
    "\n",
    "x = np.load(\"/n/holyscratch01/iaifi_lab/ccuesta/data_for_sid/halos.npy\")[:n_batch, :n_nodes,:n_pos]"
   ]
  },
  {
   "cell_type": "markdown",
   "id": "fb791e61-e04f-43e9-af90-e7f13dcb4cf8",
   "metadata": {},
   "source": [
    "## Brute force kNN"
   ]
  },
  {
   "cell_type": "code",
   "execution_count": 3,
   "id": "d820b348-0bad-46b9-a9b8-5cd4e0045a98",
   "metadata": {},
   "outputs": [],
   "source": [
    "sources, targets = nearest_neighbors(x[0], k=k)\n",
    "sources_ann, targets_ann = nearest_neighbors_ann(x[0], k=k)"
   ]
  },
  {
   "cell_type": "code",
   "execution_count": 4,
   "id": "929f2491-68b2-41ba-b2a2-f76ed87e07d0",
   "metadata": {},
   "outputs": [
    {
     "data": {
      "text/plain": [
       "(Array(True, dtype=bool), Array(False, dtype=bool))"
      ]
     },
     "execution_count": 4,
     "metadata": {},
     "output_type": "execute_result"
    }
   ],
   "source": [
    "np.array_equal(sources_ann, sources), np.array_equal(targets_ann, targets)"
   ]
  },
  {
   "cell_type": "code",
   "execution_count": 5,
   "id": "c959a1c8-1f7a-4bb4-9f86-366896fa732d",
   "metadata": {},
   "outputs": [
    {
     "data": {
      "text/plain": [
       "Array(28243, dtype=int32)"
      ]
     },
     "execution_count": 5,
     "metadata": {},
     "output_type": "execute_result"
    }
   ],
   "source": [
    "(targets_ann == targets).sum()"
   ]
  },
  {
   "cell_type": "code",
   "execution_count": 6,
   "id": "8bb8f95d-e783-4a2d-a620-33827f3b468a",
   "metadata": {},
   "outputs": [
    {
     "name": "stdout",
     "output_type": "stream",
     "text": [
      "4.88 ms ± 4.28 µs per loop (mean ± std. dev. of 7 runs, 100 loops each)\n"
     ]
    }
   ],
   "source": [
    "%%timeit\n",
    "sources_ann, targets_ann = nearest_neighbors_ann(x[0], k=k)"
   ]
  },
  {
   "cell_type": "code",
   "execution_count": 7,
   "id": "3ff50432-ca5b-4bcc-a4b1-7bdca28eb731",
   "metadata": {},
   "outputs": [
    {
     "name": "stdout",
     "output_type": "stream",
     "text": [
      "7.04 ms ± 3.89 µs per loop (mean ± std. dev. of 7 runs, 100 loops each)\n"
     ]
    }
   ],
   "source": [
    "%%timeit\n",
    "sources, targets = nearest_neighbors(x[0], k=k)"
   ]
  },
  {
   "cell_type": "markdown",
   "id": "444d30f1-b5a7-4e99-9aa6-afe6ba2e8575",
   "metadata": {},
   "source": [
    "## Using jax-md"
   ]
  },
  {
   "cell_type": "markdown",
   "id": "ea5a5bc9-be86-4307-a37c-fd90eea96bb4",
   "metadata": {},
   "source": [
    "Scale up without having to recalculate pairwise distance matrix. Let's see if it can scale to 50000 nodes."
   ]
  },
  {
   "cell_type": "code",
   "execution_count": 8,
   "id": "c6512329-780c-4a37-9c3c-cbcdc0675231",
   "metadata": {},
   "outputs": [],
   "source": [
    "ns = RadiusSearch(box_size=1000., cutoff=30.)\n",
    "nbr = ns.init_neighbor_lst(x[0])"
   ]
  },
  {
   "cell_type": "code",
   "execution_count": 17,
   "id": "055821c8-0c22-475a-ad8a-31ec915ed3ad",
   "metadata": {},
   "outputs": [
    {
     "name": "stdout",
     "output_type": "stream",
     "text": [
      "87.1 ms ± 5.07 ms per loop (mean ± std. dev. of 7 runs, 10 loops each)\n"
     ]
    }
   ],
   "source": [
    "%%timeit\n",
    "nbr_update, _ = ns.update_neighbor_lst(x, nbr)"
   ]
  },
  {
   "cell_type": "code",
   "execution_count": 18,
   "id": "fcf10b65-10e9-4528-a156-e256027d35ca",
   "metadata": {},
   "outputs": [],
   "source": [
    "nbr_update, nbr = ns.update_neighbor_lst(x, nbr)"
   ]
  },
  {
   "cell_type": "code",
   "execution_count": 19,
   "id": "6964186d-7c14-4072-9730-aafde9dfb395",
   "metadata": {},
   "outputs": [
    {
     "data": {
      "text/plain": [
       "Array([[[   0,  331,    1, ..., 5000, 5000, 5000],\n",
       "        [   0,    0,    1, ..., 5000, 5000, 5000]],\n",
       "\n",
       "       [[   0, 1379,    1, ..., 5000, 5000, 5000],\n",
       "        [   0,    0,    1, ..., 5000, 5000, 5000]],\n",
       "\n",
       "       [[   0, 3839,    1, ..., 5000, 5000, 5000],\n",
       "        [   0,    0,    1, ..., 5000, 5000, 5000]],\n",
       "\n",
       "       [[   0, 4977, 4138, ..., 5000, 5000, 5000],\n",
       "        [   0,    0,    0, ..., 5000, 5000, 5000]]], dtype=int32)"
      ]
     },
     "execution_count": 19,
     "metadata": {},
     "output_type": "execute_result"
    }
   ],
   "source": [
    "nbr_update.idx"
   ]
  },
  {
   "cell_type": "code",
   "execution_count": 20,
   "id": "be12a5a7-9e69-486f-a4f5-19cffb8bea89",
   "metadata": {},
   "outputs": [
    {
     "data": {
      "text/plain": [
       "(4, 2, 29868)"
      ]
     },
     "execution_count": 20,
     "metadata": {},
     "output_type": "execute_result"
    }
   ],
   "source": [
    "# Shape [batch, (senders, receivers), -1]\n",
    "nbr_update.idx.shape"
   ]
  },
  {
   "cell_type": "markdown",
   "id": "a41439a5-7535-4f77-8924-6c3750f8960f",
   "metadata": {},
   "source": [
    "## Use in graph"
   ]
  },
  {
   "cell_type": "code",
   "execution_count": 21,
   "id": "8b5d5f25-7c37-4005-9779-62c0d6d6eab2",
   "metadata": {},
   "outputs": [],
   "source": [
    "from typing import Callable\n",
    "import flax.linen as nn\n",
    "import jax.numpy as jnp\n",
    "\n",
    "from models.mlp import MLP\n",
    "\n",
    "\n",
    "def get_node_mlp_updates(mlp_feature_sizes: int) -> Callable:\n",
    "    \"\"\"Get a node MLP update  function\n",
    "\n",
    "    Args:\n",
    "        mlp_feature_sizes (int): number of features in the MLP\n",
    "\n",
    "    Returns:\n",
    "        Callable: update function\n",
    "    \"\"\"\n",
    "\n",
    "    def update_fn(\n",
    "        nodes: jnp.ndarray,\n",
    "        sent_attributes: jnp.ndarray,\n",
    "        received_attributes: jnp.ndarray,\n",
    "        globals: jnp.ndarray,\n",
    "    ) -> jnp.ndarray:\n",
    "        \"\"\"update node features\n",
    "\n",
    "        Args:\n",
    "            nodes (jnp.ndarray): node features\n",
    "            sent_attributes (jnp.ndarray): attributes sent to neighbors\n",
    "            received_attributes (jnp.ndarray): attributes received from neighbors\n",
    "            globals (jnp.ndarray): global features\n",
    "\n",
    "        Returns:\n",
    "            jnp.ndarray: updated node features\n",
    "        \"\"\"\n",
    "        if received_attributes is not None:\n",
    "            inputs = jnp.concatenate([nodes, received_attributes, globals], axis=1)\n",
    "        else:\n",
    "            inputs = jnp.concatenate([nodes, globals], axis=1)\n",
    "        return MLP(mlp_feature_sizes)(inputs)\n",
    "\n",
    "    return update_fn\n",
    "\n",
    "def get_edge_mlp_updates(mlp_feature_sizes: int) -> Callable:\n",
    "    \"\"\"Get an edge MLP update function\n",
    "\n",
    "    Args:\n",
    "        mlp_feature_sizes (int): number of features in the MLP\n",
    "\n",
    "    Returns:\n",
    "        Callable: update function\n",
    "    \"\"\"\n",
    "\n",
    "    def update_fn(\n",
    "        edges: jnp.ndarray,\n",
    "        senders: jnp.ndarray,\n",
    "        receivers: jnp.ndarray,\n",
    "        globals: jnp.ndarray,\n",
    "    ) -> jnp.ndarray:\n",
    "        \"\"\"update edge features\n",
    "\n",
    "        Args:\n",
    "            edges (jnp.ndarray): edge attributes\n",
    "            senders (jnp.ndarray): senders node attributes\n",
    "            receivers (jnp.ndarray): receivers node attributes\n",
    "            globals (jnp.ndarray): global features\n",
    "\n",
    "        Returns:\n",
    "            jnp.ndarray: updated edge features\n",
    "        \"\"\"\n",
    "        if edges is not None:\n",
    "            inputs = jnp.concatenate([edges, senders, receivers, globals], axis=1)\n",
    "        else:\n",
    "            inputs = jnp.concatenate([senders, receivers, globals], axis=1)\n",
    "        return MLP(mlp_feature_sizes)(inputs)\n",
    "    return update_fn"
   ]
  },
  {
   "cell_type": "code",
   "execution_count": 22,
   "id": "2ceca289-354f-426a-bea2-8dd3a54f0a34",
   "metadata": {},
   "outputs": [],
   "source": [
    "class GraphConvNet(nn.Module):\n",
    "    \"\"\"A simple graph convolutional network\"\"\"\n",
    "    latent_size: int = 32\n",
    "    num_mlp_layers: int = 3\n",
    "    message_passing_steps: int = 3\n",
    "    skip_connections: bool = True\n",
    "    layer_norm: bool = True\n",
    "\n",
    "    @nn.compact\n",
    "    def __call__(self, graphs: jraph.GraphsTuple) -> jraph.GraphsTuple:\n",
    "        \"\"\"Do message passing on graph\n",
    "\n",
    "        Args:\n",
    "            graphs (jraph.GraphsTuple): graph object\n",
    "\n",
    "        Returns:\n",
    "            jraph.GraphsTuple: updated graph object\n",
    "        \"\"\"\n",
    "        in_features = graphs.nodes.shape[-1]\n",
    "        embedder = jraph.GraphMapFeatures(embed_node_fn=nn.Dense(self.latent_size))\n",
    "        processed_graphs = embedder(graphs)\n",
    "        processed_graphs = processed_graphs._replace(\n",
    "            globals=processed_graphs.globals.reshape(processed_graphs.globals.shape[0], -1),\n",
    "        )\n",
    "        \n",
    "        mlp_feature_sizes = [self.latent_size] * self.num_mlp_layers\n",
    "        update_node_fn = get_node_mlp_updates(mlp_feature_sizes)\n",
    "        update_edge_fn = get_edge_mlp_updates(mlp_feature_sizes)\n",
    "\n",
    "        # Now, we will apply the GCN once for each message-passing round.\n",
    "        for _ in range(self.message_passing_steps):\n",
    "            graph_net = jraph.GraphNetwork(\n",
    "                update_node_fn=update_node_fn,\n",
    "                update_edge_fn=update_edge_fn,\n",
    "            )\n",
    "            if self.skip_connections:\n",
    "                processed_graphs = add_graphs_tuples(\n",
    "                    graph_net(processed_graphs), processed_graphs\n",
    "                )\n",
    "            else:\n",
    "                processed_graphs = graph_net(processed_graphs)\n",
    "\n",
    "            if self.layer_norm:\n",
    "                processed_graphs = processed_graphs._replace(\n",
    "                    nodes=nn.LayerNorm()(processed_graphs.nodes),\n",
    "                )\n",
    "        return graphs"
   ]
  },
  {
   "cell_type": "code",
   "execution_count": 23,
   "id": "65268480-f525-4908-9cfb-5d7835b2def9",
   "metadata": {},
   "outputs": [],
   "source": [
    "from models.gnn import add_graphs_tuples"
   ]
  },
  {
   "cell_type": "code",
   "execution_count": 24,
   "id": "0c388a63-e0ec-45a2-8b82-a539dadf401a",
   "metadata": {},
   "outputs": [],
   "source": [
    "globals = jax.random.normal(rng, (n_batch, 1, 4))\n",
    "graph = jax.vmap(partition.to_jraph)(nbr_update, mask=None,  nodes=x, edges=None, globals=globals)"
   ]
  },
  {
   "cell_type": "code",
   "execution_count": 25,
   "id": "de447f49-6964-4ef5-a1e0-c1e66daf9645",
   "metadata": {},
   "outputs": [
    {
     "data": {
      "text/plain": [
       "((4, 2), (4, 2), (4, 5001, 3), (4, 2, 4), (4, 29868), (4, 29868))"
      ]
     },
     "execution_count": 25,
     "metadata": {},
     "output_type": "execute_result"
    }
   ],
   "source": [
    "graph.n_node.shape, graph.n_edge.shape, graph.nodes.shape, graph.globals.shape, graph.senders.shape, graph.receivers.shape"
   ]
  },
  {
   "cell_type": "code",
   "execution_count": 26,
   "id": "971a5bf4-430b-499c-92de-9a5d5afa3d02",
   "metadata": {},
   "outputs": [],
   "source": [
    "class GraphWrapper(nn.Module):\n",
    "    @nn.compact\n",
    "    def __call__(self, x):\n",
    "        model = jax.vmap(GraphConvNet())\n",
    "        return model(x)"
   ]
  },
  {
   "cell_type": "code",
   "execution_count": null,
   "id": "f31d7b83-2baf-4083-a89d-facc1faadd00",
   "metadata": {},
   "outputs": [],
   "source": [
    "model = GraphWrapper()\n",
    "graph_update, params  = model.init_with_output(rng, graph)\n",
    "graph_update.nodes.shape  # Output nodes"
   ]
  },
  {
   "cell_type": "markdown",
   "id": "98628fa5-5830-4e10-a572-e308bd9c5574",
   "metadata": {},
   "source": []
  }
 ],
 "metadata": {
  "kernelspec": {
   "display_name": "Python 3 (ipykernel)",
   "language": "python",
   "name": "python3"
  },
  "language_info": {
   "codemirror_mode": {
    "name": "ipython",
    "version": 3
   },
   "file_extension": ".py",
   "mimetype": "text/x-python",
   "name": "python",
   "nbconvert_exporter": "python",
   "pygments_lexer": "ipython3",
   "version": "3.9.12"
  }
 },
 "nbformat": 4,
 "nbformat_minor": 5
}
