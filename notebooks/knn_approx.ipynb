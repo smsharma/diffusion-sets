{
 "cells": [
  {
   "cell_type": "code",
   "execution_count": 22,
   "id": "81c76e8f-5301-4e73-8535-b790248a1743",
   "metadata": {},
   "outputs": [],
   "source": [
    "import jax\n",
    "import jax.numpy as np\n",
    "from functools import partial"
   ]
  },
  {
   "cell_type": "markdown",
   "id": "fb791e61-e04f-43e9-af90-e7f13dcb4cf8",
   "metadata": {},
   "source": [
    "## Brute force kNN"
   ]
  },
  {
   "cell_type": "code",
   "execution_count": 23,
   "id": "1d838cc5-efed-4762-ab64-b1bdc6d5fd6e",
   "metadata": {},
   "outputs": [],
   "source": [
    "rng = jax.random.PRNGKey(42)\n",
    "\n",
    "n_nodes = 10000\n",
    "k = 100\n",
    "\n",
    "# Generate random inputs\n",
    "x = jax.random.normal(rng, (n_nodes, 3))"
   ]
  },
  {
   "cell_type": "code",
   "execution_count": 24,
   "id": "1d75c632-988e-4f8b-91cb-9f5133adb606",
   "metadata": {},
   "outputs": [],
   "source": [
    "# Usual brute force kNN algo\n",
    "\n",
    "@partial(jax.jit, static_argnums=(1,))\n",
    "def nearest_neighbors(x, k, mask=None):\n",
    "    \"\"\"The shittiest implementation of nearest neighbours with masking in the world\"\"\"\n",
    "\n",
    "    if mask is None:\n",
    "        mask = np.ones((x.shape[0],), dtype=np.int32)\n",
    "\n",
    "    n_nodes = x.shape[0]\n",
    "\n",
    "    distance_matrix = np.sum((x[:, None, :] - x[None, :, :]) ** 2, axis=-1)\n",
    "\n",
    "    distance_matrix = np.where(mask[:, None], distance_matrix, np.inf)\n",
    "    distance_matrix = np.where(mask[None, :], distance_matrix, np.inf)\n",
    "\n",
    "    indices = np.argsort(distance_matrix, axis=-1)[:, :k]\n",
    "\n",
    "    sources = indices[:, 0].repeat(k)\n",
    "    targets = indices.reshape(n_nodes * (k))\n",
    "\n",
    "    return (sources, targets)"
   ]
  },
  {
   "cell_type": "code",
   "execution_count": 25,
   "id": "a1d3fab9-7744-489d-a940-d5d51db4bca3",
   "metadata": {},
   "outputs": [],
   "source": [
    "# Supposedly more efficient one from https://arxiv.org/abs/2206.14286\n",
    "\n",
    "@partial(jax.jit, static_argnums=(1,))\n",
    "def nearest_neighbors_ann(x, k):\n",
    "    \"\"\"Algorithm from https://arxiv.org/abs/2206.14286\"\"\"\n",
    "\n",
    "    dots = np.einsum('ik,jk->ij', x, x)\n",
    "    db_half_norm = np.linalg.norm(x, axis=1) ** 2 / 2.0\n",
    "    dists = db_half_norm - dots\n",
    "    dist, neighbours = jax.lax.approx_min_k(dists, k=k, recall_target=0.95)\n",
    "    sources = np.arange(x.shape[0]).repeat(k)\n",
    "    targets = neighbours.reshape(x.shape[0] * (k))\n",
    "    return (sources, targets)"
   ]
  },
  {
   "cell_type": "code",
   "execution_count": 26,
   "id": "d820b348-0bad-46b9-a9b8-5cd4e0045a98",
   "metadata": {},
   "outputs": [],
   "source": [
    "sources, targets = nearest_neighbors(x, k=k)\n",
    "sources_ann, targets_ann = nearest_neighbors_ann(x, k=k)"
   ]
  },
  {
   "cell_type": "code",
   "execution_count": 27,
   "id": "929f2491-68b2-41ba-b2a2-f76ed87e07d0",
   "metadata": {},
   "outputs": [
    {
     "data": {
      "text/plain": [
       "(Array(True, dtype=bool), Array(False, dtype=bool))"
      ]
     },
     "execution_count": 27,
     "metadata": {},
     "output_type": "execute_result"
    }
   ],
   "source": [
    "np.array_equal(sources_ann, sources), np.array_equal(targets_ann, targets)"
   ]
  },
  {
   "cell_type": "code",
   "execution_count": 28,
   "id": "c959a1c8-1f7a-4bb4-9f86-366896fa732d",
   "metadata": {},
   "outputs": [
    {
     "data": {
      "text/plain": [
       "Array(999888, dtype=int32)"
      ]
     },
     "execution_count": 28,
     "metadata": {},
     "output_type": "execute_result"
    }
   ],
   "source": [
    "(targets_ann == targets).sum()"
   ]
  },
  {
   "cell_type": "code",
   "execution_count": 29,
   "id": "8bb8f95d-e783-4a2d-a620-33827f3b468a",
   "metadata": {},
   "outputs": [
    {
     "name": "stdout",
     "output_type": "stream",
     "text": [
      "21.4 ms ± 5.65 µs per loop (mean ± std. dev. of 7 runs, 100 loops each)\n"
     ]
    }
   ],
   "source": [
    "%%timeit\n",
    "sources_ann, targets_ann = nearest_neighbors_ann(x, k=k)"
   ]
  },
  {
   "cell_type": "code",
   "execution_count": 30,
   "id": "3ff50432-ca5b-4bcc-a4b1-7bdca28eb731",
   "metadata": {},
   "outputs": [
    {
     "name": "stdout",
     "output_type": "stream",
     "text": [
      "28.7 ms ± 4.64 ms per loop (mean ± std. dev. of 7 runs, 10 loops each)\n"
     ]
    }
   ],
   "source": [
    "%%timeit\n",
    "sources, targets = nearest_neighbors(x, k=k)"
   ]
  },
  {
   "cell_type": "markdown",
   "id": "444d30f1-b5a7-4e99-9aa6-afe6ba2e8575",
   "metadata": {},
   "source": [
    "## Using jax-md"
   ]
  },
  {
   "cell_type": "markdown",
   "id": "ea5a5bc9-be86-4307-a37c-fd90eea96bb4",
   "metadata": {},
   "source": [
    "Scale up without having to recalculate pairwise distance matrix."
   ]
  },
  {
   "cell_type": "code",
   "execution_count": 51,
   "id": "56f01764-f060-4acd-a8cf-f506f5cdf5a6",
   "metadata": {},
   "outputs": [],
   "source": [
    "from jax_md import space, partition"
   ]
  },
  {
   "cell_type": "code",
   "execution_count": 87,
   "id": "54d23838-1cea-4b51-a803-68d0bda0c640",
   "metadata": {},
   "outputs": [],
   "source": [
    "class RadiusSearch:\n",
    "    \"\"\" Update-able radius graph\n",
    "    \"\"\"\n",
    "    def __init__(self, box_size, cutoff, boundary_cond=\"free\", capacity_multiplier=1.5):\n",
    "        \n",
    "        self.box_size = np.array(box_size)\n",
    "        \n",
    "        if boundary_cond == \"free\":    \n",
    "            self.displacement_fn, _ = space.free()  \n",
    "        elif boundary_cond == \"periodic\":\n",
    "            self.displacement_fn, _ = space.periodic(self.box_size)\n",
    "        else:\n",
    "            raise NotImplementedError\n",
    "            \n",
    "        self.disp = jax.vmap(self.displacement_fn)\n",
    "        self.dist = jax.vmap(space.metric(self.displacement_fn))\n",
    "        self.cutoff = cutoff\n",
    "        self.neighbor_list_fn = partition.neighbor_list(self.displacement_fn,\n",
    "                                                       self.box_size,\n",
    "                                                       cutoff,\n",
    "                                                       format=partition.Sparse,\n",
    "                                                       dr_threshold= cutoff / 6.,\n",
    "                                                       mask_self=False,\n",
    "                                                       capacity_multiplier=capacity_multiplier)\n",
    "        \n",
    "        self.neighbor_list_fn_jit = jax.jit(self.neighbor_list_fn)\n",
    "        self.neighbor_dist_jit = self.displacement_fn\n",
    "        \n",
    "        # Each time number of neighbours buffer overflows, reallocate\n",
    "        self.n_times_reallocated = 0\n",
    "\n",
    "    def init_neighbor_lst(self, pos):\n",
    "        \"\"\" Allocate initial neighbour list\n",
    "        \"\"\"\n",
    "        pos = np.mod(pos, self.box_size)\n",
    "        nbr = self.neighbor_list_fn.allocate(pos)\n",
    "        return nbr\n",
    "\n",
    "    def update_neighbor_lst(self, pos, nbr):\n",
    "        pos = np.mod(pos, self.box_size)\n",
    "        nbr_update = jax.vmap(self.neighbor_list_fn_jit.update, in_axes=(0,None))(pos, nbr)\n",
    "        \n",
    "        # If buffer overflows, update capacity of neighbours.\n",
    "        # NOTE: This reallocation strategy might be more efficient: https://github.com/jax-md/jax-md/issues/192#issuecomment-1114002995\n",
    "        if np.any(nbr_update.did_buffer_overflow):\n",
    "            nbr = self.neighbor_list_fn.allocate(pos[0], extra_capacity=2 ** self.n_times_reallocated)\n",
    "            self.n_times_reallocated += 1\n",
    "        \n",
    "        return nbr_update, nbr\n"
   ]
  },
  {
   "cell_type": "markdown",
   "id": "9646f391-eb95-4130-a103-7ec80e92ed8d",
   "metadata": {},
   "source": [
    "Let's see if it can scale to 50000 nodes."
   ]
  },
  {
   "cell_type": "code",
   "execution_count": 88,
   "id": "98afd0e1-1c1d-4496-be22-922ce229ea18",
   "metadata": {},
   "outputs": [],
   "source": [
    "n_batch = 4\n",
    "n_nodes = 50000\n",
    "n_pos = 3\n",
    "\n",
    "# x = np.load(\"/n/holyscratch01/iaifi_lab/ccuesta/data_for_sid/halos.npy\")[:n_batch, :n_nodes,:n_pos]\n",
    "x = jax.random.uniform(rng, (n_batch, n_nodes, n_pos)) * 1000."
   ]
  },
  {
   "cell_type": "code",
   "execution_count": 89,
   "id": "c6512329-780c-4a37-9c3c-cbcdc0675231",
   "metadata": {},
   "outputs": [],
   "source": [
    "ns = RadiusSearch(1000., 100.)\n",
    "nbr = ns.init_neighbor_lst(x[0])"
   ]
  },
  {
   "cell_type": "code",
   "execution_count": 90,
   "id": "fcf10b65-10e9-4528-a156-e256027d35ca",
   "metadata": {},
   "outputs": [],
   "source": [
    "# %%timeit\n",
    "nbr_update, nbr = ns.update_neighbor_lst(x, nbr)"
   ]
  },
  {
   "cell_type": "code",
   "execution_count": 91,
   "id": "6964186d-7c14-4072-9730-aafde9dfb395",
   "metadata": {},
   "outputs": [
    {
     "data": {
      "text/plain": [
       "Array([[[29664, 30783, 31251, ..., 50000, 50000, 50000],\n",
       "        [    0,     0,     0, ..., 50000, 50000, 50000]],\n",
       "\n",
       "       [[    0,   471,   552, ..., 50000, 50000, 50000],\n",
       "        [    0,     0,     0, ..., 50000, 50000, 50000]],\n",
       "\n",
       "       [[15035, 17264, 17428, ..., 50000, 50000, 50000],\n",
       "        [    0,     0,     0, ..., 50000, 50000, 50000]],\n",
       "\n",
       "       [[45270, 45927, 47561, ..., 50000, 50000, 50000],\n",
       "        [    0,     0,     0, ..., 50000, 50000, 50000]]], dtype=int32)"
      ]
     },
     "execution_count": 91,
     "metadata": {},
     "output_type": "execute_result"
    }
   ],
   "source": [
    "nbr_update.idx"
   ]
  },
  {
   "cell_type": "code",
   "execution_count": 92,
   "id": "be12a5a7-9e69-486f-a4f5-19cffb8bea89",
   "metadata": {},
   "outputs": [
    {
     "data": {
      "text/plain": [
       "(4, 2, 21889268)"
      ]
     },
     "execution_count": 92,
     "metadata": {},
     "output_type": "execute_result"
    }
   ],
   "source": [
    "nbr_update.idx.shape"
   ]
  },
  {
   "cell_type": "code",
   "execution_count": null,
   "id": "0c388a63-e0ec-45a2-8b82-a539dadf401a",
   "metadata": {},
   "outputs": [],
   "source": []
  }
 ],
 "metadata": {
  "kernelspec": {
   "display_name": "Python 3 (ipykernel)",
   "language": "python",
   "name": "python3"
  },
  "language_info": {
   "codemirror_mode": {
    "name": "ipython",
    "version": 3
   },
   "file_extension": ".py",
   "mimetype": "text/x-python",
   "name": "python",
   "nbconvert_exporter": "python",
   "pygments_lexer": "ipython3",
   "version": "3.9.12"
  }
 },
 "nbformat": 4,
 "nbformat_minor": 5
}
