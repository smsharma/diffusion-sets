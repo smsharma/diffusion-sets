{
 "cells": [
  {
   "cell_type": "code",
   "execution_count": 83,
   "id": "81c76e8f-5301-4e73-8535-b790248a1743",
   "metadata": {},
   "outputs": [],
   "source": [
    "import sys\n",
    "sys.path.append(\"../\")\n",
    "\n",
    "import jax\n",
    "import jax.numpy as np\n",
    "from functools import partial\n",
    "import jraph\n",
    "\n",
    "from models.graph_utils import nearest_neighbors, nearest_neighbors_ann, RadiusSearch"
   ]
  },
  {
   "cell_type": "markdown",
   "id": "fb791e61-e04f-43e9-af90-e7f13dcb4cf8",
   "metadata": {},
   "source": [
    "## Brute force kNN"
   ]
  },
  {
   "cell_type": "code",
   "execution_count": 195,
   "id": "1d838cc5-efed-4762-ab64-b1bdc6d5fd6e",
   "metadata": {},
   "outputs": [],
   "source": [
    "rng = jax.random.PRNGKey(42)\n",
    "\n",
    "n_nodes = 5000\n",
    "k = 10\n",
    "\n",
    "# Generate random inputs\n",
    "x = jax.random.normal(rng, (n_nodes, 3))"
   ]
  },
  {
   "cell_type": "code",
   "execution_count": 196,
   "id": "d820b348-0bad-46b9-a9b8-5cd4e0045a98",
   "metadata": {},
   "outputs": [],
   "source": [
    "sources, targets = nearest_neighbors(x, k=k)\n",
    "sources_ann, targets_ann = nearest_neighbors_ann(x, k=k)"
   ]
  },
  {
   "cell_type": "code",
   "execution_count": 197,
   "id": "929f2491-68b2-41ba-b2a2-f76ed87e07d0",
   "metadata": {},
   "outputs": [
    {
     "data": {
      "text/plain": [
       "(Array(True, dtype=bool), Array(False, dtype=bool))"
      ]
     },
     "execution_count": 197,
     "metadata": {},
     "output_type": "execute_result"
    }
   ],
   "source": [
    "np.array_equal(sources_ann, sources), np.array_equal(targets_ann, targets)"
   ]
  },
  {
   "cell_type": "code",
   "execution_count": 198,
   "id": "c959a1c8-1f7a-4bb4-9f86-366896fa732d",
   "metadata": {},
   "outputs": [
    {
     "data": {
      "text/plain": [
       "Array(46485, dtype=int32)"
      ]
     },
     "execution_count": 198,
     "metadata": {},
     "output_type": "execute_result"
    }
   ],
   "source": [
    "(targets_ann == targets).sum()"
   ]
  },
  {
   "cell_type": "code",
   "execution_count": 199,
   "id": "8bb8f95d-e783-4a2d-a620-33827f3b468a",
   "metadata": {},
   "outputs": [
    {
     "name": "stdout",
     "output_type": "stream",
     "text": [
      "4.88 ms ± 455 ns per loop (mean ± std. dev. of 7 runs, 100 loops each)\n"
     ]
    }
   ],
   "source": [
    "%%timeit\n",
    "sources_ann, targets_ann = nearest_neighbors_ann(x, k=k)"
   ]
  },
  {
   "cell_type": "code",
   "execution_count": 200,
   "id": "3ff50432-ca5b-4bcc-a4b1-7bdca28eb731",
   "metadata": {},
   "outputs": [
    {
     "name": "stdout",
     "output_type": "stream",
     "text": [
      "7.05 ms ± 661 ns per loop (mean ± std. dev. of 7 runs, 100 loops each)\n"
     ]
    }
   ],
   "source": [
    "%%timeit\n",
    "sources, targets = nearest_neighbors(x, k=k)"
   ]
  },
  {
   "cell_type": "markdown",
   "id": "444d30f1-b5a7-4e99-9aa6-afe6ba2e8575",
   "metadata": {},
   "source": [
    "## Using jax-md"
   ]
  },
  {
   "cell_type": "markdown",
   "id": "ea5a5bc9-be86-4307-a37c-fd90eea96bb4",
   "metadata": {},
   "source": [
    "Scale up without having to recalculate pairwise distance matrix. Let's see if it can scale to 50000 nodes."
   ]
  },
  {
   "cell_type": "code",
   "execution_count": 236,
   "id": "98afd0e1-1c1d-4496-be22-922ce229ea18",
   "metadata": {},
   "outputs": [],
   "source": [
    "n_batch = 4\n",
    "n_nodes = 50000\n",
    "n_pos = 3\n",
    "\n",
    "x = np.load(\"/n/holyscratch01/iaifi_lab/ccuesta/data_for_sid/halos.npy\")[:n_batch, :n_nodes,:n_pos]\n",
    "# x = jax.random.uniform(rng, (n_batch, n_nodes, n_pos)) * 1000."
   ]
  },
  {
   "cell_type": "code",
   "execution_count": 237,
   "id": "c6512329-780c-4a37-9c3c-cbcdc0675231",
   "metadata": {},
   "outputs": [],
   "source": [
    "ns = RadiusSearch(1000., 30.)\n",
    "nbr = ns.init_neighbor_lst(x[0])"
   ]
  },
  {
   "cell_type": "code",
   "execution_count": 238,
   "id": "055821c8-0c22-475a-ad8a-31ec915ed3ad",
   "metadata": {},
   "outputs": [
    {
     "name": "stdout",
     "output_type": "stream",
     "text": [
      "66.5 ms ± 793 µs per loop (mean ± std. dev. of 7 runs, 1 loop each)\n"
     ]
    }
   ],
   "source": [
    "%%timeit\n",
    "nbr_update, _ = ns.update_neighbor_lst(x, nbr)"
   ]
  },
  {
   "cell_type": "code",
   "execution_count": 239,
   "id": "fcf10b65-10e9-4528-a156-e256027d35ca",
   "metadata": {},
   "outputs": [],
   "source": [
    "nbr_update, nbr = ns.update_neighbor_lst(x, nbr)"
   ]
  },
  {
   "cell_type": "code",
   "execution_count": 240,
   "id": "6964186d-7c14-4072-9730-aafde9dfb395",
   "metadata": {},
   "outputs": [
    {
     "data": {
      "text/plain": [
       "Array([[[   0,  331,    1, ..., 5000, 5000, 5000],\n",
       "        [   0,    0,    1, ..., 5000, 5000, 5000]],\n",
       "\n",
       "       [[   0, 1379,    1, ..., 5000, 5000, 5000],\n",
       "        [   0,    0,    1, ..., 5000, 5000, 5000]],\n",
       "\n",
       "       [[   0, 3839,    1, ..., 5000, 5000, 5000],\n",
       "        [   0,    0,    1, ..., 5000, 5000, 5000]],\n",
       "\n",
       "       [[   0, 4977, 4138, ..., 5000, 5000, 5000],\n",
       "        [   0,    0,    0, ..., 5000, 5000, 5000]]], dtype=int32)"
      ]
     },
     "execution_count": 240,
     "metadata": {},
     "output_type": "execute_result"
    }
   ],
   "source": [
    "nbr_update.idx"
   ]
  },
  {
   "cell_type": "code",
   "execution_count": 241,
   "id": "be12a5a7-9e69-486f-a4f5-19cffb8bea89",
   "metadata": {},
   "outputs": [
    {
     "data": {
      "text/plain": [
       "(4, 2, 29868)"
      ]
     },
     "execution_count": 241,
     "metadata": {},
     "output_type": "execute_result"
    }
   ],
   "source": [
    "# Shape [batch, (senders, receivers), -1]\n",
    "nbr_update.idx.shape"
   ]
  },
  {
   "cell_type": "code",
   "execution_count": 251,
   "id": "15278cde-402e-4ecf-8824-7a85644dfdb6",
   "metadata": {},
   "outputs": [],
   "source": [
    "from jax_md import space, partition\n",
    "globals = jax.random.normal(rng, (n_batch, 4))"
   ]
  },
  {
   "cell_type": "markdown",
   "id": "d26087c7-f899-4c8c-b126-dc654a6c82b7",
   "metadata": {},
   "source": [
    "## Batches "
   ]
  },
  {
   "cell_type": "code",
   "execution_count": 285,
   "id": "0c388a63-e0ec-45a2-8b82-a539dadf401a",
   "metadata": {},
   "outputs": [],
   "source": [
    "graph = jax.vmap(partition.to_jraph)(nbr_update, mask=None,  nodes=x, edges=None, globals=globals)"
   ]
  },
  {
   "cell_type": "code",
   "execution_count": 286,
   "id": "95d18187-d346-4d27-998c-8434d30b5d7a",
   "metadata": {},
   "outputs": [
    {
     "data": {
      "text/plain": [
       "Array([[5000,    1],\n",
       "       [5000,    1],\n",
       "       [5000,    1],\n",
       "       [5000,    1]], dtype=int32)"
      ]
     },
     "execution_count": 286,
     "metadata": {},
     "output_type": "execute_result"
    }
   ],
   "source": [
    "graph.n_node"
   ]
  },
  {
   "cell_type": "code",
   "execution_count": 287,
   "id": "b3e801f9-7795-4a77-b381-ff0721ef96ea",
   "metadata": {},
   "outputs": [
    {
     "data": {
      "text/plain": [
       "Array([[19912,  9956],\n",
       "       [15296, 14572],\n",
       "       [17400, 12468],\n",
       "       [14846, 15022]], dtype=int32)"
      ]
     },
     "execution_count": 287,
     "metadata": {},
     "output_type": "execute_result"
    }
   ],
   "source": [
    "graph.n_edge"
   ]
  },
  {
   "cell_type": "code",
   "execution_count": 288,
   "id": "6050973f-7e95-435a-89b0-7bafe470139c",
   "metadata": {},
   "outputs": [
    {
     "data": {
      "text/plain": [
       "Array([[5000,    1],\n",
       "       [5000,    1],\n",
       "       [5000,    1],\n",
       "       [5000,    1]], dtype=int32)"
      ]
     },
     "execution_count": 288,
     "metadata": {},
     "output_type": "execute_result"
    }
   ],
   "source": [
    "graph.n_node"
   ]
  },
  {
   "cell_type": "code",
   "execution_count": 289,
   "id": "de447f49-6964-4ef5-a1e0-c1e66daf9645",
   "metadata": {},
   "outputs": [
    {
     "data": {
      "text/plain": [
       "((4, 2), (4, 2), (4, 5001, 3), (4, 5), (4, 29868), (4, 29868), (4, 29868))"
      ]
     },
     "execution_count": 289,
     "metadata": {},
     "output_type": "execute_result"
    }
   ],
   "source": [
    "graph.n_node.shape, graph.n_edge.shape, graph.nodes.shape, graph.globals.shape, graph.senders.shape, graph.receivers.shape, graph.receivers.shape "
   ]
  },
  {
   "cell_type": "code",
   "execution_count": 278,
   "id": "e229a84f-587b-433e-89ce-ec51b5ddec45",
   "metadata": {},
   "outputs": [
    {
     "data": {
      "text/plain": [
       "GraphsTuple(nodes=Array([[[112.30655 , 701.6364  , 649.7085  ],\n",
       "        [137.20975 , 557.04095 , 747.1494  ],\n",
       "        [ 99.483185, 248.12627 , 932.8447  ],\n",
       "        ...,\n",
       "        [553.4064  , 856.65936 , 302.90207 ],\n",
       "        [226.60483 , 676.7364  , 757.2367  ],\n",
       "        [677.3594  ,  66.43591 , 264.32083 ]],\n",
       "\n",
       "       [[904.3494  , 337.22562 , 234.15457 ],\n",
       "        [ 63.514877, 261.34128 , 157.26772 ],\n",
       "        [159.5823  , 473.1259  , 573.4834  ],\n",
       "        ...,\n",
       "        [552.94183 , 856.9142  , 305.17673 ],\n",
       "        [225.61792 , 677.6981  , 757.5429  ],\n",
       "        [675.90625 ,  66.14816 , 264.68692 ]],\n",
       "\n",
       "       [[605.41376 , 144.60951 , 655.7672  ],\n",
       "        [632.3991  , 406.96896 , 924.6638  ],\n",
       "        [783.7091  , 947.40924 , 166.29826 ],\n",
       "        ...,\n",
       "        [ 90.095436, 958.2254  , 405.9588  ],\n",
       "        [676.97943 , 183.01384 , 682.7778  ],\n",
       "        [244.5     , 120.537735, 187.83807 ]],\n",
       "\n",
       "       [[524.7156  , 900.19855 , 220.11913 ],\n",
       "        [657.20465 ,  12.784197, 912.2405  ],\n",
       "        [427.2985  , 130.5102  , 995.52435 ],\n",
       "        ...,\n",
       "        [477.49747 , 245.54308 , 440.8835  ],\n",
       "        [283.8461  , 705.9046  , 395.2912  ],\n",
       "        [733.169   , 614.7448  , 694.8525  ]]], dtype=float32), edges=None, receivers=Array([[   0, 4491, 3981, ...,  190,  626, 3207],\n",
       "       [   0, 4491, 3981, ...,  190,  626, 3207],\n",
       "       [   0, 4491, 3981, ...,  190,  626, 3207],\n",
       "       [   0, 4491, 3981, ...,  190,  626, 3207]], dtype=int32), senders=Array([[   0,    0,    0, ..., 4999, 4999, 4999],\n",
       "       [   0,    0,    0, ..., 4999, 4999, 4999],\n",
       "       [   0,    0,    0, ..., 4999, 4999, 4999],\n",
       "       [   0,    0,    0, ..., 4999, 4999, 4999]], dtype=int32), globals=Array([[-0.716899  , -0.20865498, -2.5713923 ,  1.0337092 ],\n",
       "       [-1.4035789 ,  1.3873734 , -0.8396519 , -1.7569369 ],\n",
       "       [ 0.1421263 , -1.7631724 , -1.6755074 ,  0.31390068],\n",
       "       [ 0.5912831 ,  0.5325395 , -0.9133108 , -1.0778497 ]],      dtype=float32), n_node=Array([[5000],\n",
       "       [5000],\n",
       "       [5000],\n",
       "       [5000]], dtype=int32), n_edge=Array([[10],\n",
       "       [10],\n",
       "       [10],\n",
       "       [10]], dtype=int32))"
      ]
     },
     "execution_count": 278,
     "metadata": {},
     "output_type": "execute_result"
    }
   ],
   "source": [
    "n_batch = 4\n",
    "graph = jraph.GraphsTuple(\n",
    "    n_node=np.array(n_batch * [[5000]]),\n",
    "    n_edge=np.array(n_batch * [[k]]),\n",
    "    nodes=x,\n",
    "    edges=None,#np.zeros(sources.shape),\n",
    "    globals=globals,\n",
    "    senders=np.array(n_batch * [sources]),\n",
    "    receivers=np.array(n_batch * [targets]),\n",
    ")\n",
    "\n",
    "graph"
   ]
  },
  {
   "cell_type": "code",
   "execution_count": 279,
   "id": "fa7cebc4-e237-4533-b46b-1a237e63ed18",
   "metadata": {},
   "outputs": [
    {
     "data": {
      "text/plain": [
       "((4, 1), (4, 1), (4, 5000, 3), (4, 4), (4, 50000), (4, 50000))"
      ]
     },
     "execution_count": 279,
     "metadata": {},
     "output_type": "execute_result"
    }
   ],
   "source": [
    "graph.n_node.shape, graph.n_edge.shape, graph.nodes.shape, graph.globals.shape, graph.senders.shape, graph.receivers.shape, "
   ]
  },
  {
   "cell_type": "code",
   "execution_count": 280,
   "id": "c5cf089e-464e-4e11-872c-d69be63881f9",
   "metadata": {},
   "outputs": [],
   "source": [
    "from models.gnn import GraphConvNet\n",
    "import flax.linen as nn\n",
    "\n",
    "class GraphWrapper(nn.Module):\n",
    "    @nn.compact\n",
    "    def __call__(self, x):\n",
    "        model = jax.vmap(GraphConvNet(\n",
    "            latent_size=6, \n",
    "            num_mlp_layers=4, \n",
    "            message_passing_steps=3))\n",
    "        return model(x)"
   ]
  },
  {
   "cell_type": "code",
   "execution_count": 290,
   "id": "d2685361-58b2-48cb-85df-1de2fa691ae7",
   "metadata": {},
   "outputs": [],
   "source": [
    "# model = GraphWrapper()\n",
    "# model.init_with_output(rng, graph)"
   ]
  },
  {
   "cell_type": "markdown",
   "id": "f81b43ec-d1f6-4d08-8fcf-7de26bbb02b3",
   "metadata": {},
   "source": [
    "## Test without batch"
   ]
  },
  {
   "cell_type": "code",
   "execution_count": 305,
   "id": "829d28b8-fb78-4aa1-b4cd-390c38862ad2",
   "metadata": {},
   "outputs": [],
   "source": [
    "class RadiusSearch:\n",
    "    \"\"\"Jittable radius graph\"\"\"\n",
    "\n",
    "    def __init__(self, box_size, cutoff, boundary_cond=\"free\", capacity_multiplier=1.5):\n",
    "\n",
    "        self.box_size = np.array(box_size)\n",
    "\n",
    "        if boundary_cond == \"free\":\n",
    "            self.displacement_fn, _ = space.free()\n",
    "        elif boundary_cond == \"periodic\":\n",
    "            self.displacement_fn, _ = space.periodic(self.box_size)\n",
    "        else:\n",
    "            raise NotImplementedError\n",
    "\n",
    "        self.cutoff = cutoff\n",
    "        self.neighbor_list_fn = partition.neighbor_list(self.displacement_fn, self.box_size, cutoff, format=partition.Sparse, dr_threshold=cutoff / 6.0, mask_self=False, capacity_multiplier=capacity_multiplier)\n",
    "\n",
    "        self.neighbor_list_fn_jit = jax.jit(self.neighbor_list_fn)\n",
    "        self.neighbor_dist_jit = self.displacement_fn\n",
    "\n",
    "        # Each time number of neighbours buffer overflows, reallocate\n",
    "        self.n_times_reallocated = 0\n",
    "\n",
    "    def init_neighbor_lst(self, pos):\n",
    "        \"\"\"Allocate initial neighbour list.\"\"\"\n",
    "        pos = np.mod(pos, self.box_size)\n",
    "        nbr = self.neighbor_list_fn.allocate(pos)\n",
    "        return nbr\n",
    "\n",
    "    def update_neighbor_lst(self, pos, nbr):\n",
    "        \"\"\"Update neighbour list. If buffer overflows, reallocate (re-jit).\"\"\"\n",
    "        pos = np.mod(pos, self.box_size)\n",
    "        nbr_update = self.neighbor_list_fn_jit.update(pos, nbr)\n",
    "\n",
    "        # If buffer overflows, update capacity of neighbours.\n",
    "        # NOTE: This reallocation strategy might be more efficient: https://github.com/jax-md/jax-md/issues/192#issuecomment-1114002995\n",
    "        if np.any(nbr_update.did_buffer_overflow):\n",
    "            nbr = self.neighbor_list_fn.allocate(pos[0], extra_capacity=2**self.n_times_reallocated)\n",
    "            self.n_times_reallocated += 1\n",
    "\n",
    "        return nbr_update, nbr\n"
   ]
  },
  {
   "cell_type": "code",
   "execution_count": 391,
   "id": "6ff47cc5-5521-4a75-9818-1a511ec77677",
   "metadata": {},
   "outputs": [],
   "source": [
    "n_batch = 4\n",
    "n_nodes = 5000\n",
    "n_pos = 3\n",
    "\n",
    "x = np.load(\"/n/holyscratch01/iaifi_lab/ccuesta/data_for_sid/halos.npy\")[:n_batch, :n_nodes,:n_pos][0]"
   ]
  },
  {
   "cell_type": "code",
   "execution_count": 392,
   "id": "e6b85983-84f0-4aa4-9a2d-c2e221aa0d0c",
   "metadata": {},
   "outputs": [],
   "source": [
    "ns = RadiusSearch(1000., 30.)\n",
    "nbr = ns.init_neighbor_lst(x)"
   ]
  },
  {
   "cell_type": "code",
   "execution_count": 393,
   "id": "3391305d-44df-4d93-8621-131c6df21c41",
   "metadata": {},
   "outputs": [],
   "source": [
    "nbr_update, nbr = ns.update_neighbor_lst(x, nbr)"
   ]
  },
  {
   "cell_type": "code",
   "execution_count": 396,
   "id": "1779ac8a-768d-4587-81ba-02ac972b05c3",
   "metadata": {},
   "outputs": [
    {
     "data": {
      "text/plain": [
       "Array([[-0.18471177]], dtype=float32)"
      ]
     },
     "execution_count": 396,
     "metadata": {},
     "output_type": "execute_result"
    }
   ],
   "source": [
    "globals"
   ]
  },
  {
   "cell_type": "code",
   "execution_count": 407,
   "id": "74499d98-118e-4e0b-bf32-60519c8aea35",
   "metadata": {},
   "outputs": [],
   "source": [
    "globals = jax.random.normal(rng, (1,4))\n",
    "graph = partition.to_jraph(nbr_update, nodes=x, edges=None, globals=globals)"
   ]
  },
  {
   "cell_type": "code",
   "execution_count": 408,
   "id": "70f75ec9-1ff8-4da7-a903-98ee31fd5908",
   "metadata": {},
   "outputs": [
    {
     "data": {
      "text/plain": [
       "((2,), (2,), (5001, 3), (2, 4), (29868,), (29868,))"
      ]
     },
     "execution_count": 408,
     "metadata": {},
     "output_type": "execute_result"
    }
   ],
   "source": [
    "graph.n_node.shape, graph.n_edge.shape, graph.nodes.shape, graph.globals.shape, graph.senders.shape, graph.receivers.shape, "
   ]
  },
  {
   "cell_type": "code",
   "execution_count": 406,
   "id": "f6ff2e86-584c-432e-9ca1-d6985ba69ecd",
   "metadata": {},
   "outputs": [
    {
     "data": {
      "text/plain": [
       "Array([[ 0.18693547,  1.0653336 , -1.5593132 , -1.5352962 ]], dtype=float32)"
      ]
     },
     "execution_count": 406,
     "metadata": {},
     "output_type": "execute_result"
    }
   ],
   "source": [
    "globals"
   ]
  },
  {
   "cell_type": "code",
   "execution_count": 399,
   "id": "3da997d4-b267-4fa5-9859-9acdae99f543",
   "metadata": {},
   "outputs": [],
   "source": [
    "# def update_edge_fn(\n",
    "#   edge_features,\n",
    "#   sender_node_features,\n",
    "#   receiver_node_features,\n",
    "#   globals_):\n",
    "#     \"\"\"Returns the update edge features.\"\"\"\n",
    "#     del sender_node_features\n",
    "#     del receiver_node_features\n",
    "#     del globals_\n",
    "#     return edge_features\n",
    "\n",
    "# def update_node_fn(\n",
    "#   node_features,\n",
    "#   aggregated_sender_edge_features,\n",
    "#   aggregated_receiver_edge_features,\n",
    "#   globals_):\n",
    "#     \"\"\"Returns the update node features.\"\"\"\n",
    "#     del aggregated_sender_edge_features\n",
    "#     del aggregated_receiver_edge_features\n",
    "#     del globals_\n",
    "#     return node_features\n",
    "\n",
    "# def update_global_fn(\n",
    "#   aggregated_node_features,\n",
    "#   aggregated_edge_features,\n",
    "#   globals_):\n",
    "#     \"\"\"Returns the global features.\"\"\"\n",
    "#     del aggregated_node_features\n",
    "#     del aggregated_edge_features\n",
    "#     return globals_\n",
    "\n",
    "# net = jraph.GraphNetwork(update_edge_fn=update_edge_fn,\n",
    "#                          update_node_fn=update_node_fn,\n",
    "#                          update_global_fn=update_global_fn)\n",
    "\n",
    "# updated_graph = net(graph)"
   ]
  },
  {
   "cell_type": "code",
   "execution_count": 400,
   "id": "f390bab4-6670-4ed7-a4a3-e38e26d040a7",
   "metadata": {},
   "outputs": [],
   "source": [
    "# model = GraphConvNet(\n",
    "#             latent_size=6, \n",
    "#             num_mlp_layers=4, \n",
    "#             message_passing_steps=3)\n",
    "\n",
    "# model.init_with_output(rng, graph)"
   ]
  },
  {
   "cell_type": "code",
   "execution_count": 409,
   "id": "a88bd8d9-5a0c-4ee1-8c19-8945c97c586c",
   "metadata": {},
   "outputs": [],
   "source": [
    "import jax.numpy as jnp\n",
    "\n",
    "# Define a three node graph, each node has an integer as its feature.\n",
    "node_features = jnp.array([[0.], [1.], [2.]])\n",
    "\n",
    "# We will construct a graph fro which there is a directed edge between each node\n",
    "# and its successor. We define this with `senders` (source nodes) and `receivers`\n",
    "# (destination nodes).\n",
    "senders = jnp.array([0, 1, 2])\n",
    "receivers = jnp.array([1, 2, 0])\n",
    "\n",
    "# You can optionally add edge attributes.\n",
    "edges = jnp.array([[5.], [6.], [7.]])\n",
    "\n",
    "# We then save the number of nodes and the number of edges.\n",
    "# This information is used to make running GNNs over multiple graphs\n",
    "# in a GraphsTuple possible.\n",
    "n_node = jnp.array([3])\n",
    "n_edge = jnp.array([3])\n",
    "\n",
    "# Optionally you can add `global` information, such as a graph label.\n",
    "\n",
    "global_context = jnp.array([[1]]) # Same feature dimensions as nodes and edges.\n",
    "graph = jraph.GraphsTuple(nodes=node_features, senders=senders, receivers=receivers,\n",
    "edges=edges, n_node=n_node, n_edge=n_edge, globals=global_context)\n"
   ]
  },
  {
   "cell_type": "code",
   "execution_count": 410,
   "id": "2d6553af-53b9-4dba-8637-1dab27ff8eda",
   "metadata": {},
   "outputs": [
    {
     "data": {
      "text/plain": [
       "((1,), (1,), (3, 1), (1, 1), (3,), (3,))"
      ]
     },
     "execution_count": 410,
     "metadata": {},
     "output_type": "execute_result"
    }
   ],
   "source": [
    "graph.n_node.shape, graph.n_edge.shape, graph.nodes.shape, graph.globals.shape, graph.senders.shape, graph.receivers.shape, "
   ]
  },
  {
   "cell_type": "code",
   "execution_count": 411,
   "id": "9d7006a4-e1e3-4989-8475-6dd8f42c3243",
   "metadata": {},
   "outputs": [
    {
     "data": {
      "text/plain": [
       "((2,), (2,), (6, 1), (2, 1), (6,), (6,))"
      ]
     },
     "execution_count": 411,
     "metadata": {},
     "output_type": "execute_result"
    }
   ],
   "source": [
    "graph_batch = jraph.batch([graph, graph])\n",
    "graph_batch.n_node.shape, graph_batch.n_edge.shape, graph_batch.nodes.shape, graph_batch.globals.shape, graph_batch.senders.shape, graph_batch.receivers.shape, "
   ]
  },
  {
   "cell_type": "code",
   "execution_count": 401,
   "id": "54bec800-c015-4ae1-aecc-6a878a1cafa5",
   "metadata": {},
   "outputs": [],
   "source": [
    "updated_graph = net(graph)"
   ]
  },
  {
   "cell_type": "code",
   "execution_count": 375,
   "id": "de97d1c0-f357-4a1b-ad20-2df727a37238",
   "metadata": {},
   "outputs": [],
   "source": [
    "updated_graph = net(graph_batch)"
   ]
  },
  {
   "cell_type": "code",
   "execution_count": null,
   "id": "1a8d6c35-7625-48de-985b-7677bc1277e7",
   "metadata": {},
   "outputs": [],
   "source": []
  }
 ],
 "metadata": {
  "kernelspec": {
   "display_name": "Python 3 (ipykernel)",
   "language": "python",
   "name": "python3"
  },
  "language_info": {
   "codemirror_mode": {
    "name": "ipython",
    "version": 3
   },
   "file_extension": ".py",
   "mimetype": "text/x-python",
   "name": "python",
   "nbconvert_exporter": "python",
   "pygments_lexer": "ipython3",
   "version": "3.9.12"
  }
 },
 "nbformat": 4,
 "nbformat_minor": 5
}
