{
 "cells": [
  {
   "cell_type": "code",
   "execution_count": 146,
   "id": "7d2f136c-5daf-4b58-b76e-f5c76c6c1405",
   "metadata": {},
   "outputs": [],
   "source": [
    "# !pip install --upgrade -q pip \n",
    "# !pip install --upgrade \"jax[cuda]\" -f https://storage.googleapis.com/jax-releases/jax_cuda_releases.html\n",
    "# !pip install --upgrade -q flax einops clu\n",
    "# !pip install --upgrade tensorflow-probability\n",
    "# !pip install --upgrade tensorflow-datasets\n",
    "# !pip install jetnet"
   ]
  },
  {
   "cell_type": "code",
   "execution_count": 354,
   "id": "caa79bb8-ce89-4c66-bf7c-4f730f5740f1",
   "metadata": {
    "tags": []
   },
   "outputs": [],
   "source": [
    "import jax\n",
    "import jax.numpy as np\n",
    "from jax import random, vmap, grad, jit\n",
    "import numpy as onp\n",
    "import matplotlib.pyplot as plt\n",
    "import flax\n",
    "import flax.linen as nn\n",
    "import optax\n",
    "import einops\n",
    "from tqdm import tqdm, trange\n",
    "import tensorflow_probability.substrates.jax as tfp\n",
    "from scipy.stats import describe\n",
    "import functools\n",
    "from functools import partial\n",
    "import tensorflow as tf\n",
    "\n",
    "# Ensure TF does not see GPU and grab all GPU memory.\n",
    "tf.config.set_visible_devices([], device_type=\"GPU\")\n",
    "import tensorflow_datasets as tfds\n",
    "\n",
    "tfd = tfp.distributions\n",
    "tfb = tfp.bijectors\n",
    "from clu import deterministic_data"
   ]
  },
  {
   "cell_type": "code",
   "execution_count": 355,
   "id": "33cc3551",
   "metadata": {},
   "outputs": [],
   "source": [
    "import sys\n",
    "sys.path.append(\"../\")\n",
    "\n",
    "from models.transformer import Transformer"
   ]
  },
  {
   "cell_type": "code",
   "execution_count": 356,
   "id": "b50a6737-68ce-4e17-bcff-554a3fdd86a2",
   "metadata": {},
   "outputs": [
    {
     "data": {
      "text/plain": [
       "(-2.0, 2.0)"
      ]
     },
     "execution_count": 356,
     "metadata": {},
     "output_type": "execute_result"
    },
    {
     "data": {
      "image/png": "[encoded data removed]",
      "text/plain": [
       "<Figure size 432x288 with 1 Axes>"
      ]
     },
     "metadata": {
      "needs_background": "light"
     },
     "output_type": "display_data"
    }
   ],
   "source": [
    "from sklearn import datasets, preprocessing\n",
    "\n",
    "n_samples = 10_000\n",
    "\n",
    "x, _ = datasets.make_moons(n_samples=n_samples, noise=.1)\n",
    "\n",
    "scaler = preprocessing.StandardScaler()\n",
    "x = scaler.fit_transform(x)\n",
    "\n",
    "plt.hist2d(x[:, 0], x[:, 1], bins=100)\n",
    "plt.xlim(-2 ,2)\n",
    "plt.ylim(-2, 2)"
   ]
  },
  {
   "cell_type": "code",
   "execution_count": 357,
   "id": "a8052b2f-898c-442f-832d-43965a6aee20",
   "metadata": {
    "tags": []
   },
   "outputs": [],
   "source": [
    "def param_count(pytree):\n",
    "    return sum(x.size for x in jax.tree_leaves(pytree))\n",
    "\n",
    "\n",
    "replicate = flax.jax_utils.replicate\n",
    "unreplicate = flax.jax_utils.unreplicate"
   ]
  },
  {
   "cell_type": "code",
   "execution_count": 384,
   "id": "f883e663-4123-4e21-a4d5-36c0c8ff6649",
   "metadata": {
    "tags": []
   },
   "outputs": [],
   "source": [
    "def create_input_iter(ds):\n",
    "    def _prepare(xs):\n",
    "        def _f(x):\n",
    "            x = x._numpy()\n",
    "            return x\n",
    "\n",
    "        return jax.tree_util.tree_map(_f, xs)\n",
    "\n",
    "    it = map(_prepare, ds)\n",
    "    it = flax.jax_utils.prefetch_to_device(it, 2)\n",
    "    return it"
   ]
  },
  {
   "cell_type": "code",
   "execution_count": 385,
   "id": "bf4cc275-9438-4bcb-a05d-d41a3f1c8f4d",
   "metadata": {
    "tags": []
   },
   "outputs": [],
   "source": [
    "def gamma(ts, gamma_min=-6, gamma_max=6):\n",
    "    return gamma_max + (gamma_min - gamma_max) * ts\n",
    "\n",
    "\n",
    "def sigma2(gamma):\n",
    "    return jax.nn.sigmoid(-gamma)\n",
    "\n",
    "\n",
    "def alpha(gamma):\n",
    "    return np.sqrt(1 - sigma2(gamma))"
   ]
  },
  {
   "cell_type": "code",
   "execution_count": 386,
   "id": "8c12fb1b-c7ea-4323-9d80-f7604422deee",
   "metadata": {
    "tags": []
   },
   "outputs": [],
   "source": [
    "def variance_preserving_map(x, gamma, eps):\n",
    "    a = alpha(gamma)\n",
    "    var = sigma2(gamma)\n",
    "\n",
    "    x_shape = x.shape\n",
    "\n",
    "    # x = x.reshape(x.shape[0], -1)\n",
    "    # eps = eps.reshape(eps.shape[0], -1)\n",
    "\n",
    "    noise_augmented = a * x + np.sqrt(var) * eps\n",
    "\n",
    "    return noise_augmented#.reshape(x_shape)"
   ]
  },
  {
   "cell_type": "code",
   "execution_count": 387,
   "id": "ae197fd0-a7da-4533-abe7-88e36c08a9e1",
   "metadata": {
    "tags": []
   },
   "outputs": [],
   "source": [
    "def get_timestep_embedding(timesteps, embedding_dim: int, dtype=np.float32):\n",
    "    \"\"\"Build sinusoidal embeddings (from Fairseq).\"\"\"\n",
    "\n",
    "    assert len(timesteps.shape) == 1\n",
    "    timesteps *= 1000\n",
    "\n",
    "    half_dim = embedding_dim // 2\n",
    "    emb = np.log(10_000) / (half_dim - 1)\n",
    "    emb = np.exp(np.arange(half_dim, dtype=dtype) * -emb)\n",
    "    emb = timesteps.astype(dtype)[:, None] * emb[None, :]\n",
    "    emb = np.concatenate([np.sin(emb), np.cos(emb)], axis=1)\n",
    "    if embedding_dim % 2 == 1:  # zero pad\n",
    "        emb = jax.lax.pad(emb, dtype(0), ((0, 0, 0), (0, 1, 0)))\n",
    "    assert emb.shape == (timesteps.shape[0], embedding_dim)\n",
    "    return emb"
   ]
  },
  {
   "cell_type": "code",
   "execution_count": 388,
   "id": "5fa4166f-b9cd-45e2-be95-cc5bdf90d713",
   "metadata": {},
   "outputs": [],
   "source": [
    "event_shape = (2,)"
   ]
  },
  {
   "cell_type": "code",
   "execution_count": 389,
   "id": "be753d2c-01fe-460a-8599-1ee5a0fb9a3a",
   "metadata": {
    "tags": []
   },
   "outputs": [],
   "source": [
    "class ScoreNet(nn.Module):\n",
    "    embedding_dim: int = 128\n",
    "    n_layers: int = 5\n",
    "    \n",
    "    @nn.compact\n",
    "    def __call__(self, z, g_t):\n",
    "\n",
    "        n_embd = self.embedding_dim\n",
    "\n",
    "        t = g_t\n",
    "        assert np.isscalar(t) or len(t.shape) == 0 or len(t.shape) == 1\n",
    "        t = t * np.ones(z.shape[0])  # ensure t is a vector\n",
    "        \n",
    "        temb = get_timestep_embedding(t, n_embd)\n",
    "        \n",
    "        h = np.concatenate([z, temb], axis=-1)\n",
    "        \n",
    "        for _ in range(self.n_layers):\n",
    "            h = nn.relu(nn.Dense(n_embd)(h))\n",
    "        h = nn.Dense(event_shape[0])(h)\n",
    "        \n",
    "        return z + h"
   ]
  },
  {
   "cell_type": "code",
   "execution_count": 364,
   "id": "3a259adc-258b-4592-901c-0315174e9dfe",
   "metadata": {
    "tags": []
   },
   "outputs": [],
   "source": [
    "class VDM(nn.Module):\n",
    "    timesteps: int = 1000\n",
    "    gamma_min: float = -3.0  # -13.3\n",
    "    gamma_max: float = 3.0  # 5.0\n",
    "    embedding_dim: int = 256\n",
    "    antithetic_time_sampling: bool = True\n",
    "\n",
    "    def setup(self):\n",
    "        self.gamma = partial(gamma, gamma_min=self.gamma_min, gamma_max=self.gamma_max)\n",
    "        self.score_model = ScoreNet(embedding_dim=self.embedding_dim)\n",
    "\n",
    "    def gammat(self, t):\n",
    "        return self.gamma(t)\n",
    "\n",
    "    def recon_loss(self, x):\n",
    "        \"\"\"The reconstruction loss measures the gap in the first step.\n",
    "\n",
    "        We measure the gap from encoding the image to z_0 and back again.\"\"\"\n",
    "        # ## Reconsturction loss 2\n",
    "        g_0 = self.gamma(0.0)\n",
    "        eps_0 = random.normal(self.make_rng(\"sample\"), shape=x.shape)\n",
    "        z_0 = variance_preserving_map(x, g_0, eps_0)\n",
    "        z_0_rescaled = z_0 / alpha(g_0)\n",
    "        loss_recon = -tfd.Normal(z_0_rescaled, scale=0.1).log_prob(x)\n",
    "        return loss_recon\n",
    "\n",
    "    def latent_loss(self, f):\n",
    "        \"\"\"The latent loss measures the gap in the last step, this is the KL\n",
    "        divergence between the final sample from the forward process and starting\n",
    "        distribution for the reverse process, here taken to be a N(0,1).\"\"\"\n",
    "        # KL z1 with N(0,1) prior\n",
    "        g_1 = self.gamma(1.0)\n",
    "        var_1 = sigma2(g_1)\n",
    "        mean1_sqr = (1.0 - var_1) * np.square(f)\n",
    "        loss_klz = 0.5 * np.sum(mean1_sqr + var_1 - np.log(var_1) - 1.0, axis=-1)\n",
    "        return loss_klz\n",
    "\n",
    "    def diffusion_loss(self, t, f):\n",
    "        # sample z_t\n",
    "        g_t = self.gamma(t)\n",
    "        eps = jax.random.normal(self.make_rng(\"sample\"), shape=f.shape)\n",
    "        z_t = variance_preserving_map(f, g_t[:, None], eps)\n",
    "\n",
    "        # compute predicted noise\n",
    "        eps_hat = self.score_model(z_t, g_t)\n",
    "\n",
    "        # compute MSE of predicted noise\n",
    "        loss_diff_mse = np.sum(np.square(eps - eps_hat), axis=-1)  # Sum over number of particles (set cardinality) as well as properties\n",
    "\n",
    "        # loss for finite depth T, i.e. discrete time\n",
    "        T = self.timesteps\n",
    "        s = t - (1.0 / T)\n",
    "        g_s = self.gamma(s)\n",
    "\n",
    "        loss_diff = 0.5 * T * np.expm1(g_s - g_t) * loss_diff_mse\n",
    "        return loss_diff\n",
    "\n",
    "    def __call__(self, images, sample_shape=()):\n",
    "\n",
    "        x = images\n",
    "        n_batch = images.shape[0]\n",
    "\n",
    "        # 1. RECONSTRUCTION LOSS\n",
    "        # add noise and reconstruct\n",
    "        loss_recon = self.recon_loss(x)\n",
    "\n",
    "        # 2. LATENT LOSS\n",
    "        # KL z1 with N(0,1) prior\n",
    "        loss_klz = self.latent_loss(x)\n",
    "\n",
    "        # 3. DIFFUSION LOSS\n",
    "        # sample time steps\n",
    "        rng1 = self.make_rng(\"sample\")\n",
    "\n",
    "        if self.antithetic_time_sampling:\n",
    "            t0 = jax.random.uniform(rng1)\n",
    "            t = np.mod(t0 + np.arange(0.0, 1.0, step=1.0 / n_batch), 1.0)\n",
    "        else:\n",
    "            t = jax.random.uniform(rng1, shape=(n_batch,))\n",
    "\n",
    "        # discretize time steps if we're working with discrete time\n",
    "        T = self.timesteps\n",
    "        t = np.ceil(t * T) / T\n",
    "\n",
    "        loss_diff = self.diffusion_loss(t, x)\n",
    "\n",
    "        # End of diffusion loss computation\n",
    "        return (loss_diff, loss_klz, loss_recon)\n",
    "\n",
    "    def sample_step(self, rng, i, T, z_t, guidance_weight=0.0):\n",
    "        rng_body = jax.random.fold_in(rng, i)\n",
    "        eps = random.normal(rng_body, z_t.shape)\n",
    "        t = (T - i) / T\n",
    "        s = (T - i - 1) / T\n",
    "\n",
    "        g_s = self.gamma(s)\n",
    "        g_t = self.gamma(t)\n",
    "\n",
    "        eps_hat_uncond = self.score_model(\n",
    "            z_t,\n",
    "            g_t * np.ones((z_t.shape[0],), z_t.dtype),\n",
    "        )\n",
    "        \n",
    "        eps_hat = eps_hat_uncond\n",
    "\n",
    "        a = nn.sigmoid(g_s)\n",
    "        b = nn.sigmoid(g_t)\n",
    "        c = -np.expm1(g_t - g_s)\n",
    "        sigma_t = np.sqrt(sigma2(g_t))\n",
    "        z_s = np.sqrt(a / b) * (z_t - sigma_t * c * eps_hat) + np.sqrt((1.0 - a) * c) * eps\n",
    "        return z_s\n",
    "\n",
    "    def recon(self, z, t, conditioning):\n",
    "        g_t = self.gamma(t)[:, None]\n",
    "        cond = conditioning\n",
    "        eps_hat = self.score_model(z, g_t, cond)\n",
    "        sigmat = np.sqrt(sigma2(g_t))\n",
    "        alphat = np.sqrt(1 - sigmat**2)\n",
    "        xhat = (z - sigmat * eps_hat) / alphat\n",
    "        return (eps_hat, xhat)"
   ]
  },
  {
   "cell_type": "code",
   "execution_count": 368,
   "id": "ae0e59c7-e08b-47e7-8b94-30fd0e2c2546",
   "metadata": {
    "tags": []
   },
   "outputs": [],
   "source": [
    "def generate(vdm, params, rng, shape, guidance_weight=0.0):\n",
    "    # first generate latent\n",
    "    rng, spl = random.split(rng)\n",
    "\n",
    "    zt = random.normal(spl, shape + event_shape)\n",
    "    \n",
    "    def body_fn(i, z_t):\n",
    "        return vdm.apply(params, rng, i, vdm.timesteps, z_t, guidance_weight=guidance_weight, method=vdm.sample_step)\n",
    "\n",
    "    z0 = jax.lax.fori_loop(lower=0, upper=vdm.timesteps, body_fun=body_fn, init_val=zt)\n",
    "    g0 = vdm.apply(params, 0.0, method=vdm.gammat)\n",
    "    var0 = sigma2(g0)\n",
    "    z0_rescaled = z0 / np.sqrt(1.0 - var0)\n",
    "    return tfd.Normal(z0_rescaled, scale=0.1)"
   ]
  },
  {
   "cell_type": "code",
   "execution_count": 369,
   "id": "07a22a68-eabd-4d1e-8ad0-cbddb268e2b6",
   "metadata": {
    "tags": []
   },
   "outputs": [
    {
     "name": "stdout",
     "output_type": "stream",
     "text": [
      "Params: 84,368\n"
     ]
    },
    {
     "name": "stderr",
     "output_type": "stream",
     "text": [
      "/tmp/ipykernel_6227/164132206.py:2: FutureWarning: jax.tree_leaves is deprecated, and will be removed in a future release. Use jax.tree_util.tree_leaves instead.\n",
      "  return sum(x.size for x in jax.tree_leaves(pytree))\n"
     ]
    }
   ],
   "source": [
    "vdm = VDM(gamma_min=-5.0, gamma_max=1.0, embedding_dim=129, timesteps=1000)\n",
    "\n",
    "rng = random.PRNGKey(0)\n",
    "\n",
    "batch = np.ones((64, *event_shape))\n",
    "conditioning = np.ones((64, 1))\n",
    "\n",
    "out, params = vdm.init_with_output({\"sample\": rng, \"params\": rng}, batch)\n",
    "\n",
    "print(f\"Params: {param_count(params):,}\")"
   ]
  },
  {
   "cell_type": "code",
   "execution_count": 370,
   "id": "8ec36bfa",
   "metadata": {},
   "outputs": [],
   "source": [
    "conditioning = np.ones((8, 1))\n",
    "generate(vdm, params, rng, (8,), guidance_weight=0.0);"
   ]
  },
  {
   "cell_type": "code",
   "execution_count": 371,
   "id": "954df98e-1f83-4fab-8ce8-dd18fb0106f4",
   "metadata": {
    "tags": []
   },
   "outputs": [],
   "source": [
    "from typing import Any\n",
    "\n",
    "\n",
    "@flax.struct.dataclass\n",
    "class Store:\n",
    "    params: np.ndarray\n",
    "    state: Any\n",
    "    rng: Any\n",
    "    step: int = 0\n",
    "\n",
    "\n",
    "TSTEPS = 10_000 // jax.device_count()\n",
    "\n",
    "# we'll use adamw with some linear warmup and a cosine decay.\n",
    "opt = optax.adamw(3e-4, weight_decay=1e-4)\n",
    "\n",
    "store = Store(params, opt.init(params), rng, 0)\n",
    "pstore = replicate(store)"
   ]
  },
  {
   "cell_type": "code",
   "execution_count": 372,
   "id": "ae30408c-84f7-4229-8f72-e625ab4a02ca",
   "metadata": {
    "tags": []
   },
   "outputs": [],
   "source": [
    "def loss(params, rng, im, beta=1.0):\n",
    "    l1, l2, l3 = vdm.apply(params, im.astype(\"float\"), rngs={\"sample\": rng})\n",
    "    return (l1.mean() / beta + l2.mean() / beta + l3.mean())"
   ]
  },
  {
   "cell_type": "code",
   "execution_count": 373,
   "id": "5770293a-98a5-404c-aa97-dbb17d1ac641",
   "metadata": {},
   "outputs": [
    {
     "name": "stderr",
     "output_type": "stream",
     "text": [
      "/tmp/ipykernel_6227/902780196.py:2: UserWarning: Explicitly requested dtype float requested in astype is not available, and will be truncated to dtype float32. To enable more dtypes, set the jax_enable_x64 configuration option or the JAX_ENABLE_X64 shell environment variable. See https://github.com/google/jax#current-gotchas for more.\n",
      "  l1, l2, l3 = vdm.apply(params, im.astype(\"float\"), rngs={\"sample\": rng})\n"
     ]
    },
    {
     "data": {
      "text/plain": [
       "Array(14.781773, dtype=float32)"
      ]
     },
     "execution_count": 373,
     "metadata": {},
     "output_type": "execute_result"
    }
   ],
   "source": [
    "loss(params, rng, np.array(x[:64]))"
   ]
  },
  {
   "cell_type": "code",
   "execution_count": 374,
   "id": "e51b9d6f-3c95-48d8-b893-1aba3255bc20",
   "metadata": {
    "tags": []
   },
   "outputs": [],
   "source": [
    "import functools\n",
    "\n",
    "\n",
    "@functools.partial(jax.pmap, axis_name=\"batch\")\n",
    "def step(store, batch):\n",
    "    rng, spl = random.split(store.rng)\n",
    "    im, lb = batch\n",
    "    out, grads = jax.value_and_grad(loss)(store.params, spl, im)\n",
    "    grads = jax.lax.pmean(grads, \"batch\")\n",
    "    updates, state = opt.update(grads, store.state, store.params)\n",
    "    params = optax.apply_updates(store.params, updates)\n",
    "\n",
    "    return (store.replace(params=params, state=state, rng=rng, step=store.step + 1), jax.lax.pmean(out, \"batch\"))"
   ]
  },
  {
   "cell_type": "code",
   "execution_count": 375,
   "id": "09fd5fda-7d87-4041-8515-32758fccc28f",
   "metadata": {
    "tags": []
   },
   "outputs": [],
   "source": [
    "vals = []"
   ]
  },
  {
   "cell_type": "code",
   "execution_count": 376,
   "id": "f94cf3fc-57da-44bc-9645-70a410996613",
   "metadata": {},
   "outputs": [
    {
     "data": {
      "text/plain": [
       "(10000, 2)"
      ]
     },
     "execution_count": 376,
     "metadata": {},
     "output_type": "execute_result"
    }
   ],
   "source": [
    "x.shape"
   ]
  },
  {
   "cell_type": "code",
   "execution_count": 377,
   "id": "8fa67949",
   "metadata": {},
   "outputs": [],
   "source": [
    "import tensorflow as tf\n",
    "import tensorflow_datasets as tfds\n",
    "\n",
    "batch_size = 32\n",
    "n_train = len(x)\n",
    "\n",
    "particle_data = np.array(x)\n",
    "jet_data = np.zeros((x.shape[0], 1))\n",
    "\n",
    "train_ds = tf.data.Dataset.from_tensor_slices((particle_data, jet_data))\n",
    "train_ds = train_ds.cache()\n",
    "train_ds = train_ds.repeat()\n",
    "\n",
    "batch_dims=[jax.local_device_count(), batch_size // jax.device_count()]\n",
    "\n",
    "for batch_size in reversed(batch_dims):\n",
    "      train_ds = train_ds.batch(batch_size, drop_remainder=False)\n",
    "\n",
    "train_ds = train_ds.shuffle(n_train)\n",
    "train_df = create_input_iter(train_ds)"
   ]
  },
  {
   "cell_type": "code",
   "execution_count": 378,
   "id": "c0be05b8-fdce-4c5c-baac-7721722a63ed",
   "metadata": {
    "tags": []
   },
   "outputs": [
    {
     "name": "stderr",
     "output_type": "stream",
     "text": [
      "  0%|          | 0/10000 [00:00<?, ?it/s]/tmp/ipykernel_6227/902780196.py:2: UserWarning: Explicitly requested dtype float requested in astype is not available, and will be truncated to dtype float32. To enable more dtypes, set the jax_enable_x64 configuration option or the JAX_ENABLE_X64 shell environment variable. See https://github.com/google/jax#current-gotchas for more.\n",
      "  l1, l2, l3 = vdm.apply(params, im.astype(\"float\"), rngs={\"sample\": rng})\n",
      "100%|██████████| 10000/10000 [00:27<00:00, 366.91it/s, val=15.7607155]\n"
     ]
    }
   ],
   "source": [
    "batches = create_input_iter(train_ds)\n",
    "\n",
    "with trange(TSTEPS) as t:\n",
    "    for i in t:\n",
    "        pstore, val = step(pstore, next(batches))\n",
    "        v = unreplicate(val)\n",
    "        t.set_postfix(val=v)\n",
    "        vals.append(v)"
   ]
  },
  {
   "cell_type": "code",
   "execution_count": 379,
   "id": "9c9a0ed7-1f4b-40d6-bba9-cfbab250c6d0",
   "metadata": {
    "tags": []
   },
   "outputs": [
    {
     "data": {
      "text/plain": [
       "[<matplotlib.lines.Line2D at 0x7fd387ef39d0>]"
      ]
     },
     "execution_count": 379,
     "metadata": {},
     "output_type": "execute_result"
    },
    {
     "data": {
      "image/png": "[encoded data removed]",
      "text/plain": [
       "<Figure size 432x288 with 1 Axes>"
      ]
     },
     "metadata": {
      "needs_background": "light"
     },
     "output_type": "display_data"
    }
   ],
   "source": [
    "plt.plot(vals)"
   ]
  },
  {
   "cell_type": "code",
   "execution_count": 380,
   "id": "9eb69845-66d3-4a95-a2f6-848e864e5063",
   "metadata": {},
   "outputs": [
    {
     "name": "stderr",
     "output_type": "stream",
     "text": [
      "/tmp/ipykernel_6227/902780196.py:2: UserWarning: Explicitly requested dtype float requested in astype is not available, and will be truncated to dtype float32. To enable more dtypes, set the jax_enable_x64 configuration option or the JAX_ENABLE_X64 shell environment variable. See https://github.com/google/jax#current-gotchas for more.\n",
      "  l1, l2, l3 = vdm.apply(params, im.astype(\"float\"), rngs={\"sample\": rng})\n"
     ]
    },
    {
     "data": {
      "text/plain": [
       "Array(14.428448, dtype=float32)"
      ]
     },
     "execution_count": 380,
     "metadata": {},
     "output_type": "execute_result"
    }
   ],
   "source": [
    "loss(unreplicate(pstore).params, rng, particle_data[:64])"
   ]
  },
  {
   "cell_type": "code",
   "execution_count": 381,
   "id": "46d7df4f",
   "metadata": {},
   "outputs": [],
   "source": [
    "n_samples = 1000\n",
    "x_samples = generate(vdm, unreplicate(pstore).params, rng, (n_samples,))"
   ]
  },
  {
   "cell_type": "code",
   "execution_count": 383,
   "id": "f30f11db-1887-4341-a0b8-da59e570cdd0",
   "metadata": {},
   "outputs": [
    {
     "data": {
      "text/plain": [
       "<matplotlib.collections.PathCollection at 0x7fd38870e7f0>"
      ]
     },
     "execution_count": 383,
     "metadata": {},
     "output_type": "execute_result"
    },
    {
     "data": {
      "image/png": "[encoded data removed]",
      "text/plain": [
       "<Figure size 432x288 with 1 Axes>"
      ]
     },
     "metadata": {
      "needs_background": "light"
     },
     "output_type": "display_data"
    }
   ],
   "source": [
    "plt.scatter(*x_samples.mean().T)"
   ]
  },
  {
   "cell_type": "code",
   "execution_count": 277,
   "id": "a7c36dab",
   "metadata": {},
   "outputs": [
    {
     "name": "stderr",
     "output_type": "stream",
     "text": [
      "  0%|          | 0/16 [00:00<?, ?it/s]\n"
     ]
    },
    {
     "ename": "IndexError",
     "evalue": "Too many indices for array: 3 non-None/Ellipsis indices for dim 2.",
     "output_type": "error",
     "traceback": [
      "\u001b[0;31m---------------------------------------------------------------------------\u001b[0m",
      "\u001b[0;31mIndexError\u001b[0m                                Traceback (most recent call last)",
      "Input \u001b[0;32mIn [277]\u001b[0m, in \u001b[0;36m<cell line: 6>\u001b[0;34m()\u001b[0m\n\u001b[1;32m      6\u001b[0m \u001b[38;5;28;01mfor\u001b[39;00m i \u001b[38;5;129;01min\u001b[39;00m tqdm(\u001b[38;5;28mrange\u001b[39m(\u001b[38;5;241m16\u001b[39m)):\n\u001b[1;32m      8\u001b[0m     ax \u001b[38;5;241m=\u001b[39m fig\u001b[38;5;241m.\u001b[39madd_subplot(gs[i])\n\u001b[0;32m---> 10\u001b[0m     ax\u001b[38;5;241m.\u001b[39mscatter(\u001b[38;5;241m*\u001b[39m\u001b[43mx_samples\u001b[49m\u001b[43m[\u001b[49m\u001b[43mi\u001b[49m\u001b[43m,\u001b[49m\u001b[43m \u001b[49m\u001b[43m:\u001b[49m\u001b[43m,\u001b[49m\u001b[43m \u001b[49m\u001b[43m:\u001b[49m\u001b[38;5;241;43m2\u001b[39;49m\u001b[43m]\u001b[49m\u001b[38;5;241m.\u001b[39mT, s\u001b[38;5;241m=\u001b[39m\u001b[38;5;241m1000\u001b[39m \u001b[38;5;241m*\u001b[39m np\u001b[38;5;241m.\u001b[39mabs(x_samples[i, :, \u001b[38;5;241m2\u001b[39m]), alpha\u001b[38;5;241m=\u001b[39m\u001b[38;5;241m0.5\u001b[39m)  \u001b[38;5;66;03m# Hacky np.abs!!\u001b[39;00m\n\u001b[1;32m     12\u001b[0m     ax\u001b[38;5;241m.\u001b[39mset_xlabel(\u001b[38;5;124mr\u001b[39m\u001b[38;5;124m\"\u001b[39m\u001b[38;5;124m$\u001b[39m\u001b[38;5;124m\\\u001b[39m\u001b[38;5;124meta$\u001b[39m\u001b[38;5;124m\"\u001b[39m)\n\u001b[1;32m     13\u001b[0m     ax\u001b[38;5;241m.\u001b[39mset_ylabel(\u001b[38;5;124mr\u001b[39m\u001b[38;5;124m\"\u001b[39m\u001b[38;5;124m$\u001b[39m\u001b[38;5;124m\\\u001b[39m\u001b[38;5;124mphi$\u001b[39m\u001b[38;5;124m\"\u001b[39m)\n",
      "File \u001b[0;32m/usr/local/lib/python3.9/dist-packages/jax/_src/array.py:261\u001b[0m, in \u001b[0;36mArrayImpl.__getitem__\u001b[0;34m(self, idx)\u001b[0m\n\u001b[1;32m    258\u001b[0m \u001b[38;5;28mself\u001b[39m\u001b[38;5;241m.\u001b[39m_check_if_deleted()\n\u001b[1;32m    260\u001b[0m \u001b[38;5;28;01mif\u001b[39;00m dispatch\u001b[38;5;241m.\u001b[39mis_single_device_sharding(\u001b[38;5;28mself\u001b[39m\u001b[38;5;241m.\u001b[39msharding) \u001b[38;5;129;01mor\u001b[39;00m \u001b[38;5;28mself\u001b[39m\u001b[38;5;241m.\u001b[39mis_fully_replicated:\n\u001b[0;32m--> 261\u001b[0m   \u001b[38;5;28;01mreturn\u001b[39;00m \u001b[43mlax_numpy\u001b[49m\u001b[38;5;241;43m.\u001b[39;49m\u001b[43m_rewriting_take\u001b[49m\u001b[43m(\u001b[49m\u001b[38;5;28;43mself\u001b[39;49m\u001b[43m,\u001b[49m\u001b[43m \u001b[49m\u001b[43midx\u001b[49m\u001b[43m)\u001b[49m\n\u001b[1;32m    262\u001b[0m \u001b[38;5;66;03m# TODO(yashkatariya): Make it work for other Shardings too wherever its\u001b[39;00m\n\u001b[1;32m    263\u001b[0m \u001b[38;5;66;03m# possible to not do data movement.\u001b[39;00m\n\u001b[1;32m    264\u001b[0m \u001b[38;5;28;01melif\u001b[39;00m \u001b[38;5;28misinstance\u001b[39m(\u001b[38;5;28mself\u001b[39m\u001b[38;5;241m.\u001b[39msharding, PmapSharding):\n",
      "File \u001b[0;32m/usr/local/lib/python3.9/dist-packages/jax/_src/numpy/lax_numpy.py:3828\u001b[0m, in \u001b[0;36m_rewriting_take\u001b[0;34m(arr, idx, indices_are_sorted, unique_indices, mode, fill_value)\u001b[0m\n\u001b[1;32m   3825\u001b[0m       \u001b[38;5;28;01mreturn\u001b[39;00m lax\u001b[38;5;241m.\u001b[39mdynamic_index_in_dim(arr, idx, keepdims\u001b[38;5;241m=\u001b[39m\u001b[38;5;28;01mFalse\u001b[39;00m)\n\u001b[1;32m   3827\u001b[0m treedef, static_idx, dynamic_idx \u001b[38;5;241m=\u001b[39m _split_index_for_jit(idx, arr\u001b[38;5;241m.\u001b[39mshape)\n\u001b[0;32m-> 3828\u001b[0m \u001b[38;5;28;01mreturn\u001b[39;00m \u001b[43m_gather\u001b[49m\u001b[43m(\u001b[49m\u001b[43marr\u001b[49m\u001b[43m,\u001b[49m\u001b[43m \u001b[49m\u001b[43mtreedef\u001b[49m\u001b[43m,\u001b[49m\u001b[43m \u001b[49m\u001b[43mstatic_idx\u001b[49m\u001b[43m,\u001b[49m\u001b[43m \u001b[49m\u001b[43mdynamic_idx\u001b[49m\u001b[43m,\u001b[49m\u001b[43m \u001b[49m\u001b[43mindices_are_sorted\u001b[49m\u001b[43m,\u001b[49m\n\u001b[1;32m   3829\u001b[0m \u001b[43m               \u001b[49m\u001b[43munique_indices\u001b[49m\u001b[43m,\u001b[49m\u001b[43m \u001b[49m\u001b[43mmode\u001b[49m\u001b[43m,\u001b[49m\u001b[43m \u001b[49m\u001b[43mfill_value\u001b[49m\u001b[43m)\u001b[49m\n",
      "File \u001b[0;32m/usr/local/lib/python3.9/dist-packages/jax/_src/numpy/lax_numpy.py:3837\u001b[0m, in \u001b[0;36m_gather\u001b[0;34m(arr, treedef, static_idx, dynamic_idx, indices_are_sorted, unique_indices, mode, fill_value)\u001b[0m\n\u001b[1;32m   3834\u001b[0m \u001b[38;5;28;01mdef\u001b[39;00m \u001b[38;5;21m_gather\u001b[39m(arr, treedef, static_idx, dynamic_idx, indices_are_sorted,\n\u001b[1;32m   3835\u001b[0m             unique_indices, mode, fill_value):\n\u001b[1;32m   3836\u001b[0m   idx \u001b[38;5;241m=\u001b[39m _merge_static_and_dynamic_indices(treedef, static_idx, dynamic_idx)\n\u001b[0;32m-> 3837\u001b[0m   indexer \u001b[38;5;241m=\u001b[39m \u001b[43m_index_to_gather\u001b[49m\u001b[43m(\u001b[49m\u001b[43mshape\u001b[49m\u001b[43m(\u001b[49m\u001b[43marr\u001b[49m\u001b[43m)\u001b[49m\u001b[43m,\u001b[49m\u001b[43m \u001b[49m\u001b[43midx\u001b[49m\u001b[43m)\u001b[49m  \u001b[38;5;66;03m# shared with _scatter_update\u001b[39;00m\n\u001b[1;32m   3838\u001b[0m   y \u001b[38;5;241m=\u001b[39m arr\n\u001b[1;32m   3840\u001b[0m   \u001b[38;5;28;01mif\u001b[39;00m fill_value \u001b[38;5;129;01mis\u001b[39;00m \u001b[38;5;129;01mnot\u001b[39;00m \u001b[38;5;28;01mNone\u001b[39;00m:\n",
      "File \u001b[0;32m/usr/local/lib/python3.9/dist-packages/jax/_src/numpy/lax_numpy.py:3938\u001b[0m, in \u001b[0;36m_index_to_gather\u001b[0;34m(x_shape, idx, normalize_indices)\u001b[0m\n\u001b[1;32m   3936\u001b[0m \u001b[38;5;28;01mdef\u001b[39;00m \u001b[38;5;21m_index_to_gather\u001b[39m(x_shape, idx, normalize_indices\u001b[38;5;241m=\u001b[39m\u001b[38;5;28;01mTrue\u001b[39;00m):\n\u001b[1;32m   3937\u001b[0m   \u001b[38;5;66;03m# Remove ellipses and add trailing slice(None)s.\u001b[39;00m\n\u001b[0;32m-> 3938\u001b[0m   idx \u001b[38;5;241m=\u001b[39m \u001b[43m_canonicalize_tuple_index\u001b[49m\u001b[43m(\u001b[49m\u001b[38;5;28;43mlen\u001b[39;49m\u001b[43m(\u001b[49m\u001b[43mx_shape\u001b[49m\u001b[43m)\u001b[49m\u001b[43m,\u001b[49m\u001b[43m \u001b[49m\u001b[43midx\u001b[49m\u001b[43m)\u001b[49m\n\u001b[1;32m   3940\u001b[0m   \u001b[38;5;66;03m# Check for advanced indexing:\u001b[39;00m\n\u001b[1;32m   3941\u001b[0m   \u001b[38;5;66;03m# https://docs.scipy.org/doc/numpy/reference/arrays.indexing.html#advanced-indexing\u001b[39;00m\n\u001b[1;32m   3942\u001b[0m \n\u001b[1;32m   3943\u001b[0m   \u001b[38;5;66;03m# Do the advanced indexing axes appear contiguously? If not, NumPy semantics\u001b[39;00m\n\u001b[1;32m   3944\u001b[0m   \u001b[38;5;66;03m# move the advanced axes to the front.\u001b[39;00m\n\u001b[1;32m   3945\u001b[0m   advanced_axes_are_contiguous \u001b[38;5;241m=\u001b[39m \u001b[38;5;28;01mFalse\u001b[39;00m\n",
      "File \u001b[0;32m/usr/local/lib/python3.9/dist-packages/jax/_src/numpy/lax_numpy.py:4271\u001b[0m, in \u001b[0;36m_canonicalize_tuple_index\u001b[0;34m(arr_ndim, idx, array_name)\u001b[0m\n\u001b[1;32m   4269\u001b[0m len_without_none \u001b[38;5;241m=\u001b[39m _sum(\u001b[38;5;241m1\u001b[39m \u001b[38;5;28;01mfor\u001b[39;00m e \u001b[38;5;129;01min\u001b[39;00m idx \u001b[38;5;28;01mif\u001b[39;00m e \u001b[38;5;129;01mis\u001b[39;00m \u001b[38;5;129;01mnot\u001b[39;00m \u001b[38;5;28;01mNone\u001b[39;00m \u001b[38;5;129;01mand\u001b[39;00m e \u001b[38;5;129;01mis\u001b[39;00m \u001b[38;5;129;01mnot\u001b[39;00m \u001b[38;5;28mEllipsis\u001b[39m)\n\u001b[1;32m   4270\u001b[0m \u001b[38;5;28;01mif\u001b[39;00m len_without_none \u001b[38;5;241m>\u001b[39m arr_ndim:\n\u001b[0;32m-> 4271\u001b[0m   \u001b[38;5;28;01mraise\u001b[39;00m \u001b[38;5;167;01mIndexError\u001b[39;00m(\n\u001b[1;32m   4272\u001b[0m       \u001b[38;5;124mf\u001b[39m\u001b[38;5;124m\"\u001b[39m\u001b[38;5;124mToo many indices for \u001b[39m\u001b[38;5;132;01m{\u001b[39;00marray_name\u001b[38;5;132;01m}\u001b[39;00m\u001b[38;5;124m: \u001b[39m\u001b[38;5;132;01m{\u001b[39;00mlen_without_none\u001b[38;5;132;01m}\u001b[39;00m\u001b[38;5;124m \u001b[39m\u001b[38;5;124m\"\u001b[39m\n\u001b[1;32m   4273\u001b[0m       \u001b[38;5;124mf\u001b[39m\u001b[38;5;124m\"\u001b[39m\u001b[38;5;124mnon-None/Ellipsis indices for dim \u001b[39m\u001b[38;5;132;01m{\u001b[39;00marr_ndim\u001b[38;5;132;01m}\u001b[39;00m\u001b[38;5;124m.\u001b[39m\u001b[38;5;124m\"\u001b[39m)\n\u001b[1;32m   4274\u001b[0m ellipses \u001b[38;5;241m=\u001b[39m (i \u001b[38;5;28;01mfor\u001b[39;00m i, elt \u001b[38;5;129;01min\u001b[39;00m \u001b[38;5;28menumerate\u001b[39m(idx) \u001b[38;5;28;01mif\u001b[39;00m elt \u001b[38;5;129;01mis\u001b[39;00m \u001b[38;5;28mEllipsis\u001b[39m)\n\u001b[1;32m   4275\u001b[0m ellipsis_index \u001b[38;5;241m=\u001b[39m \u001b[38;5;28mnext\u001b[39m(ellipses, \u001b[38;5;28;01mNone\u001b[39;00m)\n",
      "\u001b[0;31mIndexError\u001b[0m: Too many indices for array: 3 non-None/Ellipsis indices for dim 2."
     ]
    },
    {
     "data": {
      "image/png": "[encoded data removed]",
      "text/plain": [
       "<Figure size 1152x1152 with 1 Axes>"
      ]
     },
     "metadata": {
      "needs_background": "light"
     },
     "output_type": "display_data"
    }
   ],
   "source": [
    "from matplotlib.gridspec import GridSpec\n",
    "\n",
    "fig = plt.figure(figsize=(16, 16))\n",
    "gs = GridSpec(4, 4)\n",
    "\n",
    "for i in tqdm(range(16)):\n",
    "    \n",
    "    ax = fig.add_subplot(gs[i])\n",
    "    \n",
    "    ax.scatter(*x_samples[i, :, :2].T, s=1000 * np.abs(x_samples[i, :, 2]), alpha=0.5)  # Hacky np.abs!!\n",
    "            \n",
    "    ax.set_xlabel(r\"$\\eta$\")\n",
    "    ax.set_ylabel(r\"$\\phi$\")\n",
    "    \n",
    "    # ax.set_xlim(-0.3, 0.3)\n",
    "    # ax.set_ylim(-0.3, 0.3)\n",
    "    \n",
    "plt.suptitle(\"Gen. jets\", fontsize=20, y=1.01)\n",
    "plt.tight_layout()\n"
   ]
  },
  {
   "cell_type": "code",
   "execution_count": 316,
   "id": "c71395b6",
   "metadata": {},
   "outputs": [],
   "source": [
    "x = particle_data[:100]"
   ]
  },
  {
   "cell_type": "code",
   "execution_count": 317,
   "id": "fb93fc6d",
   "metadata": {},
   "outputs": [
    {
     "data": {
      "image/png": "[encoded data removed]",
      "text/plain": [
       "<Figure size 1440x288 with 3 Axes>"
      ]
     },
     "metadata": {
      "needs_background": "light"
     },
     "output_type": "display_data"
    }
   ],
   "source": [
    "fig = plt.figure(figsize=(20, 4))\n",
    "gs = GridSpec(1, 4)\n",
    "\n",
    "#####\n",
    "\n",
    "ax = fig.add_subplot(gs[0])\n",
    "\n",
    "i_feat = 0\n",
    "\n",
    "bins= np.linspace(-0.5, 0.5, 50)\n",
    "ax.hist((np.concatenate(x_samples))[:, i_feat], histtype='step', bins=bins, density=True, lw=2, ls='--', alpha=0.7, label='Gen');\n",
    "\n",
    "eta = np.concatenate((np.array(x)))[:, i_feat]\n",
    "eta = eta[eta != 0.]\n",
    "ax.hist(eta, histtype='step', density=True, bins=bins, lw=2, alpha=0.7, label='Sim');\n",
    "\n",
    "ax.set_xlabel(r\"$\\eta^\\mathrm{rel}$\")\n",
    "ax.get_yaxis().set_ticklabels([])\n",
    "ax.legend()\n",
    "\n",
    "#####\n",
    "\n",
    "ax = fig.add_subplot(gs[1])\n",
    "\n",
    "i_feat = 1\n",
    "\n",
    "bins= np.linspace(-0.5, 0.5, 50)\n",
    "ax.hist((np.concatenate(x_samples))[:, i_feat], histtype='step', bins=bins, density=True, lw=2, ls='--', alpha=0.7, label='Gen');\n",
    "\n",
    "eta = (np.concatenate(np.array(x)))[:, i_feat]\n",
    "eta = eta[eta != 0.]\n",
    "ax.hist(eta, histtype='step', density=True, bins=bins, lw=2, alpha=0.7, label='Sim');\n",
    "\n",
    "ax.set_xlabel(r\"$\\phi^\\mathrm{rel}$\")\n",
    "ax.get_yaxis().set_ticklabels([])\n",
    "ax.legend()\n",
    "\n",
    "#####\n",
    "\n",
    "ax = fig.add_subplot(gs[2])\n",
    "\n",
    "i_feat = 2\n",
    "\n",
    "bins= np.linspace(-0.5, 0.5, 100)\n",
    "ax.hist((np.concatenate(x_samples))[:, i_feat], histtype='step', bins=bins, density=True, lw=2, ls='--', alpha=0.7, label='Gen');\n",
    "\n",
    "eta = np.concatenate((np.array(x)))[:, i_feat]\n",
    "eta = eta[eta != 0.]\n",
    "ax.hist(eta, histtype='step', density=True, bins=bins, lw=2, alpha=0.7, label='Sim');\n",
    "\n",
    "ax.set_xlabel(r\"$p_\\mathrm{T}^\\mathrm{rel}$\")\n",
    "ax.get_yaxis().set_ticklabels([])\n",
    "ax.legend()\n",
    "\n",
    "plt.tight_layout()"
   ]
  },
  {
   "cell_type": "code",
   "execution_count": null,
   "id": "ac987c3f",
   "metadata": {},
   "outputs": [],
   "source": []
  }
 ],
 "metadata": {
  "kernelspec": {
   "display_name": "Python 3 (ipykernel)",
   "language": "python",
   "name": "python3"
  },
  "language_info": {
   "codemirror_mode": {
    "name": "ipython",
    "version": 3
   },
   "file_extension": ".py",
   "mimetype": "text/x-python",
   "name": "python",
   "nbconvert_exporter": "python",
   "pygments_lexer": "ipython3",
   "version": "3.9.13"
  },
  "vscode": {
   "interpreter": {
    "hash": "5a325371ee47cd2db67c59416e547ef31e4d442734b91c29d6adc5acbdc2dc08"
   }
  }
 },
 "nbformat": 4,
 "nbformat_minor": 5
}
