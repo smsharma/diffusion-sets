{
 "cells": [
  {
   "cell_type": "code",
   "execution_count": 2,
   "metadata": {},
   "outputs": [
    {
     "name": "stdout",
     "output_type": "stream",
     "text": [
      "The autoreload extension is already loaded. To reload it, use:\n",
      "  %reload_ext autoreload\n"
     ]
    }
   ],
   "source": [
    "import sys\n",
    "sys.path.append(\"../\")\n",
    "\n",
    "import jax\n",
    "import jax.numpy as np\n",
    "\n",
    "from flax.core import FrozenDict\n",
    "\n",
    "from models.diffusion import VariationalDiffusionModel\n",
    "from models.diffusion_utils import generate, loss_vdm\n",
    "\n",
    "%load_ext autoreload\n",
    "%autoreload 2"
   ]
  },
  {
   "cell_type": "code",
   "execution_count": 32,
   "metadata": {},
   "outputs": [],
   "source": [
    "# Transformer args\n",
    "transformer_dict = FrozenDict({\"d_model\":256, \"d_mlp\":512, \"n_layers\":16, \"n_heads\":4, \"induced_attention\":False, \"n_inducing_points\":300})\n",
    "\n",
    "# Instantiate model\n",
    "vdm = VariationalDiffusionModel(gamma_min=-6.0, gamma_max=6.0,  # Min and max initial log-SNR in the noise schedule\n",
    "          d_feature=4,  # Number of features per set element\n",
    "          transformer_dict=transformer_dict,  # Score-prediction transformer parameters\n",
    "          noise_schedule=\"learned_linear\",  # Noise schedule; \"learned_linear\" or \"scalar\"\n",
    "          n_layers=3,  # Layers in encoder/decoder element-wise ResNets\n",
    "          d_embedding=8,  # Dim to encode the per-element features to\n",
    "          d_hidden_encoding=64,  # Hidden dim used in various contexts (for embedding context, 4 * for encoding/decoding in ResNets)\n",
    "          timesteps=300,  # Number of diffusion steps\n",
    "          d_t_embedding=16,  # Timestep embedding dimension\n",
    "          noise_scale=1e-3,  # Data noise model\n",
    "          n_classes=0)  # Number of data classes. If >0, the first element of the conditioning vector is assumed to be the integer class."
   ]
  },
  {
   "cell_type": "code",
   "execution_count": 33,
   "metadata": {},
   "outputs": [],
   "source": [
    "n_points = 5000\n",
    "\n",
    "rng = jax.random.PRNGKey(42)\n",
    "\n",
    "x = jax.random.normal(rng, (4, n_points, 4))\n",
    "mask = jax.random.randint(rng, (4, n_points), 0, 2)\n",
    "conditioning = jax.random.normal(rng, (4, 6))\n",
    "\n",
    "# Call to get losses\n",
    "(loss_diff, loss_klz, loss_recon), params = vdm.init_with_output({\"sample\": rng, \"params\": rng, \"uncond\":rng}, x, conditioning, mask);"
   ]
  },
  {
   "cell_type": "code",
   "execution_count": 34,
   "metadata": {},
   "outputs": [
    {
     "data": {
      "text/plain": [
       "Array(5328009., dtype=float32)"
      ]
     },
     "execution_count": 34,
     "metadata": {},
     "output_type": "execute_result"
    }
   ],
   "source": [
    "# Compute full loss, accounting for masking\n",
    "loss_vdm(params, vdm, rng, x, conditioning, mask)"
   ]
  },
  {
   "cell_type": "code",
   "execution_count": 35,
   "metadata": {},
   "outputs": [
    {
     "data": {
      "text/plain": [
       "(4, 5000, 4)"
      ]
     },
     "execution_count": 35,
     "metadata": {},
     "output_type": "execute_result"
    }
   ],
   "source": [
    "# Sample from model\n",
    "\n",
    "mask_sample = jax.random.randint(rng, (4, n_points), 0, 2)\n",
    "conditionink_sample = jax.random.normal(rng, (4, 6))\n",
    "\n",
    "x_samples = generate(vdm, params, rng, (4, n_points), conditionink_sample, mask_sample)\n",
    "x_samples.mean().shape  # Mean of decoded Normal distribution"
   ]
  },
  {
   "cell_type": "code",
   "execution_count": 31,
   "metadata": {},
   "outputs": [
    {
     "name": "stdout",
     "output_type": "stream",
     "text": [
      "23 ms ± 4.04 ms per loop (mean ± std. dev. of 7 runs, 1 loop each)\n"
     ]
    }
   ],
   "source": [
    "%%timeit\n",
    "jax.jit(loss_vdm, static_argnums=1)(params, vdm, rng, x, conditioning, mask)"
   ]
  },
  {
   "cell_type": "code",
   "execution_count": 37,
   "metadata": {},
   "outputs": [
    {
     "name": "stdout",
     "output_type": "stream",
     "text": [
      "148 ms ± 87.4 µs per loop (mean ± std. dev. of 7 runs, 10 loops each)\n"
     ]
    }
   ],
   "source": [
    "%%timeit\n",
    "jax.jit(loss_vdm, static_argnums=1)(params, vdm, rng, x, conditioning, mask)"
   ]
  },
  {
   "cell_type": "code",
   "execution_count": null,
   "metadata": {},
   "outputs": [],
   "source": []
  }
 ],
 "metadata": {
  "kernelspec": {
   "display_name": "Python 3",
   "language": "python",
   "name": "python3"
  },
  "language_info": {
   "codemirror_mode": {
    "name": "ipython",
    "version": 3
   },
   "file_extension": ".py",
   "mimetype": "text/x-python",
   "name": "python",
   "nbconvert_exporter": "python",
   "pygments_lexer": "ipython3",
   "version": "3.10.9"
  }
 },
 "nbformat": 4,
 "nbformat_minor": 4
}
