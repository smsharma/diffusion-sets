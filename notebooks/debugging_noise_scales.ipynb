{
 "cells": [
  {
   "cell_type": "code",
   "execution_count": 1,
   "metadata": {},
   "outputs": [],
   "source": [
    "# ! pip install --upgrade \"jax[cuda]\" -f https://storage.googleapis.com/jax-releases/jax_cuda_releases.html\n",
    "# ! pip install tensorflow-probability\n",
    "# ! pip install --upgrade tensorflow"
   ]
  },
  {
   "cell_type": "code",
   "execution_count": 2,
   "metadata": {},
   "outputs": [],
   "source": [
    "# ! pip install --upgrade pandas yaml tensorflow tensorflow-probability ml-collections jraph"
   ]
  },
  {
   "cell_type": "code",
   "execution_count": 7,
   "metadata": {},
   "outputs": [
    {
     "name": "stdout",
     "output_type": "stream",
     "text": [
      "The autoreload extension is already loaded. To reload it, use:\n",
      "  %reload_ext autoreload\n"
     ]
    }
   ],
   "source": [
    "import sys, os\n",
    "sys.path.append(\"../\")\n",
    "\n",
    "import pandas as pd\n",
    "import yaml\n",
    "import jax\n",
    "import jax.numpy as np\n",
    "import optax\n",
    "import flax\n",
    "from flax.core import FrozenDict\n",
    "from flax.training import train_state, checkpoints\n",
    "from ml_collections.config_dict import ConfigDict\n",
    "import numpy as vnp\n",
    "import matplotlib.pyplot as plt\n",
    "import tensorflow as tf\n",
    "\n",
    "# Ensure TF does not see GPU and grab all GPU memory\n",
    "tf.config.set_visible_devices([], device_type='GPU')\n",
    "\n",
    "from tqdm import tqdm, trange\n",
    "\n",
    "replicate = flax.jax_utils.replicate\n",
    "unreplicate = flax.jax_utils.unreplicate\n",
    "\n",
    "from models.diffusion import VariationalDiffusionModel\n",
    "from models.diffusion_utils import loss_vdm, sigma2, generate\n",
    "from models.train_utils import create_input_iter, param_count, train_step\n",
    "from datasets import load_data\n",
    "\n",
    "EPS = 1e-7\n",
    "\n",
    "%load_ext autoreload\n",
    "%autoreload 2"
   ]
  },
  {
   "cell_type": "markdown",
   "metadata": {},
   "source": [
    "## Dirs"
   ]
  },
  {
   "cell_type": "code",
   "execution_count": 15,
   "metadata": {},
   "outputs": [],
   "source": [
    "data_dir = \"/n/holyscratch01/iaifi_lab/ccuesta/data_for_sid/\"\n",
    "\n",
    "## My new runs\n",
    "logging_dir = \"/n/holystore01/LABS/iaifi_lab/Lab/set-diffuser-checkpoints/cosmology/\"\n",
    "run_name = \"treasured-pyramid-53\" "
   ]
  },
  {
   "cell_type": "markdown",
   "metadata": {},
   "source": [
    "## Load cluster run"
   ]
  },
  {
   "cell_type": "code",
   "execution_count": 16,
   "metadata": {},
   "outputs": [],
   "source": [
    "config_file = \"{}/{}/config.yaml\".format(logging_dir, run_name)\n",
    "\n",
    "with open(config_file, 'r') as file:\n",
    "    config = yaml.safe_load(file)\n",
    "    \n",
    "config = ConfigDict(config)"
   ]
  },
  {
   "cell_type": "code",
   "execution_count": 17,
   "metadata": {},
   "outputs": [],
   "source": [
    "# Load the dataset\n",
    "\n",
    "batch_size = 32\n",
    "\n",
    "train_ds, norm_dict = load_data(\n",
    "        config.data.dataset,\n",
    "        config.data.n_features,\n",
    "        config.data.n_particles,\n",
    "        batch_size,\n",
    "        config.seed,\n",
    "        shuffle=True,\n",
    "        split=\"train\",\n",
    "    )\n",
    "\n",
    "batches = create_input_iter(train_ds)"
   ]
  },
  {
   "cell_type": "code",
   "execution_count": 18,
   "metadata": {},
   "outputs": [
    {
     "data": {
      "text/plain": [
       "batch_size: 16\n",
       "eval_every_steps: 5000\n",
       "half_precision: false\n",
       "log_every_steps: 100\n",
       "n_train_steps: 301000\n",
       "p_uncond: 0.0\n",
       "save_every_steps: 20000\n",
       "unconditional_dropout: false\n",
       "warmup_steps: 5000"
      ]
     },
     "execution_count": 18,
     "metadata": {},
     "output_type": "execute_result"
    }
   ],
   "source": [
    "config.training"
   ]
  },
  {
   "cell_type": "code",
   "execution_count": 19,
   "metadata": {},
   "outputs": [],
   "source": [
    "x, conditioning, mask = next(batches)\n",
    "x = x[0]\n",
    "conditioning = conditioning[0]\n",
    "mask = mask[0]"
   ]
  },
  {
   "cell_type": "code",
   "execution_count": 20,
   "metadata": {},
   "outputs": [],
   "source": [
    "# Diffusion model\n",
    "x_mean = tuple(map(float, norm_dict[\"mean\"]))\n",
    "x_std = tuple(map(float, norm_dict[\"std\"]))\n",
    "config.data.apply_pbcs = False\n",
    "box_size = config.data.box_size # if config.data.apply_pbcs else None\n",
    "unit_cell = tuple(map(tuple, config.data.unit_cell)) if config.data.apply_pbcs else None\n",
    "\n",
    "norm_dict_input = FrozenDict(\n",
    "    {\n",
    "        \"x_mean\": x_mean,\n",
    "        \"x_std\": x_std,\n",
    "        \"box_size\": box_size,\n",
    "        \"unit_cell\": unit_cell,\n",
    "    }\n",
    ")"
   ]
  },
  {
   "cell_type": "code",
   "execution_count": 73,
   "metadata": {},
   "outputs": [
    {
     "name": "stdout",
     "output_type": "stream",
     "text": [
      "4 devices visible\n",
      "Params: 941,481\n"
     ]
    }
   ],
   "source": [
    "print(\"{} devices visible\".format(jax.device_count()))\n",
    "\n",
    "# Score and (optional) encoder model configs\n",
    "score_dict = FrozenDict(config.score)\n",
    "encoder_dict = FrozenDict(config.encoder)\n",
    "decoder_dict = FrozenDict(config.decoder)\n",
    "\n",
    "# Diffusion model\n",
    "vdm = VariationalDiffusionModel(\n",
    "        d_feature=config.data.n_features,\n",
    "        timesteps=config.vdm.timesteps,\n",
    "        noise_schedule=config.vdm.noise_schedule,\n",
    "        noise_scale=1e-4,\n",
    "        d_t_embedding=config.vdm.d_t_embedding,\n",
    "        gamma_min=config.vdm.gamma_min,\n",
    "        gamma_max=config.vdm.gamma_max,\n",
    "        score=config.score.score,\n",
    "        score_dict=score_dict,\n",
    "        embed_context=config.vdm.embed_context,\n",
    "        d_context_embedding=config.vdm.d_context_embedding,\n",
    "        n_classes=config.vdm.n_classes,\n",
    "        use_encdec=config.vdm.use_encdec,\n",
    "        encoder_dict=encoder_dict,\n",
    "        decoder_dict=decoder_dict,\n",
    "        norm_dict=norm_dict_input,\n",
    ")\n",
    "\n",
    "# Pass a test batch through to initialize model\n",
    "x_batch, conditioning_batch, mask_batch = next(batches)\n",
    "rng = jax.random.PRNGKey(42)\n",
    "_, params = vdm.init_with_output({\"sample\": rng, \"params\": rng}, x_batch[0], conditioning_batch[0], mask_batch[0])\n",
    "\n",
    "print(f\"Params: {param_count(params):,}\")\n",
    "\n",
    "# # Training config and state\n",
    "# schedule = optax.warmup_cosine_decay_schedule(init_value=0.0, peak_value=config.optim.learning_rate, warmup_steps=config.training.warmup_steps, decay_steps=config.training.n_train_steps)\n",
    "# tx = optax.adamw(learning_rate=schedule, weight_decay=config.optim.weight_decay)\n",
    "# state = train_state.TrainState.create(apply_fn=vdm.apply, params=params, tx=tx)"
   ]
  },
  {
   "cell_type": "code",
   "execution_count": 74,
   "metadata": {},
   "outputs": [
    {
     "data": {
      "text/plain": [
       "(Array(11.495958, dtype=float32),\n",
       " Array(0.00016833, dtype=float32),\n",
       " Array(33.39897, dtype=float32))"
      ]
     },
     "execution_count": 74,
     "metadata": {},
     "output_type": "execute_result"
    }
   ],
   "source": [
    "(loss_diff, loss_klz, loss_recon), params = vdm.init_with_output({\"sample\": rng, \"params\": rng, \"uncond\":rng}, x, conditioning, mask);\n",
    "loss_diff.mean(), loss_klz.mean(), loss_recon.mean()"
   ]
  },
  {
   "cell_type": "code",
   "execution_count": 75,
   "metadata": {},
   "outputs": [
    {
     "data": {
      "text/plain": [
       "Array(134.6853, dtype=float32)"
      ]
     },
     "execution_count": 75,
     "metadata": {},
     "output_type": "execute_result"
    }
   ],
   "source": [
    "3 * (loss_diff.mean() + loss_klz.mean() + loss_recon.mean())"
   ]
  },
  {
   "cell_type": "code",
   "execution_count": 76,
   "metadata": {},
   "outputs": [],
   "source": [
    "mask = np.ones(x.shape[:-1])"
   ]
  },
  {
   "cell_type": "code",
   "execution_count": 77,
   "metadata": {},
   "outputs": [
    {
     "data": {
      "text/plain": [
       "Array(134.6853, dtype=float32)"
      ]
     },
     "execution_count": 77,
     "metadata": {},
     "output_type": "execute_result"
    }
   ],
   "source": [
    "loss_batch = (((loss_diff + loss_klz) * mask[:, :, None]).sum((-1, -2)) + (loss_recon * mask[:, :, None]).sum((-1, -2))) / mask.sum(-1)\n",
    "loss_batch.mean()"
   ]
  },
  {
   "cell_type": "code",
   "execution_count": 58,
   "metadata": {},
   "outputs": [
    {
     "data": {
      "image/png": "[encoded data removed]",
      "text/plain": [
       "<Figure size 640x480 with 1 Axes>"
      ]
     },
     "metadata": {},
     "output_type": "display_data"
    }
   ],
   "source": [
    "import flax.linen as nn\n",
    "\n",
    "for gamma_min in [-2, -5, -8, -16]:\n",
    "        \n",
    "    # Diffusion model\n",
    "    vdm = VariationalDiffusionModel(\n",
    "            d_feature=config.data.n_features,\n",
    "            timesteps=config.vdm.timesteps,\n",
    "            noise_schedule=\"linear\",\n",
    "            noise_scale=config.vdm.noise_scale,\n",
    "            d_t_embedding=config.vdm.d_t_embedding,\n",
    "            gamma_min=gamma_min,\n",
    "            gamma_max=14,\n",
    "            score=config.score.score,\n",
    "            score_dict=score_dict,\n",
    "            embed_context=config.vdm.embed_context,\n",
    "            d_context_embedding=config.vdm.d_context_embedding,\n",
    "            n_classes=config.vdm.n_classes,\n",
    "            use_encdec=config.vdm.use_encdec,\n",
    "            encoder_dict=encoder_dict,\n",
    "            decoder_dict=decoder_dict,\n",
    "            norm_dict=norm_dict_input,\n",
    "    )\n",
    "\n",
    "    _, params = vdm.init_with_output({\"sample\": rng, \"params\": rng}, x_batch[0], conditioning_batch[0], mask_batch[0])\n",
    "    \n",
    "    def f(vdm, t):\n",
    "      return vdm.gammat(t)\n",
    "    \n",
    "    t = np.linspace(0, 1)\n",
    "    sigma2 = nn.sigmoid(-nn.apply(f, vdm)(params, t))\n",
    "    \n",
    "    plt.plot(t, sigma2, label=f'gamma_min={gamma_min}')\n",
    "    plt.yscale(\"log\")\n",
    "    plt.legend()\n",
    "\n",
    "    plt.xlabel(\"t\")\n",
    "    plt.ylabel(\"sigma2\")"
   ]
  },
  {
   "cell_type": "code",
   "execution_count": null,
   "metadata": {},
   "outputs": [],
   "source": []
  }
 ],
 "metadata": {
  "kernelspec": {
   "display_name": "Python 3",
   "language": "python",
   "name": "python3"
  },
  "language_info": {
   "codemirror_mode": {
    "name": "ipython",
    "version": 3
   },
   "file_extension": ".py",
   "mimetype": "text/x-python",
   "name": "python",
   "nbconvert_exporter": "python",
   "pygments_lexer": "ipython3",
   "version": "3.10.9"
  }
 },
 "nbformat": 4,
 "nbformat_minor": 4
}
