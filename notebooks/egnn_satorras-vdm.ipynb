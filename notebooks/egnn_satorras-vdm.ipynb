{
 "cells": [
  {
   "cell_type": "code",
   "execution_count": 1,
   "id": "6e5abee5-c59f-4c12-b08a-d75f1f4a9746",
   "metadata": {},
   "outputs": [],
   "source": [
    "import jax\n",
    "import jax.numpy as np\n",
    "import jraph\n",
    "import flax.linen as nn\n",
    "import numpy as onp\n",
    "import matplotlib.pyplot as plt\n",
    "\n",
    "from functools import partial\n",
    "\n",
    "from jax.config import config\n",
    "config.update(\"jax_debug_nans\", True)"
   ]
  },
  {
   "cell_type": "code",
   "execution_count": 2,
   "id": "92430e0d",
   "metadata": {},
   "outputs": [],
   "source": [
    "%load_ext autoreload\n",
    "%autoreload 2"
   ]
  },
  {
   "cell_type": "code",
   "execution_count": 183,
   "id": "38145712",
   "metadata": {},
   "outputs": [],
   "source": [
    "import sys\n",
    "sys.path.append(\"../\")\n",
    "\n",
    "from models.gnn import GraphConvNet\n",
    "from models.graph_utils import nearest_neighbors\n",
    "from models.graph_utils import add_graphs_tuples\n",
    "from models.train_utils import create_input_iter"
   ]
  },
  {
   "cell_type": "code",
   "execution_count": 184,
   "id": "9a1c76b5-abab-4b40-89fd-dc128c44a06d",
   "metadata": {},
   "outputs": [],
   "source": [
    "from datasets import load_data"
   ]
  },
  {
   "cell_type": "code",
   "execution_count": 185,
   "id": "038f35cf-6d0d-4662-87d1-4c2909d9d4f0",
   "metadata": {},
   "outputs": [],
   "source": [
    "n_nodes = 5000"
   ]
  },
  {
   "cell_type": "code",
   "execution_count": 186,
   "id": "026efde9-0725-4f6b-964e-f8e3c18733fe",
   "metadata": {},
   "outputs": [],
   "source": [
    "train_ds, norm_dict = load_data(\"nbody\", 3, n_nodes, 2, 234)"
   ]
  },
  {
   "cell_type": "code",
   "execution_count": 187,
   "id": "e3100536-e241-4ffe-b9cc-77dca0ae32bf",
   "metadata": {},
   "outputs": [
    {
     "data": {
      "text/plain": [
       "(500.28973388671875, 500.1238708496094, 500.25457763671875)"
      ]
     },
     "execution_count": 187,
     "metadata": {},
     "output_type": "execute_result"
    }
   ],
   "source": [
    "tuple(map(float, norm_dict['mean']))"
   ]
  },
  {
   "cell_type": "code",
   "execution_count": 188,
   "id": "431b71dd-8ed7-4ade-86b3-bfd0ad64869d",
   "metadata": {},
   "outputs": [],
   "source": [
    "batches = create_input_iter(train_ds)\n",
    "x_data = next(batches)\n",
    "x = x_data[0][0]\n",
    "cond = x_data[1][0]"
   ]
  },
  {
   "cell_type": "code",
   "execution_count": 189,
   "id": "bbf52d15-53e7-473d-a48b-98affa5d44d5",
   "metadata": {},
   "outputs": [],
   "source": [
    "k = 20"
   ]
  },
  {
   "cell_type": "code",
   "execution_count": 190,
   "id": "79afde5e-eef2-47c1-8122-ad2bcb0dea71",
   "metadata": {},
   "outputs": [],
   "source": [
    "sources, targets = jax.vmap(nearest_neighbors, in_axes=(0, None))(x, k)"
   ]
  },
  {
   "cell_type": "markdown",
   "id": "22637510-964f-4e2d-8a45-a852497233c5",
   "metadata": {},
   "source": [
    "## EGNN; equivariance test"
   ]
  },
  {
   "cell_type": "code",
   "execution_count": 191,
   "id": "611d36f3-c871-46ff-b427-0a641eb05295",
   "metadata": {},
   "outputs": [],
   "source": [
    "from models.egnn_jax import EGNN\n",
    "from models.graph_utils import rotate_representation"
   ]
  },
  {
   "cell_type": "code",
   "execution_count": 192,
   "id": "b66ea540-8106-4c5b-882b-37e76aa9dad8",
   "metadata": {},
   "outputs": [],
   "source": [
    "coord_mean, coord_std, box_size = norm_dict['mean'], norm_dict['std'], 1000."
   ]
  },
  {
   "cell_type": "code",
   "execution_count": 193,
   "id": "22e68794",
   "metadata": {},
   "outputs": [],
   "source": [
    "class GraphWrapper(nn.Module):\n",
    "    @nn.compact\n",
    "    def __call__(self, graph, pos):\n",
    "        return jax.vmap(EGNN(k=k), in_axes=(0, 0, 0, 0, None, None, None))(graph, pos, None, None, coord_mean, coord_std, box_size)\n",
    "    \n",
    "model = GraphWrapper()\n",
    "rng = jax.random.PRNGKey(42)"
   ]
  },
  {
   "cell_type": "code",
   "execution_count": 194,
   "id": "b2a59c8d-f385-41b2-aad0-cfa582bd9074",
   "metadata": {},
   "outputs": [],
   "source": [
    "d2 = np.sum(x ** 2, axis=-1, keepdims=True)"
   ]
  },
  {
   "cell_type": "markdown",
   "id": "3e08c397-2fa8-4101-bd0f-4600ba69fe19",
   "metadata": {},
   "source": [
    "### Rotation equivariance"
   ]
  },
  {
   "cell_type": "code",
   "execution_count": 195,
   "id": "7d4781e8-2433-4128-a30e-ce756038679e",
   "metadata": {},
   "outputs": [],
   "source": [
    "pos = x\n",
    "pos_rot = jax.vmap(rotate_representation, in_axes=(0,None,None))(x, 45, np.array([0., 0., 1.]))"
   ]
  },
  {
   "cell_type": "code",
   "execution_count": 196,
   "id": "4956f4a2-37ce-41c7-b597-1eb071a3cbaf",
   "metadata": {},
   "outputs": [],
   "source": [
    "graph = jraph.GraphsTuple(\n",
    "          n_node=np.array(2 * [[n_nodes]]), \n",
    "          n_edge=np.array(2 * [[k]]),\n",
    "          nodes=d2, \n",
    "          edges=None,\n",
    "          globals=cond,\n",
    "          senders=sources,\n",
    "          receivers=targets)\n",
    "\n",
    "pos_out, _ = model.init_with_output(rng, graph, pos)"
   ]
  },
  {
   "cell_type": "code",
   "execution_count": 197,
   "id": "600f33c5-63a9-4caf-92a3-6a2017a6e60f",
   "metadata": {},
   "outputs": [],
   "source": [
    "graph = jraph.GraphsTuple(\n",
    "          n_node=np.array(2 * [[n_nodes]]), \n",
    "          n_edge=np.array(2 * [[k]]),\n",
    "          nodes=d2, \n",
    "          edges=None,\n",
    "          globals=cond,\n",
    "          senders=sources,\n",
    "          receivers=targets)\n",
    "\n",
    "pos_rot_out, _ = model.init_with_output(rng, graph, pos_rot)"
   ]
  },
  {
   "cell_type": "code",
   "execution_count": 198,
   "id": "ea568226-5f87-44ca-9e12-5fed6c9895aa",
   "metadata": {},
   "outputs": [],
   "source": [
    "pos_out_rot = jax.vmap(rotate_representation, in_axes=(0,None,None))(pos_out, 45, np.array([0., 0., 1.]))"
   ]
  },
  {
   "cell_type": "code",
   "execution_count": 199,
   "id": "0206a382-4aba-4275-83c5-4782eb22cbeb",
   "metadata": {},
   "outputs": [
    {
     "data": {
      "text/plain": [
       "Array([[[1.0000186 , 1.0041968 , 1.0012723 ],\n",
       "        [0.9996871 , 0.99964136, 1.0001278 ],\n",
       "        [0.99993014, 0.9998736 , 0.9998053 ],\n",
       "        ...,\n",
       "        [0.9938977 , 0.9999632 , 1.0000858 ],\n",
       "        [1.0005772 , 1.000247  , 0.99893963],\n",
       "        [1.0001596 , 1.0000917 , 1.0006036 ]],\n",
       "\n",
       "       [[0.99974424, 0.99993306, 0.9999587 ],\n",
       "        [1.00022   , 1.0003921 , 0.9999065 ],\n",
       "        [1.0005502 , 0.99963886, 0.9998647 ],\n",
       "        ...,\n",
       "        [0.9997811 , 0.9992433 , 1.0001013 ],\n",
       "        [0.9999908 , 0.9902577 , 1.0000782 ],\n",
       "        [1.0034574 , 1.0000578 , 0.9995494 ]]], dtype=float32)"
      ]
     },
     "execution_count": 199,
     "metadata": {},
     "output_type": "execute_result"
    }
   ],
   "source": [
    "pos_rot_out / pos_out_rot"
   ]
  },
  {
   "cell_type": "markdown",
   "id": "84e00c4f-524e-4498-ab9a-9dc6f5b42d48",
   "metadata": {},
   "source": [
    "### Translation equivariance"
   ]
  },
  {
   "cell_type": "code",
   "execution_count": 200,
   "id": "a039c904-618d-4959-8fb8-1494d9f2e52d",
   "metadata": {},
   "outputs": [],
   "source": [
    "tran = np.array([-0.45, 0.9, -1.2])[None, None, :]\n",
    "pos_tran = pos + tran\n",
    "pos_out_tran = pos_out + tran"
   ]
  },
  {
   "cell_type": "code",
   "execution_count": 201,
   "id": "b9edccb8-5752-4153-b2fb-4cf0dafd26c4",
   "metadata": {},
   "outputs": [],
   "source": [
    "graph = jraph.GraphsTuple(\n",
    "          n_node=np.array(2 * [[n_nodes]]), \n",
    "          n_edge=np.array(2 * [[k]]),\n",
    "          nodes=d2, \n",
    "          edges=None,\n",
    "          globals=cond,\n",
    "          senders=sources,\n",
    "          receivers=targets)\n",
    "\n",
    "pos_tran_out, _ = model.init_with_output(rng, graph, pos_tran)"
   ]
  },
  {
   "cell_type": "code",
   "execution_count": 202,
   "id": "e029343e-9dc1-4ff7-b344-bf077f45d64c",
   "metadata": {},
   "outputs": [
    {
     "data": {
      "text/plain": [
       "Array([[[1.0000131 , 1.0000918 , 1.0000881 ],\n",
       "        [1.0001146 , 1.0003357 , 1.0000314 ],\n",
       "        [1.0000138 , 1.0000178 , 0.99999046],\n",
       "        ...,\n",
       "        [1.0000104 , 1.0000035 , 1.0000101 ],\n",
       "        [1.0000414 , 1.0000386 , 0.999928  ],\n",
       "        [1.0000116 , 0.9999892 , 0.9999824 ]],\n",
       "\n",
       "       [[0.99999607, 1.0000114 , 1.0000179 ],\n",
       "        [1.0000027 , 0.999789  , 1.000614  ],\n",
       "        [1.0000232 , 0.9999705 , 0.99998134],\n",
       "        ...,\n",
       "        [0.99998987, 0.9998664 , 0.9999764 ],\n",
       "        [1.0000228 , 0.999852  , 1.0000552 ],\n",
       "        [0.99999464, 0.9999804 , 1.0000181 ]]], dtype=float32)"
      ]
     },
     "execution_count": 202,
     "metadata": {},
     "output_type": "execute_result"
    }
   ],
   "source": [
    "pos_tran_out / pos_out_tran"
   ]
  },
  {
   "cell_type": "markdown",
   "id": "03665d6e-ce19-431c-b777-870eb4d2ebd0",
   "metadata": {},
   "source": [
    "## Look at VLB loss"
   ]
  },
  {
   "cell_type": "code",
   "execution_count": 104,
   "id": "2d97924d-601d-4bae-8169-79295f841e57",
   "metadata": {},
   "outputs": [],
   "source": [
    "from models.diffusion import VariationalDiffusionModel\n",
    "from flax.core import FrozenDict\n",
    "from models.diffusion_utils import loss_vdm\n",
    "from models.train_utils import create_input_iter, param_count, train_step"
   ]
  },
  {
   "cell_type": "code",
   "execution_count": 148,
   "id": "8366d86d-8337-4b3c-b87a-e3598cbcc695",
   "metadata": {},
   "outputs": [],
   "source": [
    "n_batch = 8"
   ]
  },
  {
   "cell_type": "code",
   "execution_count": 149,
   "id": "f0d55ae1-aad7-49c2-a22a-e0e909da0609",
   "metadata": {},
   "outputs": [],
   "source": [
    "train_ds, norm_dict_tmp = load_data(\"nbody\", 3, 5000, n_batch, 23)"
   ]
  },
  {
   "cell_type": "code",
   "execution_count": 150,
   "id": "5b51828d-2aad-40c9-b15a-841f7b681085",
   "metadata": {},
   "outputs": [],
   "source": [
    "batches = create_input_iter(train_ds)"
   ]
  },
  {
   "cell_type": "code",
   "execution_count": 151,
   "id": "7956fb54-4733-42df-9ac5-7760c0ba1d88",
   "metadata": {},
   "outputs": [],
   "source": [
    "x, conditioning, mask = next(batches)\n",
    "x, conditioning, mask = x[0], conditioning[0], mask[0]"
   ]
  },
  {
   "cell_type": "code",
   "execution_count": 152,
   "id": "8324112e-6510-487c-b4c6-6084bbf483de",
   "metadata": {},
   "outputs": [],
   "source": [
    "score_dict = FrozenDict({\"k\":20, \"n_pos_features\":3})  # GNN args\n",
    "encoder_dict = decoder_dict = FrozenDict({})\n",
    "norm_dict = FrozenDict({\"x_mean\":tuple(map(float, norm_dict_tmp['mean'])), \"x_std\":tuple(map(float, norm_dict_tmp['std'])), \"box_size\":1000.})  # GNN args\n",
    "score = \"egnn\"\n",
    "\n",
    "vdm = VariationalDiffusionModel(\n",
    "          timesteps=0, \n",
    "          d_t_embedding=16,\n",
    "          d_feature=3,\n",
    "          score=score,\n",
    "          score_dict=score_dict,\n",
    "          n_classes=0,\n",
    "          embed_context=True,\n",
    "          d_context_embedding=16,\n",
    "          noise_schedule=\"learned_linear\",\n",
    "          gamma_min=-8.,\n",
    "          gamma_max=14.,\n",
    "          use_encdec=False,\n",
    "          encoder_dict=encoder_dict,\n",
    "          decoder_dict=decoder_dict,\n",
    "          norm_dict=norm_dict)"
   ]
  },
  {
   "cell_type": "code",
   "execution_count": 153,
   "id": "109bc48e-b1c5-4c79-ba17-15fffa7ba101",
   "metadata": {},
   "outputs": [
    {
     "data": {
      "text/plain": [
       "((8, 5000, 3), (8, 2), (8, 5000))"
      ]
     },
     "execution_count": 153,
     "metadata": {},
     "output_type": "execute_result"
    }
   ],
   "source": [
    "x.shape, conditioning.shape, mask.shape"
   ]
  },
  {
   "cell_type": "code",
   "execution_count": 154,
   "id": "0ed03aa8-7c14-4786-b8b5-343e100f10b1",
   "metadata": {},
   "outputs": [],
   "source": [
    "rng = jax.random.PRNGKey(42)\n",
    "out, params = vdm.init_with_output({\"sample\": rng, \"params\": rng}, x, conditioning, mask);"
   ]
  },
  {
   "cell_type": "markdown",
   "id": "7ec17d54-e055-4d0f-ae2e-356e8fae8865",
   "metadata": {},
   "source": [
    "## Check rotational invariance of loss"
   ]
  },
  {
   "cell_type": "code",
   "execution_count": 155,
   "id": "1faa61cb-66c4-40ed-b5d3-2e681c3bd0a3",
   "metadata": {},
   "outputs": [
    {
     "data": {
      "text/plain": [
       "Array(12.139326, dtype=float32)"
      ]
     },
     "execution_count": 155,
     "metadata": {},
     "output_type": "execute_result"
    }
   ],
   "source": [
    "loss = loss_vdm(params, vdm, rng, x, conditioning, mask)\n",
    "loss"
   ]
  },
  {
   "cell_type": "code",
   "execution_count": 156,
   "id": "3b869ed1-0b03-43b9-a320-c0d1f70ea026",
   "metadata": {},
   "outputs": [
    {
     "data": {
      "text/plain": [
       "Array(12.248699, dtype=float32)"
      ]
     },
     "execution_count": 156,
     "metadata": {},
     "output_type": "execute_result"
    }
   ],
   "source": [
    "x_rot = jax.vmap(rotate_representation, in_axes=(0,None,None))(x, 45., np.array([0., 0., 1.]))\n",
    "loss = loss_vdm(params, vdm, rng, x_rot, conditioning, mask)\n",
    "loss"
   ]
  },
  {
   "cell_type": "code",
   "execution_count": 157,
   "id": "03bdd772-dbe5-4100-80e9-d2d02e471666",
   "metadata": {},
   "outputs": [
    {
     "data": {
      "text/plain": [
       "Array(12.33543, dtype=float32)"
      ]
     },
     "execution_count": 157,
     "metadata": {},
     "output_type": "execute_result"
    }
   ],
   "source": [
    "x_rot = jax.vmap(rotate_representation, in_axes=(0,None,None))(x, 93., np.array([0., 1. / np.sqrt(2), 1. / np.sqrt(2)]))\n",
    "loss = loss_vdm(params, vdm, rng, x_rot, conditioning, mask)\n",
    "loss"
   ]
  },
  {
   "cell_type": "code",
   "execution_count": 27,
   "id": "32419cae-702f-4175-92b8-2dbdafb10623",
   "metadata": {},
   "outputs": [],
   "source": [
    "# loss, loss_grad = jax.value_and_grad(loss_vdm)(params, vdm, rng, x, np.zeros_like(conditioning), mask)"
   ]
  },
  {
   "cell_type": "markdown",
   "id": "43f08c06-e716-45da-a564-cbb1e98c1eb9",
   "metadata": {},
   "source": [
    "## Check rotational invariance of loss (individual components)"
   ]
  },
  {
   "cell_type": "code",
   "execution_count": 174,
   "id": "7e55db4d-62ab-4c5c-8714-77f77927cf31",
   "metadata": {},
   "outputs": [
    {
     "data": {
      "text/plain": [
       "Array([ 27.963305,   6.401713, -13.336952, -16.46254 , -16.718292,\n",
       "        37.642227,  37.166668,  34.458485], dtype=float32)"
      ]
     },
     "execution_count": 174,
     "metadata": {},
     "output_type": "execute_result"
    }
   ],
   "source": [
    "loss_diff, loss_klz, loss_recon = vdm.apply(params, x, conditioning, mask, rngs={\"sample\": rng})\n",
    "loss_batch = (((loss_diff + loss_klz) * mask[:, :, None]).sum((-1, -2)) + (loss_recon * mask[:, :, None]).sum((-1, -2))) / mask.sum(-1)\n",
    "loss_batch"
   ]
  },
  {
   "cell_type": "code",
   "execution_count": 175,
   "id": "91c58f65-577c-4083-a3b3-100e12574fcd",
   "metadata": {},
   "outputs": [
    {
     "data": {
      "text/plain": [
       "Array([ 28.21428  ,   6.3376017, -13.366019 , -16.469038 , -16.718327 ,\n",
       "        37.53338  ,  37.779152 ,  34.67857  ], dtype=float32)"
      ]
     },
     "execution_count": 175,
     "metadata": {},
     "output_type": "execute_result"
    }
   ],
   "source": [
    "x_rot = jax.vmap(rotate_representation, in_axes=(0,None,None))(x, 45., np.array([0., 0., 1.]))\n",
    "loss_diff, loss_klz, loss_recon = vdm.apply(params, x_rot, conditioning, mask, rngs={\"sample\": rng})\n",
    "loss_batch = (((loss_diff + loss_klz) * mask[:, :, None]).sum((-1, -2)) + (loss_recon * mask[:, :, None]).sum((-1, -2))) / mask.sum(-1)\n",
    "loss_batch"
   ]
  },
  {
   "cell_type": "code",
   "execution_count": 176,
   "id": "da8e218d-e782-4040-bc0f-2826e146513a",
   "metadata": {},
   "outputs": [
    {
     "data": {
      "text/plain": [
       "Array([ 27.736063 ,   6.690169 , -13.4112835, -16.473114 , -16.718084 ,\n",
       "        37.80085  ,  37.80386  ,  35.25499  ], dtype=float32)"
      ]
     },
     "execution_count": 176,
     "metadata": {},
     "output_type": "execute_result"
    }
   ],
   "source": [
    "x_rot = jax.vmap(rotate_representation, in_axes=(0,None,None))(x, 93., np.array([0., 1. / np.sqrt(2), 1. / np.sqrt(2)]))\n",
    "loss_diff, loss_klz, loss_recon = vdm.apply(params, x_rot, conditioning, mask, rngs={\"sample\": rng})\n",
    "loss_batch = (((loss_diff + loss_klz) * mask[:, :, None]).sum((-1, -2)) + (loss_recon * mask[:, :, None]).sum((-1, -2))) / mask.sum(-1)\n",
    "loss_batch"
   ]
  },
  {
   "cell_type": "code",
   "execution_count": 178,
   "id": "3a06b244-bdb1-46a5-b9e5-ec60277daad1",
   "metadata": {},
   "outputs": [
    {
     "data": {
      "text/plain": [
       "Array(12.335431, dtype=float32)"
      ]
     },
     "execution_count": 178,
     "metadata": {},
     "output_type": "execute_result"
    }
   ],
   "source": [
    "loss_batch[:].mean()"
   ]
  },
  {
   "cell_type": "markdown",
   "id": "b18a0263-43cb-483b-8292-d23748c5b52c",
   "metadata": {},
   "source": [
    "## Check translational invariance of loss"
   ]
  },
  {
   "cell_type": "code",
   "execution_count": 179,
   "id": "30b8eecc-4aaa-4c16-865b-4c2c6b182ea9",
   "metadata": {},
   "outputs": [
    {
     "data": {
      "text/plain": [
       "Array([ 32.587143,   9.189462, -12.947554, -16.427973, -16.716597,\n",
       "        42.018078,  41.487644,  37.862812], dtype=float32)"
      ]
     },
     "execution_count": 179,
     "metadata": {},
     "output_type": "execute_result"
    }
   ],
   "source": [
    "# Translate\n",
    "x_tran = x + np.array([0.2, 0.3, 0.5])[None, None, :]\n",
    "\n",
    "loss_diff, loss_klz, loss_recon = vdm.apply(params, x_tran, conditioning, mask, rngs={\"sample\": rng})\n",
    "loss_batch = (((loss_diff + loss_klz) * mask[:, :, None]).sum((-1, -2)) + (loss_recon * mask[:, :, None]).sum((-1, -2))) / mask.sum(-1)\n",
    "loss_batch"
   ]
  },
  {
   "cell_type": "code",
   "execution_count": 180,
   "id": "27b8ef83-2237-4f54-9176-faefe6f15c84",
   "metadata": {},
   "outputs": [
    {
     "data": {
      "text/plain": [
       "Array([ 53.790115,  22.687338, -10.815434, -16.25179 , -16.706673,\n",
       "        63.127132,  63.840603,  63.683865], dtype=float32)"
      ]
     },
     "execution_count": 180,
     "metadata": {},
     "output_type": "execute_result"
    }
   ],
   "source": [
    "# Translate\n",
    "x_tran = x + np.array([-0.45, 0.9, -1.2])[None, None, :]\n",
    "\n",
    "loss_diff, loss_klz, loss_recon = vdm.apply(params, x_tran, conditioning, mask, rngs={\"sample\": rng})\n",
    "loss_batch = (((loss_diff + loss_klz) * mask[:, :, None]).sum((-1, -2)) + (loss_recon * mask[:, :, None]).sum((-1, -2))) / mask.sum(-1)\n",
    "loss_batch"
   ]
  },
  {
   "cell_type": "code",
   "execution_count": 211,
   "id": "b4c9f09d-a242-42fb-813c-efb6e7a2e4a9",
   "metadata": {},
   "outputs": [],
   "source": [
    "eps = jax.random.normal(rng, shape=x.shape)\n",
    "eps_com = np.mean(eps[..., :3], axis=-1, keepdims=True)\n",
    "eps -= eps_com"
   ]
  },
  {
   "cell_type": "code",
   "execution_count": 213,
   "id": "d5f45e68-a0a4-48e0-8b95-6089fa046802",
   "metadata": {},
   "outputs": [
    {
     "data": {
      "text/plain": [
       "Array(4.1127204e-10, dtype=float32)"
      ]
     },
     "execution_count": 213,
     "metadata": {},
     "output_type": "execute_result"
    }
   ],
   "source": [
    "eps.mean()"
   ]
  },
  {
   "cell_type": "code",
   "execution_count": null,
   "id": "8fa38f69-4bd1-4a2b-a384-3d00639626de",
   "metadata": {},
   "outputs": [],
   "source": []
  }
 ],
 "metadata": {
  "kernelspec": {
   "display_name": "Python 3 (ipykernel)",
   "language": "python",
   "name": "python3"
  },
  "language_info": {
   "codemirror_mode": {
    "name": "ipython",
    "version": 3
   },
   "file_extension": ".py",
   "mimetype": "text/x-python",
   "name": "python",
   "nbconvert_exporter": "python",
   "pygments_lexer": "ipython3",
   "version": "3.9.12"
  },
  "vscode": {
   "interpreter": {
    "hash": "4de8ebced33472280eb2d39fa7eb85126aa4b5bd288871aff7028464b844f159"
   }
  }
 },
 "nbformat": 4,
 "nbformat_minor": 5
}
