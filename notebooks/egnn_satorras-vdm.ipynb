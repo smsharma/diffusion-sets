{
 "cells": [
  {
   "cell_type": "code",
   "execution_count": 1,
   "id": "6e5abee5-c59f-4c12-b08a-d75f1f4a9746",
   "metadata": {},
   "outputs": [],
   "source": [
    "import jax\n",
    "import jax.numpy as np\n",
    "import jraph\n",
    "import flax.linen as nn\n",
    "import numpy as onp\n",
    "import matplotlib.pyplot as plt\n",
    "\n",
    "from functools import partial\n",
    "\n",
    "from jax.config import config\n",
    "config.update(\"jax_debug_nans\", True)"
   ]
  },
  {
   "cell_type": "code",
   "execution_count": 2,
   "id": "92430e0d",
   "metadata": {},
   "outputs": [],
   "source": [
    "%load_ext autoreload\n",
    "%autoreload 2"
   ]
  },
  {
   "cell_type": "code",
   "execution_count": 3,
   "id": "38145712",
   "metadata": {},
   "outputs": [],
   "source": [
    "import sys\n",
    "sys.path.append(\"../\")\n",
    "\n",
    "from models.gnn import GraphConvNet\n",
    "from models.graph_utils import nearest_neighbors\n",
    "from models.graph_utils import add_graphs_tuples\n",
    "from models.train_utils import create_input_iter\n",
    "from models.egnn_jax import EGNN\n",
    "from models.graph_utils import rotate_representation"
   ]
  },
  {
   "cell_type": "code",
   "execution_count": 4,
   "id": "9a1c76b5-abab-4b40-89fd-dc128c44a06d",
   "metadata": {},
   "outputs": [],
   "source": [
    "from datasets import load_data"
   ]
  },
  {
   "cell_type": "code",
   "execution_count": 5,
   "id": "038f35cf-6d0d-4662-87d1-4c2909d9d4f0",
   "metadata": {},
   "outputs": [],
   "source": [
    "n_nodes = 300\n",
    "n_batch = 4\n",
    "n_samples = 4"
   ]
  },
  {
   "cell_type": "code",
   "execution_count": 6,
   "id": "026efde9-0725-4f6b-964e-f8e3c18733fe",
   "metadata": {},
   "outputs": [
    {
     "name": "stdout",
     "output_type": "stream",
     "text": [
      "Metal device set to: Apple M1 Pro\n",
      "\n",
      "systemMemory: 32.00 GB\n",
      "maxCacheSize: 10.67 GB\n",
      "\n"
     ]
    }
   ],
   "source": [
    "train_ds, norm_dict = load_data(\"nbody\", 3, n_nodes, n_batch, 234, small=True, n_samples=n_samples)"
   ]
  },
  {
   "cell_type": "code",
   "execution_count": 7,
   "id": "e3100536-e241-4ffe-b9cc-77dca0ae32bf",
   "metadata": {},
   "outputs": [
    {
     "data": {
      "text/plain": [
       "(497.149658203125, 499.62109375, 498.3173522949219)"
      ]
     },
     "execution_count": 7,
     "metadata": {},
     "output_type": "execute_result"
    }
   ],
   "source": [
    "tuple(map(float, norm_dict['mean']))"
   ]
  },
  {
   "cell_type": "code",
   "execution_count": 8,
   "id": "431b71dd-8ed7-4ade-86b3-bfd0ad64869d",
   "metadata": {},
   "outputs": [],
   "source": [
    "batches = create_input_iter(train_ds)\n",
    "x_data = next(batches)\n",
    "x = x_data[0][0]\n",
    "cond = x_data[1][0]"
   ]
  },
  {
   "cell_type": "code",
   "execution_count": 9,
   "id": "bbf52d15-53e7-473d-a48b-98affa5d44d5",
   "metadata": {},
   "outputs": [],
   "source": [
    "k = 20"
   ]
  },
  {
   "cell_type": "code",
   "execution_count": 10,
   "id": "79afde5e-eef2-47c1-8122-ad2bcb0dea71",
   "metadata": {},
   "outputs": [],
   "source": [
    "sources, targets = jax.vmap(nearest_neighbors, in_axes=(0, None))(x, k)"
   ]
  },
  {
   "cell_type": "code",
   "execution_count": 11,
   "id": "9462aa8c-bdfd-4e83-8f77-a84b6b805cd9",
   "metadata": {},
   "outputs": [],
   "source": [
    "def translate_pbc(coordinates, translation_vector, box_size):\n",
    "    \"\"\"\n",
    "    Translate a batch of coordinates and apply periodic boundary conditions.\n",
    "\n",
    "    :param coordinates: np.array of shape (batch, points, 3) containing the coordinates\n",
    "    :param translation_vector: np.array of shape (3,) containing the translation vector\n",
    "    :param box_size: float representing the box size\n",
    "    :return: np.array of shape (batch, points, 3) containing the translated coordinates\n",
    "    \"\"\"\n",
    "\n",
    "    # Translate the coordinates\n",
    "    translated_coordinates = coordinates + translation_vector\n",
    "\n",
    "    # Apply periodic boundary conditions\n",
    "    translated_coordinates = np.mod(translated_coordinates, box_size)\n",
    "\n",
    "    return translated_coordinates"
   ]
  },
  {
   "cell_type": "markdown",
   "id": "22637510-964f-4e2d-8a45-a852497233c5",
   "metadata": {},
   "source": [
    "## EGNN; equivariance test"
   ]
  },
  {
   "attachments": {},
   "cell_type": "markdown",
   "id": "2e08c764",
   "metadata": {},
   "source": [
    "Just the base GNN. Rotate the box and check if the output is equivariant."
   ]
  },
  {
   "cell_type": "code",
   "execution_count": 12,
   "id": "b66ea540-8106-4c5b-882b-37e76aa9dad8",
   "metadata": {},
   "outputs": [],
   "source": [
    "coord_mean, coord_std, box_size = norm_dict['mean'], norm_dict['std'], 1000.\n",
    "unit_cell = np.array([[1., 0., 0.], [0., 1., 0.], [0., 0., 1.]])"
   ]
  },
  {
   "cell_type": "code",
   "execution_count": 13,
   "id": "22e68794",
   "metadata": {},
   "outputs": [],
   "source": [
    "class GraphWrapper(nn.Module):\n",
    "    @nn.compact\n",
    "    def __call__(self, graph, pos):\n",
    "        return jax.vmap(EGNN(k=k), in_axes=(0, 0, 0, 0, None, None, None, None))(graph, pos, None, None, coord_mean, coord_std, box_size, unit_cell)\n",
    "    \n",
    "model = GraphWrapper()\n",
    "rng = jax.random.PRNGKey(42)"
   ]
  },
  {
   "cell_type": "code",
   "execution_count": 14,
   "id": "b2a59c8d-f385-41b2-aad0-cfa582bd9074",
   "metadata": {},
   "outputs": [],
   "source": [
    "d2 = np.sum(x ** 2, axis=-1, keepdims=True)"
   ]
  },
  {
   "cell_type": "markdown",
   "id": "3e08c397-2fa8-4101-bd0f-4600ba69fe19",
   "metadata": {},
   "source": [
    "### Rotation equivariance"
   ]
  },
  {
   "cell_type": "code",
   "execution_count": 15,
   "id": "7d4781e8-2433-4128-a30e-ce756038679e",
   "metadata": {},
   "outputs": [],
   "source": [
    "pos = x\n",
    "pos_rot = jax.vmap(rotate_representation, in_axes=(0,None,None))(x, 45, np.array([0., 0., 1.]))"
   ]
  },
  {
   "cell_type": "code",
   "execution_count": 16,
   "id": "4956f4a2-37ce-41c7-b597-1eb071a3cbaf",
   "metadata": {},
   "outputs": [],
   "source": [
    "graph = jraph.GraphsTuple(\n",
    "          n_node=np.array(n_batch * [[n_nodes]]), \n",
    "          n_edge=np.array(n_batch * [[k]]),\n",
    "          nodes=d2, \n",
    "          edges=None,\n",
    "          globals=cond,\n",
    "          senders=sources,\n",
    "          receivers=targets)\n",
    "\n",
    "pos_out, _ = model.init_with_output(rng, graph, pos)"
   ]
  },
  {
   "cell_type": "code",
   "execution_count": 17,
   "id": "600f33c5-63a9-4caf-92a3-6a2017a6e60f",
   "metadata": {},
   "outputs": [],
   "source": [
    "graph = jraph.GraphsTuple(\n",
    "          n_node=np.array(n_batch * [[n_nodes]]), \n",
    "          n_edge=np.array(n_batch * [[k]]),\n",
    "          nodes=d2, \n",
    "          edges=None,\n",
    "          globals=cond,\n",
    "          senders=sources,\n",
    "          receivers=targets)\n",
    "\n",
    "pos_rot_out, _ = model.init_with_output(rng, graph, pos_rot)"
   ]
  },
  {
   "cell_type": "code",
   "execution_count": 18,
   "id": "ea568226-5f87-44ca-9e12-5fed6c9895aa",
   "metadata": {},
   "outputs": [],
   "source": [
    "pos_out_rot = jax.vmap(rotate_representation, in_axes=(0,None,None))(pos_out, 45, np.array([0., 0., 1.]))"
   ]
  },
  {
   "cell_type": "code",
   "execution_count": 19,
   "id": "0206a382-4aba-4275-83c5-4782eb22cbeb",
   "metadata": {},
   "outputs": [
    {
     "data": {
      "text/plain": [
       "Array([[[0.9999992 , 0.99999917, 0.9999932 ],\n",
       "        [1.0000018 , 0.99999535, 1.000002  ],\n",
       "        [0.99999815, 1.0000008 , 1.0000007 ],\n",
       "        ...,\n",
       "        [1.0000011 , 0.99999857, 0.9999997 ],\n",
       "        [0.99999946, 0.9999982 , 1.0000011 ],\n",
       "        [1.0000002 , 1.0000013 , 1.0000004 ]],\n",
       "\n",
       "       [[0.99999654, 1.0000008 , 0.99999994],\n",
       "        [0.99976325, 1.0000007 , 1.0000025 ],\n",
       "        [0.99999815, 1.0000017 , 1.0000105 ],\n",
       "        ...,\n",
       "        [1.000001  , 0.999988  , 0.9999959 ],\n",
       "        [1.0000021 , 0.99999875, 0.99997866],\n",
       "        [0.9999996 , 1.0000005 , 1.0000002 ]],\n",
       "\n",
       "       [[0.9999983 , 1.0000026 , 1.0000017 ],\n",
       "        [1.000001  , 0.9999997 , 1.0000017 ],\n",
       "        [0.9999988 , 0.9999992 , 0.99999946],\n",
       "        ...,\n",
       "        [1.0000005 , 1.0000013 , 0.9999972 ],\n",
       "        [1.0000033 , 0.9999987 , 0.9999967 ],\n",
       "        [1.        , 1.0000012 , 0.99999964]],\n",
       "\n",
       "       [[1.        , 1.0000004 , 0.9999998 ],\n",
       "        [0.9999999 , 0.99999934, 0.9999967 ],\n",
       "        [1.0000012 , 0.99999726, 1.0000001 ],\n",
       "        ...,\n",
       "        [1.0000002 , 0.99999875, 0.9999991 ],\n",
       "        [0.9999617 , 0.9999989 , 1.0000008 ],\n",
       "        [1.0000001 , 0.9999991 , 0.99999946]]], dtype=float32)"
      ]
     },
     "execution_count": 19,
     "metadata": {},
     "output_type": "execute_result"
    }
   ],
   "source": [
    "pos_rot_out / pos_out_rot"
   ]
  },
  {
   "cell_type": "markdown",
   "id": "84e00c4f-524e-4498-ab9a-9dc6f5b42d48",
   "metadata": {},
   "source": [
    "### Translation equivariance"
   ]
  },
  {
   "cell_type": "code",
   "execution_count": 20,
   "id": "a039c904-618d-4959-8fb8-1494d9f2e52d",
   "metadata": {},
   "outputs": [],
   "source": [
    "tran = np.array([-0.45, 0.9, -1.2])[None, None, :]\n",
    "pos_tran = pos + tran\n",
    "pos_out_tran = pos_out + tran"
   ]
  },
  {
   "cell_type": "code",
   "execution_count": 21,
   "id": "b9edccb8-5752-4153-b2fb-4cf0dafd26c4",
   "metadata": {},
   "outputs": [],
   "source": [
    "graph = jraph.GraphsTuple(\n",
    "          n_node=np.array(n_batch * [[n_nodes]]), \n",
    "          n_edge=np.array(n_batch * [[k]]),\n",
    "          nodes=d2, \n",
    "          edges=None,\n",
    "          globals=cond,\n",
    "          senders=sources,\n",
    "          receivers=targets)\n",
    "\n",
    "pos_tran_out, _ = model.init_with_output(rng, graph, pos_tran)"
   ]
  },
  {
   "cell_type": "code",
   "execution_count": 22,
   "id": "e029343e-9dc1-4ff7-b344-bf077f45d64c",
   "metadata": {},
   "outputs": [
    {
     "data": {
      "text/plain": [
       "Array([[[ 0.03320584,  0.07232709, -0.00206603],\n",
       "        [ 0.04164192, -0.0067274 , -0.00393614],\n",
       "        [-0.1801723 , -0.12467702,  0.04299268],\n",
       "        ...,\n",
       "        [-0.33494264, -0.03799701,  0.06276979],\n",
       "        [ 0.08157434, -0.05360464,  0.04211402],\n",
       "        [ 0.06376956, -0.01228087,  0.03388238]],\n",
       "\n",
       "       [[ 0.01924628, -0.05975367,  0.0434353 ],\n",
       "        [-0.09125391, -0.04417643,  0.00620808],\n",
       "        [ 0.04337419,  0.00823863,  0.00226015],\n",
       "        ...,\n",
       "        [ 0.02080166, -0.02710756, -0.00765987],\n",
       "        [ 0.13739301,  0.0395862 , -0.00122977],\n",
       "        [-0.06900207, -0.01373811,  0.00866589]],\n",
       "\n",
       "       [[-0.06808295,  0.01241031, -0.00937655],\n",
       "        [-0.0040789 ,  0.05547327,  0.03670129],\n",
       "        [-0.08305148, -0.1722638 , -0.04228091],\n",
       "        ...,\n",
       "        [ 0.1950271 , -0.05991929, -0.02405283],\n",
       "        [ 0.00660909, -0.01010211, -0.00094546],\n",
       "        [-0.07162683,  0.01844902,  0.02052966]],\n",
       "\n",
       "       [[-0.12930466, -0.18525133,  0.03146324],\n",
       "        [-0.12059309,  0.20839639,  0.00615239],\n",
       "        [-0.18866923,  0.08982415,  0.13231657],\n",
       "        ...,\n",
       "        [ 0.00751309,  0.0346921 ,  0.03593161],\n",
       "        [-0.24742529, -0.10765048, -0.01198208],\n",
       "        [ 0.19937436, -0.07179879, -0.0058197 ]]], dtype=float32)"
      ]
     },
     "execution_count": 22,
     "metadata": {},
     "output_type": "execute_result"
    }
   ],
   "source": [
    "pos_tran_out / pos_out_tran"
   ]
  },
  {
   "cell_type": "code",
   "execution_count": 23,
   "id": "303c8781-6107-41ab-a3af-b80a7cc0aa6a",
   "metadata": {},
   "outputs": [],
   "source": [
    "tran = np.array([700., 100., 800.])\n",
    "pos_tran = (translate_pbc(pos * coord_std + coord_mean, tran, 1000.) - coord_mean) / coord_std\n",
    "pos_out_tran = (translate_pbc(pos_out * coord_std + coord_mean, tran, 1000.) - coord_mean) / coord_std"
   ]
  },
  {
   "cell_type": "code",
   "execution_count": 24,
   "id": "748c2f79-f0bd-4690-8281-d4af61ec71a2",
   "metadata": {},
   "outputs": [],
   "source": [
    "graph = jraph.GraphsTuple(\n",
    "          n_node=np.array(n_batch * [[n_nodes]]), \n",
    "          n_edge=np.array(n_batch * [[k]]),\n",
    "          nodes=d2, \n",
    "          edges=None,\n",
    "          globals=cond,\n",
    "          senders=sources,\n",
    "          receivers=targets)\n",
    "\n",
    "pos_tran_out, _ = model.init_with_output(rng, graph, pos_tran)"
   ]
  },
  {
   "cell_type": "code",
   "execution_count": 25,
   "id": "8bfd1fc2-3112-4c7e-a483-8a22a369684a",
   "metadata": {},
   "outputs": [
    {
     "data": {
      "text/plain": [
       "Array([[[ 0.01476497,  0.16719201, -0.00354911],\n",
       "        [ 0.01860623, -0.01750798, -0.00677105],\n",
       "        [-0.07136616, -0.39947367,  0.07154691],\n",
       "        ...,\n",
       "        [-0.12293456, -0.10406701,  0.10304518],\n",
       "        [ 0.03730848, -0.15075488,  0.07012752],\n",
       "        [ 0.02886178, -0.03224593,  0.05674465]],\n",
       "\n",
       "       [[ 0.00848983, -0.16984475,  0.07226115],\n",
       "        [-0.03786865, -0.12225688,  0.01060191],\n",
       "        [ 0.01939959,  0.02094215,  0.00387072],\n",
       "        ...,\n",
       "        [ 0.00918403, -0.07291285, -0.01321175],\n",
       "        [ 0.06498057,  0.09594934, -0.00211129],\n",
       "        [-0.02898026, -0.03615687,  0.0147734 ]],\n",
       "\n",
       "       [[-0.02860843,  0.03134292, -0.01619264],\n",
       "        [-0.00177567,  0.13136283,  0.06134478],\n",
       "        [-0.03461697, -0.6087125 , -0.07478838],\n",
       "        ...,\n",
       "        [ 0.09560551, -0.17036463, -0.04198116],\n",
       "        [ 0.00289449, -0.02643273, -0.00162288],\n",
       "        [-0.03003986,  0.04616354,  0.03470574]],\n",
       "\n",
       "       [[-0.05258632, -0.6735099 ,  0.05278239],\n",
       "        [-0.0492691 ,  0.4040067 ,  0.01050726],\n",
       "        [-0.0744083 ,  0.20262595,  0.20734319],\n",
       "        ...,\n",
       "        [ 0.00329218,  0.08470143,  0.0600906 ],\n",
       "        [-0.09474441, -0.33378232, -0.02073124],\n",
       "        [ 0.09800661, -0.20844693, -0.01002463]]], dtype=float32)"
      ]
     },
     "execution_count": 25,
     "metadata": {},
     "output_type": "execute_result"
    }
   ],
   "source": [
    "pos_tran_out / pos_out_tran"
   ]
  },
  {
   "cell_type": "markdown",
   "id": "03665d6e-ce19-431c-b777-870eb4d2ebd0",
   "metadata": {},
   "source": [
    "## Look at VLB loss"
   ]
  },
  {
   "cell_type": "code",
   "execution_count": 26,
   "id": "2d97924d-601d-4bae-8169-79295f841e57",
   "metadata": {},
   "outputs": [],
   "source": [
    "from models.diffusion import VariationalDiffusionModel\n",
    "from flax.core import FrozenDict\n",
    "from models.diffusion_utils import loss_vdm\n",
    "from models.train_utils import create_input_iter, param_count, train_step"
   ]
  },
  {
   "cell_type": "code",
   "execution_count": 27,
   "id": "f0d55ae1-aad7-49c2-a22a-e0e909da0609",
   "metadata": {},
   "outputs": [],
   "source": [
    "train_ds, norm_dict_tmp = load_data(\"nbody\", 3, n_nodes, n_batch, 23, small=True)"
   ]
  },
  {
   "cell_type": "code",
   "execution_count": 28,
   "id": "5b51828d-2aad-40c9-b15a-841f7b681085",
   "metadata": {},
   "outputs": [],
   "source": [
    "batches = create_input_iter(train_ds)"
   ]
  },
  {
   "cell_type": "code",
   "execution_count": 29,
   "id": "7956fb54-4733-42df-9ac5-7760c0ba1d88",
   "metadata": {},
   "outputs": [],
   "source": [
    "x, conditioning, mask = next(batches)\n",
    "x, conditioning, mask = x[0], conditioning[0], mask[0]"
   ]
  },
  {
   "cell_type": "code",
   "execution_count": 30,
   "id": "8324112e-6510-487c-b4c6-6084bbf483de",
   "metadata": {},
   "outputs": [],
   "source": [
    "score_dict = FrozenDict({\"k\":20, \"n_pos_features\":3})  # GNN args\n",
    "# score_dict = FrozenDict({\"k\":20, \"n_pos_features\":3, \"latent_size\":53, \"num_mlp_layers\":2, \"message_passing_steps\":4})  # GNN args\n",
    "score = \"egnn\"\n",
    "\n",
    "encoder_dict = decoder_dict = FrozenDict({})\n",
    "norm_dict = FrozenDict({\"x_mean\":tuple(map(float, norm_dict_tmp['mean'])), \"x_std\":tuple(map(float, norm_dict_tmp['std'])), \"box_size\":1000.})  # GNN args\n",
    "\n",
    "vdm = VariationalDiffusionModel(\n",
    "          timesteps=0, \n",
    "          d_t_embedding=16,\n",
    "          d_feature=3,\n",
    "          score=score,\n",
    "          score_dict=score_dict,\n",
    "          n_classes=0,\n",
    "          embed_context=True,\n",
    "          d_context_embedding=16,\n",
    "          noise_schedule=\"learned_linear\",\n",
    "          gamma_min=-8.,\n",
    "          gamma_max=14.,\n",
    "          use_encdec=False,\n",
    "          encoder_dict=encoder_dict,\n",
    "          decoder_dict=decoder_dict,\n",
    "          norm_dict=norm_dict)"
   ]
  },
  {
   "cell_type": "code",
   "execution_count": 31,
   "id": "109bc48e-b1c5-4c79-ba17-15fffa7ba101",
   "metadata": {},
   "outputs": [
    {
     "data": {
      "text/plain": [
       "((4, 300, 3), (4, 2), (4, 300))"
      ]
     },
     "execution_count": 31,
     "metadata": {},
     "output_type": "execute_result"
    }
   ],
   "source": [
    "x.shape, conditioning.shape, mask.shape"
   ]
  },
  {
   "cell_type": "code",
   "execution_count": 32,
   "id": "0ed03aa8-7c14-4786-b8b5-343e100f10b1",
   "metadata": {},
   "outputs": [],
   "source": [
    "rng = jax.random.PRNGKey(42)\n",
    "out, params = vdm.init_with_output({\"sample\": rng, \"params\": rng}, x, conditioning, mask);"
   ]
  },
  {
   "cell_type": "markdown",
   "id": "7ec17d54-e055-4d0f-ae2e-356e8fae8865",
   "metadata": {},
   "source": [
    "### Check rotational invariance of loss"
   ]
  },
  {
   "cell_type": "code",
   "execution_count": 33,
   "id": "1faa61cb-66c4-40ed-b5d3-2e681c3bd0a3",
   "metadata": {},
   "outputs": [
    {
     "data": {
      "text/plain": [
       "Array([7.3247313, 6.392912 , 9.850148 , 8.907413 ], dtype=float32)"
      ]
     },
     "execution_count": 33,
     "metadata": {},
     "output_type": "execute_result"
    }
   ],
   "source": [
    "loss_diff, loss_klz, loss_recon = vdm.apply(params, x, conditioning, mask, rngs={\"sample\": rng})\n",
    "loss_batch = (((loss_diff + loss_klz) * mask[:, :, None]).sum((-1, -2)) + (loss_recon * mask[:, :, None]).sum((-1, -2))) / mask.sum(-1)\n",
    "loss_batch"
   ]
  },
  {
   "cell_type": "code",
   "execution_count": 34,
   "id": "3b869ed1-0b03-43b9-a320-c0d1f70ea026",
   "metadata": {},
   "outputs": [
    {
     "data": {
      "text/plain": [
       "Array([7.2938166, 6.380317 , 9.85603  , 8.921877 ], dtype=float32)"
      ]
     },
     "execution_count": 34,
     "metadata": {},
     "output_type": "execute_result"
    }
   ],
   "source": [
    "x_rot = jax.vmap(rotate_representation, in_axes=(0,None,None))(x, 45., np.array([0., 0., 1.]))\n",
    "loss_diff, loss_klz, loss_recon = vdm.apply(params, x_rot, conditioning, mask, rngs={\"sample\": rng})\n",
    "loss_batch = (((loss_diff + loss_klz) * mask[:, :, None]).sum((-1, -2)) + (loss_recon * mask[:, :, None]).sum((-1, -2))) / mask.sum(-1)\n",
    "loss_batch"
   ]
  },
  {
   "cell_type": "code",
   "execution_count": 35,
   "id": "03bdd772-dbe5-4100-80e9-d2d02e471666",
   "metadata": {},
   "outputs": [
    {
     "data": {
      "text/plain": [
       "Array([7.3272314, 6.377573 , 9.846805 , 8.923607 ], dtype=float32)"
      ]
     },
     "execution_count": 35,
     "metadata": {},
     "output_type": "execute_result"
    }
   ],
   "source": [
    "x_rot = jax.vmap(rotate_representation, in_axes=(0,None,None))(x, 11., np.array([0., 1. / np.sqrt(2), 1. / np.sqrt(2)]))\n",
    "loss_diff, loss_klz, loss_recon = vdm.apply(params, x_rot, conditioning, mask, rngs={\"sample\": rng})\n",
    "loss_batch = (((loss_diff + loss_klz) * mask[:, :, None]).sum((-1, -2)) + (loss_recon * mask[:, :, None]).sum((-1, -2))) / mask.sum(-1)\n",
    "loss_batch"
   ]
  },
  {
   "cell_type": "markdown",
   "id": "43f08c06-e716-45da-a564-cbb1e98c1eb9",
   "metadata": {},
   "source": [
    "### Check rotational invariance of loss (individual components)"
   ]
  },
  {
   "cell_type": "code",
   "execution_count": 36,
   "id": "7e55db4d-62ab-4c5c-8714-77f77927cf31",
   "metadata": {},
   "outputs": [
    {
     "data": {
      "text/plain": [
       "Array([24.08755 , 23.132408, 26.505907, 25.524282], dtype=float32)"
      ]
     },
     "execution_count": 36,
     "metadata": {},
     "output_type": "execute_result"
    }
   ],
   "source": [
    "loss_diff, loss_klz, loss_recon = vdm.apply(params, x, conditioning, mask, rngs={\"sample\": rng})\n",
    "(loss_diff * mask[:, :, None]).sum((-1, -2)) / mask.sum(-1)"
   ]
  },
  {
   "cell_type": "code",
   "execution_count": 37,
   "id": "91c58f65-577c-4083-a3b3-100e12574fcd",
   "metadata": {},
   "outputs": [
    {
     "data": {
      "text/plain": [
       "Array([24.056625, 23.119818, 26.51179 , 25.538757], dtype=float32)"
      ]
     },
     "execution_count": 37,
     "metadata": {},
     "output_type": "execute_result"
    }
   ],
   "source": [
    "x_rot = jax.vmap(rotate_representation, in_axes=(0,None,None))(x, 45., np.array([0., 0., 1.]))\n",
    "loss_diff, loss_klz, loss_recon = vdm.apply(params, x_rot, conditioning, mask, rngs={\"sample\": rng})\n",
    "(loss_diff * mask[:, :, None]).sum((-1, -2)) / mask.sum(-1)"
   ]
  },
  {
   "cell_type": "code",
   "execution_count": 38,
   "id": "da8e218d-e782-4040-bc0f-2826e146513a",
   "metadata": {},
   "outputs": [
    {
     "data": {
      "text/plain": [
       "Array([24.069263, 23.097052, 26.483284, 25.678839], dtype=float32)"
      ]
     },
     "execution_count": 38,
     "metadata": {},
     "output_type": "execute_result"
    }
   ],
   "source": [
    "x_rot = jax.vmap(rotate_representation, in_axes=(0,None,None))(x, 93., np.array([0., 1. / np.sqrt(2), 1. / np.sqrt(2)]))\n",
    "loss_diff, loss_klz, loss_recon = vdm.apply(params, x_rot, conditioning, mask, rngs={\"sample\": rng})\n",
    "(loss_diff * mask[:, :, None]).sum((-1, -2)) / mask.sum(-1)"
   ]
  },
  {
   "attachments": {},
   "cell_type": "markdown",
   "id": "b18a0263-43cb-483b-8292-d23748c5b52c",
   "metadata": {},
   "source": [
    "### Check translational invariance of loss"
   ]
  },
  {
   "cell_type": "code",
   "execution_count": 39,
   "id": "c9431583",
   "metadata": {},
   "outputs": [
    {
     "data": {
      "text/plain": [
       "Array([7.3247313, 6.392912 , 9.850148 , 8.907413 ], dtype=float32)"
      ]
     },
     "execution_count": 39,
     "metadata": {},
     "output_type": "execute_result"
    }
   ],
   "source": [
    "loss_diff, loss_klz, loss_recon = vdm.apply(params, x, conditioning, mask, rngs={\"sample\": rng})\n",
    "loss_batch = (((loss_diff + loss_klz) * mask[:, :, None]).sum((-1, -2)) + (loss_recon * mask[:, :, None]).sum((-1, -2))) / mask.sum(-1)\n",
    "loss_batch"
   ]
  },
  {
   "cell_type": "code",
   "execution_count": 40,
   "id": "30b8eecc-4aaa-4c16-865b-4c2c6b182ea9",
   "metadata": {},
   "outputs": [
    {
     "data": {
      "text/plain": [
       "Array([7.3263364, 6.394575 , 9.851751 , 8.909053 ], dtype=float32)"
      ]
     },
     "execution_count": 40,
     "metadata": {},
     "output_type": "execute_result"
    }
   ],
   "source": [
    "# Translate\n",
    "tran = np.array([112., 12., -100.])\n",
    "# x_tran = (translate_pbc(x * coord_std + coord_mean, tran, 1000.) - coord_mean) / coord_std\n",
    "x_tran = (x * coord_std + coord_mean + tran) / coord_std\n",
    "\n",
    "loss_diff, loss_klz, loss_recon = vdm.apply(params, x_tran, conditioning, mask, rngs={\"sample\": rng})\n",
    "loss_batch = (((loss_diff + loss_klz) * mask[:, :, None]).sum((-1, -2)) + (loss_recon * mask[:, :, None]).sum((-1, -2))) / mask.sum(-1)\n",
    "loss_batch"
   ]
  },
  {
   "cell_type": "markdown",
   "id": "2c2afa55",
   "metadata": {},
   "source": [
    "## Train"
   ]
  },
  {
   "cell_type": "code",
   "execution_count": 41,
   "id": "5216ef2a",
   "metadata": {},
   "outputs": [],
   "source": [
    "import optax"
   ]
  },
  {
   "cell_type": "code",
   "execution_count": 42,
   "id": "e0400751",
   "metadata": {},
   "outputs": [],
   "source": [
    "train_steps = 2000\n",
    "\n",
    "schedule = optax.warmup_cosine_decay_schedule(init_value=0.0, peak_value=3e-4, warmup_steps=1, decay_steps=train_steps)\n",
    "opt = optax.adamw(learning_rate=schedule, weight_decay=1e-4)"
   ]
  },
  {
   "cell_type": "code",
   "execution_count": 43,
   "id": "82c28339",
   "metadata": {},
   "outputs": [],
   "source": [
    "@partial(jax.pmap, axis_name=\"batch\", static_broadcasted_argnums=(3, 4))\n",
    "def train_step(state, batch, rng, model, loss_fn):\n",
    "    \"\"\"Train for a single step.\"\"\"\n",
    "    x, conditioning, mask = batch\n",
    "    loss, grads = jax.value_and_grad(loss_fn)(state.params, model, rng, x, conditioning, mask)\n",
    "    grads = jax.lax.pmean(grads, \"batch\")\n",
    "    new_state = state.apply_gradients(grads=grads)\n",
    "    metrics = {\"loss\": jax.lax.pmean(loss, \"batch\")}\n",
    "    return new_state, metrics"
   ]
  },
  {
   "cell_type": "code",
   "execution_count": 43,
   "id": "ddd3ab25",
   "metadata": {},
   "outputs": [],
   "source": [
    "import flax\n",
    "from flax.training import train_state\n",
    "from tqdm import trange\n",
    "\n",
    "replicate = flax.jax_utils.replicate\n",
    "unreplicate = flax.jax_utils.unreplicate\n",
    "\n",
    "\n",
    "state = train_state.TrainState.create(apply_fn=vdm.apply, params=params, tx=opt)\n",
    "pstate = replicate(state)\n",
    "\n",
    "# with trange(train_steps) as steps:\n",
    "#     for step in steps:\n",
    "\n",
    "#         rng, *train_step_rng = jax.random.split(rng, num=jax.local_device_count() + 1)\n",
    "#         train_step_rng = np.asarray(train_step_rng)\n",
    "\n",
    "#         pstate, metrics = train_step(pstate, next(batches), train_step_rng, vdm, loss_vdm)\n",
    "#         steps.set_postfix(val=unreplicate(metrics[\"loss\"]))"
   ]
  },
  {
   "cell_type": "code",
   "execution_count": 48,
   "id": "0c431c9c",
   "metadata": {},
   "outputs": [],
   "source": [
    "from models.diffusion_utils import generate\n",
    "\n",
    "# Sample batch\n",
    "x, conditioning, mask = next(batches)\n",
    "x, conditioning, mask = x[0], conditioning[0], mask[0]\n",
    "\n",
    "# Gen\n",
    "rng = jax.random.PRNGKey(42)\n",
    "x_samples = generate(vdm, unreplicate(pstate).params, rng, (n_batch, n_nodes), conditioning, mask=mask, steps=100).mean()\n"
   ]
  },
  {
   "cell_type": "code",
   "execution_count": 49,
   "id": "f2dbb971",
   "metadata": {},
   "outputs": [
    {
     "data": {
      "text/plain": [
       "<matplotlib.collections.PathCollection at 0x31dd224f0>"
      ]
     },
     "execution_count": 49,
     "metadata": {},
     "output_type": "execute_result"
    },
    {
     "data": {
      "image/png": "[encoded data removed]",
      "text/plain": [
       "<Figure size 640x480 with 1 Axes>"
      ]
     },
     "metadata": {},
     "output_type": "display_data"
    }
   ],
   "source": [
    "idx = 2\n",
    "\n",
    "x_samples_unnorm = np.mod(x_samples * coord_std + coord_mean, 1000.)\n",
    "x_samples_box = (x_samples_unnorm - coord_mean) / coord_std\n",
    "\n",
    "plt.scatter(x_samples_box[idx, :, 0], x_samples_box[idx, :, 1])"
   ]
  },
  {
   "cell_type": "code",
   "execution_count": 50,
   "id": "040375a6",
   "metadata": {},
   "outputs": [
    {
     "data": {
      "text/plain": [
       "<matplotlib.collections.PathCollection at 0x2f56dfa30>"
      ]
     },
     "execution_count": 50,
     "metadata": {},
     "output_type": "execute_result"
    },
    {
     "data": {
      "image/png": "[encoded data removed]",
      "text/plain": [
       "<Figure size 640x480 with 1 Axes>"
      ]
     },
     "metadata": {},
     "output_type": "display_data"
    }
   ],
   "source": [
    "plt.scatter(x_samples[idx, :, 0], x_samples[idx, :, 1])"
   ]
  },
  {
   "cell_type": "code",
   "execution_count": 47,
   "id": "d1446e6c",
   "metadata": {},
   "outputs": [
    {
     "data": {
      "text/plain": [
       "<matplotlib.collections.PathCollection at 0x326ca4dc0>"
      ]
     },
     "execution_count": 47,
     "metadata": {},
     "output_type": "execute_result"
    },
    {
     "data": {
      "image/png": "[encoded data removed]",
      "text/plain": [
       "<Figure size 640x480 with 1 Axes>"
      ]
     },
     "metadata": {},
     "output_type": "display_data"
    }
   ],
   "source": [
    "plt.scatter(x[idx, :, 0], x[idx, :, 1])"
   ]
  },
  {
   "cell_type": "code",
   "execution_count": null,
   "id": "b668da6a",
   "metadata": {},
   "outputs": [],
   "source": []
  }
 ],
 "metadata": {
  "kernelspec": {
   "display_name": "Python 3 (ipykernel)",
   "language": "python",
   "name": "python3"
  },
  "language_info": {
   "codemirror_mode": {
    "name": "ipython",
    "version": 3
   },
   "file_extension": ".py",
   "mimetype": "text/x-python",
   "name": "python",
   "nbconvert_exporter": "python",
   "pygments_lexer": "ipython3",
   "version": "3.9.13"
  },
  "vscode": {
   "interpreter": {
    "hash": "4de8ebced33472280eb2d39fa7eb85126aa4b5bd288871aff7028464b844f159"
   }
  }
 },
 "nbformat": 4,
 "nbformat_minor": 5
}
