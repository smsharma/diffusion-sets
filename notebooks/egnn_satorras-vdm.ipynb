{
 "cells": [
  {
   "cell_type": "code",
   "execution_count": 1,
   "id": "6e5abee5-c59f-4c12-b08a-d75f1f4a9746",
   "metadata": {},
   "outputs": [],
   "source": [
    "import jax\n",
    "import jax.numpy as np\n",
    "import jraph\n",
    "import flax.linen as nn\n",
    "import numpy as onp\n",
    "import matplotlib.pyplot as plt\n",
    "\n",
    "from functools import partial\n",
    "\n",
    "from jax.config import config\n",
    "config.update(\"jax_debug_nans\", True)"
   ]
  },
  {
   "cell_type": "code",
   "execution_count": 2,
   "id": "92430e0d",
   "metadata": {},
   "outputs": [],
   "source": [
    "%load_ext autoreload\n",
    "%autoreload 2"
   ]
  },
  {
   "cell_type": "code",
   "execution_count": 3,
   "id": "38145712",
   "metadata": {},
   "outputs": [],
   "source": [
    "import sys\n",
    "sys.path.append(\"../\")\n",
    "\n",
    "from models.gnn import GraphConvNet\n",
    "from models.graph_utils import nearest_neighbors\n",
    "from models.graph_utils import add_graphs_tuples\n",
    "from models.train_utils import create_input_iter"
   ]
  },
  {
   "cell_type": "code",
   "execution_count": 4,
   "id": "9a1c76b5-abab-4b40-89fd-dc128c44a06d",
   "metadata": {},
   "outputs": [],
   "source": [
    "from datasets import load_data"
   ]
  },
  {
   "cell_type": "code",
   "execution_count": 5,
   "id": "038f35cf-6d0d-4662-87d1-4c2909d9d4f0",
   "metadata": {},
   "outputs": [],
   "source": [
    "n_nodes = 5000"
   ]
  },
  {
   "cell_type": "code",
   "execution_count": 6,
   "id": "026efde9-0725-4f6b-964e-f8e3c18733fe",
   "metadata": {},
   "outputs": [],
   "source": [
    "train_ds, norm_dict = load_data(\"nbody\", 3, n_nodes, 2, 234)"
   ]
  },
  {
   "cell_type": "code",
   "execution_count": 7,
   "id": "431b71dd-8ed7-4ade-86b3-bfd0ad64869d",
   "metadata": {},
   "outputs": [],
   "source": [
    "batches = create_input_iter(train_ds)\n",
    "x = next(batches)\n",
    "x = x[0][0]"
   ]
  },
  {
   "cell_type": "code",
   "execution_count": 8,
   "id": "bbf52d15-53e7-473d-a48b-98affa5d44d5",
   "metadata": {},
   "outputs": [],
   "source": [
    "k = 20"
   ]
  },
  {
   "cell_type": "code",
   "execution_count": 9,
   "id": "79afde5e-eef2-47c1-8122-ad2bcb0dea71",
   "metadata": {},
   "outputs": [],
   "source": [
    "sources, targets = jax.vmap(nearest_neighbors, in_axes=(0, None))(x, k)"
   ]
  },
  {
   "cell_type": "markdown",
   "id": "22637510-964f-4e2d-8a45-a852497233c5",
   "metadata": {},
   "source": [
    "## EGNN"
   ]
  },
  {
   "cell_type": "code",
   "execution_count": 10,
   "id": "611d36f3-c871-46ff-b427-0a641eb05295",
   "metadata": {},
   "outputs": [],
   "source": [
    "from models.egnn import EGNN"
   ]
  },
  {
   "cell_type": "code",
   "execution_count": 11,
   "id": "22e68794",
   "metadata": {},
   "outputs": [],
   "source": [
    "class GraphWrapper(nn.Module):\n",
    "    @nn.compact\n",
    "    def __call__(self, x):\n",
    "        model = jax.vmap(EGNN(\n",
    "                        message_passing_steps=2, d_hidden=64, n_layers=3, norm_layer=False, skip_connections=False,\n",
    "                ))\n",
    "        return model(x)\n",
    "    \n",
    "model = GraphWrapper()\n",
    "rng = jax.random.PRNGKey(42)"
   ]
  },
  {
   "cell_type": "code",
   "execution_count": 12,
   "id": "035f4e28-e28c-48d1-b1d6-ec0f82db5c01",
   "metadata": {},
   "outputs": [],
   "source": [
    "globals = np.array([np.arange(50)] * 2)"
   ]
  },
  {
   "cell_type": "code",
   "execution_count": 13,
   "id": "794a614f-a182-45a8-94e9-2f2028b0bfd8",
   "metadata": {},
   "outputs": [],
   "source": [
    "from einops import repeat\n",
    "edges = repeat(globals, \"b g -> b e g\", e = n_nodes * k)"
   ]
  },
  {
   "cell_type": "code",
   "execution_count": 1,
   "id": "4956f4a2-37ce-41c7-b597-1eb071a3cbaf",
   "metadata": {},
   "outputs": [],
   "source": [
    "graph = jraph.GraphsTuple(\n",
    "          n_node=np.array(2 * [[n_nodes]]), \n",
    "          n_edge=np.array(2 * [[k]]),\n",
    "          nodes=x, \n",
    "          edges=None,\n",
    "          globals=np.array([np.arange(50)] * 2),\n",
    "          senders=sources,\n",
    "          receivers=targets)\n",
    "\n",
    "graph_out, _ = model.init_with_output(rng, graph)\n",
    "\n",
    "x_out = graph_out.nodes"
   ]
  },
  {
   "cell_type": "code",
   "execution_count": 15,
   "id": "600f33c5-63a9-4caf-92a3-6a2017a6e60f",
   "metadata": {},
   "outputs": [
    {
     "data": {
      "text/plain": [
       "(2, 5000, 3)"
      ]
     },
     "execution_count": 15,
     "metadata": {},
     "output_type": "execute_result"
    }
   ],
   "source": [
    "x_out.shape"
   ]
  },
  {
   "cell_type": "markdown",
   "id": "03665d6e-ce19-431c-b777-870eb4d2ebd0",
   "metadata": {},
   "source": [
    "## Actually run VDM"
   ]
  },
  {
   "cell_type": "code",
   "execution_count": 16,
   "id": "2d97924d-601d-4bae-8169-79295f841e57",
   "metadata": {},
   "outputs": [],
   "source": [
    "from models.diffusion import VariationalDiffusionModel\n",
    "from flax.core import FrozenDict\n",
    "from models.diffusion_utils import loss_vdm\n",
    "from models.train_utils import create_input_iter, param_count, train_step"
   ]
  },
  {
   "cell_type": "code",
   "execution_count": 17,
   "id": "f0d55ae1-aad7-49c2-a22a-e0e909da0609",
   "metadata": {},
   "outputs": [],
   "source": [
    "train_ds, norm_dict = load_data(\"nbody\", 3, 5000, 4, 234)"
   ]
  },
  {
   "cell_type": "code",
   "execution_count": 18,
   "id": "5b51828d-2aad-40c9-b15a-841f7b681085",
   "metadata": {},
   "outputs": [],
   "source": [
    "batches = create_input_iter(train_ds)"
   ]
  },
  {
   "cell_type": "code",
   "execution_count": 19,
   "id": "7956fb54-4733-42df-9ac5-7760c0ba1d88",
   "metadata": {},
   "outputs": [],
   "source": [
    "x, conditioning, mask = next(batches)"
   ]
  },
  {
   "cell_type": "code",
   "execution_count": 20,
   "id": "8324112e-6510-487c-b4c6-6084bbf483de",
   "metadata": {},
   "outputs": [],
   "source": [
    "score_dict = FrozenDict({\"k\":20, \"message_passing_steps\":2, \"skip_connections\":False, \"norm_layer\":False, \"n_layers\":4, \"d_hidden\":16, \"n_pos_features\":3})  # GNN args\n",
    "encoder_dict = decoder_dict = FrozenDict({})\n",
    "score = \"egnn\"\n",
    "\n",
    "vdm = VariationalDiffusionModel(\n",
    "          timesteps=0, \n",
    "          d_t_embedding=16,\n",
    "          d_feature=3,\n",
    "          score=score,\n",
    "          score_dict=score_dict,\n",
    "          n_classes=2,\n",
    "          embed_context=True,\n",
    "          d_context_embedding=16,\n",
    "          noise_schedule=\"learned_linear\",\n",
    "          gamma_min=-8.,\n",
    "          gamma_max=14.,\n",
    "          use_encdec=False,\n",
    "          encoder_dict=encoder_dict,\n",
    "          decoder_dict=decoder_dict)"
   ]
  },
  {
   "cell_type": "code",
   "execution_count": 21,
   "id": "109bc48e-b1c5-4c79-ba17-15fffa7ba101",
   "metadata": {},
   "outputs": [
    {
     "data": {
      "text/plain": [
       "((1, 4, 5000, 3), (1, 4, 2), (1, 4, 5000))"
      ]
     },
     "execution_count": 21,
     "metadata": {},
     "output_type": "execute_result"
    }
   ],
   "source": [
    "x.shape, conditioning.shape, mask.shape"
   ]
  },
  {
   "cell_type": "code",
   "execution_count": 22,
   "id": "0ed03aa8-7c14-4786-b8b5-343e100f10b1",
   "metadata": {},
   "outputs": [],
   "source": [
    "# Pass a test batch through to initialize model\n",
    "n_smoke = 4\n",
    "\n",
    "x = np.array(x[0, :n_smoke])\n",
    "conditioning = np.array(conditioning[0, :n_smoke])\n",
    "mask = np.array(mask[0, :n_smoke])\n",
    "\n",
    "rng = jax.random.PRNGKey(42)\n",
    "out, params = vdm.init_with_output({\"sample\": rng, \"params\": rng}, x, conditioning, mask);"
   ]
  },
  {
   "cell_type": "code",
   "execution_count": 23,
   "id": "1faa61cb-66c4-40ed-b5d3-2e681c3bd0a3",
   "metadata": {},
   "outputs": [],
   "source": [
    "loss = loss_vdm(params, vdm, rng, x, np.zeros_like(conditioning), mask)"
   ]
  },
  {
   "cell_type": "code",
   "execution_count": 24,
   "id": "32419cae-702f-4175-92b8-2dbdafb10623",
   "metadata": {},
   "outputs": [
    {
     "ename": "FloatingPointError",
     "evalue": "invalid value (nan) encountered in jit(mul)",
     "output_type": "error",
     "traceback": [
      "\u001b[0;31m---------------------------------------------------------------------------\u001b[0m",
      "\u001b[0;31mFloatingPointError\u001b[0m                        Traceback (most recent call last)",
      "    \u001b[0;31m[... skipping hidden 1 frame]\u001b[0m\n",
      "File \u001b[0;32m~/.local/lib/python3.9/site-packages/jax/_src/profiler.py:314\u001b[0m, in \u001b[0;36mannotate_function.<locals>.wrapper\u001b[0;34m(*args, **kwargs)\u001b[0m\n\u001b[1;32m    313\u001b[0m \u001b[38;5;28;01mwith\u001b[39;00m TraceAnnotation(name, \u001b[38;5;241m*\u001b[39m\u001b[38;5;241m*\u001b[39mdecorator_kwargs):\n\u001b[0;32m--> 314\u001b[0m   \u001b[38;5;28;01mreturn\u001b[39;00m \u001b[43mfunc\u001b[49m\u001b[43m(\u001b[49m\u001b[38;5;241;43m*\u001b[39;49m\u001b[43margs\u001b[49m\u001b[43m,\u001b[49m\u001b[43m \u001b[49m\u001b[38;5;241;43m*\u001b[39;49m\u001b[38;5;241;43m*\u001b[39;49m\u001b[43mkwargs\u001b[49m\u001b[43m)\u001b[49m\n\u001b[1;32m    315\u001b[0m \u001b[38;5;28;01mreturn\u001b[39;00m wrapper\n",
      "File \u001b[0;32m~/.local/lib/python3.9/site-packages/jax/_src/interpreters/pxla.py:2171\u001b[0m, in \u001b[0;36mExecuteReplicated.__call__\u001b[0;34m(self, *args)\u001b[0m\n\u001b[1;32m   2170\u001b[0m   \u001b[38;5;28;01mfor\u001b[39;00m bufs \u001b[38;5;129;01min\u001b[39;00m out_bufs:\n\u001b[0;32m-> 2171\u001b[0m     \u001b[43mdispatch\u001b[49m\u001b[38;5;241;43m.\u001b[39;49m\u001b[43mcheck_special\u001b[49m\u001b[43m(\u001b[49m\u001b[38;5;28;43mself\u001b[39;49m\u001b[38;5;241;43m.\u001b[39;49m\u001b[43mname\u001b[49m\u001b[43m,\u001b[49m\u001b[43m \u001b[49m\u001b[43mbufs\u001b[49m\u001b[43m)\u001b[49m\n\u001b[1;32m   2172\u001b[0m \u001b[38;5;28;01mreturn\u001b[39;00m \u001b[38;5;28mself\u001b[39m\u001b[38;5;241m.\u001b[39mout_handler(out_bufs)\n",
      "File \u001b[0;32m~/.local/lib/python3.9/site-packages/jax/_src/dispatch.py:870\u001b[0m, in \u001b[0;36mcheck_special\u001b[0;34m(name, bufs)\u001b[0m\n\u001b[1;32m    869\u001b[0m \u001b[38;5;28;01mfor\u001b[39;00m buf \u001b[38;5;129;01min\u001b[39;00m bufs:\n\u001b[0;32m--> 870\u001b[0m   \u001b[43m_check_special\u001b[49m\u001b[43m(\u001b[49m\u001b[43mname\u001b[49m\u001b[43m,\u001b[49m\u001b[43m \u001b[49m\u001b[43mbuf\u001b[49m\u001b[38;5;241;43m.\u001b[39;49m\u001b[43mdtype\u001b[49m\u001b[43m,\u001b[49m\u001b[43m \u001b[49m\u001b[43mbuf\u001b[49m\u001b[43m)\u001b[49m\n",
      "File \u001b[0;32m~/.local/lib/python3.9/site-packages/jax/_src/dispatch.py:875\u001b[0m, in \u001b[0;36m_check_special\u001b[0;34m(name, dtype, buf)\u001b[0m\n\u001b[1;32m    874\u001b[0m \u001b[38;5;28;01mif\u001b[39;00m config\u001b[38;5;241m.\u001b[39mjax_debug_nans \u001b[38;5;129;01mand\u001b[39;00m np\u001b[38;5;241m.\u001b[39many(np\u001b[38;5;241m.\u001b[39misnan(np\u001b[38;5;241m.\u001b[39masarray(buf))):\n\u001b[0;32m--> 875\u001b[0m   \u001b[38;5;28;01mraise\u001b[39;00m \u001b[38;5;167;01mFloatingPointError\u001b[39;00m(\u001b[38;5;124mf\u001b[39m\u001b[38;5;124m\"\u001b[39m\u001b[38;5;124minvalid value (nan) encountered in \u001b[39m\u001b[38;5;132;01m{\u001b[39;00mname\u001b[38;5;132;01m}\u001b[39;00m\u001b[38;5;124m\"\u001b[39m)\n\u001b[1;32m    876\u001b[0m \u001b[38;5;28;01mif\u001b[39;00m config\u001b[38;5;241m.\u001b[39mjax_debug_infs \u001b[38;5;129;01mand\u001b[39;00m np\u001b[38;5;241m.\u001b[39many(np\u001b[38;5;241m.\u001b[39misinf(np\u001b[38;5;241m.\u001b[39masarray(buf))):\n",
      "\u001b[0;31mFloatingPointError\u001b[0m: invalid value (nan) encountered in jit(<lambda>)",
      "\nDuring handling of the above exception, another exception occurred:\n",
      "\u001b[0;31mJaxStackTraceBeforeTransformation\u001b[0m         Traceback (most recent call last)",
      "File \u001b[0;32m/n/sw/eb/apps/centos7/Anaconda3/2022.05/lib/python3.9/runpy.py:197\u001b[0m, in \u001b[0;36m_run_module_as_main\u001b[0;34m(***failed resolving arguments***)\u001b[0m\n\u001b[1;32m    196\u001b[0m     sys\u001b[38;5;241m.\u001b[39margv[\u001b[38;5;241m0\u001b[39m] \u001b[38;5;241m=\u001b[39m mod_spec\u001b[38;5;241m.\u001b[39morigin\n\u001b[0;32m--> 197\u001b[0m \u001b[38;5;28;01mreturn\u001b[39;00m _run_code(code, main_globals, \u001b[38;5;28;01mNone\u001b[39;00m,\n\u001b[1;32m    198\u001b[0m                  \u001b[38;5;124m\"\u001b[39m\u001b[38;5;124m__main__\u001b[39m\u001b[38;5;124m\"\u001b[39m, mod_spec)\n",
      "File \u001b[0;32m/n/sw/eb/apps/centos7/Anaconda3/2022.05/lib/python3.9/runpy.py:87\u001b[0m, in \u001b[0;36m_run_code\u001b[0;34m(***failed resolving arguments***)\u001b[0m\n\u001b[1;32m     80\u001b[0m run_globals\u001b[38;5;241m.\u001b[39mupdate(\u001b[38;5;18m__name__\u001b[39m \u001b[38;5;241m=\u001b[39m mod_name,\n\u001b[1;32m     81\u001b[0m                    \u001b[38;5;18m__file__\u001b[39m \u001b[38;5;241m=\u001b[39m fname,\n\u001b[1;32m     82\u001b[0m                    __cached__ \u001b[38;5;241m=\u001b[39m cached,\n\u001b[0;32m   (...)\u001b[0m\n\u001b[1;32m     85\u001b[0m                    __package__ \u001b[38;5;241m=\u001b[39m pkg_name,\n\u001b[1;32m     86\u001b[0m                    __spec__ \u001b[38;5;241m=\u001b[39m mod_spec)\n\u001b[0;32m---> 87\u001b[0m exec(code, run_globals)\n\u001b[1;32m     88\u001b[0m \u001b[38;5;28;01mreturn\u001b[39;00m run_globals\n",
      "File \u001b[0;32m/n/sw/eb/apps/centos7/Anaconda3/2022.05/lib/python3.9/site-packages/ipykernel_launcher.py:16\u001b[0m, in \u001b[0;36m<module>\u001b[0;34m\u001b[0m\n\u001b[1;32m     15\u001b[0m \u001b[38;5;28;01mfrom\u001b[39;00m \u001b[38;5;21;01mipykernel\u001b[39;00m \u001b[38;5;28;01mimport\u001b[39;00m kernelapp \u001b[38;5;28;01mas\u001b[39;00m app\n\u001b[0;32m---> 16\u001b[0m app\u001b[38;5;241m.\u001b[39mlaunch_new_instance()\n",
      "File \u001b[0;32m~/.local/lib/python3.9/site-packages/traitlets/config/application.py:1043\u001b[0m, in \u001b[0;36mApplication.launch_instance\u001b[0;34m(***failed resolving arguments***)\u001b[0m\n\u001b[1;32m   1042\u001b[0m app\u001b[38;5;241m.\u001b[39minitialize(argv)\n\u001b[0;32m-> 1043\u001b[0m app\u001b[38;5;241m.\u001b[39mstart()\n",
      "File \u001b[0;32m/n/sw/eb/apps/centos7/Anaconda3/2022.05/lib/python3.9/site-packages/ipykernel/kernelapp.py:677\u001b[0m, in \u001b[0;36mIPKernelApp.start\u001b[0;34m(***failed resolving arguments***)\u001b[0m\n\u001b[1;32m    676\u001b[0m \u001b[38;5;28;01mtry\u001b[39;00m:\n\u001b[0;32m--> 677\u001b[0m     \u001b[38;5;28mself\u001b[39m\u001b[38;5;241m.\u001b[39mio_loop\u001b[38;5;241m.\u001b[39mstart()\n\u001b[1;32m    678\u001b[0m \u001b[38;5;28;01mexcept\u001b[39;00m \u001b[38;5;167;01mKeyboardInterrupt\u001b[39;00m:\n",
      "File \u001b[0;32m/n/sw/eb/apps/centos7/Anaconda3/2022.05/lib/python3.9/site-packages/tornado/platform/asyncio.py:199\u001b[0m, in \u001b[0;36mBaseAsyncIOLoop.start\u001b[0;34m(***failed resolving arguments***)\u001b[0m\n\u001b[1;32m    198\u001b[0m     asyncio\u001b[38;5;241m.\u001b[39mset_event_loop(\u001b[38;5;28mself\u001b[39m\u001b[38;5;241m.\u001b[39masyncio_loop)\n\u001b[0;32m--> 199\u001b[0m     \u001b[38;5;28mself\u001b[39m\u001b[38;5;241m.\u001b[39masyncio_loop\u001b[38;5;241m.\u001b[39mrun_forever()\n\u001b[1;32m    200\u001b[0m \u001b[38;5;28;01mfinally\u001b[39;00m:\n",
      "File \u001b[0;32m/n/sw/eb/apps/centos7/Anaconda3/2022.05/lib/python3.9/asyncio/base_events.py:601\u001b[0m, in \u001b[0;36mBaseEventLoop.run_forever\u001b[0;34m(***failed resolving arguments***)\u001b[0m\n\u001b[1;32m    600\u001b[0m \u001b[38;5;28;01mwhile\u001b[39;00m \u001b[38;5;28;01mTrue\u001b[39;00m:\n\u001b[0;32m--> 601\u001b[0m     \u001b[38;5;28mself\u001b[39m\u001b[38;5;241m.\u001b[39m_run_once()\n\u001b[1;32m    602\u001b[0m     \u001b[38;5;28;01mif\u001b[39;00m \u001b[38;5;28mself\u001b[39m\u001b[38;5;241m.\u001b[39m_stopping:\n",
      "File \u001b[0;32m/n/sw/eb/apps/centos7/Anaconda3/2022.05/lib/python3.9/asyncio/base_events.py:1905\u001b[0m, in \u001b[0;36mBaseEventLoop._run_once\u001b[0;34m(***failed resolving arguments***)\u001b[0m\n\u001b[1;32m   1904\u001b[0m     \u001b[38;5;28;01melse\u001b[39;00m:\n\u001b[0;32m-> 1905\u001b[0m         handle\u001b[38;5;241m.\u001b[39m_run()\n\u001b[1;32m   1906\u001b[0m handle \u001b[38;5;241m=\u001b[39m \u001b[38;5;28;01mNone\u001b[39;00m\n",
      "File \u001b[0;32m/n/sw/eb/apps/centos7/Anaconda3/2022.05/lib/python3.9/asyncio/events.py:80\u001b[0m, in \u001b[0;36mHandle._run\u001b[0;34m(***failed resolving arguments***)\u001b[0m\n\u001b[1;32m     79\u001b[0m \u001b[38;5;28;01mtry\u001b[39;00m:\n\u001b[0;32m---> 80\u001b[0m     \u001b[38;5;28mself\u001b[39m\u001b[38;5;241m.\u001b[39m_context\u001b[38;5;241m.\u001b[39mrun(\u001b[38;5;28mself\u001b[39m\u001b[38;5;241m.\u001b[39m_callback, \u001b[38;5;241m*\u001b[39m\u001b[38;5;28mself\u001b[39m\u001b[38;5;241m.\u001b[39m_args)\n\u001b[1;32m     81\u001b[0m \u001b[38;5;28;01mexcept\u001b[39;00m (\u001b[38;5;167;01mSystemExit\u001b[39;00m, \u001b[38;5;167;01mKeyboardInterrupt\u001b[39;00m):\n",
      "File \u001b[0;32m/n/sw/eb/apps/centos7/Anaconda3/2022.05/lib/python3.9/site-packages/ipykernel/kernelbase.py:471\u001b[0m, in \u001b[0;36mKernel.dispatch_queue\u001b[0;34m(***failed resolving arguments***)\u001b[0m\n\u001b[1;32m    470\u001b[0m \u001b[38;5;28;01mtry\u001b[39;00m:\n\u001b[0;32m--> 471\u001b[0m     \u001b[38;5;28;01mawait\u001b[39;00m \u001b[38;5;28mself\u001b[39m\u001b[38;5;241m.\u001b[39mprocess_one()\n\u001b[1;32m    472\u001b[0m \u001b[38;5;28;01mexcept\u001b[39;00m \u001b[38;5;167;01mException\u001b[39;00m:\n",
      "File \u001b[0;32m/n/sw/eb/apps/centos7/Anaconda3/2022.05/lib/python3.9/site-packages/ipykernel/kernelbase.py:460\u001b[0m, in \u001b[0;36mKernel.process_one\u001b[0;34m(***failed resolving arguments***)\u001b[0m\n\u001b[1;32m    459\u001b[0m         \u001b[38;5;28;01mreturn\u001b[39;00m \u001b[38;5;28;01mNone\u001b[39;00m\n\u001b[0;32m--> 460\u001b[0m \u001b[38;5;28;01mawait\u001b[39;00m dispatch(\u001b[38;5;241m*\u001b[39margs)\n",
      "File \u001b[0;32m/n/sw/eb/apps/centos7/Anaconda3/2022.05/lib/python3.9/site-packages/ipykernel/kernelbase.py:367\u001b[0m, in \u001b[0;36mKernel.dispatch_shell\u001b[0;34m(***failed resolving arguments***)\u001b[0m\n\u001b[1;32m    366\u001b[0m     \u001b[38;5;28;01mif\u001b[39;00m inspect\u001b[38;5;241m.\u001b[39misawaitable(result):\n\u001b[0;32m--> 367\u001b[0m         \u001b[38;5;28;01mawait\u001b[39;00m result\n\u001b[1;32m    368\u001b[0m \u001b[38;5;28;01mexcept\u001b[39;00m \u001b[38;5;167;01mException\u001b[39;00m:\n",
      "File \u001b[0;32m/n/sw/eb/apps/centos7/Anaconda3/2022.05/lib/python3.9/site-packages/ipykernel/kernelbase.py:662\u001b[0m, in \u001b[0;36mKernel.execute_request\u001b[0;34m(***failed resolving arguments***)\u001b[0m\n\u001b[1;32m    661\u001b[0m \u001b[38;5;28;01mif\u001b[39;00m inspect\u001b[38;5;241m.\u001b[39misawaitable(reply_content):\n\u001b[0;32m--> 662\u001b[0m     reply_content \u001b[38;5;241m=\u001b[39m \u001b[38;5;28;01mawait\u001b[39;00m reply_content\n\u001b[1;32m    664\u001b[0m \u001b[38;5;66;03m# Flush output before sending the reply.\u001b[39;00m\n",
      "File \u001b[0;32m/n/sw/eb/apps/centos7/Anaconda3/2022.05/lib/python3.9/site-packages/ipykernel/ipkernel.py:360\u001b[0m, in \u001b[0;36mIPythonKernel.do_execute\u001b[0;34m(***failed resolving arguments***)\u001b[0m\n\u001b[1;32m    356\u001b[0m     \u001b[38;5;28;01melse\u001b[39;00m:\n\u001b[1;32m    357\u001b[0m         \u001b[38;5;66;03m# runner isn't already running,\u001b[39;00m\n\u001b[1;32m    358\u001b[0m         \u001b[38;5;66;03m# make synchronous call,\u001b[39;00m\n\u001b[1;32m    359\u001b[0m         \u001b[38;5;66;03m# letting shell dispatch to loop runners\u001b[39;00m\n\u001b[0;32m--> 360\u001b[0m         res \u001b[38;5;241m=\u001b[39m shell\u001b[38;5;241m.\u001b[39mrun_cell(code, store_history\u001b[38;5;241m=\u001b[39mstore_history, silent\u001b[38;5;241m=\u001b[39msilent)\n\u001b[1;32m    361\u001b[0m \u001b[38;5;28;01mfinally\u001b[39;00m:\n",
      "File \u001b[0;32m/n/sw/eb/apps/centos7/Anaconda3/2022.05/lib/python3.9/site-packages/ipykernel/zmqshell.py:532\u001b[0m, in \u001b[0;36mZMQInteractiveShell.run_cell\u001b[0;34m(***failed resolving arguments***)\u001b[0m\n\u001b[1;32m    531\u001b[0m \u001b[38;5;28mself\u001b[39m\u001b[38;5;241m.\u001b[39m_last_traceback \u001b[38;5;241m=\u001b[39m \u001b[38;5;28;01mNone\u001b[39;00m\n\u001b[0;32m--> 532\u001b[0m \u001b[38;5;28;01mreturn\u001b[39;00m \u001b[38;5;28msuper\u001b[39m()\u001b[38;5;241m.\u001b[39mrun_cell(\u001b[38;5;241m*\u001b[39margs, \u001b[38;5;241m*\u001b[39m\u001b[38;5;241m*\u001b[39mkwargs)\n",
      "File \u001b[0;32m/n/sw/eb/apps/centos7/Anaconda3/2022.05/lib/python3.9/site-packages/IPython/core/interactiveshell.py:2863\u001b[0m, in \u001b[0;36mInteractiveShell.run_cell\u001b[0;34m(***failed resolving arguments***)\u001b[0m\n\u001b[1;32m   2862\u001b[0m \u001b[38;5;28;01mtry\u001b[39;00m:\n\u001b[0;32m-> 2863\u001b[0m     result \u001b[38;5;241m=\u001b[39m \u001b[38;5;28mself\u001b[39m\u001b[38;5;241m.\u001b[39m_run_cell(\n\u001b[1;32m   2864\u001b[0m         raw_cell, store_history, silent, shell_futures)\n\u001b[1;32m   2865\u001b[0m \u001b[38;5;28;01mfinally\u001b[39;00m:\n",
      "File \u001b[0;32m/n/sw/eb/apps/centos7/Anaconda3/2022.05/lib/python3.9/site-packages/IPython/core/interactiveshell.py:2909\u001b[0m, in \u001b[0;36mInteractiveShell._run_cell\u001b[0;34m(***failed resolving arguments***)\u001b[0m\n\u001b[1;32m   2908\u001b[0m \u001b[38;5;28;01mtry\u001b[39;00m:\n\u001b[0;32m-> 2909\u001b[0m     \u001b[38;5;28;01mreturn\u001b[39;00m runner(coro)\n\u001b[1;32m   2910\u001b[0m \u001b[38;5;28;01mexcept\u001b[39;00m \u001b[38;5;167;01mBaseException\u001b[39;00m \u001b[38;5;28;01mas\u001b[39;00m e:\n",
      "File \u001b[0;32m/n/sw/eb/apps/centos7/Anaconda3/2022.05/lib/python3.9/site-packages/IPython/core/async_helpers.py:129\u001b[0m, in \u001b[0;36m_pseudo_sync_runner\u001b[0;34m(***failed resolving arguments***)\u001b[0m\n\u001b[1;32m    128\u001b[0m \u001b[38;5;28;01mtry\u001b[39;00m:\n\u001b[0;32m--> 129\u001b[0m     coro\u001b[38;5;241m.\u001b[39msend(\u001b[38;5;28;01mNone\u001b[39;00m)\n\u001b[1;32m    130\u001b[0m \u001b[38;5;28;01mexcept\u001b[39;00m \u001b[38;5;167;01mStopIteration\u001b[39;00m \u001b[38;5;28;01mas\u001b[39;00m exc:\n",
      "File \u001b[0;32m/n/sw/eb/apps/centos7/Anaconda3/2022.05/lib/python3.9/site-packages/IPython/core/interactiveshell.py:3106\u001b[0m, in \u001b[0;36mInteractiveShell.run_cell_async\u001b[0;34m(***failed resolving arguments***)\u001b[0m\n\u001b[1;32m   3104\u001b[0m interactivity \u001b[38;5;241m=\u001b[39m \u001b[38;5;124m\"\u001b[39m\u001b[38;5;124mnone\u001b[39m\u001b[38;5;124m\"\u001b[39m \u001b[38;5;28;01mif\u001b[39;00m silent \u001b[38;5;28;01melse\u001b[39;00m \u001b[38;5;28mself\u001b[39m\u001b[38;5;241m.\u001b[39mast_node_interactivity\n\u001b[0;32m-> 3106\u001b[0m has_raised \u001b[38;5;241m=\u001b[39m \u001b[38;5;28;01mawait\u001b[39;00m \u001b[38;5;28mself\u001b[39m\u001b[38;5;241m.\u001b[39mrun_ast_nodes(code_ast\u001b[38;5;241m.\u001b[39mbody, cell_name,\n\u001b[1;32m   3107\u001b[0m        interactivity\u001b[38;5;241m=\u001b[39minteractivity, compiler\u001b[38;5;241m=\u001b[39mcompiler, result\u001b[38;5;241m=\u001b[39mresult)\n\u001b[1;32m   3109\u001b[0m \u001b[38;5;28mself\u001b[39m\u001b[38;5;241m.\u001b[39mlast_execution_succeeded \u001b[38;5;241m=\u001b[39m \u001b[38;5;129;01mnot\u001b[39;00m has_raised\n",
      "File \u001b[0;32m/n/sw/eb/apps/centos7/Anaconda3/2022.05/lib/python3.9/site-packages/IPython/core/interactiveshell.py:3309\u001b[0m, in \u001b[0;36mInteractiveShell.run_ast_nodes\u001b[0;34m(***failed resolving arguments***)\u001b[0m\n\u001b[1;32m   3308\u001b[0m     asy \u001b[38;5;241m=\u001b[39m compare(code)\n\u001b[0;32m-> 3309\u001b[0m \u001b[38;5;28;01mif\u001b[39;00m \u001b[38;5;28;01mawait\u001b[39;00m \u001b[38;5;28mself\u001b[39m\u001b[38;5;241m.\u001b[39mrun_code(code, result, async_\u001b[38;5;241m=\u001b[39masy):\n\u001b[1;32m   3310\u001b[0m     \u001b[38;5;28;01mreturn\u001b[39;00m \u001b[38;5;28;01mTrue\u001b[39;00m\n",
      "File \u001b[0;32m/n/sw/eb/apps/centos7/Anaconda3/2022.05/lib/python3.9/site-packages/IPython/core/interactiveshell.py:3369\u001b[0m, in \u001b[0;36mInteractiveShell.run_code\u001b[0;34m(***failed resolving arguments***)\u001b[0m\n\u001b[1;32m   3368\u001b[0m     \u001b[38;5;28;01melse\u001b[39;00m:\n\u001b[0;32m-> 3369\u001b[0m         exec(code_obj, \u001b[38;5;28mself\u001b[39m\u001b[38;5;241m.\u001b[39muser_global_ns, \u001b[38;5;28mself\u001b[39m\u001b[38;5;241m.\u001b[39muser_ns)\n\u001b[1;32m   3370\u001b[0m \u001b[38;5;28;01mfinally\u001b[39;00m:\n\u001b[1;32m   3371\u001b[0m     \u001b[38;5;66;03m# Reset our crash handler in place\u001b[39;00m\n",
      "Input \u001b[0;32mIn [22]\u001b[0m, in \u001b[0;36m<cell line: 9>\u001b[0;34m()\u001b[0m\n\u001b[1;32m      8\u001b[0m rng \u001b[38;5;241m=\u001b[39m jax\u001b[38;5;241m.\u001b[39mrandom\u001b[38;5;241m.\u001b[39mPRNGKey(\u001b[38;5;241m42\u001b[39m)\n\u001b[0;32m----> 9\u001b[0m out, params \u001b[38;5;241m=\u001b[39m vdm\u001b[38;5;241m.\u001b[39minit_with_output({\u001b[38;5;124m\"\u001b[39m\u001b[38;5;124msample\u001b[39m\u001b[38;5;124m\"\u001b[39m: rng, \u001b[38;5;124m\"\u001b[39m\u001b[38;5;124mparams\u001b[39m\u001b[38;5;124m\"\u001b[39m: rng}, x, conditioning, mask)\n",
      "File \u001b[0;32m/n/holystore01/LABS/iaifi_lab/Users/smsharma/set-diffuser/notebooks/../models/diffusion.py:162\u001b[0m, in \u001b[0;36mVariationalDiffusionModel.__call__\u001b[0;34m(***failed resolving arguments***)\u001b[0m\n\u001b[1;32m    161\u001b[0m cond \u001b[38;5;241m=\u001b[39m \u001b[38;5;28mself\u001b[39m\u001b[38;5;241m.\u001b[39membed(conditioning)\n\u001b[0;32m--> 162\u001b[0m loss_diff \u001b[38;5;241m=\u001b[39m \u001b[38;5;28mself\u001b[39m\u001b[38;5;241m.\u001b[39mdiffusion_loss(t, f, cond, mask)\n\u001b[1;32m    164\u001b[0m \u001b[38;5;28;01mreturn\u001b[39;00m (loss_diff, loss_klz, loss_recon)\n",
      "File \u001b[0;32m/n/holystore01/LABS/iaifi_lab/Users/smsharma/set-diffuser/notebooks/../models/diffusion.py:116\u001b[0m, in \u001b[0;36mVariationalDiffusionModel.diffusion_loss\u001b[0;34m(***failed resolving arguments***)\u001b[0m\n\u001b[1;32m    114\u001b[0m z_t \u001b[38;5;241m=\u001b[39m variance_preserving_map(f, g_t[:, \u001b[38;5;28;01mNone\u001b[39;00m], eps)\n\u001b[0;32m--> 116\u001b[0m eps_hat \u001b[38;5;241m=\u001b[39m \u001b[38;5;28mself\u001b[39m\u001b[38;5;241m.\u001b[39mscore_model(z_t, g_t, cond, mask)  \u001b[38;5;66;03m# Compute predicted noise\u001b[39;00m\n\u001b[1;32m    117\u001b[0m loss_diff_mse \u001b[38;5;241m=\u001b[39m np\u001b[38;5;241m.\u001b[39msquare(eps \u001b[38;5;241m-\u001b[39m eps_hat)  \u001b[38;5;66;03m# Compute MSE of predicted noise\u001b[39;00m\n",
      "File \u001b[0;32m/n/holystore01/LABS/iaifi_lab/Users/smsharma/set-diffuser/notebooks/../models/scores.py:175\u001b[0m, in \u001b[0;36mEGNNScoreNet.__call__\u001b[0;34m(***failed resolving arguments***)\u001b[0m\n\u001b[1;32m    170\u001b[0m \u001b[38;5;66;03m# h = jax.vmap(EGNN(**score_dict))(graph)\u001b[39;00m\n\u001b[1;32m    171\u001b[0m \u001b[38;5;66;03m# h = h.nodes\u001b[39;00m\n\u001b[1;32m    172\u001b[0m \n\u001b[1;32m    173\u001b[0m \u001b[38;5;66;03m# return h\u001b[39;00m\n\u001b[0;32m--> 175\u001b[0m h \u001b[38;5;241m=\u001b[39m jax\u001b[38;5;241m.\u001b[39mvmap(EGNNJax())(graph, z)\n\u001b[1;32m    177\u001b[0m \u001b[38;5;28;01mreturn\u001b[39;00m h\n",
      "File \u001b[0;32m/n/holystore01/LABS/iaifi_lab/Users/smsharma/set-diffuser/notebooks/../models/egnn_jax.py:176\u001b[0m, in \u001b[0;36mEGNN.__call__\u001b[0;34m(***failed resolving arguments***)\u001b[0m\n\u001b[1;32m    175\u001b[0m \u001b[38;5;28;01mfor\u001b[39;00m n \u001b[38;5;129;01min\u001b[39;00m \u001b[38;5;28mrange\u001b[39m(\u001b[38;5;28mself\u001b[39m\u001b[38;5;241m.\u001b[39mnum_layers):\n\u001b[0;32m--> 176\u001b[0m     graph, pos \u001b[38;5;241m=\u001b[39m EGNNLayer(\n\u001b[1;32m    177\u001b[0m         layer_num\u001b[38;5;241m=\u001b[39mn,\n\u001b[1;32m    178\u001b[0m         hidden_size\u001b[38;5;241m=\u001b[39m\u001b[38;5;28mself\u001b[39m\u001b[38;5;241m.\u001b[39mhidden_size,\n\u001b[1;32m    179\u001b[0m         output_size\u001b[38;5;241m=\u001b[39m\u001b[38;5;28mself\u001b[39m\u001b[38;5;241m.\u001b[39mhidden_size,\n\u001b[1;32m    180\u001b[0m         act_fn\u001b[38;5;241m=\u001b[39m\u001b[38;5;28mself\u001b[39m\u001b[38;5;241m.\u001b[39mact_fn,\n\u001b[1;32m    181\u001b[0m         residual\u001b[38;5;241m=\u001b[39m\u001b[38;5;28mself\u001b[39m\u001b[38;5;241m.\u001b[39mresidual,\n\u001b[1;32m    182\u001b[0m         attention\u001b[38;5;241m=\u001b[39m\u001b[38;5;28mself\u001b[39m\u001b[38;5;241m.\u001b[39mattention,\n\u001b[1;32m    183\u001b[0m         normalize\u001b[38;5;241m=\u001b[39m\u001b[38;5;28mself\u001b[39m\u001b[38;5;241m.\u001b[39mnormalize,\n\u001b[1;32m    184\u001b[0m         tanh\u001b[38;5;241m=\u001b[39m\u001b[38;5;28mself\u001b[39m\u001b[38;5;241m.\u001b[39mtanh,\n\u001b[1;32m    185\u001b[0m     )(graph, pos, edge_attribute\u001b[38;5;241m=\u001b[39medge_attribute, node_attribute\u001b[38;5;241m=\u001b[39mnode_attribute)\n\u001b[1;32m    187\u001b[0m \u001b[38;5;28;01mreturn\u001b[39;00m pos\n",
      "File \u001b[0;32m/n/holystore01/LABS/iaifi_lab/Users/smsharma/set-diffuser/notebooks/../models/egnn_jax.py:121\u001b[0m, in \u001b[0;36mEGNNLayer.__call__\u001b[0;34m(***failed resolving arguments***)\u001b[0m\n\u001b[1;32m    112\u001b[0m \u001b[38;5;250m\u001b[39m\u001b[38;5;124;03m\"\"\"\u001b[39;00m\n\u001b[1;32m    113\u001b[0m \u001b[38;5;124;03mApply EGNN layer.\u001b[39;00m\n\u001b[1;32m    114\u001b[0m \n\u001b[0;32m   (...)\u001b[0m\n\u001b[1;32m    119\u001b[0m \u001b[38;5;124;03m    node_attribute: Node attribute (optional)\u001b[39;00m\n\u001b[1;32m    120\u001b[0m \u001b[38;5;124;03m\"\"\"\u001b[39;00m\n\u001b[0;32m--> 121\u001b[0m radial, coord_diff \u001b[38;5;241m=\u001b[39m \u001b[38;5;28mself\u001b[39m\u001b[38;5;241m.\u001b[39mcoord2radial(graph, pos)\n\u001b[1;32m    123\u001b[0m graph \u001b[38;5;241m=\u001b[39m jraph\u001b[38;5;241m.\u001b[39mGraphNetwork(\n\u001b[1;32m    124\u001b[0m     update_edge_fn\u001b[38;5;241m=\u001b[39mPartial(\u001b[38;5;28mself\u001b[39m\u001b[38;5;241m.\u001b[39mmessage, radial, edge_attribute),\n\u001b[1;32m    125\u001b[0m     update_node_fn\u001b[38;5;241m=\u001b[39mPartial(\u001b[38;5;28mself\u001b[39m\u001b[38;5;241m.\u001b[39mupdate, node_attribute),\n\u001b[1;32m    126\u001b[0m     aggregate_edges_for_nodes_fn\u001b[38;5;241m=\u001b[39m\u001b[38;5;28mself\u001b[39m\u001b[38;5;241m.\u001b[39mmsg_aggregate_fn,\n\u001b[1;32m    127\u001b[0m )(graph)\n",
      "File \u001b[0;32m/n/holystore01/LABS/iaifi_lab/Users/smsharma/set-diffuser/notebooks/../models/egnn_jax.py:101\u001b[0m, in \u001b[0;36mEGNNLayer.coord2radial\u001b[0;34m(***failed resolving arguments***)\u001b[0m\n\u001b[1;32m    100\u001b[0m \u001b[38;5;28;01mif\u001b[39;00m \u001b[38;5;28mself\u001b[39m\u001b[38;5;241m.\u001b[39mnormalize:\n\u001b[0;32m--> 101\u001b[0m     norm \u001b[38;5;241m=\u001b[39m jnp\u001b[38;5;241m.\u001b[39msqrt(radial)\n\u001b[1;32m    102\u001b[0m     coord_diff \u001b[38;5;241m=\u001b[39m coord_diff \u001b[38;5;241m/\u001b[39m (norm \u001b[38;5;241m+\u001b[39m \u001b[38;5;28mself\u001b[39m\u001b[38;5;241m.\u001b[39meps)\n",
      "File \u001b[0;32m~/.local/lib/python3.9/site-packages/jax/_src/numpy/ufuncs.py:62\u001b[0m, in \u001b[0;36m_one_to_one_unop.<locals>.<lambda>\u001b[0;34m(***failed resolving arguments***)\u001b[0m\n\u001b[1;32m     61\u001b[0m \u001b[38;5;28;01mif\u001b[39;00m promote_to_inexact:\n\u001b[0;32m---> 62\u001b[0m   fn \u001b[38;5;241m=\u001b[39m \u001b[38;5;28;01mlambda\u001b[39;00m x, \u001b[38;5;241m/\u001b[39m: lax_fn(\u001b[38;5;241m*\u001b[39m_promote_args_inexact(numpy_fn\u001b[38;5;241m.\u001b[39m\u001b[38;5;18m__name__\u001b[39m, x))\n\u001b[1;32m     63\u001b[0m \u001b[38;5;28;01melse\u001b[39;00m:\n",
      "\u001b[0;31mJaxStackTraceBeforeTransformation\u001b[0m: FloatingPointError: invalid value (nan) encountered in jit(mul)\n\nThe preceding stack trace is the source of the JAX operation that, once transformed by JAX, triggered the following exception.\n\n--------------------",
      "\nThe above exception was the direct cause of the following exception:\n",
      "\u001b[0;31mFloatingPointError\u001b[0m                        Traceback (most recent call last)",
      "Input \u001b[0;32mIn [24]\u001b[0m, in \u001b[0;36m<cell line: 1>\u001b[0;34m()\u001b[0m\n\u001b[0;32m----> 1\u001b[0m loss, loss_grad \u001b[38;5;241m=\u001b[39m \u001b[43mjax\u001b[49m\u001b[38;5;241;43m.\u001b[39;49m\u001b[43mvalue_and_grad\u001b[49m\u001b[43m(\u001b[49m\u001b[43mloss_vdm\u001b[49m\u001b[43m)\u001b[49m\u001b[43m(\u001b[49m\u001b[43mparams\u001b[49m\u001b[43m,\u001b[49m\u001b[43m \u001b[49m\u001b[43mvdm\u001b[49m\u001b[43m,\u001b[49m\u001b[43m \u001b[49m\u001b[43mrng\u001b[49m\u001b[43m,\u001b[49m\u001b[43m \u001b[49m\u001b[43mx\u001b[49m\u001b[43m,\u001b[49m\u001b[43m \u001b[49m\u001b[43mnp\u001b[49m\u001b[38;5;241;43m.\u001b[39;49m\u001b[43mzeros_like\u001b[49m\u001b[43m(\u001b[49m\u001b[43mconditioning\u001b[49m\u001b[43m)\u001b[49m\u001b[43m,\u001b[49m\u001b[43m \u001b[49m\u001b[43mmask\u001b[49m\u001b[43m)\u001b[49m\n",
      "    \u001b[0;31m[... skipping hidden 22 frame]\u001b[0m\n",
      "File \u001b[0;32m~/.local/lib/python3.9/site-packages/jax/_src/dispatch.py:875\u001b[0m, in \u001b[0;36m_check_special\u001b[0;34m(name, dtype, buf)\u001b[0m\n\u001b[1;32m    873\u001b[0m \u001b[38;5;28;01mif\u001b[39;00m dtypes\u001b[38;5;241m.\u001b[39missubdtype(dtype, np\u001b[38;5;241m.\u001b[39minexact):\n\u001b[1;32m    874\u001b[0m   \u001b[38;5;28;01mif\u001b[39;00m config\u001b[38;5;241m.\u001b[39mjax_debug_nans \u001b[38;5;129;01mand\u001b[39;00m np\u001b[38;5;241m.\u001b[39many(np\u001b[38;5;241m.\u001b[39misnan(np\u001b[38;5;241m.\u001b[39masarray(buf))):\n\u001b[0;32m--> 875\u001b[0m     \u001b[38;5;28;01mraise\u001b[39;00m \u001b[38;5;167;01mFloatingPointError\u001b[39;00m(\u001b[38;5;124mf\u001b[39m\u001b[38;5;124m\"\u001b[39m\u001b[38;5;124minvalid value (nan) encountered in \u001b[39m\u001b[38;5;132;01m{\u001b[39;00mname\u001b[38;5;132;01m}\u001b[39;00m\u001b[38;5;124m\"\u001b[39m)\n\u001b[1;32m    876\u001b[0m   \u001b[38;5;28;01mif\u001b[39;00m config\u001b[38;5;241m.\u001b[39mjax_debug_infs \u001b[38;5;129;01mand\u001b[39;00m np\u001b[38;5;241m.\u001b[39many(np\u001b[38;5;241m.\u001b[39misinf(np\u001b[38;5;241m.\u001b[39masarray(buf))):\n\u001b[1;32m    877\u001b[0m     \u001b[38;5;28;01mraise\u001b[39;00m \u001b[38;5;167;01mFloatingPointError\u001b[39;00m(\u001b[38;5;124mf\u001b[39m\u001b[38;5;124m\"\u001b[39m\u001b[38;5;124minvalid value (inf) encountered in \u001b[39m\u001b[38;5;132;01m{\u001b[39;00mname\u001b[38;5;132;01m}\u001b[39;00m\u001b[38;5;124m\"\u001b[39m)\n",
      "\u001b[0;31mFloatingPointError\u001b[0m: invalid value (nan) encountered in jit(mul)"
     ]
    }
   ],
   "source": [
    "loss, loss_grad = jax.value_and_grad(loss_vdm)(params, vdm, rng, x, np.zeros_like(conditioning), mask)"
   ]
  },
  {
   "cell_type": "code",
   "execution_count": null,
   "id": "bf04339d-1e9d-47d1-a0f3-a88d93f34fa7",
   "metadata": {},
   "outputs": [],
   "source": [
    "loss"
   ]
  },
  {
   "cell_type": "markdown",
   "id": "cfb329cc-fa38-4567-b9a8-9eed9c663a6c",
   "metadata": {},
   "source": [
    "## EGNN other implemen"
   ]
  },
  {
   "cell_type": "code",
   "execution_count": 285,
   "id": "4126601d-2af9-4955-97aa-5f451a6310fe",
   "metadata": {},
   "outputs": [],
   "source": [
    "from models.egnn_jax import EGNN as EGNNJax"
   ]
  },
  {
   "cell_type": "code",
   "execution_count": 243,
   "id": "f5faab93-4a82-44c5-bd5c-1b4f23121f10",
   "metadata": {},
   "outputs": [],
   "source": [
    "class GraphWrapper(nn.Module):\n",
    "    \n",
    "    @nn.compact\n",
    "    def __call__(self, graph, x):\n",
    "        model = jax.vmap(EGNNJax(hidden_size=64, num_layers=4, act_fn=jax.nn.gelu, residual=True, attention=True, normalize=True, tanh=True))\n",
    "        return model(graph, x)\n",
    "    \n",
    "model = GraphWrapper()\n",
    "rng = jax.random.PRNGKey(42)"
   ]
  },
  {
   "cell_type": "code",
   "execution_count": 244,
   "id": "d011f429-a02e-46b4-8fba-8a09aba6a1e7",
   "metadata": {},
   "outputs": [],
   "source": [
    "graph = jraph.GraphsTuple(\n",
    "          n_node=np.array(2 * [[n_nodes]]), \n",
    "          n_edge=np.array(2 * [[k]]),\n",
    "          nodes=x, \n",
    "          edges=None,\n",
    "          globals=np.array([np.arange(50)] * 2),\n",
    "          senders=sources,\n",
    "          receivers=targets)\n",
    "\n",
    "pos, params = model.init_with_output(rng, graph, x)"
   ]
  },
  {
   "cell_type": "code",
   "execution_count": 245,
   "id": "c6e5a2d3-9878-4c90-89d5-5d8dc7c7c8fe",
   "metadata": {},
   "outputs": [
    {
     "data": {
      "text/plain": [
       "Array([[[-30.578857  , -34.251675  ,  -3.9459803 ],\n",
       "        [  4.5112658 ,   6.9919643 ,   0.39431453],\n",
       "        [ 10.9624605 , -11.938925  ,  44.85105   ],\n",
       "        ...,\n",
       "        [ -6.0228853 , -19.419931  ,  -7.7576513 ],\n",
       "        [-14.449694  ,  11.418314  ,   8.207899  ],\n",
       "        [ -2.053481  ,   5.8104205 ,   7.0276966 ]],\n",
       "\n",
       "       [[ -2.6015284 ,  10.589291  ,  15.668666  ],\n",
       "        [ 12.237366  ,  25.771553  ,  14.827638  ],\n",
       "        [ -5.10552   ,  -5.1483183 ,  -3.9938614 ],\n",
       "        ...,\n",
       "        [ 12.942366  , -12.413314  ,  23.25596   ],\n",
       "        [  4.384595  , -14.923397  , -18.405027  ],\n",
       "        [ -2.102576  ,  14.664121  , -10.526007  ]]], dtype=float32)"
      ]
     },
     "execution_count": 245,
     "metadata": {},
     "output_type": "execute_result"
    }
   ],
   "source": [
    "pos"
   ]
  },
  {
   "cell_type": "code",
   "execution_count": null,
   "id": "9a96db32-d77d-41b8-be9b-9636a22ba26a",
   "metadata": {},
   "outputs": [],
   "source": []
  },
  {
   "cell_type": "code",
   "execution_count": null,
   "id": "7e55db4d-62ab-4c5c-8714-77f77927cf31",
   "metadata": {},
   "outputs": [],
   "source": []
  }
 ],
 "metadata": {
  "kernelspec": {
   "display_name": "Python 3 (ipykernel)",
   "language": "python",
   "name": "python3"
  },
  "language_info": {
   "codemirror_mode": {
    "name": "ipython",
    "version": 3
   },
   "file_extension": ".py",
   "mimetype": "text/x-python",
   "name": "python",
   "nbconvert_exporter": "python",
   "pygments_lexer": "ipython3",
   "version": "3.9.12"
  },
  "vscode": {
   "interpreter": {
    "hash": "4de8ebced33472280eb2d39fa7eb85126aa4b5bd288871aff7028464b844f159"
   }
  }
 },
 "nbformat": 4,
 "nbformat_minor": 5
}
