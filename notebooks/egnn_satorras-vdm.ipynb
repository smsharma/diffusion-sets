{
 "cells": [
  {
   "cell_type": "code",
   "execution_count": 1,
   "id": "6e5abee5-c59f-4c12-b08a-d75f1f4a9746",
   "metadata": {},
   "outputs": [],
   "source": [
    "import jax\n",
    "import jax.numpy as np\n",
    "import jraph\n",
    "import flax.linen as nn\n",
    "import numpy as onp\n",
    "import matplotlib.pyplot as plt\n",
    "\n",
    "from functools import partial\n",
    "\n",
    "from jax.config import config\n",
    "config.update(\"jax_debug_nans\", True)"
   ]
  },
  {
   "cell_type": "code",
   "execution_count": 2,
   "id": "92430e0d",
   "metadata": {},
   "outputs": [],
   "source": [
    "%load_ext autoreload\n",
    "%autoreload 2"
   ]
  },
  {
   "cell_type": "code",
   "execution_count": 3,
   "id": "38145712",
   "metadata": {},
   "outputs": [],
   "source": [
    "import sys\n",
    "sys.path.append(\"../\")\n",
    "\n",
    "from models.gnn import GraphConvNet\n",
    "from models.graph_utils import nearest_neighbors\n",
    "from models.graph_utils import add_graphs_tuples\n",
    "from models.train_utils import create_input_iter\n",
    "from models.egnn_jax import EGNN\n",
    "from models.graph_utils import rotate_representation"
   ]
  },
  {
   "cell_type": "code",
   "execution_count": 4,
   "id": "9a1c76b5-abab-4b40-89fd-dc128c44a06d",
   "metadata": {},
   "outputs": [],
   "source": [
    "from datasets import load_data"
   ]
  },
  {
   "cell_type": "code",
   "execution_count": 5,
   "id": "038f35cf-6d0d-4662-87d1-4c2909d9d4f0",
   "metadata": {},
   "outputs": [],
   "source": [
    "n_nodes = 300\n",
    "n_batch = 4\n",
    "n_samples = 4"
   ]
  },
  {
   "cell_type": "code",
   "execution_count": 6,
   "id": "026efde9-0725-4f6b-964e-f8e3c18733fe",
   "metadata": {},
   "outputs": [
    {
     "name": "stdout",
     "output_type": "stream",
     "text": [
      "Metal device set to: Apple M1 Pro\n",
      "\n",
      "systemMemory: 32.00 GB\n",
      "maxCacheSize: 10.67 GB\n",
      "\n"
     ]
    }
   ],
   "source": [
    "train_ds, norm_dict = load_data(\"nbody\", 3, n_nodes, n_batch, 234, small=True, n_samples=n_samples)"
   ]
  },
  {
   "cell_type": "code",
   "execution_count": 7,
   "id": "e3100536-e241-4ffe-b9cc-77dca0ae32bf",
   "metadata": {},
   "outputs": [
    {
     "data": {
      "text/plain": [
       "(497.149658203125, 499.62109375, 498.3173522949219)"
      ]
     },
     "execution_count": 7,
     "metadata": {},
     "output_type": "execute_result"
    }
   ],
   "source": [
    "tuple(map(float, norm_dict['mean']))"
   ]
  },
  {
   "cell_type": "code",
   "execution_count": 8,
   "id": "431b71dd-8ed7-4ade-86b3-bfd0ad64869d",
   "metadata": {},
   "outputs": [],
   "source": [
    "batches = create_input_iter(train_ds)\n",
    "x_data = next(batches)\n",
    "x = x_data[0][0]\n",
    "cond = x_data[1][0]"
   ]
  },
  {
   "cell_type": "code",
   "execution_count": 9,
   "id": "bbf52d15-53e7-473d-a48b-98affa5d44d5",
   "metadata": {},
   "outputs": [],
   "source": [
    "k = 20"
   ]
  },
  {
   "cell_type": "code",
   "execution_count": 10,
   "id": "79afde5e-eef2-47c1-8122-ad2bcb0dea71",
   "metadata": {},
   "outputs": [],
   "source": [
    "sources, targets = jax.vmap(nearest_neighbors, in_axes=(0, None))(x, k)"
   ]
  },
  {
   "cell_type": "code",
   "execution_count": 11,
   "id": "9462aa8c-bdfd-4e83-8f77-a84b6b805cd9",
   "metadata": {},
   "outputs": [],
   "source": [
    "def translate_pbc(coordinates, translation_vector, box_size):\n",
    "    \"\"\"\n",
    "    Translate a batch of coordinates and apply periodic boundary conditions.\n",
    "\n",
    "    :param coordinates: np.array of shape (batch, points, 3) containing the coordinates\n",
    "    :param translation_vector: np.array of shape (3,) containing the translation vector\n",
    "    :param box_size: float representing the box size\n",
    "    :return: np.array of shape (batch, points, 3) containing the translated coordinates\n",
    "    \"\"\"\n",
    "\n",
    "    # Translate the coordinates\n",
    "    translated_coordinates = coordinates + translation_vector\n",
    "\n",
    "    # Apply periodic boundary conditions\n",
    "    translated_coordinates = np.mod(translated_coordinates, box_size)\n",
    "\n",
    "    return translated_coordinates"
   ]
  },
  {
   "cell_type": "markdown",
   "id": "22637510-964f-4e2d-8a45-a852497233c5",
   "metadata": {},
   "source": [
    "## EGNN; equivariance test"
   ]
  },
  {
   "attachments": {},
   "cell_type": "markdown",
   "id": "2e08c764",
   "metadata": {},
   "source": [
    "Just the base GNN. Rotate the box and check if the output is equivariant."
   ]
  },
  {
   "cell_type": "code",
   "execution_count": 12,
   "id": "b66ea540-8106-4c5b-882b-37e76aa9dad8",
   "metadata": {},
   "outputs": [],
   "source": [
    "coord_mean, coord_std, box_size = norm_dict['mean'], norm_dict['std'], 1000.\n",
    "unit_cell = np.array([[1., 0., 0.], [0., 1., 0.], [0., 0., 1.]])"
   ]
  },
  {
   "cell_type": "code",
   "execution_count": 13,
   "id": "22e68794",
   "metadata": {},
   "outputs": [],
   "source": [
    "class GraphWrapper(nn.Module):\n",
    "    @nn.compact\n",
    "    def __call__(self, graph, pos):\n",
    "        return jax.vmap(EGNN(k=k), in_axes=(0, 0, 0, 0, None, None, None, None))(graph, pos, None, None, coord_mean, coord_std, box_size, unit_cell)\n",
    "    \n",
    "model = GraphWrapper()\n",
    "rng = jax.random.PRNGKey(42)"
   ]
  },
  {
   "cell_type": "code",
   "execution_count": 14,
   "id": "b2a59c8d-f385-41b2-aad0-cfa582bd9074",
   "metadata": {},
   "outputs": [],
   "source": [
    "d2 = np.sum(x ** 2, axis=-1, keepdims=True)"
   ]
  },
  {
   "cell_type": "markdown",
   "id": "3e08c397-2fa8-4101-bd0f-4600ba69fe19",
   "metadata": {},
   "source": [
    "### Rotation equivariance"
   ]
  },
  {
   "cell_type": "code",
   "execution_count": 15,
   "id": "7d4781e8-2433-4128-a30e-ce756038679e",
   "metadata": {},
   "outputs": [],
   "source": [
    "pos = x\n",
    "pos_rot = jax.vmap(rotate_representation, in_axes=(0,None,None))(x, 45, np.array([0., 0., 1.]))"
   ]
  },
  {
   "cell_type": "code",
   "execution_count": 16,
   "id": "4956f4a2-37ce-41c7-b597-1eb071a3cbaf",
   "metadata": {},
   "outputs": [],
   "source": [
    "graph = jraph.GraphsTuple(\n",
    "          n_node=np.array(n_batch * [[n_nodes]]), \n",
    "          n_edge=np.array(n_batch * [[k]]),\n",
    "          nodes=d2, \n",
    "          edges=None,\n",
    "          globals=cond,\n",
    "          senders=sources,\n",
    "          receivers=targets)\n",
    "\n",
    "pos_out, _ = model.init_with_output(rng, graph, pos)"
   ]
  },
  {
   "cell_type": "code",
   "execution_count": 17,
   "id": "600f33c5-63a9-4caf-92a3-6a2017a6e60f",
   "metadata": {},
   "outputs": [],
   "source": [
    "graph = jraph.GraphsTuple(\n",
    "          n_node=np.array(n_batch * [[n_nodes]]), \n",
    "          n_edge=np.array(n_batch * [[k]]),\n",
    "          nodes=d2, \n",
    "          edges=None,\n",
    "          globals=cond,\n",
    "          senders=sources,\n",
    "          receivers=targets)\n",
    "\n",
    "pos_rot_out, _ = model.init_with_output(rng, graph, pos_rot)"
   ]
  },
  {
   "cell_type": "code",
   "execution_count": 18,
   "id": "ea568226-5f87-44ca-9e12-5fed6c9895aa",
   "metadata": {},
   "outputs": [],
   "source": [
    "pos_out_rot = jax.vmap(rotate_representation, in_axes=(0,None,None))(pos_out, 45, np.array([0., 0., 1.]))"
   ]
  },
  {
   "cell_type": "code",
   "execution_count": 19,
   "id": "0206a382-4aba-4275-83c5-4782eb22cbeb",
   "metadata": {},
   "outputs": [
    {
     "data": {
      "text/plain": [
       "Array([[[0.999997  , 0.99999976, 0.99999887],\n",
       "        [1.0000006 , 0.9999979 , 1.        ],\n",
       "        [1.0000052 , 1.0000004 , 1.0000006 ],\n",
       "        ...,\n",
       "        [1.0000014 , 0.99999946, 1.0000012 ],\n",
       "        [0.99999857, 0.9999976 , 0.99999905],\n",
       "        [1.0000075 , 1.000009  , 1.0000062 ]],\n",
       "\n",
       "       [[0.9999999 , 1.0000001 , 0.9999981 ],\n",
       "        [1.0027623 , 1.0294071 , 1.0007257 ],\n",
       "        [1.0000021 , 0.99997884, 0.99999744],\n",
       "        ...,\n",
       "        [0.9998186 , 1.0000073 , 1.0000567 ],\n",
       "        [1.0000023 , 0.9999997 , 0.999999  ],\n",
       "        [1.000004  , 1.0000169 , 0.99999803]],\n",
       "\n",
       "       [[0.99998623, 0.9999334 , 0.9999065 ],\n",
       "        [0.99988806, 0.9998452 , 1.0002387 ],\n",
       "        [0.9689842 , 1.0332767 , 1.003476  ],\n",
       "        ...,\n",
       "        [0.9343062 , 0.99948573, 0.99909335],\n",
       "        [0.99984014, 1.0000125 , 1.000338  ],\n",
       "        [1.1363615 , 1.0001159 , 1.0006788 ]],\n",
       "\n",
       "       [[0.9987553 , 0.99891716, 1.0044956 ],\n",
       "        [1.0000407 , 0.99985135, 0.99952686],\n",
       "        [0.9985229 , 0.9959252 , 0.9984108 ],\n",
       "        ...,\n",
       "        [0.99989104, 1.0000483 , 1.000144  ],\n",
       "        [0.99999994, 0.9999994 , 1.0000026 ],\n",
       "        [1.0000001 , 1.0000001 , 1.0000004 ]]], dtype=float32)"
      ]
     },
     "execution_count": 19,
     "metadata": {},
     "output_type": "execute_result"
    }
   ],
   "source": [
    "pos_rot_out / pos_out_rot"
   ]
  },
  {
   "cell_type": "markdown",
   "id": "84e00c4f-524e-4498-ab9a-9dc6f5b42d48",
   "metadata": {},
   "source": [
    "### Translation equivariance"
   ]
  },
  {
   "cell_type": "code",
   "execution_count": 20,
   "id": "a039c904-618d-4959-8fb8-1494d9f2e52d",
   "metadata": {},
   "outputs": [],
   "source": [
    "tran = np.array([-0.45, 0.9, -1.2])[None, None, :]\n",
    "pos_tran = pos + tran\n",
    "pos_out_tran = pos_out + tran"
   ]
  },
  {
   "cell_type": "code",
   "execution_count": 21,
   "id": "b9edccb8-5752-4153-b2fb-4cf0dafd26c4",
   "metadata": {},
   "outputs": [],
   "source": [
    "graph = jraph.GraphsTuple(\n",
    "          n_node=np.array(n_batch * [[n_nodes]]), \n",
    "          n_edge=np.array(n_batch * [[k]]),\n",
    "          nodes=d2, \n",
    "          edges=None,\n",
    "          globals=cond,\n",
    "          senders=sources,\n",
    "          receivers=targets)\n",
    "\n",
    "pos_tran_out, _ = model.init_with_output(rng, graph, pos_tran)"
   ]
  },
  {
   "cell_type": "code",
   "execution_count": 22,
   "id": "e029343e-9dc1-4ff7-b344-bf077f45d64c",
   "metadata": {},
   "outputs": [
    {
     "data": {
      "text/plain": [
       "Array([[[ 1.1976627e-01,  8.0889188e-02, -6.9857992e-02],\n",
       "        [ 7.3073722e-02, -1.0363261e-02, -1.4617759e-02],\n",
       "        [-2.3938985e-01, -7.5541645e-02,  7.4414194e-02],\n",
       "        ...,\n",
       "        [-5.6628186e-01,  2.5665242e-02,  1.6626061e-01],\n",
       "        [-2.8057891e-01,  7.9674259e-02, -6.9290578e-02],\n",
       "        [ 5.3373024e-02, -7.8272270e-03,  1.2681507e-02]],\n",
       "\n",
       "       [[ 2.5653741e-01, -8.3892286e-02,  8.3418734e-02],\n",
       "        [ 5.8481865e-02, -3.5797618e-02,  2.3776965e-02],\n",
       "        [-5.6316610e-02,  1.8669665e-02, -4.5809042e-02],\n",
       "        ...,\n",
       "        [ 2.4829493e-01,  1.0061856e-01,  3.9710082e-02],\n",
       "        [ 1.4790554e-01,  5.3158436e-02,  7.7980622e-03],\n",
       "        [ 8.8622170e-03, -2.2965036e-03,  1.0770296e-02]],\n",
       "\n",
       "       [[-2.6570410e-01,  2.0473979e-01,  7.7884682e-02],\n",
       "        [ 3.0200401e-02,  1.1512348e-01,  1.5344918e-01],\n",
       "        [-5.3831168e-02, -2.7647036e-01, -7.0102550e-02],\n",
       "        ...,\n",
       "        [ 1.7516038e-01, -4.9181405e-02, -5.4271363e-02],\n",
       "        [-1.5988071e-03, -1.0911989e-01,  8.7316737e-02],\n",
       "        [-1.9602159e-01, -8.9878500e-02, -5.8166432e-01]],\n",
       "\n",
       "       [[-1.4350079e+00, -9.7399330e+00,  1.4747500e-02],\n",
       "        [-6.5013994e-03,  2.6956528e-01,  1.0080888e-02],\n",
       "        [-1.3454096e+00,  2.4764173e-01,  3.0556232e-01],\n",
       "        ...,\n",
       "        [ 1.2414115e-01,  2.3891473e-01,  1.3200209e-01],\n",
       "        [-9.3009573e-01,  6.5526515e-02, -9.5282076e-03],\n",
       "        [ 4.3112385e-01, -4.4508231e-01, -5.4508775e-02]]], dtype=float32)"
      ]
     },
     "execution_count": 22,
     "metadata": {},
     "output_type": "execute_result"
    }
   ],
   "source": [
    "pos_tran_out / pos_out_tran"
   ]
  },
  {
   "cell_type": "code",
   "execution_count": 23,
   "id": "303c8781-6107-41ab-a3af-b80a7cc0aa6a",
   "metadata": {},
   "outputs": [],
   "source": [
    "tran = np.array([700., 100., 800.])\n",
    "pos_tran = (translate_pbc(pos * coord_std + coord_mean, tran, 1000.) - coord_mean) / coord_std\n",
    "pos_out_tran = (translate_pbc(pos_out * coord_std + coord_mean, tran, 1000.) - coord_mean) / coord_std"
   ]
  },
  {
   "cell_type": "code",
   "execution_count": 24,
   "id": "748c2f79-f0bd-4690-8281-d4af61ec71a2",
   "metadata": {},
   "outputs": [],
   "source": [
    "graph = jraph.GraphsTuple(\n",
    "          n_node=np.array(n_batch * [[n_nodes]]), \n",
    "          n_edge=np.array(n_batch * [[k]]),\n",
    "          nodes=d2, \n",
    "          edges=None,\n",
    "          globals=cond,\n",
    "          senders=sources,\n",
    "          receivers=targets)\n",
    "\n",
    "pos_tran_out, _ = model.init_with_output(rng, graph, pos_tran)"
   ]
  },
  {
   "cell_type": "code",
   "execution_count": 25,
   "id": "8bfd1fc2-3112-4c7e-a483-8a22a369684a",
   "metadata": {},
   "outputs": [
    {
     "data": {
      "text/plain": [
       "Array([[[ 5.60404249e-02,  1.84747890e-01, -1.26133814e-01],\n",
       "        [ 3.32537107e-02, -2.71271970e-02, -2.53394991e-02],\n",
       "        [-9.20334309e-02, -2.20781133e-01,  1.21194646e-01],\n",
       "        ...,\n",
       "        [-1.87298313e-01,  6.35184720e-02,  2.54879981e-01],\n",
       "        [-1.05706178e-01,  1.82282239e-01, -1.25055924e-01],\n",
       "        [ 2.40101349e-02, -2.04058066e-02,  2.15574671e-02]],\n",
       "\n",
       "       [[ 1.30856499e-01, -2.48902351e-01,  1.35033727e-01],\n",
       "        [ 2.63870656e-02, -9.76835415e-02,  4.01035845e-02],\n",
       "        [-2.38164738e-02,  4.67001274e-02, -8.12408403e-02],\n",
       "        ...,\n",
       "        [ 1.25967920e-01,  2.23644570e-01,  6.62346557e-02],\n",
       "        [ 7.04047754e-02,  1.26304641e-01,  1.33021092e-02],\n",
       "        [ 3.88622284e-03, -5.93482982e-03,  1.83335748e-02]],\n",
       "\n",
       "       [[-1.00831650e-01,  3.98646146e-01,  1.26548693e-01],\n",
       "        [ 1.34055922e-02,  2.50936955e-01,  2.37182766e-01],\n",
       "        [-2.27962751e-02, -1.26092172e+00, -1.26598552e-01],\n",
       "        ...,\n",
       "        [ 8.47995654e-02, -1.37271017e-01, -9.68543813e-02],\n",
       "        [-6.97222946e-04, -3.39283049e-01,  1.40973449e-01],\n",
       "        [-7.70188943e-02, -2.69592524e-01, -1.70875001e+00]],\n",
       "\n",
       "       [[-3.46144348e-01,  1.74896574e+00,  2.50338092e-02],\n",
       "        [-2.82649067e-03,  4.87250924e-01,  1.71684623e-02],\n",
       "        [-3.33853304e-01,  4.58741814e-01,  4.30126995e-01],\n",
       "        ...,\n",
       "        [ 5.82417399e-02,  4.46995288e-01,  2.06892908e-01],\n",
       "        [-2.66242474e-01,  1.52942345e-01, -1.64565779e-02],\n",
       "        [ 2.48499587e-01, -3.83258510e+00, -9.72958729e-02]]],      dtype=float32)"
      ]
     },
     "execution_count": 25,
     "metadata": {},
     "output_type": "execute_result"
    }
   ],
   "source": [
    "pos_tran_out / pos_out_tran"
   ]
  },
  {
   "cell_type": "markdown",
   "id": "03665d6e-ce19-431c-b777-870eb4d2ebd0",
   "metadata": {},
   "source": [
    "## Look at VLB loss"
   ]
  },
  {
   "cell_type": "code",
   "execution_count": 26,
   "id": "2d97924d-601d-4bae-8169-79295f841e57",
   "metadata": {},
   "outputs": [],
   "source": [
    "from models.diffusion import VariationalDiffusionModel\n",
    "from flax.core import FrozenDict\n",
    "from models.diffusion_utils import loss_vdm\n",
    "from models.train_utils import create_input_iter, param_count, train_step"
   ]
  },
  {
   "cell_type": "code",
   "execution_count": 27,
   "id": "f0d55ae1-aad7-49c2-a22a-e0e909da0609",
   "metadata": {},
   "outputs": [],
   "source": [
    "train_ds, norm_dict_tmp = load_data(\"nbody\", 3, n_nodes, n_batch, 23, small=True)"
   ]
  },
  {
   "cell_type": "code",
   "execution_count": 28,
   "id": "5b51828d-2aad-40c9-b15a-841f7b681085",
   "metadata": {},
   "outputs": [],
   "source": [
    "batches = create_input_iter(train_ds)"
   ]
  },
  {
   "cell_type": "code",
   "execution_count": 29,
   "id": "7956fb54-4733-42df-9ac5-7760c0ba1d88",
   "metadata": {},
   "outputs": [],
   "source": [
    "x, conditioning, mask = next(batches)\n",
    "x, conditioning, mask = x[0], conditioning[0], mask[0]"
   ]
  },
  {
   "cell_type": "code",
   "execution_count": 30,
   "id": "8324112e-6510-487c-b4c6-6084bbf483de",
   "metadata": {},
   "outputs": [],
   "source": [
    "score_dict = FrozenDict({\"k\":20, \"n_pos_features\":3})  # GNN args\n",
    "# score_dict = FrozenDict({\"k\":20, \"n_pos_features\":3, \"latent_size\":53, \"num_mlp_layers\":2, \"message_passing_steps\":4})  # GNN args\n",
    "score = \"egnn\"\n",
    "\n",
    "encoder_dict = decoder_dict = FrozenDict({})\n",
    "norm_dict = FrozenDict({\"x_mean\":tuple(map(float, norm_dict_tmp['mean'])), \"x_std\":tuple(map(float, norm_dict_tmp['std'])), \"box_size\":1000.})  # GNN args\n",
    "\n",
    "vdm = VariationalDiffusionModel(\n",
    "          timesteps=0, \n",
    "          d_t_embedding=16,\n",
    "          d_feature=3,\n",
    "          score=score,\n",
    "          score_dict=score_dict,\n",
    "          n_classes=0,\n",
    "          embed_context=True,\n",
    "          d_context_embedding=16,\n",
    "          noise_schedule=\"learned_linear\",\n",
    "          gamma_min=-8.,\n",
    "          gamma_max=14.,\n",
    "          use_encdec=False,\n",
    "          encoder_dict=encoder_dict,\n",
    "          decoder_dict=decoder_dict,\n",
    "          norm_dict=norm_dict)"
   ]
  },
  {
   "cell_type": "code",
   "execution_count": 31,
   "id": "109bc48e-b1c5-4c79-ba17-15fffa7ba101",
   "metadata": {},
   "outputs": [
    {
     "data": {
      "text/plain": [
       "((4, 300, 3), (4, 2), (4, 300))"
      ]
     },
     "execution_count": 31,
     "metadata": {},
     "output_type": "execute_result"
    }
   ],
   "source": [
    "x.shape, conditioning.shape, mask.shape"
   ]
  },
  {
   "cell_type": "code",
   "execution_count": 32,
   "id": "0ed03aa8-7c14-4786-b8b5-343e100f10b1",
   "metadata": {},
   "outputs": [],
   "source": [
    "rng = jax.random.PRNGKey(42)\n",
    "out, params = vdm.init_with_output({\"sample\": rng, \"params\": rng}, x, conditioning, mask);"
   ]
  },
  {
   "cell_type": "markdown",
   "id": "7ec17d54-e055-4d0f-ae2e-356e8fae8865",
   "metadata": {},
   "source": [
    "### Check rotational invariance of loss"
   ]
  },
  {
   "cell_type": "code",
   "execution_count": 33,
   "id": "1faa61cb-66c4-40ed-b5d3-2e681c3bd0a3",
   "metadata": {},
   "outputs": [
    {
     "data": {
      "text/plain": [
       "Array([ 7.430238 ,  7.4530516, 11.021237 ,  9.010887 ], dtype=float32)"
      ]
     },
     "execution_count": 33,
     "metadata": {},
     "output_type": "execute_result"
    }
   ],
   "source": [
    "loss_diff, loss_klz, loss_recon = vdm.apply(params, x, conditioning, mask, rngs={\"sample\": rng})\n",
    "loss_batch = (((loss_diff + loss_klz) * mask[:, :, None]).sum((-1, -2)) + (loss_recon * mask[:, :, None]).sum((-1, -2))) / mask.sum(-1)\n",
    "loss_batch"
   ]
  },
  {
   "cell_type": "code",
   "execution_count": 34,
   "id": "3b869ed1-0b03-43b9-a320-c0d1f70ea026",
   "metadata": {},
   "outputs": [
    {
     "data": {
      "text/plain": [
       "Array([ 7.4292154,  7.476795 , 10.986766 ,  9.122906 ], dtype=float32)"
      ]
     },
     "execution_count": 34,
     "metadata": {},
     "output_type": "execute_result"
    }
   ],
   "source": [
    "x_rot = jax.vmap(rotate_representation, in_axes=(0,None,None))(x, 45., np.array([0., 0., 1.]))\n",
    "loss_diff, loss_klz, loss_recon = vdm.apply(params, x_rot, conditioning, mask, rngs={\"sample\": rng})\n",
    "loss_batch = (((loss_diff + loss_klz) * mask[:, :, None]).sum((-1, -2)) + (loss_recon * mask[:, :, None]).sum((-1, -2))) / mask.sum(-1)\n",
    "loss_batch"
   ]
  },
  {
   "cell_type": "code",
   "execution_count": 35,
   "id": "03bdd772-dbe5-4100-80e9-d2d02e471666",
   "metadata": {},
   "outputs": [
    {
     "data": {
      "text/plain": [
       "Array([ 7.4445086,  7.460083 , 11.024262 ,  9.02935  ], dtype=float32)"
      ]
     },
     "execution_count": 35,
     "metadata": {},
     "output_type": "execute_result"
    }
   ],
   "source": [
    "x_rot = jax.vmap(rotate_representation, in_axes=(0,None,None))(x, 11., np.array([0., 1. / np.sqrt(2), 1. / np.sqrt(2)]))\n",
    "loss_diff, loss_klz, loss_recon = vdm.apply(params, x_rot, conditioning, mask, rngs={\"sample\": rng})\n",
    "loss_batch = (((loss_diff + loss_klz) * mask[:, :, None]).sum((-1, -2)) + (loss_recon * mask[:, :, None]).sum((-1, -2))) / mask.sum(-1)\n",
    "loss_batch"
   ]
  },
  {
   "cell_type": "markdown",
   "id": "43f08c06-e716-45da-a564-cbb1e98c1eb9",
   "metadata": {},
   "source": [
    "### Check rotational invariance of loss (individual components)"
   ]
  },
  {
   "cell_type": "code",
   "execution_count": 36,
   "id": "7e55db4d-62ab-4c5c-8714-77f77927cf31",
   "metadata": {},
   "outputs": [
    {
     "data": {
      "text/plain": [
       "Array([24.193056, 24.192549, 27.676998, 25.627758], dtype=float32)"
      ]
     },
     "execution_count": 36,
     "metadata": {},
     "output_type": "execute_result"
    }
   ],
   "source": [
    "loss_diff, loss_klz, loss_recon = vdm.apply(params, x, conditioning, mask, rngs={\"sample\": rng})\n",
    "(loss_diff * mask[:, :, None]).sum((-1, -2)) / mask.sum(-1)"
   ]
  },
  {
   "cell_type": "code",
   "execution_count": 37,
   "id": "91c58f65-577c-4083-a3b3-100e12574fcd",
   "metadata": {},
   "outputs": [
    {
     "data": {
      "text/plain": [
       "Array([24.192032, 24.216293, 27.642527, 25.739788], dtype=float32)"
      ]
     },
     "execution_count": 37,
     "metadata": {},
     "output_type": "execute_result"
    }
   ],
   "source": [
    "x_rot = jax.vmap(rotate_representation, in_axes=(0,None,None))(x, 45., np.array([0., 0., 1.]))\n",
    "loss_diff, loss_klz, loss_recon = vdm.apply(params, x_rot, conditioning, mask, rngs={\"sample\": rng})\n",
    "(loss_diff * mask[:, :, None]).sum((-1, -2)) / mask.sum(-1)"
   ]
  },
  {
   "cell_type": "code",
   "execution_count": 38,
   "id": "da8e218d-e782-4040-bc0f-2826e146513a",
   "metadata": {},
   "outputs": [
    {
     "data": {
      "text/plain": [
       "Array([24.195824, 24.201284, 27.641396, 25.688555], dtype=float32)"
      ]
     },
     "execution_count": 38,
     "metadata": {},
     "output_type": "execute_result"
    }
   ],
   "source": [
    "x_rot = jax.vmap(rotate_representation, in_axes=(0,None,None))(x, 93., np.array([0., 1. / np.sqrt(2), 1. / np.sqrt(2)]))\n",
    "loss_diff, loss_klz, loss_recon = vdm.apply(params, x_rot, conditioning, mask, rngs={\"sample\": rng})\n",
    "(loss_diff * mask[:, :, None]).sum((-1, -2)) / mask.sum(-1)"
   ]
  },
  {
   "attachments": {},
   "cell_type": "markdown",
   "id": "b18a0263-43cb-483b-8292-d23748c5b52c",
   "metadata": {},
   "source": [
    "### Check translational invariance of loss"
   ]
  },
  {
   "cell_type": "code",
   "execution_count": 39,
   "id": "c9431583",
   "metadata": {},
   "outputs": [
    {
     "data": {
      "text/plain": [
       "Array([ 7.430238 ,  7.4530516, 11.021237 ,  9.010887 ], dtype=float32)"
      ]
     },
     "execution_count": 39,
     "metadata": {},
     "output_type": "execute_result"
    }
   ],
   "source": [
    "loss_diff, loss_klz, loss_recon = vdm.apply(params, x, conditioning, mask, rngs={\"sample\": rng})\n",
    "loss_batch = (((loss_diff + loss_klz) * mask[:, :, None]).sum((-1, -2)) + (loss_recon * mask[:, :, None]).sum((-1, -2))) / mask.sum(-1)\n",
    "loss_batch"
   ]
  },
  {
   "cell_type": "code",
   "execution_count": 40,
   "id": "30b8eecc-4aaa-4c16-865b-4c2c6b182ea9",
   "metadata": {},
   "outputs": [
    {
     "data": {
      "text/plain": [
       "Array([ 7.431844,  7.45472 , 11.022846,  9.012527], dtype=float32)"
      ]
     },
     "execution_count": 40,
     "metadata": {},
     "output_type": "execute_result"
    }
   ],
   "source": [
    "# Translate\n",
    "tran = np.array([112., 12., -100.])\n",
    "# x_tran = (translate_pbc(x * coord_std + coord_mean, tran, 1000.) - coord_mean) / coord_std\n",
    "x_tran = (x * coord_std + coord_mean + tran) / coord_std\n",
    "\n",
    "loss_diff, loss_klz, loss_recon = vdm.apply(params, x_tran, conditioning, mask, rngs={\"sample\": rng})\n",
    "loss_batch = (((loss_diff + loss_klz) * mask[:, :, None]).sum((-1, -2)) + (loss_recon * mask[:, :, None]).sum((-1, -2))) / mask.sum(-1)\n",
    "loss_batch"
   ]
  },
  {
   "cell_type": "markdown",
   "id": "2c2afa55",
   "metadata": {},
   "source": [
    "## Train"
   ]
  },
  {
   "cell_type": "code",
   "execution_count": 41,
   "id": "5216ef2a",
   "metadata": {},
   "outputs": [],
   "source": [
    "import optax"
   ]
  },
  {
   "cell_type": "code",
   "execution_count": 52,
   "id": "e0400751",
   "metadata": {},
   "outputs": [],
   "source": [
    "train_steps = 10000\n",
    "\n",
    "schedule = optax.warmup_cosine_decay_schedule(init_value=0.0, peak_value=3e-4, warmup_steps=1, decay_steps=train_steps)\n",
    "opt = optax.adamw(learning_rate=schedule, weight_decay=1e-4)"
   ]
  },
  {
   "cell_type": "code",
   "execution_count": 53,
   "id": "82c28339",
   "metadata": {},
   "outputs": [],
   "source": [
    "@partial(jax.pmap, axis_name=\"batch\", static_broadcasted_argnums=(3, 4))\n",
    "def train_step(state, batch, rng, model, loss_fn):\n",
    "    \"\"\"Train for a single step.\"\"\"\n",
    "    x, conditioning, mask = batch\n",
    "    loss, grads = jax.value_and_grad(loss_fn)(state.params, model, rng, x, conditioning, mask)\n",
    "    grads = jax.lax.pmean(grads, \"batch\")\n",
    "    new_state = state.apply_gradients(grads=grads)\n",
    "    metrics = {\"loss\": jax.lax.pmean(loss, \"batch\")}\n",
    "    return new_state, metrics"
   ]
  },
  {
   "cell_type": "code",
   "execution_count": 54,
   "id": "ddd3ab25",
   "metadata": {},
   "outputs": [
    {
     "name": "stderr",
     "output_type": "stream",
     "text": [
      "100%|██████████| 10000/10000 [36:45<00:00,  4.54it/s, val=3.6782475]  \n"
     ]
    }
   ],
   "source": [
    "import flax\n",
    "from flax.training import train_state\n",
    "from tqdm import trange\n",
    "\n",
    "replicate = flax.jax_utils.replicate\n",
    "unreplicate = flax.jax_utils.unreplicate\n",
    "\n",
    "\n",
    "state = train_state.TrainState.create(apply_fn=vdm.apply, params=params, tx=opt)\n",
    "pstate = replicate(state)\n",
    "\n",
    "with trange(train_steps) as steps:\n",
    "    for step in steps:\n",
    "\n",
    "        rng, *train_step_rng = jax.random.split(rng, num=jax.local_device_count() + 1)\n",
    "        train_step_rng = np.asarray(train_step_rng)\n",
    "\n",
    "        pstate, metrics = train_step(pstate, next(batches), train_step_rng, vdm, loss_vdm)\n",
    "        steps.set_postfix(val=unreplicate(metrics[\"loss\"]))"
   ]
  },
  {
   "cell_type": "code",
   "execution_count": 55,
   "id": "0c431c9c",
   "metadata": {},
   "outputs": [],
   "source": [
    "from models.diffusion_utils import generate\n",
    "\n",
    "# Sample batch\n",
    "x, conditioning, mask = next(batches)\n",
    "x, conditioning, mask = x[0], conditioning[0], mask[0]\n",
    "\n",
    "# Gen\n",
    "rng = jax.random.PRNGKey(42)\n",
    "x_samples = generate(vdm, unreplicate(pstate).params, rng, (n_batch, n_nodes), conditioning, mask=mask, steps=100).mean()\n"
   ]
  },
  {
   "cell_type": "code",
   "execution_count": 56,
   "id": "f2dbb971",
   "metadata": {},
   "outputs": [
    {
     "data": {
      "text/plain": [
       "<matplotlib.collections.PathCollection at 0x1778f3670>"
      ]
     },
     "execution_count": 56,
     "metadata": {},
     "output_type": "execute_result"
    },
    {
     "data": {
      "image/png": "[encoded data removed]",
      "text/plain": [
       "<Figure size 640x480 with 1 Axes>"
      ]
     },
     "metadata": {},
     "output_type": "display_data"
    }
   ],
   "source": [
    "idx = 2\n",
    "\n",
    "x_samples_unnorm = np.mod(x_samples * coord_std + coord_mean, 1000.)\n",
    "x_samples_box = (x_samples_unnorm - coord_mean) / coord_std\n",
    "\n",
    "plt.scatter(x_samples_box[idx, :, 0], x_samples_box[idx, :, 1])"
   ]
  },
  {
   "cell_type": "code",
   "execution_count": 57,
   "id": "040375a6",
   "metadata": {},
   "outputs": [
    {
     "data": {
      "text/plain": [
       "<matplotlib.collections.PathCollection at 0x3291a2a30>"
      ]
     },
     "execution_count": 57,
     "metadata": {},
     "output_type": "execute_result"
    },
    {
     "data": {
      "image/png": "[encoded data removed]",
      "text/plain": [
       "<Figure size 640x480 with 1 Axes>"
      ]
     },
     "metadata": {},
     "output_type": "display_data"
    }
   ],
   "source": [
    "plt.scatter(x_samples[idx, :, 0], x_samples[idx, :, 1])"
   ]
  },
  {
   "cell_type": "code",
   "execution_count": 58,
   "id": "d1446e6c",
   "metadata": {},
   "outputs": [
    {
     "data": {
      "text/plain": [
       "<matplotlib.collections.PathCollection at 0x327748700>"
      ]
     },
     "execution_count": 58,
     "metadata": {},
     "output_type": "execute_result"
    },
    {
     "data": {
      "image/png": "[encoded data removed]",
      "text/plain": [
       "<Figure size 640x480 with 1 Axes>"
      ]
     },
     "metadata": {},
     "output_type": "display_data"
    }
   ],
   "source": [
    "plt.scatter(x[idx, :, 0], x[idx, :, 1])"
   ]
  },
  {
   "cell_type": "code",
   "execution_count": null,
   "id": "b668da6a",
   "metadata": {},
   "outputs": [],
   "source": []
  }
 ],
 "metadata": {
  "kernelspec": {
   "display_name": "Python 3 (ipykernel)",
   "language": "python",
   "name": "python3"
  },
  "language_info": {
   "codemirror_mode": {
    "name": "ipython",
    "version": 3
   },
   "file_extension": ".py",
   "mimetype": "text/x-python",
   "name": "python",
   "nbconvert_exporter": "python",
   "pygments_lexer": "ipython3",
   "version": "3.9.13"
  },
  "vscode": {
   "interpreter": {
    "hash": "4de8ebced33472280eb2d39fa7eb85126aa4b5bd288871aff7028464b844f159"
   }
  }
 },
 "nbformat": 4,
 "nbformat_minor": 5
}
