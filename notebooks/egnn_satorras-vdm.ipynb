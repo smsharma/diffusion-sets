{
 "cells": [
  {
   "cell_type": "code",
   "execution_count": 1,
   "id": "6e5abee5-c59f-4c12-b08a-d75f1f4a9746",
   "metadata": {},
   "outputs": [],
   "source": [
    "import jax\n",
    "import jax.numpy as np\n",
    "import jraph\n",
    "import flax.linen as nn\n",
    "import numpy as onp\n",
    "import matplotlib.pyplot as plt\n",
    "\n",
    "from functools import partial\n",
    "\n",
    "from jax.config import config\n",
    "config.update(\"jax_debug_nans\", True)"
   ]
  },
  {
   "cell_type": "code",
   "execution_count": 2,
   "id": "92430e0d",
   "metadata": {},
   "outputs": [],
   "source": [
    "%load_ext autoreload\n",
    "%autoreload 2"
   ]
  },
  {
   "cell_type": "code",
   "execution_count": 3,
   "id": "38145712",
   "metadata": {},
   "outputs": [],
   "source": [
    "import sys\n",
    "sys.path.append(\"../\")\n",
    "\n",
    "from models.gnn import GraphConvNet\n",
    "from models.graph_utils import nearest_neighbors\n",
    "from models.graph_utils import add_graphs_tuples\n",
    "from models.train_utils import create_input_iter"
   ]
  },
  {
   "cell_type": "code",
   "execution_count": 4,
   "id": "9a1c76b5-abab-4b40-89fd-dc128c44a06d",
   "metadata": {},
   "outputs": [],
   "source": [
    "from datasets import load_data"
   ]
  },
  {
   "cell_type": "code",
   "execution_count": 5,
   "id": "038f35cf-6d0d-4662-87d1-4c2909d9d4f0",
   "metadata": {},
   "outputs": [],
   "source": [
    "n_nodes = 5000"
   ]
  },
  {
   "cell_type": "code",
   "execution_count": 6,
   "id": "026efde9-0725-4f6b-964e-f8e3c18733fe",
   "metadata": {},
   "outputs": [],
   "source": [
    "train_ds, norm_dict = load_data(\"nbody\", 3, n_nodes, 2, 234)"
   ]
  },
  {
   "cell_type": "code",
   "execution_count": 7,
   "id": "e3100536-e241-4ffe-b9cc-77dca0ae32bf",
   "metadata": {},
   "outputs": [
    {
     "data": {
      "text/plain": [
       "(500.28973388671875, 500.1238708496094, 500.25457763671875)"
      ]
     },
     "execution_count": 7,
     "metadata": {},
     "output_type": "execute_result"
    }
   ],
   "source": [
    "tuple(map(float, norm_dict['mean']))"
   ]
  },
  {
   "cell_type": "code",
   "execution_count": 8,
   "id": "431b71dd-8ed7-4ade-86b3-bfd0ad64869d",
   "metadata": {},
   "outputs": [],
   "source": [
    "batches = create_input_iter(train_ds)\n",
    "x_data = next(batches)\n",
    "x = x_data[0][0]\n",
    "cond = x_data[1][0]"
   ]
  },
  {
   "cell_type": "code",
   "execution_count": 9,
   "id": "bbf52d15-53e7-473d-a48b-98affa5d44d5",
   "metadata": {},
   "outputs": [],
   "source": [
    "k = 20"
   ]
  },
  {
   "cell_type": "code",
   "execution_count": 10,
   "id": "79afde5e-eef2-47c1-8122-ad2bcb0dea71",
   "metadata": {},
   "outputs": [],
   "source": [
    "sources, targets = jax.vmap(nearest_neighbors, in_axes=(0, None))(x, k)"
   ]
  },
  {
   "cell_type": "markdown",
   "id": "22637510-964f-4e2d-8a45-a852497233c5",
   "metadata": {},
   "source": [
    "## EGNN; equivariance test"
   ]
  },
  {
   "cell_type": "code",
   "execution_count": 11,
   "id": "611d36f3-c871-46ff-b427-0a641eb05295",
   "metadata": {},
   "outputs": [],
   "source": [
    "from models.egnn_jax import EGNN\n",
    "from models.graph_utils import rotate_representation"
   ]
  },
  {
   "cell_type": "code",
   "execution_count": 12,
   "id": "b66ea540-8106-4c5b-882b-37e76aa9dad8",
   "metadata": {},
   "outputs": [],
   "source": [
    "coord_mean, coord_std, box_size = norm_dict['mean'], norm_dict['std'], 1000."
   ]
  },
  {
   "cell_type": "code",
   "execution_count": 13,
   "id": "22e68794",
   "metadata": {},
   "outputs": [],
   "source": [
    "class GraphWrapper(nn.Module):\n",
    "    @nn.compact\n",
    "    def __call__(self, graph, pos):\n",
    "        return jax.vmap(EGNN(k=k), in_axes=(0, 0, 0, 0, None, None, None))(graph, pos, None, None, coord_mean, coord_std, box_size)\n",
    "    \n",
    "model = GraphWrapper()\n",
    "rng = jax.random.PRNGKey(42)"
   ]
  },
  {
   "cell_type": "code",
   "execution_count": 14,
   "id": "b2a59c8d-f385-41b2-aad0-cfa582bd9074",
   "metadata": {},
   "outputs": [],
   "source": [
    "d2 = np.sum(x ** 2, axis=-1, keepdims=True)"
   ]
  },
  {
   "cell_type": "markdown",
   "id": "3e08c397-2fa8-4101-bd0f-4600ba69fe19",
   "metadata": {},
   "source": [
    "### Rotation equivariance"
   ]
  },
  {
   "cell_type": "code",
   "execution_count": 15,
   "id": "7d4781e8-2433-4128-a30e-ce756038679e",
   "metadata": {},
   "outputs": [],
   "source": [
    "pos = x\n",
    "pos_rot = jax.vmap(rotate_representation, in_axes=(0,None,None))(x, 45, np.array([0., 0., 1.]))"
   ]
  },
  {
   "cell_type": "code",
   "execution_count": 16,
   "id": "4956f4a2-37ce-41c7-b597-1eb071a3cbaf",
   "metadata": {},
   "outputs": [],
   "source": [
    "graph = jraph.GraphsTuple(\n",
    "          n_node=np.array(2 * [[n_nodes]]), \n",
    "          n_edge=np.array(2 * [[k]]),\n",
    "          nodes=d2, \n",
    "          edges=None,\n",
    "          globals=cond,\n",
    "          senders=sources,\n",
    "          receivers=targets)\n",
    "\n",
    "pos_out, _ = model.init_with_output(rng, graph, pos)"
   ]
  },
  {
   "cell_type": "code",
   "execution_count": 17,
   "id": "600f33c5-63a9-4caf-92a3-6a2017a6e60f",
   "metadata": {},
   "outputs": [],
   "source": [
    "graph = jraph.GraphsTuple(\n",
    "          n_node=np.array(2 * [[n_nodes]]), \n",
    "          n_edge=np.array(2 * [[k]]),\n",
    "          nodes=d2, \n",
    "          edges=None,\n",
    "          globals=cond,\n",
    "          senders=sources,\n",
    "          receivers=targets)\n",
    "\n",
    "pos_rot_out, _ = model.init_with_output(rng, graph, pos_rot)"
   ]
  },
  {
   "cell_type": "code",
   "execution_count": 18,
   "id": "ea568226-5f87-44ca-9e12-5fed6c9895aa",
   "metadata": {},
   "outputs": [],
   "source": [
    "pos_out_rot = jax.vmap(rotate_representation, in_axes=(0,None,None))(pos_out, 45, np.array([0., 0., 1.]))"
   ]
  },
  {
   "cell_type": "code",
   "execution_count": 19,
   "id": "0206a382-4aba-4275-83c5-4782eb22cbeb",
   "metadata": {},
   "outputs": [
    {
     "data": {
      "text/plain": [
       "Array([[[1.0000128 , 1.0034319 , 1.0012053 ],\n",
       "        [0.9996871 , 0.9996415 , 1.0001278 ],\n",
       "        [0.99993014, 0.9998736 , 0.9998053 ],\n",
       "        ...,\n",
       "        [0.9938977 , 0.9999632 , 1.0000858 ],\n",
       "        [1.0005772 , 1.000247  , 0.99893963],\n",
       "        [1.0001596 , 1.0000917 , 1.0006036 ]],\n",
       "\n",
       "       [[0.99974424, 0.99993306, 0.9999587 ],\n",
       "        [1.00022   , 1.0003921 , 0.9999065 ],\n",
       "        [1.0005502 , 0.99963886, 0.9998647 ],\n",
       "        ...,\n",
       "        [0.9997811 , 0.9992432 , 1.0001013 ],\n",
       "        [0.9999908 , 0.9902577 , 1.0000782 ],\n",
       "        [1.0034574 , 1.0000578 , 0.9995494 ]]], dtype=float32)"
      ]
     },
     "execution_count": 19,
     "metadata": {},
     "output_type": "execute_result"
    }
   ],
   "source": [
    "pos_rot_out / pos_out_rot"
   ]
  },
  {
   "cell_type": "markdown",
   "id": "84e00c4f-524e-4498-ab9a-9dc6f5b42d48",
   "metadata": {},
   "source": [
    "### Translation equivariance"
   ]
  },
  {
   "cell_type": "code",
   "execution_count": 20,
   "id": "a039c904-618d-4959-8fb8-1494d9f2e52d",
   "metadata": {},
   "outputs": [],
   "source": [
    "tran = np.array([-0.45, 0.9, -1.2])[None, None, :]\n",
    "pos_tran = pos + tran\n",
    "pos_out_tran = pos_out + tran"
   ]
  },
  {
   "cell_type": "code",
   "execution_count": 21,
   "id": "b9edccb8-5752-4153-b2fb-4cf0dafd26c4",
   "metadata": {},
   "outputs": [],
   "source": [
    "graph = jraph.GraphsTuple(\n",
    "          n_node=np.array(2 * [[n_nodes]]), \n",
    "          n_edge=np.array(2 * [[k]]),\n",
    "          nodes=d2, \n",
    "          edges=None,\n",
    "          globals=cond,\n",
    "          senders=sources,\n",
    "          receivers=targets)\n",
    "\n",
    "pos_tran_out, _ = model.init_with_output(rng, graph, pos_tran)"
   ]
  },
  {
   "cell_type": "code",
   "execution_count": 22,
   "id": "e029343e-9dc1-4ff7-b344-bf077f45d64c",
   "metadata": {},
   "outputs": [
    {
     "data": {
      "text/plain": [
       "Array([[[1.0000131 , 1.0000918 , 1.0000881 ],\n",
       "        [1.0001146 , 1.0003357 , 1.0000314 ],\n",
       "        [1.0000138 , 1.0000178 , 0.99999046],\n",
       "        ...,\n",
       "        [0.9999998 , 1.0000001 , 0.99999994],\n",
       "        [1.000044  , 1.0000398 , 0.9999269 ],\n",
       "        [1.0000116 , 0.9999892 , 0.9999824 ]],\n",
       "\n",
       "       [[0.99999607, 1.0000114 , 1.0000179 ],\n",
       "        [1.0000027 , 0.999789  , 1.000614  ],\n",
       "        [1.0000229 , 0.99996877, 0.9999823 ],\n",
       "        ...,\n",
       "        [0.99998987, 0.9998664 , 0.9999764 ],\n",
       "        [1.0000228 , 0.999852  , 1.0000551 ],\n",
       "        [0.99999464, 0.9999804 , 1.0000181 ]]], dtype=float32)"
      ]
     },
     "execution_count": 22,
     "metadata": {},
     "output_type": "execute_result"
    }
   ],
   "source": [
    "pos_tran_out / pos_out_tran"
   ]
  },
  {
   "cell_type": "code",
   "execution_count": 31,
   "id": "e2eba922-4ac7-420e-8a77-8cb330213fcb",
   "metadata": {},
   "outputs": [
    {
     "data": {
      "text/plain": [
       "Array([[[ 49.585907,  20.940552, 418.52457 ],\n",
       "        [430.10794 , 164.60818 ,  86.859344],\n",
       "        [370.21463 , 136.73978 , 492.3676  ],\n",
       "        ...,\n",
       "        [942.817   ,  10.316071, 729.01215 ],\n",
       "        [368.96332 , 979.7074  , 468.75595 ],\n",
       "        [268.24493 , 945.361   , 526.4537  ]],\n",
       "\n",
       "       [[346.52512 , 583.6051  , 266.82755 ],\n",
       "        [ 68.74039 , 411.4977  , 782.6518  ],\n",
       "        [ 28.042023, 825.5925  ,  41.775208],\n",
       "        ...,\n",
       "        [285.42636 , 284.67188 , 903.8516  ],\n",
       "        [253.88661 , 253.52065 , 944.4217  ],\n",
       "        [181.01636 , 876.4603  , 551.5096  ]]], dtype=float32)"
      ]
     },
     "execution_count": 31,
     "metadata": {},
     "output_type": "execute_result"
    }
   ],
   "source": [
    "pos * coord_std + coord_mean"
   ]
  },
  {
   "cell_type": "code",
   "execution_count": 36,
   "id": "811d0ec6-2171-497d-984c-fff5e4fbbfcf",
   "metadata": {},
   "outputs": [],
   "source": [
    "def translate_pbc(coordinates, translation_vector, box_size):\n",
    "    \"\"\"\n",
    "    Translate a batch of coordinates and apply periodic boundary conditions.\n",
    "\n",
    "    :param coordinates: np.array of shape (batch, points, 3) containing the coordinates\n",
    "    :param translation_vector: np.array of shape (3,) containing the translation vector\n",
    "    :param box_size: float representing the box size\n",
    "    :return: np.array of shape (batch, points, 3) containing the translated coordinates\n",
    "    \"\"\"\n",
    "\n",
    "    # Translate the coordinates\n",
    "    translated_coordinates = coordinates + translation_vector\n",
    "\n",
    "    # Apply periodic boundary conditions\n",
    "    translated_coordinates = np.mod(translated_coordinates, box_size)\n",
    "\n",
    "    return translated_coordinates"
   ]
  },
  {
   "cell_type": "code",
   "execution_count": 37,
   "id": "303c8781-6107-41ab-a3af-b80a7cc0aa6a",
   "metadata": {},
   "outputs": [],
   "source": [
    "tran = np.array([700., 100., 800.])\n",
    "pos_tran = (translate_pbc(pos * coord_std + coord_mean, tran, 1000.) - coord_mean) / coord_std\n",
    "pos_out_tran = (translate_pbc(pos_out * coord_std + coord_mean, tran, 1000.) - coord_mean) / coord_std"
   ]
  },
  {
   "cell_type": "code",
   "execution_count": 38,
   "id": "748c2f79-f0bd-4690-8281-d4af61ec71a2",
   "metadata": {},
   "outputs": [],
   "source": [
    "graph = jraph.GraphsTuple(\n",
    "          n_node=np.array(2 * [[n_nodes]]), \n",
    "          n_edge=np.array(2 * [[k]]),\n",
    "          nodes=d2, \n",
    "          edges=None,\n",
    "          globals=cond,\n",
    "          senders=sources,\n",
    "          receivers=targets)\n",
    "\n",
    "pos_tran_out, _ = model.init_with_output(rng, graph, pos_tran)"
   ]
  },
  {
   "cell_type": "code",
   "execution_count": 42,
   "id": "8bfd1fc2-3112-4c7e-a483-8a22a369684a",
   "metadata": {},
   "outputs": [
    {
     "data": {
      "text/plain": [
       "Array([[[1.0000098 , 1.0000012 , 1.0000873 ],\n",
       "        [0.9999937 , 1.0002681 , 0.9999287 ],\n",
       "        [1.0000025 , 1.0000275 , 1.0000205 ],\n",
       "        ...,\n",
       "        [0.9999789 , 0.99999005, 1.0001746 ],\n",
       "        [1.0000045 , 0.9999778 , 0.999953  ],\n",
       "        [1.0000043 , 0.99998236, 1.00002   ]],\n",
       "\n",
       "       [[1.0000103 , 1.0000004 , 0.99998987],\n",
       "        [1.0000541 , 0.9998161 , 0.99974245],\n",
       "        [0.99990183, 0.99998397, 0.99998796],\n",
       "        ...,\n",
       "        [1.0000011 , 0.99973375, 0.99991703],\n",
       "        [0.9999598 , 1.0000031 , 1.0000739 ],\n",
       "        [1.0000082 , 0.9999883 , 1.0000718 ]]], dtype=float32)"
      ]
     },
     "execution_count": 42,
     "metadata": {},
     "output_type": "execute_result"
    }
   ],
   "source": [
    "pos_tran_out / pos_out_tran"
   ]
  },
  {
   "cell_type": "markdown",
   "id": "03665d6e-ce19-431c-b777-870eb4d2ebd0",
   "metadata": {},
   "source": [
    "## Look at VLB loss"
   ]
  },
  {
   "cell_type": "code",
   "execution_count": 43,
   "id": "2d97924d-601d-4bae-8169-79295f841e57",
   "metadata": {},
   "outputs": [],
   "source": [
    "from models.diffusion import VariationalDiffusionModel\n",
    "from flax.core import FrozenDict\n",
    "from models.diffusion_utils import loss_vdm\n",
    "from models.train_utils import create_input_iter, param_count, train_step"
   ]
  },
  {
   "cell_type": "code",
   "execution_count": 44,
   "id": "8366d86d-8337-4b3c-b87a-e3598cbcc695",
   "metadata": {},
   "outputs": [],
   "source": [
    "n_batch = 2"
   ]
  },
  {
   "cell_type": "code",
   "execution_count": 45,
   "id": "f0d55ae1-aad7-49c2-a22a-e0e909da0609",
   "metadata": {},
   "outputs": [],
   "source": [
    "train_ds, norm_dict_tmp = load_data(\"nbody\", 3, 5000, n_batch, 23)"
   ]
  },
  {
   "cell_type": "code",
   "execution_count": 46,
   "id": "5b51828d-2aad-40c9-b15a-841f7b681085",
   "metadata": {},
   "outputs": [],
   "source": [
    "batches = create_input_iter(train_ds)"
   ]
  },
  {
   "cell_type": "code",
   "execution_count": 47,
   "id": "7956fb54-4733-42df-9ac5-7760c0ba1d88",
   "metadata": {},
   "outputs": [],
   "source": [
    "x, conditioning, mask = next(batches)\n",
    "x, conditioning, mask = x[0], conditioning[0], mask[0]"
   ]
  },
  {
   "cell_type": "code",
   "execution_count": 48,
   "id": "8324112e-6510-487c-b4c6-6084bbf483de",
   "metadata": {},
   "outputs": [],
   "source": [
    "score_dict = FrozenDict({\"k\":20, \"n_pos_features\":3})  # GNN args\n",
    "encoder_dict = decoder_dict = FrozenDict({})\n",
    "norm_dict = FrozenDict({\"x_mean\":tuple(map(float, norm_dict_tmp['mean'])), \"x_std\":tuple(map(float, norm_dict_tmp['std'])), \"box_size\":1000.})  # GNN args\n",
    "score = \"egnn\"\n",
    "\n",
    "vdm = VariationalDiffusionModel(\n",
    "          timesteps=0, \n",
    "          d_t_embedding=16,\n",
    "          d_feature=3,\n",
    "          score=score,\n",
    "          score_dict=score_dict,\n",
    "          n_classes=0,\n",
    "          embed_context=True,\n",
    "          d_context_embedding=16,\n",
    "          noise_schedule=\"learned_linear\",\n",
    "          gamma_min=-8.,\n",
    "          gamma_max=14.,\n",
    "          use_encdec=False,\n",
    "          encoder_dict=encoder_dict,\n",
    "          decoder_dict=decoder_dict,\n",
    "          norm_dict=norm_dict)"
   ]
  },
  {
   "cell_type": "code",
   "execution_count": 49,
   "id": "109bc48e-b1c5-4c79-ba17-15fffa7ba101",
   "metadata": {},
   "outputs": [
    {
     "data": {
      "text/plain": [
       "((2, 5000, 3), (2, 2), (2, 5000))"
      ]
     },
     "execution_count": 49,
     "metadata": {},
     "output_type": "execute_result"
    }
   ],
   "source": [
    "x.shape, conditioning.shape, mask.shape"
   ]
  },
  {
   "cell_type": "code",
   "execution_count": 50,
   "id": "0ed03aa8-7c14-4786-b8b5-343e100f10b1",
   "metadata": {},
   "outputs": [],
   "source": [
    "rng = jax.random.PRNGKey(42)\n",
    "out, params = vdm.init_with_output({\"sample\": rng, \"params\": rng}, x, conditioning, mask);"
   ]
  },
  {
   "cell_type": "markdown",
   "id": "7ec17d54-e055-4d0f-ae2e-356e8fae8865",
   "metadata": {},
   "source": [
    "## Check rotational invariance of loss"
   ]
  },
  {
   "cell_type": "code",
   "execution_count": 51,
   "id": "1faa61cb-66c4-40ed-b5d3-2e681c3bd0a3",
   "metadata": {},
   "outputs": [
    {
     "data": {
      "text/plain": [
       "Array(5.4991817, dtype=float32)"
      ]
     },
     "execution_count": 51,
     "metadata": {},
     "output_type": "execute_result"
    }
   ],
   "source": [
    "loss = loss_vdm(params, vdm, rng, x, conditioning, mask)\n",
    "loss"
   ]
  },
  {
   "cell_type": "code",
   "execution_count": 52,
   "id": "3b869ed1-0b03-43b9-a320-c0d1f70ea026",
   "metadata": {},
   "outputs": [
    {
     "data": {
      "text/plain": [
       "Array(5.5293245, dtype=float32)"
      ]
     },
     "execution_count": 52,
     "metadata": {},
     "output_type": "execute_result"
    }
   ],
   "source": [
    "x_rot = jax.vmap(rotate_representation, in_axes=(0,None,None))(x, 45., np.array([0., 0., 1.]))\n",
    "loss = loss_vdm(params, vdm, rng, x_rot, conditioning, mask)\n",
    "loss"
   ]
  },
  {
   "cell_type": "code",
   "execution_count": 53,
   "id": "03bdd772-dbe5-4100-80e9-d2d02e471666",
   "metadata": {},
   "outputs": [
    {
     "data": {
      "text/plain": [
       "Array(5.728607, dtype=float32)"
      ]
     },
     "execution_count": 53,
     "metadata": {},
     "output_type": "execute_result"
    }
   ],
   "source": [
    "x_rot = jax.vmap(rotate_representation, in_axes=(0,None,None))(x, 93., np.array([0., 1. / np.sqrt(2), 1. / np.sqrt(2)]))\n",
    "loss = loss_vdm(params, vdm, rng, x_rot, conditioning, mask)\n",
    "loss"
   ]
  },
  {
   "cell_type": "code",
   "execution_count": 54,
   "id": "32419cae-702f-4175-92b8-2dbdafb10623",
   "metadata": {},
   "outputs": [],
   "source": [
    "# loss, loss_grad = jax.value_and_grad(loss_vdm)(params, vdm, rng, x, np.zeros_like(conditioning), mask)"
   ]
  },
  {
   "cell_type": "markdown",
   "id": "43f08c06-e716-45da-a564-cbb1e98c1eb9",
   "metadata": {},
   "source": [
    "## Check rotational invariance of loss (individual components)"
   ]
  },
  {
   "cell_type": "code",
   "execution_count": 73,
   "id": "7e55db4d-62ab-4c5c-8714-77f77927cf31",
   "metadata": {},
   "outputs": [
    {
     "data": {
      "text/plain": [
       "Array([ 36.10642 , -16.683311], dtype=float32)"
      ]
     },
     "execution_count": 73,
     "metadata": {},
     "output_type": "execute_result"
    }
   ],
   "source": [
    "loss_diff, loss_klz, loss_recon = vdm.apply(params, x, conditioning, mask, rngs={\"sample\": rng})\n",
    "loss_batch = (((loss_diff + loss_klz) * mask[:, :, None]).sum((-1, -2)) + (loss_recon * mask[:, :, None]).sum((-1, -2))) / mask.sum(-1)\n",
    "loss_batch"
   ]
  },
  {
   "cell_type": "code",
   "execution_count": 74,
   "id": "91c58f65-577c-4083-a3b3-100e12574fcd",
   "metadata": {},
   "outputs": [
    {
     "data": {
      "text/plain": [
       "Array([ 35.976364, -16.683855], dtype=float32)"
      ]
     },
     "execution_count": 74,
     "metadata": {},
     "output_type": "execute_result"
    }
   ],
   "source": [
    "x_rot = jax.vmap(rotate_representation, in_axes=(0,None,None))(x, 45., np.array([0., 0., 1.]))\n",
    "loss_diff, loss_klz, loss_recon = vdm.apply(params, x_rot, conditioning, mask, rngs={\"sample\": rng})\n",
    "loss_batch = (((loss_diff + loss_klz) * mask[:, :, None]).sum((-1, -2)) + (loss_recon * mask[:, :, None]).sum((-1, -2))) / mask.sum(-1)\n",
    "loss_batch"
   ]
  },
  {
   "cell_type": "code",
   "execution_count": 75,
   "id": "da8e218d-e782-4040-bc0f-2826e146513a",
   "metadata": {},
   "outputs": [
    {
     "data": {
      "text/plain": [
       "Array([ 36.22463 , -16.684011], dtype=float32)"
      ]
     },
     "execution_count": 75,
     "metadata": {},
     "output_type": "execute_result"
    }
   ],
   "source": [
    "x_rot = jax.vmap(rotate_representation, in_axes=(0,None,None))(x, 93., np.array([0., 1. / np.sqrt(2), 1. / np.sqrt(2)]))\n",
    "loss_diff, loss_klz, loss_recon = vdm.apply(params, x_rot, conditioning, mask, rngs={\"sample\": rng})\n",
    "loss_batch = (((loss_diff + loss_klz) * mask[:, :, None]).sum((-1, -2)) + (loss_recon * mask[:, :, None]).sum((-1, -2))) / mask.sum(-1)\n",
    "loss_batch"
   ]
  },
  {
   "cell_type": "code",
   "execution_count": 76,
   "id": "58dbc2b5-3a02-405b-ab4c-1abc92e5f643",
   "metadata": {},
   "outputs": [
    {
     "data": {
      "text/plain": [
       "Array([5.292239e+01, 2.710890e-02], dtype=float32)"
      ]
     },
     "execution_count": 76,
     "metadata": {},
     "output_type": "execute_result"
    }
   ],
   "source": [
    "(loss_diff * mask[:, :, None]).sum((-1, -2)) / mask.sum(-1)"
   ]
  },
  {
   "cell_type": "code",
   "execution_count": 77,
   "id": "3a06b244-bdb1-46a5-b9e5-ec60277daad1",
   "metadata": {},
   "outputs": [
    {
     "data": {
      "text/plain": [
       "Array(9.7703085, dtype=float32)"
      ]
     },
     "execution_count": 77,
     "metadata": {},
     "output_type": "execute_result"
    }
   ],
   "source": [
    "loss_batch[:].mean()"
   ]
  },
  {
   "cell_type": "markdown",
   "id": "b18a0263-43cb-483b-8292-d23748c5b52c",
   "metadata": {},
   "source": [
    "## Check translational invariance of loss (individual components)"
   ]
  },
  {
   "cell_type": "code",
   "execution_count": 78,
   "id": "30b8eecc-4aaa-4c16-865b-4c2c6b182ea9",
   "metadata": {},
   "outputs": [
    {
     "data": {
      "text/plain": [
       "Array([ 35.37609 , -16.683496], dtype=float32)"
      ]
     },
     "execution_count": 78,
     "metadata": {},
     "output_type": "execute_result"
    }
   ],
   "source": [
    "# Translate\n",
    "tran = np.array([700., 100., 800.])\n",
    "x_tran = (translate_pbc(x * coord_std + coord_mean, tran, 1000.) - coord_mean) / coord_std\n",
    "\n",
    "loss_diff, loss_klz, loss_recon = vdm.apply(params, x_tran, conditioning, mask, rngs={\"sample\": rng})\n",
    "loss_batch = (((loss_diff + loss_klz) * mask[:, :, None]).sum((-1, -2)) + (loss_recon * mask[:, :, None]).sum((-1, -2))) / mask.sum(-1)\n",
    "loss_batch"
   ]
  },
  {
   "cell_type": "code",
   "execution_count": 79,
   "id": "2635996b-5ace-4a08-9535-22cd7861194e",
   "metadata": {},
   "outputs": [
    {
     "data": {
      "text/plain": [
       "Array([5.2073860e+01, 2.7626948e-02], dtype=float32)"
      ]
     },
     "execution_count": 79,
     "metadata": {},
     "output_type": "execute_result"
    }
   ],
   "source": [
    "(loss_diff * mask[:, :, None]).sum((-1, -2)) / mask.sum(-1)"
   ]
  },
  {
   "cell_type": "code",
   "execution_count": 80,
   "id": "27b8ef83-2237-4f54-9176-faefe6f15c84",
   "metadata": {},
   "outputs": [
    {
     "data": {
      "text/plain": [
       "Array([ 37.02712, -16.68377], dtype=float32)"
      ]
     },
     "execution_count": 80,
     "metadata": {},
     "output_type": "execute_result"
    }
   ],
   "source": [
    "# Translate\n",
    "tran = np.array([100., -1200., -840.])\n",
    "x_tran = (translate_pbc(x * coord_std + coord_mean, tran, 1000.) - coord_mean) / coord_std\n",
    "\n",
    "loss_diff, loss_klz, loss_recon = vdm.apply(params, x_tran, conditioning, mask, rngs={\"sample\": rng})\n",
    "loss_batch = (((loss_diff + loss_klz) * mask[:, :, None]).sum((-1, -2)) + (loss_recon * mask[:, :, None]).sum((-1, -2))) / mask.sum(-1)\n",
    "loss_batch"
   ]
  },
  {
   "cell_type": "code",
   "execution_count": 81,
   "id": "5745208c-f077-44bd-bf85-926fdaf74b24",
   "metadata": {},
   "outputs": [
    {
     "data": {
      "text/plain": [
       "Array([5.3724865e+01, 2.7346682e-02], dtype=float32)"
      ]
     },
     "execution_count": 81,
     "metadata": {},
     "output_type": "execute_result"
    }
   ],
   "source": [
    "(loss_diff * mask[:, :, None]).sum((-1, -2)) / mask.sum(-1)"
   ]
  },
  {
   "cell_type": "code",
   "execution_count": 83,
   "id": "92d6a61f-8517-49d3-89c2-58dcbfeb3ca3",
   "metadata": {},
   "outputs": [
    {
     "data": {
      "text/plain": [
       "Array(10.171675, dtype=float32)"
      ]
     },
     "execution_count": 83,
     "metadata": {},
     "output_type": "execute_result"
    }
   ],
   "source": [
    "loss_batch[:].mean()"
   ]
  },
  {
   "cell_type": "code",
   "execution_count": 82,
   "id": "b4c9f09d-a242-42fb-813c-efb6e7a2e4a9",
   "metadata": {},
   "outputs": [],
   "source": [
    "eps = jax.random.normal(rng, shape=x.shape)\n",
    "eps_com = np.mean(eps[..., :3], axis=-2, keepdims=True)"
   ]
  },
  {
   "cell_type": "code",
   "execution_count": null,
   "id": "8fa38f69-4bd1-4a2b-a384-3d00639626de",
   "metadata": {},
   "outputs": [],
   "source": []
  }
 ],
 "metadata": {
  "kernelspec": {
   "display_name": "Python 3 (ipykernel)",
   "language": "python",
   "name": "python3"
  },
  "language_info": {
   "codemirror_mode": {
    "name": "ipython",
    "version": 3
   },
   "file_extension": ".py",
   "mimetype": "text/x-python",
   "name": "python",
   "nbconvert_exporter": "python",
   "pygments_lexer": "ipython3",
   "version": "3.9.12"
  },
  "vscode": {
   "interpreter": {
    "hash": "4de8ebced33472280eb2d39fa7eb85126aa4b5bd288871aff7028464b844f159"
   }
  }
 },
 "nbformat": 4,
 "nbformat_minor": 5
}
