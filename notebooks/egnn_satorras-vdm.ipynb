{
 "cells": [
  {
   "cell_type": "code",
   "execution_count": 1,
   "id": "6e5abee5-c59f-4c12-b08a-d75f1f4a9746",
   "metadata": {},
   "outputs": [],
   "source": [
    "import jax\n",
    "import jax.numpy as np\n",
    "import jraph\n",
    "import flax.linen as nn\n",
    "import numpy as onp\n",
    "import matplotlib.pyplot as plt\n",
    "\n",
    "from functools import partial\n",
    "\n",
    "from jax.config import config\n",
    "config.update(\"jax_debug_nans\", True)"
   ]
  },
  {
   "cell_type": "code",
   "execution_count": 2,
   "id": "92430e0d",
   "metadata": {},
   "outputs": [],
   "source": [
    "%load_ext autoreload\n",
    "%autoreload 2"
   ]
  },
  {
   "cell_type": "code",
   "execution_count": 3,
   "id": "38145712",
   "metadata": {},
   "outputs": [],
   "source": [
    "import sys\n",
    "sys.path.append(\"../\")\n",
    "\n",
    "from models.gnn import GraphConvNet\n",
    "from models.graph_utils import nearest_neighbors\n",
    "from models.graph_utils import add_graphs_tuples\n",
    "from models.train_utils import create_input_iter"
   ]
  },
  {
   "cell_type": "code",
   "execution_count": 114,
   "id": "9a1c76b5-abab-4b40-89fd-dc128c44a06d",
   "metadata": {},
   "outputs": [],
   "source": [
    "from datasets import load_data"
   ]
  },
  {
   "cell_type": "code",
   "execution_count": 115,
   "id": "038f35cf-6d0d-4662-87d1-4c2909d9d4f0",
   "metadata": {},
   "outputs": [],
   "source": [
    "n_nodes = 10"
   ]
  },
  {
   "cell_type": "code",
   "execution_count": 116,
   "id": "026efde9-0725-4f6b-964e-f8e3c18733fe",
   "metadata": {},
   "outputs": [],
   "source": [
    "train_ds, norm_dict = load_data(\"nbody\", 3, n_nodes, 2, 234)"
   ]
  },
  {
   "cell_type": "code",
   "execution_count": 117,
   "id": "431b71dd-8ed7-4ade-86b3-bfd0ad64869d",
   "metadata": {},
   "outputs": [],
   "source": [
    "batches = create_input_iter(train_ds)\n",
    "x = next(batches)\n",
    "x = x[0][0]"
   ]
  },
  {
   "cell_type": "code",
   "execution_count": 118,
   "id": "bbf52d15-53e7-473d-a48b-98affa5d44d5",
   "metadata": {},
   "outputs": [],
   "source": [
    "k = 5"
   ]
  },
  {
   "cell_type": "code",
   "execution_count": 119,
   "id": "79afde5e-eef2-47c1-8122-ad2bcb0dea71",
   "metadata": {},
   "outputs": [],
   "source": [
    "sources, targets = jax.vmap(nearest_neighbors, in_axes=(0, None))(x, k)"
   ]
  },
  {
   "cell_type": "markdown",
   "id": "22637510-964f-4e2d-8a45-a852497233c5",
   "metadata": {},
   "source": [
    "## EGNN"
   ]
  },
  {
   "cell_type": "code",
   "execution_count": 120,
   "id": "611d36f3-c871-46ff-b427-0a641eb05295",
   "metadata": {},
   "outputs": [],
   "source": [
    "from models.egnn import EGNN"
   ]
  },
  {
   "cell_type": "code",
   "execution_count": 121,
   "id": "22e68794",
   "metadata": {},
   "outputs": [],
   "source": [
    "class GraphWrapper(nn.Module):\n",
    "    @nn.compact\n",
    "    def __call__(self, x):\n",
    "        model = jax.vmap(EGNN(\n",
    "                        message_passing_steps=2, d_hidden=64, n_layers=3, norm_layer=False, skip_connections=False,\n",
    "                ))\n",
    "        return model(x)\n",
    "    \n",
    "model = GraphWrapper()\n",
    "rng = jax.random.PRNGKey(42)"
   ]
  },
  {
   "cell_type": "code",
   "execution_count": 126,
   "id": "1297baa6-e2b2-47df-b67e-fc3ed866b942",
   "metadata": {},
   "outputs": [
    {
     "data": {
      "text/plain": [
       "Array([[ 0,  1,  2,  3,  4,  5,  6,  7,  8,  9, 10, 11, 12, 13, 14, 15,\n",
       "        16, 17, 18, 19, 20, 21, 22, 23, 24, 25, 26, 27, 28, 29, 30, 31,\n",
       "        32, 33, 34, 35, 36, 37, 38, 39, 40, 41, 42, 43, 44, 45, 46, 47,\n",
       "        48, 49],\n",
       "       [ 0,  1,  2,  3,  4,  5,  6,  7,  8,  9, 10, 11, 12, 13, 14, 15,\n",
       "        16, 17, 18, 19, 20, 21, 22, 23, 24, 25, 26, 27, 28, 29, 30, 31,\n",
       "        32, 33, 34, 35, 36, 37, 38, 39, 40, 41, 42, 43, 44, 45, 46, 47,\n",
       "        48, 49]], dtype=int32)"
      ]
     },
     "execution_count": 126,
     "metadata": {},
     "output_type": "execute_result"
    }
   ],
   "source": [
    "np.array([np.arange(50)] * 2)"
   ]
  },
  {
   "cell_type": "code",
   "execution_count": null,
   "id": "9ee3a6bb-6ac8-41bc-8fe8-92b0c661e2f9",
   "metadata": {},
   "outputs": [],
   "source": [
    "globals_ = np.array([np.arange(50)] * 2)"
   ]
  },
  {
   "cell_type": "code",
   "execution_count": null,
   "id": "805101f6-b003-4a5e-9cac-ac7c5b333ed2",
   "metadata": {},
   "outputs": [],
   "source": [
    "tree.tree_map(lambda g: jnp.repeat(\n",
    "        g, n_edge, axis=0, total_repeat_length=sum_n_edge), globals_)"
   ]
  },
  {
   "cell_type": "code",
   "execution_count": 125,
   "id": "4956f4a2-37ce-41c7-b597-1eb071a3cbaf",
   "metadata": {},
   "outputs": [
    {
     "name": "stdout",
     "output_type": "stream",
     "text": [
      "eu (50, 3) (50, 3) (50, 1) Traced<ShapedArray(int32[50,1])>with<BatchTrace(level=1/0)> with\n",
      "  val = Array([[[0],\n",
      "        [0],\n",
      "        [0],\n",
      "        [0],\n",
      "        [0],\n",
      "        [1],\n",
      "        [1],\n",
      "        [1],\n",
      "        [1],\n",
      "        [1],\n",
      "        [2],\n",
      "        [2],\n",
      "        [2],\n",
      "        [2],\n",
      "        [2],\n",
      "        [3],\n",
      "        [3],\n",
      "        [3],\n",
      "        [3],\n",
      "        [3],\n",
      "        [4],\n",
      "        [4],\n",
      "        [4],\n",
      "        [4],\n",
      "        [4],\n",
      "        [5],\n",
      "        [5],\n",
      "        [5],\n",
      "        [5],\n",
      "        [5],\n",
      "        [6],\n",
      "        [6],\n",
      "        [6],\n",
      "        [6],\n",
      "        [6],\n",
      "        [7],\n",
      "        [7],\n",
      "        [7],\n",
      "        [7],\n",
      "        [7],\n",
      "        [8],\n",
      "        [8],\n",
      "        [8],\n",
      "        [8],\n",
      "        [8],\n",
      "        [9],\n",
      "        [9],\n",
      "        [9],\n",
      "        [9],\n",
      "        [9]],\n",
      "\n",
      "       [[0],\n",
      "        [0],\n",
      "        [0],\n",
      "        [0],\n",
      "        [0],\n",
      "        [1],\n",
      "        [1],\n",
      "        [1],\n",
      "        [1],\n",
      "        [1],\n",
      "        [2],\n",
      "        [2],\n",
      "        [2],\n",
      "        [2],\n",
      "        [2],\n",
      "        [3],\n",
      "        [3],\n",
      "        [3],\n",
      "        [3],\n",
      "        [3],\n",
      "        [4],\n",
      "        [4],\n",
      "        [4],\n",
      "        [4],\n",
      "        [4],\n",
      "        [5],\n",
      "        [5],\n",
      "        [5],\n",
      "        [5],\n",
      "        [5],\n",
      "        [6],\n",
      "        [6],\n",
      "        [6],\n",
      "        [6],\n",
      "        [6],\n",
      "        [7],\n",
      "        [7],\n",
      "        [7],\n",
      "        [7],\n",
      "        [7],\n",
      "        [8],\n",
      "        [8],\n",
      "        [8],\n",
      "        [8],\n",
      "        [8],\n",
      "        [9],\n",
      "        [9],\n",
      "        [9],\n",
      "        [9],\n",
      "        [9]]], dtype=int32)\n",
      "  batch_dim = 0\n",
      "nu (10, 1) Traced<ShapedArray(int32[10,1])>with<BatchTrace(level=1/0)> with\n",
      "  val = Array([[[0],\n",
      "        [0],\n",
      "        [0],\n",
      "        [0],\n",
      "        [0],\n",
      "        [0],\n",
      "        [0],\n",
      "        [0],\n",
      "        [0],\n",
      "        [0]],\n",
      "\n",
      "       [[0],\n",
      "        [0],\n",
      "        [0],\n",
      "        [0],\n",
      "        [0],\n",
      "        [0],\n",
      "        [0],\n",
      "        [0],\n",
      "        [0],\n",
      "        [0]]], dtype=int32)\n",
      "  batch_dim = 0\n",
      "eu (50, 35) (50, 35) (50, 1) Traced<ShapedArray(int32[50,1])>with<BatchTrace(level=1/0)> with\n",
      "  val = Array([[[0],\n",
      "        [0],\n",
      "        [0],\n",
      "        [0],\n",
      "        [0],\n",
      "        [1],\n",
      "        [1],\n",
      "        [1],\n",
      "        [1],\n",
      "        [1],\n",
      "        [2],\n",
      "        [2],\n",
      "        [2],\n",
      "        [2],\n",
      "        [2],\n",
      "        [3],\n",
      "        [3],\n",
      "        [3],\n",
      "        [3],\n",
      "        [3],\n",
      "        [4],\n",
      "        [4],\n",
      "        [4],\n",
      "        [4],\n",
      "        [4],\n",
      "        [5],\n",
      "        [5],\n",
      "        [5],\n",
      "        [5],\n",
      "        [5],\n",
      "        [6],\n",
      "        [6],\n",
      "        [6],\n",
      "        [6],\n",
      "        [6],\n",
      "        [7],\n",
      "        [7],\n",
      "        [7],\n",
      "        [7],\n",
      "        [7],\n",
      "        [8],\n",
      "        [8],\n",
      "        [8],\n",
      "        [8],\n",
      "        [8],\n",
      "        [9],\n",
      "        [9],\n",
      "        [9],\n",
      "        [9],\n",
      "        [9]],\n",
      "\n",
      "       [[0],\n",
      "        [0],\n",
      "        [0],\n",
      "        [0],\n",
      "        [0],\n",
      "        [1],\n",
      "        [1],\n",
      "        [1],\n",
      "        [1],\n",
      "        [1],\n",
      "        [2],\n",
      "        [2],\n",
      "        [2],\n",
      "        [2],\n",
      "        [2],\n",
      "        [3],\n",
      "        [3],\n",
      "        [3],\n",
      "        [3],\n",
      "        [3],\n",
      "        [4],\n",
      "        [4],\n",
      "        [4],\n",
      "        [4],\n",
      "        [4],\n",
      "        [5],\n",
      "        [5],\n",
      "        [5],\n",
      "        [5],\n",
      "        [5],\n",
      "        [6],\n",
      "        [6],\n",
      "        [6],\n",
      "        [6],\n",
      "        [6],\n",
      "        [7],\n",
      "        [7],\n",
      "        [7],\n",
      "        [7],\n",
      "        [7],\n",
      "        [8],\n",
      "        [8],\n",
      "        [8],\n",
      "        [8],\n",
      "        [8],\n",
      "        [9],\n",
      "        [9],\n",
      "        [9],\n",
      "        [9],\n",
      "        [9]]], dtype=int32)\n",
      "  batch_dim = 0\n",
      "nu (10, 1) Traced<ShapedArray(int32[10,1])>with<BatchTrace(level=1/0)> with\n",
      "  val = Array([[[0],\n",
      "        [0],\n",
      "        [0],\n",
      "        [0],\n",
      "        [0],\n",
      "        [0],\n",
      "        [0],\n",
      "        [0],\n",
      "        [0],\n",
      "        [0]],\n",
      "\n",
      "       [[0],\n",
      "        [0],\n",
      "        [0],\n",
      "        [0],\n",
      "        [0],\n",
      "        [0],\n",
      "        [0],\n",
      "        [0],\n",
      "        [0],\n",
      "        [0]]], dtype=int32)\n",
      "  batch_dim = 0\n"
     ]
    }
   ],
   "source": [
    "graph = jraph.GraphsTuple(\n",
    "          n_node=np.array(2 * [[n_nodes]]), \n",
    "          n_edge=np.array(2 * [[k]]),\n",
    "          nodes=x, \n",
    "          edges=None,\n",
    "          globals=np.array([np.arange(50)] * 2),\n",
    "          # globals=np.ones((2,3)),\n",
    "          senders=sources,\n",
    "          receivers=targets)\n",
    "\n",
    "graph_out, _ = model.init_with_output(rng, graph)\n",
    "\n",
    "x_out = graph_out.nodes"
   ]
  },
  {
   "cell_type": "code",
   "execution_count": 127,
   "id": "600f33c5-63a9-4caf-92a3-6a2017a6e60f",
   "metadata": {},
   "outputs": [
    {
     "data": {
      "text/plain": [
       "Array([[[-0.68554604, -2.1479716 ,  1.5416772 ],\n",
       "        [-1.2881864 ,  0.9780058 , -1.0715494 ],\n",
       "        [-0.8396607 ,  0.75059104,  2.5186806 ],\n",
       "        [-1.1226802 ,  0.77314615, -1.6128938 ],\n",
       "        [-0.95244956, -1.0659342 , -0.4436468 ],\n",
       "        [-1.2840563 , -0.8014892 , -1.1234771 ],\n",
       "        [-1.2014519 , -1.4947162 ,  0.9071992 ],\n",
       "        [-1.8943654 , -1.5812742 ,  1.3108653 ],\n",
       "        [-1.2291371 , -1.3647547 ,  0.30546704],\n",
       "        [-1.2536588 , -1.6653507 , -0.7905954 ]],\n",
       "\n",
       "       [[-0.71604913, -0.33036906, -0.21970564],\n",
       "        [-0.4039802 , -0.1996418 , -1.1914872 ],\n",
       "        [-0.9214248 ,  0.13935837, -0.96085423],\n",
       "        [-0.3744537 , -1.1275908 ,  1.023518  ],\n",
       "        [-0.7268684 , -1.1289397 ,  1.1401561 ],\n",
       "        [-0.3210816 , -1.3538364 ,  0.14696631],\n",
       "        [ 0.02140472, -2.194496  , -1.5712606 ],\n",
       "        [-0.11435717, -1.9374589 , -1.3566079 ],\n",
       "        [-1.0350811 ,  1.0592834 , -0.24924001],\n",
       "        [-1.075057  ,  1.6536064 , -0.77490246]]], dtype=float32)"
      ]
     },
     "execution_count": 127,
     "metadata": {},
     "output_type": "execute_result"
    }
   ],
   "source": [
    "x_out"
   ]
  },
  {
   "cell_type": "markdown",
   "id": "03665d6e-ce19-431c-b777-870eb4d2ebd0",
   "metadata": {},
   "source": [
    "## Actually run VDM"
   ]
  },
  {
   "cell_type": "code",
   "execution_count": 128,
   "id": "2d97924d-601d-4bae-8169-79295f841e57",
   "metadata": {},
   "outputs": [],
   "source": [
    "from models.diffusion import VariationalDiffusionModel\n",
    "from flax.core import FrozenDict\n",
    "from models.diffusion_utils import loss_vdm\n",
    "from models.train_utils import create_input_iter, param_count, train_step"
   ]
  },
  {
   "cell_type": "code",
   "execution_count": 129,
   "id": "f0d55ae1-aad7-49c2-a22a-e0e909da0609",
   "metadata": {},
   "outputs": [],
   "source": [
    "train_ds, norm_dict = load_data(\"nbody\", 3, 5000, 4, 234)"
   ]
  },
  {
   "cell_type": "code",
   "execution_count": 22,
   "id": "5b51828d-2aad-40c9-b15a-841f7b681085",
   "metadata": {},
   "outputs": [],
   "source": [
    "batches = create_input_iter(train_ds)"
   ]
  },
  {
   "cell_type": "code",
   "execution_count": 23,
   "id": "7956fb54-4733-42df-9ac5-7760c0ba1d88",
   "metadata": {},
   "outputs": [],
   "source": [
    "x, conditioning, mask = next(batches)"
   ]
  },
  {
   "cell_type": "code",
   "execution_count": 24,
   "id": "8324112e-6510-487c-b4c6-6084bbf483de",
   "metadata": {},
   "outputs": [],
   "source": [
    "score_dict = FrozenDict({\"k\":20, \"message_passing_steps\":2, \"skip_connections\":False, \"norm_layer\":False, \"n_layers\":4, \"d_hidden\":16, \"n_pos_features\":3})  # GNN args\n",
    "encoder_dict = decoder_dict = FrozenDict({})\n",
    "score = \"egnn\"\n",
    "\n",
    "vdm = VariationalDiffusionModel(\n",
    "          timesteps=0, \n",
    "          d_t_embedding=16,\n",
    "          d_feature=3,\n",
    "          score=score,\n",
    "          score_dict=score_dict,\n",
    "          n_classes=2,\n",
    "          embed_context=True,\n",
    "          d_context_embedding=16,\n",
    "          noise_schedule=\"learned_linear\",\n",
    "          gamma_min=-8.,\n",
    "          gamma_max=14.,\n",
    "          use_encdec=False,\n",
    "          encoder_dict=encoder_dict,\n",
    "          decoder_dict=decoder_dict)"
   ]
  },
  {
   "cell_type": "code",
   "execution_count": 25,
   "id": "109bc48e-b1c5-4c79-ba17-15fffa7ba101",
   "metadata": {},
   "outputs": [
    {
     "data": {
      "text/plain": [
       "((1, 4, 5000, 3), (1, 4, 2), (1, 4, 5000))"
      ]
     },
     "execution_count": 25,
     "metadata": {},
     "output_type": "execute_result"
    }
   ],
   "source": [
    "x.shape, conditioning.shape, mask.shape"
   ]
  },
  {
   "cell_type": "code",
   "execution_count": 26,
   "id": "0ed03aa8-7c14-4786-b8b5-343e100f10b1",
   "metadata": {},
   "outputs": [],
   "source": [
    "# Pass a test batch through to initialize model\n",
    "n_smoke = 4\n",
    "\n",
    "x = np.array(x[0, :n_smoke])\n",
    "conditioning = np.array(conditioning[0, :n_smoke])\n",
    "mask = np.array(mask[0, :n_smoke])\n",
    "\n",
    "rng = jax.random.PRNGKey(42)\n",
    "out, params = vdm.init_with_output({\"sample\": rng, \"params\": rng}, x, conditioning, mask);"
   ]
  },
  {
   "cell_type": "code",
   "execution_count": 27,
   "id": "1faa61cb-66c4-40ed-b5d3-2e681c3bd0a3",
   "metadata": {},
   "outputs": [],
   "source": [
    "loss = loss_vdm(params, vdm, rng, x, np.zeros_like(conditioning), mask)"
   ]
  },
  {
   "cell_type": "code",
   "execution_count": 28,
   "id": "32419cae-702f-4175-92b8-2dbdafb10623",
   "metadata": {},
   "outputs": [],
   "source": [
    "loss, loss_grad = jax.value_and_grad(loss_vdm)(params, vdm, rng, x, np.zeros_like(conditioning), mask)"
   ]
  },
  {
   "cell_type": "markdown",
   "id": "cfb329cc-fa38-4567-b9a8-9eed9c663a6c",
   "metadata": {},
   "source": [
    "## EGNN other implemen"
   ]
  },
  {
   "cell_type": "code",
   "execution_count": null,
   "id": "4126601d-2af9-4955-97aa-5f451a6310fe",
   "metadata": {},
   "outputs": [],
   "source": []
  }
 ],
 "metadata": {
  "kernelspec": {
   "display_name": "Python 3 (ipykernel)",
   "language": "python",
   "name": "python3"
  },
  "language_info": {
   "codemirror_mode": {
    "name": "ipython",
    "version": 3
   },
   "file_extension": ".py",
   "mimetype": "text/x-python",
   "name": "python",
   "nbconvert_exporter": "python",
   "pygments_lexer": "ipython3",
   "version": "3.9.12"
  },
  "vscode": {
   "interpreter": {
    "hash": "4de8ebced33472280eb2d39fa7eb85126aa4b5bd288871aff7028464b844f159"
   }
  }
 },
 "nbformat": 4,
 "nbformat_minor": 5
}
