{
 "cells": [
  {
   "cell_type": "code",
   "execution_count": 1,
   "id": "6e5abee5-c59f-4c12-b08a-d75f1f4a9746",
   "metadata": {},
   "outputs": [],
   "source": [
    "import jax\n",
    "import jax.numpy as np\n",
    "import jraph\n",
    "import flax.linen as nn\n",
    "import numpy as onp\n",
    "import matplotlib.pyplot as plt\n",
    "\n",
    "from functools import partial\n",
    "\n",
    "from jax.config import config\n",
    "config.update(\"jax_debug_nans\", True)"
   ]
  },
  {
   "cell_type": "code",
   "execution_count": 2,
   "id": "92430e0d",
   "metadata": {},
   "outputs": [],
   "source": [
    "%load_ext autoreload\n",
    "%autoreload 2"
   ]
  },
  {
   "cell_type": "code",
   "execution_count": 3,
   "id": "38145712",
   "metadata": {},
   "outputs": [],
   "source": [
    "import sys\n",
    "sys.path.append(\"../\")\n",
    "\n",
    "from models.gnn import GraphConvNet\n",
    "from models.graph_utils import nearest_neighbors\n",
    "from models.graph_utils import add_graphs_tuples\n",
    "from models.train_utils import create_input_iter"
   ]
  },
  {
   "cell_type": "code",
   "execution_count": 4,
   "id": "9a1c76b5-abab-4b40-89fd-dc128c44a06d",
   "metadata": {},
   "outputs": [],
   "source": [
    "from datasets import load_data"
   ]
  },
  {
   "cell_type": "code",
   "execution_count": 5,
   "id": "038f35cf-6d0d-4662-87d1-4c2909d9d4f0",
   "metadata": {},
   "outputs": [],
   "source": [
    "n_nodes = 100\n",
    "n_batch = 8"
   ]
  },
  {
   "cell_type": "code",
   "execution_count": 6,
   "id": "026efde9-0725-4f6b-964e-f8e3c18733fe",
   "metadata": {},
   "outputs": [
    {
     "name": "stdout",
     "output_type": "stream",
     "text": [
      "Metal device set to: Apple M1 Pro\n",
      "\n",
      "systemMemory: 32.00 GB\n",
      "maxCacheSize: 10.67 GB\n",
      "\n"
     ]
    }
   ],
   "source": [
    "train_ds, norm_dict = load_data(\"nbody\", 3, n_nodes, n_batch, 234, small=True)"
   ]
  },
  {
   "cell_type": "code",
   "execution_count": 7,
   "id": "e3100536-e241-4ffe-b9cc-77dca0ae32bf",
   "metadata": {},
   "outputs": [
    {
     "data": {
      "text/plain": [
       "(505.32177734375, 502.5718994140625, 493.03143310546875)"
      ]
     },
     "execution_count": 7,
     "metadata": {},
     "output_type": "execute_result"
    }
   ],
   "source": [
    "tuple(map(float, norm_dict['mean']))"
   ]
  },
  {
   "cell_type": "code",
   "execution_count": 8,
   "id": "431b71dd-8ed7-4ade-86b3-bfd0ad64869d",
   "metadata": {},
   "outputs": [],
   "source": [
    "batches = create_input_iter(train_ds)\n",
    "x_data = next(batches)\n",
    "x = x_data[0][0]\n",
    "cond = x_data[1][0]"
   ]
  },
  {
   "cell_type": "code",
   "execution_count": 9,
   "id": "bbf52d15-53e7-473d-a48b-98affa5d44d5",
   "metadata": {},
   "outputs": [],
   "source": [
    "k = 20"
   ]
  },
  {
   "cell_type": "code",
   "execution_count": 10,
   "id": "79afde5e-eef2-47c1-8122-ad2bcb0dea71",
   "metadata": {},
   "outputs": [],
   "source": [
    "sources, targets = jax.vmap(nearest_neighbors, in_axes=(0, None))(x, k)"
   ]
  },
  {
   "cell_type": "code",
   "execution_count": 11,
   "id": "9462aa8c-bdfd-4e83-8f77-a84b6b805cd9",
   "metadata": {},
   "outputs": [],
   "source": [
    "def translate_pbc(coordinates, translation_vector, box_size):\n",
    "    \"\"\"\n",
    "    Translate a batch of coordinates and apply periodic boundary conditions.\n",
    "\n",
    "    :param coordinates: np.array of shape (batch, points, 3) containing the coordinates\n",
    "    :param translation_vector: np.array of shape (3,) containing the translation vector\n",
    "    :param box_size: float representing the box size\n",
    "    :return: np.array of shape (batch, points, 3) containing the translated coordinates\n",
    "    \"\"\"\n",
    "\n",
    "    # Translate the coordinates\n",
    "    translated_coordinates = coordinates + translation_vector\n",
    "\n",
    "    # Apply periodic boundary conditions\n",
    "    translated_coordinates = np.mod(translated_coordinates, box_size)\n",
    "\n",
    "    return translated_coordinates"
   ]
  },
  {
   "cell_type": "markdown",
   "id": "22637510-964f-4e2d-8a45-a852497233c5",
   "metadata": {},
   "source": [
    "## EGNN; equivariance test"
   ]
  },
  {
   "attachments": {},
   "cell_type": "markdown",
   "id": "2e08c764",
   "metadata": {},
   "source": [
    "Just the base GNN. Rotate the box and check if the output is equivariant."
   ]
  },
  {
   "cell_type": "code",
   "execution_count": 12,
   "id": "611d36f3-c871-46ff-b427-0a641eb05295",
   "metadata": {},
   "outputs": [],
   "source": [
    "from models.egnn_jax import EGNN\n",
    "from models.graph_utils import rotate_representation"
   ]
  },
  {
   "cell_type": "code",
   "execution_count": 13,
   "id": "b66ea540-8106-4c5b-882b-37e76aa9dad8",
   "metadata": {},
   "outputs": [],
   "source": [
    "coord_mean, coord_std, box_size = norm_dict['mean'], norm_dict['std'], 1000.\n",
    "unit_cell = np.array([[1., 0., 0.], [0., 1., 0.], [0., 0., 1.]])"
   ]
  },
  {
   "cell_type": "code",
   "execution_count": 14,
   "id": "22e68794",
   "metadata": {},
   "outputs": [],
   "source": [
    "class GraphWrapper(nn.Module):\n",
    "    @nn.compact\n",
    "    def __call__(self, graph, pos):\n",
    "        return jax.vmap(EGNN(k=k), in_axes=(0, 0, 0, 0, None, None, None, None))(graph, pos, None, None, coord_mean, coord_std, box_size, unit_cell)\n",
    "    \n",
    "model = GraphWrapper()\n",
    "rng = jax.random.PRNGKey(42)"
   ]
  },
  {
   "cell_type": "code",
   "execution_count": 15,
   "id": "b2a59c8d-f385-41b2-aad0-cfa582bd9074",
   "metadata": {},
   "outputs": [],
   "source": [
    "d2 = np.sum(x ** 2, axis=-1, keepdims=True)"
   ]
  },
  {
   "cell_type": "markdown",
   "id": "3e08c397-2fa8-4101-bd0f-4600ba69fe19",
   "metadata": {},
   "source": [
    "### Rotation equivariance"
   ]
  },
  {
   "cell_type": "code",
   "execution_count": 16,
   "id": "7d4781e8-2433-4128-a30e-ce756038679e",
   "metadata": {},
   "outputs": [],
   "source": [
    "pos = x\n",
    "pos_rot = jax.vmap(rotate_representation, in_axes=(0,None,None))(x, 45, np.array([0., 0., 1.]))"
   ]
  },
  {
   "cell_type": "code",
   "execution_count": 17,
   "id": "4956f4a2-37ce-41c7-b597-1eb071a3cbaf",
   "metadata": {},
   "outputs": [],
   "source": [
    "graph = jraph.GraphsTuple(\n",
    "          n_node=np.array(n_batch * [[n_nodes]]), \n",
    "          n_edge=np.array(n_batch * [[k]]),\n",
    "          nodes=d2, \n",
    "          edges=None,\n",
    "          globals=cond,\n",
    "          senders=sources,\n",
    "          receivers=targets)\n",
    "\n",
    "pos_out, _ = model.init_with_output(rng, graph, pos)"
   ]
  },
  {
   "cell_type": "code",
   "execution_count": 18,
   "id": "600f33c5-63a9-4caf-92a3-6a2017a6e60f",
   "metadata": {},
   "outputs": [],
   "source": [
    "graph = jraph.GraphsTuple(\n",
    "          n_node=np.array(n_batch * [[n_nodes]]), \n",
    "          n_edge=np.array(n_batch * [[k]]),\n",
    "          nodes=d2, \n",
    "          edges=None,\n",
    "          globals=cond,\n",
    "          senders=sources,\n",
    "          receivers=targets)\n",
    "\n",
    "pos_rot_out, _ = model.init_with_output(rng, graph, pos_rot)"
   ]
  },
  {
   "cell_type": "code",
   "execution_count": 19,
   "id": "ea568226-5f87-44ca-9e12-5fed6c9895aa",
   "metadata": {},
   "outputs": [],
   "source": [
    "pos_out_rot = jax.vmap(rotate_representation, in_axes=(0,None,None))(pos_out, 45, np.array([0., 0., 1.]))"
   ]
  },
  {
   "cell_type": "code",
   "execution_count": 20,
   "id": "0206a382-4aba-4275-83c5-4782eb22cbeb",
   "metadata": {},
   "outputs": [
    {
     "data": {
      "text/plain": [
       "Array([[[ 0.9951502 ,  1.0007632 ,  0.99939895],\n",
       "        [ 0.98182046,  0.98245776,  0.9997861 ],\n",
       "        [ 0.9966697 ,  1.0008055 ,  1.003612  ],\n",
       "        ...,\n",
       "        [ 0.9999493 ,  0.9998432 ,  1.0001348 ],\n",
       "        [ 1.0000833 ,  1.0004468 ,  0.9997655 ],\n",
       "        [ 1.0002505 ,  1.0003049 ,  0.9985682 ]],\n",
       "\n",
       "       [[ 1.000221  ,  0.99980795,  1.0000356 ],\n",
       "        [ 0.99904567,  1.0009365 ,  1.0005811 ],\n",
       "        [ 1.0020342 ,  1.0001078 ,  1.0001073 ],\n",
       "        ...,\n",
       "        [ 0.94387186,  1.0010251 ,  1.0000707 ],\n",
       "        [ 0.9508984 ,  1.003205  ,  1.0001658 ],\n",
       "        [ 1.0008755 ,  0.96106696,  0.99998426]],\n",
       "\n",
       "       [[ 1.0042273 ,  0.9958108 ,  0.99818194],\n",
       "        [ 0.9999358 ,  1.0000798 ,  1.0000052 ],\n",
       "        [ 0.9901762 ,  1.260592  ,  0.998531  ],\n",
       "        ...,\n",
       "        [ 0.96396965,  0.9966209 ,  0.99948543],\n",
       "        [ 0.99994814,  0.99968374,  0.9999016 ],\n",
       "        [ 0.99999946,  1.0000684 ,  1.0000244 ]],\n",
       "\n",
       "       ...,\n",
       "\n",
       "       [[ 0.9937783 ,  0.9764678 ,  0.99986017],\n",
       "        [ 0.9533296 ,  0.4161398 ,  0.99796706],\n",
       "        [ 0.9963289 ,  0.9995241 ,  1.0001096 ],\n",
       "        ...,\n",
       "        [ 0.9918853 ,  0.9989348 ,  1.0002596 ],\n",
       "        [ 0.9977398 ,  0.99840534,  1.0000027 ],\n",
       "        [ 1.0032531 ,  0.98872674,  1.0007994 ]],\n",
       "\n",
       "       [[ 0.9993978 ,  1.0008404 ,  0.99991834],\n",
       "        [ 1.0110904 ,  1.00285   ,  0.99942136],\n",
       "        [ 1.0011762 ,  1.0449663 ,  0.9997546 ],\n",
       "        ...,\n",
       "        [ 1.0025017 ,  1.0001142 ,  1.0002117 ],\n",
       "        [ 1.0151038 ,  0.8685349 ,  0.99981034],\n",
       "        [ 1.0073107 ,  0.8554709 ,  1.0004041 ]],\n",
       "\n",
       "       [[ 0.9931118 ,  1.0054637 ,  0.9998295 ],\n",
       "        [ 1.0157259 ,  1.0235629 ,  1.008461  ],\n",
       "        [ 0.97455555,  0.9881356 ,  0.9981345 ],\n",
       "        ...,\n",
       "        [-0.09132187,  1.0448388 ,  1.0161073 ],\n",
       "        [ 1.0073513 ,  0.93106574,  0.99991125],\n",
       "        [ 0.9544744 ,  1.1473639 ,  0.9767654 ]]], dtype=float32)"
      ]
     },
     "execution_count": 20,
     "metadata": {},
     "output_type": "execute_result"
    }
   ],
   "source": [
    "pos_rot_out / pos_out_rot"
   ]
  },
  {
   "cell_type": "markdown",
   "id": "84e00c4f-524e-4498-ab9a-9dc6f5b42d48",
   "metadata": {},
   "source": [
    "### Translation equivariance"
   ]
  },
  {
   "cell_type": "code",
   "execution_count": 21,
   "id": "a039c904-618d-4959-8fb8-1494d9f2e52d",
   "metadata": {},
   "outputs": [],
   "source": [
    "tran = np.array([-0.45, 0.9, -1.2])[None, None, :]\n",
    "pos_tran = pos + tran\n",
    "pos_out_tran = pos_out + tran"
   ]
  },
  {
   "cell_type": "code",
   "execution_count": 22,
   "id": "b9edccb8-5752-4153-b2fb-4cf0dafd26c4",
   "metadata": {},
   "outputs": [],
   "source": [
    "graph = jraph.GraphsTuple(\n",
    "          n_node=np.array(n_batch * [[n_nodes]]), \n",
    "          n_edge=np.array(n_batch * [[k]]),\n",
    "          nodes=d2, \n",
    "          edges=None,\n",
    "          globals=cond,\n",
    "          senders=sources,\n",
    "          receivers=targets)\n",
    "\n",
    "pos_tran_out, _ = model.init_with_output(rng, graph, pos_tran)"
   ]
  },
  {
   "cell_type": "code",
   "execution_count": 23,
   "id": "e029343e-9dc1-4ff7-b344-bf077f45d64c",
   "metadata": {},
   "outputs": [
    {
     "data": {
      "text/plain": [
       "Array([[[0.9999998 , 1.0000001 , 1.0000004 ],\n",
       "        [1.0000002 , 0.99999976, 1.0000056 ],\n",
       "        [1.0000001 , 0.9999999 , 1.0000001 ],\n",
       "        ...,\n",
       "        [1.        , 0.99999994, 0.99999994],\n",
       "        [1.0000001 , 0.99999964, 0.9999999 ],\n",
       "        [1.        , 1.        , 1.        ]],\n",
       "\n",
       "       [[0.99999976, 0.99999976, 1.0000007 ],\n",
       "        [0.9999989 , 0.99999994, 1.0000006 ],\n",
       "        [1.0000002 , 0.9999998 , 0.9999999 ],\n",
       "        ...,\n",
       "        [1.0000001 , 1.0000001 , 1.0000002 ],\n",
       "        [1.0000001 , 0.99999994, 0.99999994],\n",
       "        [1.0000001 , 1.000001  , 0.9999992 ]],\n",
       "\n",
       "       [[0.99999994, 0.99999976, 1.        ],\n",
       "        [0.9999999 , 0.9999996 , 1.        ],\n",
       "        [0.99999934, 0.9999999 , 0.9999998 ],\n",
       "        ...,\n",
       "        [0.9999999 , 1.0000002 , 1.        ],\n",
       "        [1.0000004 , 1.0000011 , 0.9999999 ],\n",
       "        [0.99999994, 0.9999993 , 1.0000001 ]],\n",
       "\n",
       "       ...,\n",
       "\n",
       "       [[0.9999999 , 1.0000097 , 1.        ],\n",
       "        [1.0000001 , 1.0000042 , 1.        ],\n",
       "        [1.0000002 , 1.0000015 , 1.0000001 ],\n",
       "        ...,\n",
       "        [0.9999998 , 1.0000006 , 1.0000005 ],\n",
       "        [0.99999976, 1.0000083 , 1.0000011 ],\n",
       "        [1.0000025 , 1.0000043 , 1.0000001 ]],\n",
       "\n",
       "       [[1.0000004 , 0.9999998 , 0.9999986 ],\n",
       "        [1.0000002 , 0.9999967 , 1.0000004 ],\n",
       "        [1.0000007 , 1.0000002 , 0.9999999 ],\n",
       "        ...,\n",
       "        [0.9999979 , 0.99999756, 0.9999987 ],\n",
       "        [0.99999934, 1.0000001 , 1.0000002 ],\n",
       "        [1.0000013 , 0.9999999 , 1.        ]],\n",
       "\n",
       "       [[1.0000002 , 0.99999905, 1.        ],\n",
       "        [0.99999815, 1.0000001 , 1.        ],\n",
       "        [0.99999917, 0.999999  , 1.0000002 ],\n",
       "        ...,\n",
       "        [1.        , 1.000001  , 1.0000012 ],\n",
       "        [0.9999988 , 1.0000001 , 1.0000004 ],\n",
       "        [0.99999934, 1.0000076 , 1.0000001 ]]], dtype=float32)"
      ]
     },
     "execution_count": 23,
     "metadata": {},
     "output_type": "execute_result"
    }
   ],
   "source": [
    "pos_tran_out / pos_out_tran"
   ]
  },
  {
   "cell_type": "code",
   "execution_count": 24,
   "id": "303c8781-6107-41ab-a3af-b80a7cc0aa6a",
   "metadata": {},
   "outputs": [],
   "source": [
    "tran = np.array([700., 100., 800.])\n",
    "pos_tran = (translate_pbc(pos * coord_std + coord_mean, tran, 1000.) - coord_mean) / coord_std\n",
    "pos_out_tran = (translate_pbc(pos_out * coord_std + coord_mean, tran, 1000.) - coord_mean) / coord_std"
   ]
  },
  {
   "cell_type": "code",
   "execution_count": 25,
   "id": "748c2f79-f0bd-4690-8281-d4af61ec71a2",
   "metadata": {},
   "outputs": [],
   "source": [
    "graph = jraph.GraphsTuple(\n",
    "          n_node=np.array(n_batch * [[n_nodes]]), \n",
    "          n_edge=np.array(n_batch * [[k]]),\n",
    "          nodes=d2, \n",
    "          edges=None,\n",
    "          globals=cond,\n",
    "          senders=sources,\n",
    "          receivers=targets)\n",
    "\n",
    "pos_tran_out, _ = model.init_with_output(rng, graph, pos_tran)"
   ]
  },
  {
   "cell_type": "code",
   "execution_count": 26,
   "id": "8bfd1fc2-3112-4c7e-a483-8a22a369684a",
   "metadata": {},
   "outputs": [
    {
     "data": {
      "text/plain": [
       "Array([[[ 1.0000002 ,  0.9999998 ,  0.9999986 ],\n",
       "        [ 0.9999998 ,  0.9999994 ,  0.99999964],\n",
       "        [ 0.9999999 , -1.5845557 ,  1.0000002 ],\n",
       "        ...,\n",
       "        [ 1.0000002 ,  0.9999991 ,  0.9999997 ],\n",
       "        [ 0.9999999 ,  0.9999996 ,  1.0000006 ],\n",
       "        [ 1.        ,  1.        ,  1.        ]],\n",
       "\n",
       "       [[ 0.99999964,  0.9999999 ,  1.0000006 ],\n",
       "        [ 1.0000001 ,  1.0000011 ,  0.99999946],\n",
       "        [ 1.0000001 , -1.6719106 ,  0.9999996 ],\n",
       "        ...,\n",
       "        [-1.1833549 ,  1.0000001 ,  1.0000001 ],\n",
       "        [-1.0363185 ,  0.9999998 ,  1.0000001 ],\n",
       "        [ 0.99999994,  1.0000004 ,  0.99999976]],\n",
       "\n",
       "       [[ 1.        ,  0.9999998 ,  1.0000002 ],\n",
       "        [ 1.0000001 ,  1.0000002 ,  0.9999992 ],\n",
       "        [ 0.99999815, -1.9414438 ,  0.99999976],\n",
       "        ...,\n",
       "        [ 0.99999815,  1.0000014 ,  0.9999998 ],\n",
       "        [ 1.0000001 ,  0.9999997 ,  1.0000012 ],\n",
       "        [ 1.        ,  1.0000002 ,  1.000063  ]],\n",
       "\n",
       "       ...,\n",
       "\n",
       "       [[-1.0200146 ,  1.0000002 ,  1.0000012 ],\n",
       "        [ 0.99999994,  1.0000004 ,  0.9999999 ],\n",
       "        [ 1.0000001 ,  0.9999989 ,  1.0000012 ],\n",
       "        ...,\n",
       "        [ 1.0000006 ,  0.99999833,  0.9999971 ],\n",
       "        [ 0.9999999 ,  1.0000001 ,  0.9999955 ],\n",
       "        [ 1.0000006 ,  0.9999979 ,  1.0000002 ]],\n",
       "\n",
       "       [[ 1.0000013 ,  0.9999981 ,  1.        ],\n",
       "        [ 0.9999999 ,  0.99999964,  1.0000002 ],\n",
       "        [ 1.0000005 ,  0.9999998 ,  0.9999994 ],\n",
       "        ...,\n",
       "        [ 1.0000002 ,  1.0000015 ,  1.0000004 ],\n",
       "        [ 1.0000002 ,  1.0000002 ,  0.9999998 ],\n",
       "        [ 0.99999976,  0.9999992 , -1.3262177 ]],\n",
       "\n",
       "       [[ 0.99999976,  1.000001  ,  1.0000005 ],\n",
       "        [ 1.        , -1.7689438 ,  1.0000007 ],\n",
       "        [ 0.9999995 ,  0.9999999 ,  1.0000004 ],\n",
       "        ...,\n",
       "        [ 1.0000075 ,  0.99999946,  0.999993  ],\n",
       "        [ 1.0000027 ,  0.9999992 ,  1.0000013 ],\n",
       "        [ 0.9999948 ,  1.0000001 ,  0.9999999 ]]], dtype=float32)"
      ]
     },
     "execution_count": 26,
     "metadata": {},
     "output_type": "execute_result"
    }
   ],
   "source": [
    "pos_tran_out / pos_out_tran"
   ]
  },
  {
   "cell_type": "markdown",
   "id": "03665d6e-ce19-431c-b777-870eb4d2ebd0",
   "metadata": {},
   "source": [
    "## Look at VLB loss"
   ]
  },
  {
   "cell_type": "code",
   "execution_count": 27,
   "id": "2d97924d-601d-4bae-8169-79295f841e57",
   "metadata": {},
   "outputs": [],
   "source": [
    "from models.diffusion import VariationalDiffusionModel\n",
    "from flax.core import FrozenDict\n",
    "from models.diffusion_utils import loss_vdm\n",
    "from models.train_utils import create_input_iter, param_count, train_step"
   ]
  },
  {
   "cell_type": "code",
   "execution_count": 28,
   "id": "f0d55ae1-aad7-49c2-a22a-e0e909da0609",
   "metadata": {},
   "outputs": [],
   "source": [
    "train_ds, norm_dict_tmp = load_data(\"nbody\", 3, 100, n_batch, 23, small=True)"
   ]
  },
  {
   "cell_type": "code",
   "execution_count": 29,
   "id": "5b51828d-2aad-40c9-b15a-841f7b681085",
   "metadata": {},
   "outputs": [],
   "source": [
    "batches = create_input_iter(train_ds)"
   ]
  },
  {
   "cell_type": "code",
   "execution_count": 30,
   "id": "7956fb54-4733-42df-9ac5-7760c0ba1d88",
   "metadata": {},
   "outputs": [],
   "source": [
    "x, conditioning, mask = next(batches)\n",
    "x, conditioning, mask = x[0], conditioning[0], mask[0]"
   ]
  },
  {
   "cell_type": "code",
   "execution_count": 31,
   "id": "8324112e-6510-487c-b4c6-6084bbf483de",
   "metadata": {},
   "outputs": [],
   "source": [
    "score_dict = FrozenDict({\"k\":20, \"n_pos_features\":3})  # GNN args\n",
    "encoder_dict = decoder_dict = FrozenDict({})\n",
    "norm_dict = FrozenDict({\"x_mean\":tuple(map(float, norm_dict_tmp['mean'])), \"x_std\":tuple(map(float, norm_dict_tmp['std'])), \"box_size\":1000.})  # GNN args\n",
    "# norm_dict = FrozenDict({\"x_mean\":tuple(map(float, norm_dict_tmp['mean'])), \"x_std\":tuple(map(float, norm_dict_tmp['std'])), \"box_size\":None})  # GNN args\n",
    "score = \"egnn\"\n",
    "\n",
    "vdm = VariationalDiffusionModel(\n",
    "          timesteps=0, \n",
    "          d_t_embedding=16,\n",
    "          d_feature=3,\n",
    "          score=score,\n",
    "          score_dict=score_dict,\n",
    "          n_classes=0,\n",
    "          embed_context=True,\n",
    "          d_context_embedding=16,\n",
    "          noise_schedule=\"learned_linear\",\n",
    "          gamma_min=-8.,\n",
    "          gamma_max=14.,\n",
    "          use_encdec=False,\n",
    "          encoder_dict=encoder_dict,\n",
    "          decoder_dict=decoder_dict,\n",
    "          norm_dict=norm_dict)"
   ]
  },
  {
   "cell_type": "code",
   "execution_count": 32,
   "id": "109bc48e-b1c5-4c79-ba17-15fffa7ba101",
   "metadata": {},
   "outputs": [
    {
     "data": {
      "text/plain": [
       "((8, 100, 3), (8, 2), (8, 100))"
      ]
     },
     "execution_count": 32,
     "metadata": {},
     "output_type": "execute_result"
    }
   ],
   "source": [
    "x.shape, conditioning.shape, mask.shape"
   ]
  },
  {
   "cell_type": "code",
   "execution_count": 33,
   "id": "0ed03aa8-7c14-4786-b8b5-343e100f10b1",
   "metadata": {},
   "outputs": [
    {
     "name": "stdout",
     "output_type": "stream",
     "text": [
      "795093\n"
     ]
    }
   ],
   "source": [
    "rng = jax.random.PRNGKey(42)\n",
    "out, params = vdm.init_with_output({\"sample\": rng, \"params\": rng}, x, conditioning, mask);"
   ]
  },
  {
   "cell_type": "markdown",
   "id": "7ec17d54-e055-4d0f-ae2e-356e8fae8865",
   "metadata": {},
   "source": [
    "### Check rotational invariance of loss"
   ]
  },
  {
   "cell_type": "code",
   "execution_count": 34,
   "id": "1faa61cb-66c4-40ed-b5d3-2e681c3bd0a3",
   "metadata": {},
   "outputs": [
    {
     "name": "stdout",
     "output_type": "stream",
     "text": [
      "795093\n"
     ]
    },
    {
     "data": {
      "text/plain": [
       "Array([ 35.651817 ,   7.7402015, -13.967949 , -16.54494  , -16.868437 ,\n",
       "        51.77922  ,  45.742184 ,  45.444347 ], dtype=float32)"
      ]
     },
     "execution_count": 34,
     "metadata": {},
     "output_type": "execute_result"
    }
   ],
   "source": [
    "loss_diff, loss_klz, loss_recon = vdm.apply(params, x, conditioning, mask, rngs={\"sample\": rng})\n",
    "loss_batch = (((loss_diff + loss_klz) * mask[:, :, None]).sum((-1, -2)) + (loss_recon * mask[:, :, None]).sum((-1, -2))) / mask.sum(-1)\n",
    "loss_batch"
   ]
  },
  {
   "cell_type": "code",
   "execution_count": 35,
   "id": "3b869ed1-0b03-43b9-a320-c0d1f70ea026",
   "metadata": {},
   "outputs": [
    {
     "name": "stdout",
     "output_type": "stream",
     "text": [
      "789623\n"
     ]
    },
    {
     "data": {
      "text/plain": [
       "Array([ 34.08485  ,   6.9078956, -14.033896 , -16.545162 , -16.868385 ,\n",
       "        47.377666 ,  43.357357 ,  45.068016 ], dtype=float32)"
      ]
     },
     "execution_count": 35,
     "metadata": {},
     "output_type": "execute_result"
    }
   ],
   "source": [
    "x_rot = jax.vmap(rotate_representation, in_axes=(0,None,None))(x, 45., np.array([0., 0., 1.]))\n",
    "loss_diff, loss_klz, loss_recon = vdm.apply(params, x_rot, conditioning, mask, rngs={\"sample\": rng})\n",
    "loss_batch = (((loss_diff + loss_klz) * mask[:, :, None]).sum((-1, -2)) + (loss_recon * mask[:, :, None]).sum((-1, -2))) / mask.sum(-1)\n",
    "loss_batch"
   ]
  },
  {
   "cell_type": "code",
   "execution_count": 36,
   "id": "03bdd772-dbe5-4100-80e9-d2d02e471666",
   "metadata": {},
   "outputs": [
    {
     "name": "stdout",
     "output_type": "stream",
     "text": [
      "795313\n"
     ]
    },
    {
     "data": {
      "text/plain": [
       "Array([ 35.58208  ,   7.4426613, -13.982278 , -16.544945 , -16.868443 ,\n",
       "        50.995296 ,  44.86525  ,  45.055294 ], dtype=float32)"
      ]
     },
     "execution_count": 36,
     "metadata": {},
     "output_type": "execute_result"
    }
   ],
   "source": [
    "x_rot = jax.vmap(rotate_representation, in_axes=(0,None,None))(x, 11., np.array([0., 1. / np.sqrt(2), 1. / np.sqrt(2)]))\n",
    "loss_diff, loss_klz, loss_recon = vdm.apply(params, x_rot, conditioning, mask, rngs={\"sample\": rng})\n",
    "loss_batch = (((loss_diff + loss_klz) * mask[:, :, None]).sum((-1, -2)) + (loss_recon * mask[:, :, None]).sum((-1, -2))) / mask.sum(-1)\n",
    "loss_batch"
   ]
  },
  {
   "cell_type": "markdown",
   "id": "43f08c06-e716-45da-a564-cbb1e98c1eb9",
   "metadata": {},
   "source": [
    "### Check rotational invariance of loss (individual components)"
   ]
  },
  {
   "cell_type": "code",
   "execution_count": 37,
   "id": "7e55db4d-62ab-4c5c-8714-77f77927cf31",
   "metadata": {},
   "outputs": [
    {
     "name": "stdout",
     "output_type": "stream",
     "text": [
      "795093\n"
     ]
    },
    {
     "data": {
      "text/plain": [
       "Array([5.2478615e+01, 2.4590548e+01, 2.7135105e+00, 2.1442725e-01,\n",
       "       1.3214388e-02, 6.8445305e+01, 6.2380810e+01, 6.2357563e+01],      dtype=float32)"
      ]
     },
     "execution_count": 37,
     "metadata": {},
     "output_type": "execute_result"
    }
   ],
   "source": [
    "loss_diff, loss_klz, loss_recon = vdm.apply(params, x, conditioning, mask, rngs={\"sample\": rng})\n",
    "(loss_diff * mask[:, :, None]).sum((-1, -2)) / mask.sum(-1)"
   ]
  },
  {
   "cell_type": "code",
   "execution_count": 38,
   "id": "91c58f65-577c-4083-a3b3-100e12574fcd",
   "metadata": {},
   "outputs": [
    {
     "name": "stdout",
     "output_type": "stream",
     "text": [
      "789623\n"
     ]
    },
    {
     "data": {
      "text/plain": [
       "Array([5.0911640e+01, 2.3758238e+01, 2.6475685e+00, 2.1419945e-01,\n",
       "       1.3250518e-02, 6.4043732e+01, 5.9995983e+01, 6.1981232e+01],      dtype=float32)"
      ]
     },
     "execution_count": 38,
     "metadata": {},
     "output_type": "execute_result"
    }
   ],
   "source": [
    "x_rot = jax.vmap(rotate_representation, in_axes=(0,None,None))(x, 45., np.array([0., 0., 1.]))\n",
    "loss_diff, loss_klz, loss_recon = vdm.apply(params, x_rot, conditioning, mask, rngs={\"sample\": rng})\n",
    "(loss_diff * mask[:, :, None]).sum((-1, -2)) / mask.sum(-1)"
   ]
  },
  {
   "cell_type": "code",
   "execution_count": 39,
   "id": "da8e218d-e782-4040-bc0f-2826e146513a",
   "metadata": {},
   "outputs": [
    {
     "name": "stdout",
     "output_type": "stream",
     "text": [
      "794653\n"
     ]
    },
    {
     "data": {
      "text/plain": [
       "Array([5.2269718e+01, 2.2672857e+01, 2.6950018e+00, 2.1312839e-01,\n",
       "       1.3496276e-02, 6.0741249e+01, 6.2802681e+01, 6.0196693e+01],      dtype=float32)"
      ]
     },
     "execution_count": 39,
     "metadata": {},
     "output_type": "execute_result"
    }
   ],
   "source": [
    "x_rot = jax.vmap(rotate_representation, in_axes=(0,None,None))(x, 93., np.array([0., 1. / np.sqrt(2), 1. / np.sqrt(2)]))\n",
    "loss_diff, loss_klz, loss_recon = vdm.apply(params, x_rot, conditioning, mask, rngs={\"sample\": rng})\n",
    "(loss_diff * mask[:, :, None]).sum((-1, -2)) / mask.sum(-1)"
   ]
  },
  {
   "attachments": {},
   "cell_type": "markdown",
   "id": "b18a0263-43cb-483b-8292-d23748c5b52c",
   "metadata": {},
   "source": [
    "### Check translational invariance of loss"
   ]
  },
  {
   "cell_type": "code",
   "execution_count": 40,
   "id": "c9431583",
   "metadata": {},
   "outputs": [
    {
     "name": "stdout",
     "output_type": "stream",
     "text": [
      "795093\n"
     ]
    },
    {
     "data": {
      "text/plain": [
       "Array([ 35.651817 ,   7.7402015, -13.967949 , -16.54494  , -16.868437 ,\n",
       "        51.77922  ,  45.742184 ,  45.444347 ], dtype=float32)"
      ]
     },
     "execution_count": 40,
     "metadata": {},
     "output_type": "execute_result"
    }
   ],
   "source": [
    "loss_diff, loss_klz, loss_recon = vdm.apply(params, x, conditioning, mask, rngs={\"sample\": rng})\n",
    "loss_batch = (((loss_diff + loss_klz) * mask[:, :, None]).sum((-1, -2)) + (loss_recon * mask[:, :, None]).sum((-1, -2))) / mask.sum(-1)\n",
    "loss_batch"
   ]
  },
  {
   "cell_type": "code",
   "execution_count": 41,
   "id": "30b8eecc-4aaa-4c16-865b-4c2c6b182ea9",
   "metadata": {},
   "outputs": [
    {
     "name": "stdout",
     "output_type": "stream",
     "text": [
      "795093\n"
     ]
    },
    {
     "data": {
      "text/plain": [
       "Array([ 35.653355 ,   7.7417345, -13.966391 , -16.543316 , -16.866732 ,\n",
       "        51.780758 ,  45.7437   ,  45.446095 ], dtype=float32)"
      ]
     },
     "execution_count": 41,
     "metadata": {},
     "output_type": "execute_result"
    }
   ],
   "source": [
    "# Translate\n",
    "tran = np.array([112., 12., -100.])\n",
    "# x_tran = (translate_pbc(x * coord_std + coord_mean, tran, 1000.) - coord_mean) / coord_std\n",
    "x_tran = (x * coord_std + coord_mean + tran) / coord_std\n",
    "\n",
    "loss_diff, loss_klz, loss_recon = vdm.apply(params, x_tran, conditioning, mask, rngs={\"sample\": rng})\n",
    "loss_batch = (((loss_diff + loss_klz) * mask[:, :, None]).sum((-1, -2)) + (loss_recon * mask[:, :, None]).sum((-1, -2))) / mask.sum(-1)\n",
    "loss_batch"
   ]
  },
  {
   "cell_type": "markdown",
   "id": "2c2afa55",
   "metadata": {},
   "source": [
    "## Train"
   ]
  },
  {
   "cell_type": "code",
   "execution_count": 42,
   "id": "5216ef2a",
   "metadata": {},
   "outputs": [],
   "source": [
    "import optax"
   ]
  },
  {
   "cell_type": "code",
   "execution_count": 43,
   "id": "e0400751",
   "metadata": {},
   "outputs": [],
   "source": [
    "train_steps = 30_000\n",
    "\n",
    "schedule = optax.warmup_cosine_decay_schedule(init_value=0.0, peak_value=3e-4, warmup_steps=1000, decay_steps=train_steps)\n",
    "opt = optax.adamw(learning_rate=schedule, weight_decay=1e-4)"
   ]
  },
  {
   "cell_type": "code",
   "execution_count": 44,
   "id": "82c28339",
   "metadata": {},
   "outputs": [],
   "source": [
    "@partial(jax.pmap, axis_name=\"batch\", static_broadcasted_argnums=(3, 4))\n",
    "def train_step(state, batch, rng, model, loss_fn):\n",
    "    \"\"\"Train for a single step.\"\"\"\n",
    "    x, conditioning, mask = batch\n",
    "    loss, grads = jax.value_and_grad(loss_fn)(state.params, model, rng, x, conditioning, mask)\n",
    "    grads = jax.lax.pmean(grads, \"batch\")\n",
    "    new_state = state.apply_gradients(grads=grads)\n",
    "    metrics = {\"loss\": jax.lax.pmean(loss, \"batch\")}\n",
    "    return new_state, metrics"
   ]
  },
  {
   "cell_type": "code",
   "execution_count": 45,
   "id": "ddd3ab25",
   "metadata": {},
   "outputs": [
    {
     "name": "stderr",
     "output_type": "stream",
     "text": [
      "  0%|          | 0/30000 [00:00<?, ?it/s]"
     ]
    },
    {
     "name": "stdout",
     "output_type": "stream",
     "text": [
      "Traced<ShapedArray(int32[])>with<DynamicJaxprTrace(level=0/1)>\n"
     ]
    },
    {
     "name": "stderr",
     "output_type": "stream",
     "text": [
      "  4%|▍         | 1311/30000 [07:54<2:53:09,  2.76it/s, val=18.385172]\n"
     ]
    },
    {
     "ename": "KeyboardInterrupt",
     "evalue": "",
     "output_type": "error",
     "traceback": [
      "\u001b[0;31m---------------------------------------------------------------------------\u001b[0m",
      "\u001b[0;31mKeyboardInterrupt\u001b[0m                         Traceback (most recent call last)",
      "\u001b[1;32m/Users/smsharma/Projects/set-diffuser/notebooks/egnn_satorras-vdm.ipynb Cell 54\u001b[0m in \u001b[0;36m1\n\u001b[1;32m     <a href='vscode-notebook-cell:/Users/smsharma/Projects/set-diffuser/notebooks/egnn_satorras-vdm.ipynb#Y104sZmlsZQ%3D%3D?line=14'>15</a>\u001b[0m rng, \u001b[39m*\u001b[39mtrain_step_rng \u001b[39m=\u001b[39m jax\u001b[39m.\u001b[39mrandom\u001b[39m.\u001b[39msplit(rng, num\u001b[39m=\u001b[39mjax\u001b[39m.\u001b[39mlocal_device_count() \u001b[39m+\u001b[39m \u001b[39m1\u001b[39m)\n\u001b[1;32m     <a href='vscode-notebook-cell:/Users/smsharma/Projects/set-diffuser/notebooks/egnn_satorras-vdm.ipynb#Y104sZmlsZQ%3D%3D?line=15'>16</a>\u001b[0m train_step_rng \u001b[39m=\u001b[39m np\u001b[39m.\u001b[39masarray(train_step_rng)\n\u001b[0;32m---> <a href='vscode-notebook-cell:/Users/smsharma/Projects/set-diffuser/notebooks/egnn_satorras-vdm.ipynb#Y104sZmlsZQ%3D%3D?line=17'>18</a>\u001b[0m pstate, metrics \u001b[39m=\u001b[39m train_step(pstate, \u001b[39mnext\u001b[39;49m(batches), train_step_rng, vdm, loss_vdm)\n\u001b[1;32m     <a href='vscode-notebook-cell:/Users/smsharma/Projects/set-diffuser/notebooks/egnn_satorras-vdm.ipynb#Y104sZmlsZQ%3D%3D?line=18'>19</a>\u001b[0m steps\u001b[39m.\u001b[39mset_postfix(val\u001b[39m=\u001b[39munreplicate(metrics[\u001b[39m\"\u001b[39m\u001b[39mloss\u001b[39m\u001b[39m\"\u001b[39m]))\n",
      "File \u001b[0;32m/opt/homebrew/Caskroom/miniforge/base/envs/torch-mps/lib/python3.9/site-packages/flax/core/frozen_dict.py:159\u001b[0m, in \u001b[0;36mFrozenDict.tree_unflatten\u001b[0;34m(cls, _, data)\u001b[0m\n\u001b[1;32m    152\u001b[0m   \u001b[39m\"\"\"Flattens this FrozenDict.\u001b[39;00m\n\u001b[1;32m    153\u001b[0m \n\u001b[1;32m    154\u001b[0m \u001b[39m  Returns:\u001b[39;00m\n\u001b[1;32m    155\u001b[0m \u001b[39m    A flattened version of this FrozenDict instance.\u001b[39;00m\n\u001b[1;32m    156\u001b[0m \u001b[39m  \"\"\"\u001b[39;00m\n\u001b[1;32m    157\u001b[0m   \u001b[39mreturn\u001b[39;00m (\u001b[39mself\u001b[39m\u001b[39m.\u001b[39m_dict,), ()\n\u001b[0;32m--> 159\u001b[0m \u001b[39m@classmethod\u001b[39m\n\u001b[1;32m    160\u001b[0m \u001b[39mdef\u001b[39;00m \u001b[39mtree_unflatten\u001b[39m(\u001b[39mcls\u001b[39m, _, data):\n\u001b[1;32m    161\u001b[0m   \u001b[39m# data is already deep copied due to tree map mechanism\u001b[39;00m\n\u001b[1;32m    162\u001b[0m   \u001b[39m# we can skip the deep copy in the constructor\u001b[39;00m\n\u001b[1;32m    163\u001b[0m   \u001b[39mreturn\u001b[39;00m \u001b[39mcls\u001b[39m(\u001b[39m*\u001b[39mdata, __unsafe_skip_copy__\u001b[39m=\u001b[39m\u001b[39mTrue\u001b[39;00m)\n",
      "\u001b[0;31mKeyboardInterrupt\u001b[0m: "
     ]
    }
   ],
   "source": [
    "import flax\n",
    "from flax.training import train_state\n",
    "from tqdm import trange\n",
    "\n",
    "replicate = flax.jax_utils.replicate\n",
    "unreplicate = flax.jax_utils.unreplicate\n",
    "\n",
    "\n",
    "state = train_state.TrainState.create(apply_fn=vdm.apply, params=params, tx=opt)\n",
    "pstate = replicate(state)\n",
    "\n",
    "with trange(train_steps) as steps:\n",
    "    for step in steps:\n",
    "\n",
    "        rng, *train_step_rng = jax.random.split(rng, num=jax.local_device_count() + 1)\n",
    "        train_step_rng = np.asarray(train_step_rng)\n",
    "\n",
    "        pstate, metrics = train_step(pstate, next(batches), train_step_rng, vdm, loss_vdm)\n",
    "        steps.set_postfix(val=unreplicate(metrics[\"loss\"]))"
   ]
  },
  {
   "cell_type": "code",
   "execution_count": null,
   "id": "0c431c9c",
   "metadata": {},
   "outputs": [],
   "source": [
    "from models.diffusion_utils import generate\n",
    "\n",
    "x, conditioning, mask = next(batches)\n",
    "x, conditioning, mask = x[0], conditioning[0], mask[0]\n",
    "\n",
    "# Gen\n",
    "x_samples = generate(vdm, unreplicate(pstate).params, rng, (8, 100), conditioning, mask=mask, steps=100).mean()\n"
   ]
  },
  {
   "cell_type": "code",
   "execution_count": null,
   "id": "f2dbb971",
   "metadata": {},
   "outputs": [
    {
     "data": {
      "text/plain": [
       "<matplotlib.collections.PathCollection at 0x3333b9c40>"
      ]
     },
     "execution_count": 51,
     "metadata": {},
     "output_type": "execute_result"
    },
    {
     "data": {
      "image/png": "[encoded data removed]",
      "text/plain": [
       "<Figure size 640x480 with 1 Axes>"
      ]
     },
     "metadata": {},
     "output_type": "display_data"
    }
   ],
   "source": [
    "idx = 2\n",
    "plt.scatter(x_samples[idx, :, 0], x_samples[idx, :, 1])"
   ]
  },
  {
   "cell_type": "code",
   "execution_count": null,
   "id": "d1446e6c",
   "metadata": {},
   "outputs": [],
   "source": []
  }
 ],
 "metadata": {
  "kernelspec": {
   "display_name": "Python 3 (ipykernel)",
   "language": "python",
   "name": "python3"
  },
  "language_info": {
   "codemirror_mode": {
    "name": "ipython",
    "version": 3
   },
   "file_extension": ".py",
   "mimetype": "text/x-python",
   "name": "python",
   "nbconvert_exporter": "python",
   "pygments_lexer": "ipython3",
   "version": "3.9.13"
  },
  "vscode": {
   "interpreter": {
    "hash": "4de8ebced33472280eb2d39fa7eb85126aa4b5bd288871aff7028464b844f159"
   }
  }
 },
 "nbformat": 4,
 "nbformat_minor": 5
}
