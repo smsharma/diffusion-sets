{
 "cells": [
  {
   "cell_type": "code",
   "execution_count": 1,
   "id": "6e5abee5-c59f-4c12-b08a-d75f1f4a9746",
   "metadata": {},
   "outputs": [],
   "source": [
    "import jax\n",
    "import jax.numpy as np\n",
    "import jraph\n",
    "import flax.linen as nn\n",
    "import numpy as onp\n",
    "import matplotlib.pyplot as plt\n",
    "\n",
    "from functools import partial\n",
    "\n",
    "from jax.config import config\n",
    "config.update(\"jax_debug_nans\", True)"
   ]
  },
  {
   "cell_type": "code",
   "execution_count": 2,
   "id": "92430e0d",
   "metadata": {},
   "outputs": [],
   "source": [
    "%load_ext autoreload\n",
    "%autoreload 2"
   ]
  },
  {
   "cell_type": "code",
   "execution_count": 3,
   "id": "38145712",
   "metadata": {},
   "outputs": [],
   "source": [
    "import sys\n",
    "sys.path.append(\"../\")\n",
    "\n",
    "from models.gnn import GraphConvNet\n",
    "from models.graph_utils import nearest_neighbors\n",
    "from models.graph_utils import add_graphs_tuples\n",
    "from models.train_utils import create_input_iter"
   ]
  },
  {
   "cell_type": "code",
   "execution_count": 4,
   "id": "9a1c76b5-abab-4b40-89fd-dc128c44a06d",
   "metadata": {},
   "outputs": [],
   "source": [
    "from datasets import load_data"
   ]
  },
  {
   "cell_type": "code",
   "execution_count": 5,
   "id": "038f35cf-6d0d-4662-87d1-4c2909d9d4f0",
   "metadata": {},
   "outputs": [],
   "source": [
    "n_nodes = 5000"
   ]
  },
  {
   "cell_type": "code",
   "execution_count": 6,
   "id": "026efde9-0725-4f6b-964e-f8e3c18733fe",
   "metadata": {},
   "outputs": [],
   "source": [
    "train_ds, norm_dict = load_data(\"nbody\", 3, n_nodes, 2, 234)"
   ]
  },
  {
   "cell_type": "code",
   "execution_count": 9,
   "id": "e3100536-e241-4ffe-b9cc-77dca0ae32bf",
   "metadata": {},
   "outputs": [
    {
     "data": {
      "text/plain": [
       "(250.2040252685547, 250.02423095703125, 250.07911682128906)"
      ]
     },
     "execution_count": 9,
     "metadata": {},
     "output_type": "execute_result"
    }
   ],
   "source": [
    "tuple(map(float, norm_dict['mean']))"
   ]
  },
  {
   "cell_type": "code",
   "execution_count": 7,
   "id": "431b71dd-8ed7-4ade-86b3-bfd0ad64869d",
   "metadata": {},
   "outputs": [],
   "source": [
    "batches = create_input_iter(train_ds)\n",
    "x = next(batches)\n",
    "x = x[0][0]"
   ]
  },
  {
   "cell_type": "code",
   "execution_count": 8,
   "id": "bbf52d15-53e7-473d-a48b-98affa5d44d5",
   "metadata": {},
   "outputs": [],
   "source": [
    "k = 20"
   ]
  },
  {
   "cell_type": "code",
   "execution_count": 9,
   "id": "79afde5e-eef2-47c1-8122-ad2bcb0dea71",
   "metadata": {},
   "outputs": [],
   "source": [
    "sources, targets = jax.vmap(nearest_neighbors, in_axes=(0, None))(x, k)"
   ]
  },
  {
   "cell_type": "markdown",
   "id": "22637510-964f-4e2d-8a45-a852497233c5",
   "metadata": {},
   "source": [
    "## EGNN"
   ]
  },
  {
   "cell_type": "code",
   "execution_count": 10,
   "id": "611d36f3-c871-46ff-b427-0a641eb05295",
   "metadata": {},
   "outputs": [],
   "source": [
    "from models.egnn import EGNN"
   ]
  },
  {
   "cell_type": "code",
   "execution_count": 11,
   "id": "22e68794",
   "metadata": {},
   "outputs": [],
   "source": [
    "class GraphWrapper(nn.Module):\n",
    "    @nn.compact\n",
    "    def __call__(self, x):\n",
    "        model = jax.vmap(EGNN(\n",
    "                        message_passing_steps=2, d_hidden=64, n_layers=3, norm_layer=False, skip_connections=False,\n",
    "                ))\n",
    "        return model(x)\n",
    "    \n",
    "model = GraphWrapper()\n",
    "rng = jax.random.PRNGKey(42)"
   ]
  },
  {
   "cell_type": "code",
   "execution_count": 12,
   "id": "035f4e28-e28c-48d1-b1d6-ec0f82db5c01",
   "metadata": {},
   "outputs": [],
   "source": [
    "globals = np.array([np.arange(50)] * 2)"
   ]
  },
  {
   "cell_type": "code",
   "execution_count": 13,
   "id": "794a614f-a182-45a8-94e9-2f2028b0bfd8",
   "metadata": {},
   "outputs": [],
   "source": [
    "from einops import repeat\n",
    "edges = repeat(globals, \"b g -> b e g\", e = n_nodes * k)"
   ]
  },
  {
   "cell_type": "code",
   "execution_count": 14,
   "id": "4956f4a2-37ce-41c7-b597-1eb071a3cbaf",
   "metadata": {},
   "outputs": [],
   "source": [
    "# graph = jraph.GraphsTuple(\n",
    "#           n_node=np.array(2 * [[n_nodes]]), \n",
    "#           n_edge=np.array(2 * [[k]]),\n",
    "#           nodes=x, \n",
    "#           edges=None,\n",
    "#           globals=np.array([np.arange(50)] * 2),\n",
    "#           senders=sources,\n",
    "#           receivers=targets)\n",
    "\n",
    "# graph_out, _ = model.init_with_output(rng, graph)\n",
    "\n",
    "# x_out = graph_out.nodes"
   ]
  },
  {
   "cell_type": "code",
   "execution_count": 15,
   "id": "600f33c5-63a9-4caf-92a3-6a2017a6e60f",
   "metadata": {},
   "outputs": [],
   "source": [
    "# x_out.shape"
   ]
  },
  {
   "cell_type": "markdown",
   "id": "03665d6e-ce19-431c-b777-870eb4d2ebd0",
   "metadata": {},
   "source": [
    "## Actually run VDM"
   ]
  },
  {
   "cell_type": "code",
   "execution_count": 16,
   "id": "2d97924d-601d-4bae-8169-79295f841e57",
   "metadata": {},
   "outputs": [],
   "source": [
    "from models.diffusion import VariationalDiffusionModel\n",
    "from flax.core import FrozenDict\n",
    "from models.diffusion_utils import loss_vdm\n",
    "from models.train_utils import create_input_iter, param_count, train_step"
   ]
  },
  {
   "cell_type": "code",
   "execution_count": 17,
   "id": "406a771b-6d3f-4168-ab6a-a3f933730dd2",
   "metadata": {},
   "outputs": [],
   "source": [
    "from models.egnn_jax import EGNN"
   ]
  },
  {
   "cell_type": "code",
   "execution_count": 18,
   "id": "f0d55ae1-aad7-49c2-a22a-e0e909da0609",
   "metadata": {},
   "outputs": [],
   "source": [
    "train_ds, norm_dict = load_data(\"nbody\", 3, 5000, 4, 234)"
   ]
  },
  {
   "cell_type": "code",
   "execution_count": 19,
   "id": "5b51828d-2aad-40c9-b15a-841f7b681085",
   "metadata": {},
   "outputs": [],
   "source": [
    "batches = create_input_iter(train_ds)"
   ]
  },
  {
   "cell_type": "code",
   "execution_count": 20,
   "id": "7956fb54-4733-42df-9ac5-7760c0ba1d88",
   "metadata": {},
   "outputs": [],
   "source": [
    "x, conditioning, mask = next(batches)"
   ]
  },
  {
   "cell_type": "code",
   "execution_count": 21,
   "id": "8324112e-6510-487c-b4c6-6084bbf483de",
   "metadata": {},
   "outputs": [],
   "source": [
    "score_dict = FrozenDict({\"k\":20, \"message_passing_steps\":2, \"skip_connections\":False, \"norm_layer\":False, \"n_layers\":4, \"d_hidden\":16, \"n_pos_features\":3})  # GNN args\n",
    "encoder_dict = decoder_dict = FrozenDict({})\n",
    "score = \"egnn\"\n",
    "\n",
    "vdm = VariationalDiffusionModel(\n",
    "          timesteps=0, \n",
    "          d_t_embedding=16,\n",
    "          d_feature=3,\n",
    "          score=score,\n",
    "          score_dict=score_dict,\n",
    "          n_classes=2,\n",
    "          embed_context=True,\n",
    "          d_context_embedding=16,\n",
    "          noise_schedule=\"learned_linear\",\n",
    "          gamma_min=-8.,\n",
    "          gamma_max=14.,\n",
    "          use_encdec=False,\n",
    "          encoder_dict=encoder_dict,\n",
    "          decoder_dict=decoder_dict,\n",
    "          norm_dict=norm_dict)"
   ]
  },
  {
   "cell_type": "code",
   "execution_count": 22,
   "id": "4f79d41f-f386-4f9a-8172-1c65d0633a09",
   "metadata": {},
   "outputs": [],
   "source": [
    "# Pass a test batch through to initialize model\n",
    "n_smoke = 4\n",
    "\n",
    "x = np.array(x[0, :n_smoke])\n",
    "conditioning = np.array(conditioning[0, :n_smoke])\n",
    "mask = np.array(mask[0, :n_smoke])"
   ]
  },
  {
   "cell_type": "code",
   "execution_count": 23,
   "id": "59f2a890-50d4-472e-bda5-507c151462c3",
   "metadata": {},
   "outputs": [],
   "source": [
    "coord_mean = norm_dict[\"mean\"][:3]\n",
    "coord_std = norm_dict[\"std\"][:3]"
   ]
  },
  {
   "cell_type": "code",
   "execution_count": 24,
   "id": "109bc48e-b1c5-4c79-ba17-15fffa7ba101",
   "metadata": {},
   "outputs": [
    {
     "data": {
      "text/plain": [
       "((4, 5000, 3), (4, 2), (4, 5000))"
      ]
     },
     "execution_count": 24,
     "metadata": {},
     "output_type": "execute_result"
    }
   ],
   "source": [
    "x.shape, conditioning.shape, mask.shape"
   ]
  },
  {
   "cell_type": "code",
   "execution_count": 25,
   "id": "0ed03aa8-7c14-4786-b8b5-343e100f10b1",
   "metadata": {},
   "outputs": [],
   "source": [
    "rng = jax.random.PRNGKey(42)\n",
    "out, params = vdm.init_with_output({\"sample\": rng, \"params\": rng}, x, conditioning, mask);"
   ]
  },
  {
   "cell_type": "code",
   "execution_count": 26,
   "id": "1faa61cb-66c4-40ed-b5d3-2e681c3bd0a3",
   "metadata": {},
   "outputs": [],
   "source": [
    "loss = loss_vdm(params, vdm, rng, x, np.zeros_like(conditioning), mask)"
   ]
  },
  {
   "cell_type": "code",
   "execution_count": 27,
   "id": "32419cae-702f-4175-92b8-2dbdafb10623",
   "metadata": {},
   "outputs": [],
   "source": [
    "loss, loss_grad = jax.value_and_grad(loss_vdm)(params, vdm, rng, x, np.zeros_like(conditioning), mask)"
   ]
  },
  {
   "cell_type": "code",
   "execution_count": 28,
   "id": "bf04339d-1e9d-47d1-a0f3-a88d93f34fa7",
   "metadata": {},
   "outputs": [
    {
     "data": {
      "text/plain": [
       "Array(215.55902, dtype=float32)"
      ]
     },
     "execution_count": 28,
     "metadata": {},
     "output_type": "execute_result"
    }
   ],
   "source": [
    "loss"
   ]
  },
  {
   "cell_type": "markdown",
   "id": "cfb329cc-fa38-4567-b9a8-9eed9c663a6c",
   "metadata": {},
   "source": [
    "## EGNN other implemen"
   ]
  },
  {
   "cell_type": "code",
   "execution_count": 285,
   "id": "4126601d-2af9-4955-97aa-5f451a6310fe",
   "metadata": {},
   "outputs": [],
   "source": [
    "from models.egnn_jax import EGNN as EGNNJax"
   ]
  },
  {
   "cell_type": "code",
   "execution_count": 243,
   "id": "f5faab93-4a82-44c5-bd5c-1b4f23121f10",
   "metadata": {},
   "outputs": [],
   "source": [
    "class GraphWrapper(nn.Module):\n",
    "    \n",
    "    @nn.compact\n",
    "    def __call__(self, graph, x):\n",
    "        model = jax.vmap(EGNNJax(hidden_size=64, num_layers=4, act_fn=jax.nn.gelu, residual=True, attention=True, normalize=True, tanh=True))\n",
    "        return model(graph, x)\n",
    "    \n",
    "model = GraphWrapper()\n",
    "rng = jax.random.PRNGKey(42)"
   ]
  },
  {
   "cell_type": "code",
   "execution_count": 244,
   "id": "d011f429-a02e-46b4-8fba-8a09aba6a1e7",
   "metadata": {},
   "outputs": [],
   "source": [
    "graph = jraph.GraphsTuple(\n",
    "          n_node=np.array(2 * [[n_nodes]]), \n",
    "          n_edge=np.array(2 * [[k]]),\n",
    "          nodes=x, \n",
    "          edges=None,\n",
    "          globals=np.array([np.arange(50)] * 2),\n",
    "          senders=sources,\n",
    "          receivers=targets)\n",
    "\n",
    "pos, params = model.init_with_output(rng, graph, x)"
   ]
  },
  {
   "cell_type": "code",
   "execution_count": 245,
   "id": "c6e5a2d3-9878-4c90-89d5-5d8dc7c7c8fe",
   "metadata": {},
   "outputs": [
    {
     "data": {
      "text/plain": [
       "Array([[[-30.578857  , -34.251675  ,  -3.9459803 ],\n",
       "        [  4.5112658 ,   6.9919643 ,   0.39431453],\n",
       "        [ 10.9624605 , -11.938925  ,  44.85105   ],\n",
       "        ...,\n",
       "        [ -6.0228853 , -19.419931  ,  -7.7576513 ],\n",
       "        [-14.449694  ,  11.418314  ,   8.207899  ],\n",
       "        [ -2.053481  ,   5.8104205 ,   7.0276966 ]],\n",
       "\n",
       "       [[ -2.6015284 ,  10.589291  ,  15.668666  ],\n",
       "        [ 12.237366  ,  25.771553  ,  14.827638  ],\n",
       "        [ -5.10552   ,  -5.1483183 ,  -3.9938614 ],\n",
       "        ...,\n",
       "        [ 12.942366  , -12.413314  ,  23.25596   ],\n",
       "        [  4.384595  , -14.923397  , -18.405027  ],\n",
       "        [ -2.102576  ,  14.664121  , -10.526007  ]]], dtype=float32)"
      ]
     },
     "execution_count": 245,
     "metadata": {},
     "output_type": "execute_result"
    }
   ],
   "source": [
    "pos"
   ]
  },
  {
   "cell_type": "code",
   "execution_count": null,
   "id": "9a96db32-d77d-41b8-be9b-9636a22ba26a",
   "metadata": {},
   "outputs": [],
   "source": []
  },
  {
   "cell_type": "code",
   "execution_count": null,
   "id": "7e55db4d-62ab-4c5c-8714-77f77927cf31",
   "metadata": {},
   "outputs": [],
   "source": []
  }
 ],
 "metadata": {
  "kernelspec": {
   "display_name": "Python 3 (ipykernel)",
   "language": "python",
   "name": "python3"
  },
  "language_info": {
   "codemirror_mode": {
    "name": "ipython",
    "version": 3
   },
   "file_extension": ".py",
   "mimetype": "text/x-python",
   "name": "python",
   "nbconvert_exporter": "python",
   "pygments_lexer": "ipython3",
   "version": "3.9.12"
  },
  "vscode": {
   "interpreter": {
    "hash": "4de8ebced33472280eb2d39fa7eb85126aa4b5bd288871aff7028464b844f159"
   }
  }
 },
 "nbformat": 4,
 "nbformat_minor": 5
}
