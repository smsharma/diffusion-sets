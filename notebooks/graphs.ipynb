{
 "cells": [
  {
   "cell_type": "code",
   "execution_count": 1,
   "id": "6e5abee5-c59f-4c12-b08a-d75f1f4a9746",
   "metadata": {},
   "outputs": [],
   "source": [
    "import jax\n",
    "import jax.numpy as np\n",
    "import jraph\n",
    "import flax.linen as nn\n",
    "\n",
    "from functools import partial"
   ]
  },
  {
   "cell_type": "code",
   "execution_count": 2,
   "id": "92430e0d",
   "metadata": {},
   "outputs": [],
   "source": [
    "%load_ext autoreload\n",
    "%autoreload 2"
   ]
  },
  {
   "cell_type": "code",
   "execution_count": 24,
   "id": "38145712",
   "metadata": {},
   "outputs": [],
   "source": [
    "import sys\n",
    "sys.path.append(\"../\")\n",
    "\n",
    "from models.gnn import GraphConvNet\n",
    "from models.graph_utils import nearest_neighbors"
   ]
  },
  {
   "cell_type": "code",
   "execution_count": 25,
   "id": "79afde5e-eef2-47c1-8122-ad2bcb0dea71",
   "metadata": {},
   "outputs": [],
   "source": [
    "x = np.load(\"data/halos_small.npy\")\n",
    "n_nodes = 5000\n",
    "\n",
    "sources, targets, dist = jax.vmap(nearest_neighbors, in_axes=(0, None))(x[:4], 50)"
   ]
  },
  {
   "cell_type": "code",
   "execution_count": 26,
   "id": "bf116756-9107-47e0-b5e4-6622490bf994",
   "metadata": {},
   "outputs": [],
   "source": [
    "graph = jraph.GraphsTuple(\n",
    "          n_node=np.array(4 * [[n_nodes]]), \n",
    "          n_edge=np.array(4 * [[50]]),\n",
    "          nodes=x[:4], \n",
    "          edges=None,#np.zeros(sources.shape),\n",
    "          globals=np.ones((4, 7)),\n",
    "          senders=sources,\n",
    "          receivers=targets)"
   ]
  },
  {
   "cell_type": "code",
   "execution_count": 27,
   "id": "5a6a676e-1be2-4f03-b042-cca830b15dde",
   "metadata": {},
   "outputs": [
    {
     "data": {
      "text/plain": [
       "((4, 1), (4, 1), (4, 5000, 7), (4, 7), (4, 250000), (4, 250000))"
      ]
     },
     "execution_count": 27,
     "metadata": {},
     "output_type": "execute_result"
    }
   ],
   "source": [
    "graph.n_node.shape, graph.n_edge.shape, graph.nodes.shape, graph.globals.shape, graph.senders.shape, graph.receivers.shape, "
   ]
  },
  {
   "cell_type": "code",
   "execution_count": 32,
   "id": "82980e01-daea-46fc-bcbc-740e98638124",
   "metadata": {},
   "outputs": [],
   "source": [
    "class GraphWrapper(nn.Module):\n",
    "    @nn.compact\n",
    "    def __call__(self, x):\n",
    "        model = jax.vmap(GraphConvNet(\n",
    "            latent_size=6, \n",
    "            hidden_size=32,\n",
    "            num_mlp_layers=4, \n",
    "            attention=True,\n",
    "            num_heads=4,\n",
    "            message_passing_steps=3, \n",
    "            shared_weights=False,\n",
    "            skip_connections=True,))\n",
    "        return model(x)"
   ]
  },
  {
   "cell_type": "code",
   "execution_count": 33,
   "id": "b6fea542-1ca9-4034-9011-3d42f04cc78c",
   "metadata": {},
   "outputs": [],
   "source": [
    "model = GraphWrapper()\n",
    "rng = jax.random.PRNGKey(42)\n",
    "graph_out, _ = model.init_with_output(rng, graph)"
   ]
  },
  {
   "cell_type": "code",
   "execution_count": 34,
   "id": "5016a900",
   "metadata": {},
   "outputs": [
    {
     "data": {
      "text/plain": [
       "(4, 5000, 3)"
      ]
     },
     "execution_count": 34,
     "metadata": {},
     "output_type": "execute_result"
    }
   ],
   "source": [
    "graph_out.nodes.shape"
   ]
  },
  {
   "cell_type": "code",
   "execution_count": null,
   "id": "c574f342-351f-4073-9cf7-38962e436434",
   "metadata": {},
   "outputs": [],
   "source": []
  }
 ],
 "metadata": {
  "kernelspec": {
   "display_name": "Python 3 (ipykernel)",
   "language": "python",
   "name": "python3"
  },
  "language_info": {
   "codemirror_mode": {
    "name": "ipython",
    "version": 3
   },
   "file_extension": ".py",
   "mimetype": "text/x-python",
   "name": "python",
   "nbconvert_exporter": "python",
   "pygments_lexer": "ipython3",
   "version": "3.10.9"
  },
  "vscode": {
   "interpreter": {
    "hash": "4de8ebced33472280eb2d39fa7eb85126aa4b5bd288871aff7028464b844f159"
   }
  }
 },
 "nbformat": 4,
 "nbformat_minor": 5
}
