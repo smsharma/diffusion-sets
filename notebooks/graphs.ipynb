{
 "cells": [
  {
   "cell_type": "code",
   "execution_count": 1,
   "id": "6e5abee5-c59f-4c12-b08a-d75f1f4a9746",
   "metadata": {},
   "outputs": [],
   "source": [
    "import jax\n",
    "import jax.numpy as np\n",
    "import jraph\n",
    "import flax.linen as nn\n",
    "\n",
    "from functools import partial"
   ]
  },
  {
   "cell_type": "code",
   "execution_count": 2,
   "id": "92430e0d",
   "metadata": {},
   "outputs": [],
   "source": [
    "%load_ext autoreload\n",
    "%autoreload 2"
   ]
  },
  {
   "cell_type": "code",
   "execution_count": 133,
   "id": "38145712",
   "metadata": {},
   "outputs": [],
   "source": [
    "import sys\n",
    "sys.path.append(\"../\")\n",
    "\n",
    "from models.gnn import GraphConvNet\n",
    "from models.graph_utils import nearest_neighbors"
   ]
  },
  {
   "cell_type": "code",
   "execution_count": 134,
   "id": "79afde5e-eef2-47c1-8122-ad2bcb0dea71",
   "metadata": {},
   "outputs": [],
   "source": [
    "x = np.load(\"data/halos_small.npy\")\n",
    "n_nodes = 5000\n",
    "\n",
    "sources, targets, dist = jax.vmap(nearest_neighbors, in_axes=(0, None))(x[:4, :, :3], 50)"
   ]
  },
  {
   "cell_type": "code",
   "execution_count": 135,
   "id": "bf116756-9107-47e0-b5e4-6622490bf994",
   "metadata": {},
   "outputs": [],
   "source": [
    "graph = jraph.GraphsTuple(\n",
    "          n_node=np.array(4 * [[n_nodes]]), \n",
    "          n_edge=np.array(4 * [[50]]),\n",
    "          nodes=x[:4], \n",
    "          edges=dist[..., None],\n",
    "          globals=np.ones((4, 7)),\n",
    "          senders=sources,\n",
    "          receivers=targets)"
   ]
  },
  {
   "cell_type": "code",
   "execution_count": 136,
   "id": "5a6a676e-1be2-4f03-b042-cca830b15dde",
   "metadata": {},
   "outputs": [
    {
     "data": {
      "text/plain": [
       "((4, 1), (4, 1), (4, 5000, 7), (4, 7), (4, 250000), (4, 250000))"
      ]
     },
     "execution_count": 136,
     "metadata": {},
     "output_type": "execute_result"
    }
   ],
   "source": [
    "graph.n_node.shape, graph.n_edge.shape, graph.nodes.shape, graph.globals.shape, graph.senders.shape, graph.receivers.shape, "
   ]
  },
  {
   "cell_type": "code",
   "execution_count": 137,
   "id": "82980e01-daea-46fc-bcbc-740e98638124",
   "metadata": {},
   "outputs": [],
   "source": [
    "class GraphWrapper(nn.Module):\n",
    "    @nn.compact\n",
    "    def __call__(self, x):\n",
    "        model = jax.vmap(GraphConvNet(\n",
    "            latent_size=6, \n",
    "            hidden_size=32,\n",
    "            num_mlp_layers=4, \n",
    "            attention=True,\n",
    "            message_passing_steps=3, \n",
    "            shared_weights=False,\n",
    "            skip_connections=True,))\n",
    "        return model(x)"
   ]
  },
  {
   "cell_type": "code",
   "execution_count": 115,
   "id": "b6fea542-1ca9-4034-9011-3d42f04cc78c",
   "metadata": {},
   "outputs": [
    {
     "data": {
      "text/plain": [
       "GraphsTuple(nodes=Array([[[ 0.3201818 ,  0.27534413, -0.3180032 ],\n",
       "        [ 0.33794418,  0.30218726, -0.31939706],\n",
       "        [ 0.32354224,  0.28020442, -0.31872648],\n",
       "        ...,\n",
       "        [ 0.54821897,  0.52038336, -0.4289983 ],\n",
       "        [ 0.55066013,  0.5230596 , -0.428186  ],\n",
       "        [ 0.5485737 ,  0.5207604 , -0.42850506]],\n",
       "\n",
       "       [[ 0.33066076,  0.29415044, -0.31264204],\n",
       "        [ 0.33746338,  0.29990524, -0.32095745],\n",
       "        [ 0.318626  ,  0.27991438, -0.30049586],\n",
       "        ...,\n",
       "        [ 0.5462873 ,  0.51871043, -0.42789146],\n",
       "        [ 0.5475256 ,  0.52038574, -0.4265357 ],\n",
       "        [ 0.54554456,  0.517431  , -0.4304901 ]],\n",
       "\n",
       "       [[ 0.3071271 ,  0.2596523 , -0.31489176],\n",
       "        [ 0.33791628,  0.30205736, -0.31948337],\n",
       "        [ 0.33137852,  0.29102114, -0.32083347],\n",
       "        ...,\n",
       "        [ 0.5432364 ,  0.51646173, -0.42521912],\n",
       "        [ 0.54638654,  0.5210671 , -0.41968778],\n",
       "        [ 0.54745233,  0.52049667, -0.42569938]],\n",
       "\n",
       "       [[ 0.32646844,  0.284438  , -0.31935483],\n",
       "        [ 0.3321083 ,  0.2958573 , -0.31369552],\n",
       "        [ 0.32528412,  0.28777885, -0.30832842],\n",
       "        ...,\n",
       "        [ 0.54664075,  0.5242195 , -0.40998402],\n",
       "        [ 0.5430842 ,  0.5188649 , -0.41569212],\n",
       "        [ 0.5428261 ,  0.51733845, -0.4205279 ]]], dtype=float32), edges=Array([[[ 2.10367469e-03, -4.17616655e-04,  1.13374030e-03,\n",
       "          1.03761535e-03,  1.11385924e-03, -8.28431454e-04],\n",
       "        [ 6.96848450e+02,  6.98571045e+02,  7.01031006e+02,\n",
       "          6.99926758e+02,  6.97125427e+02,  6.95977722e+02],\n",
       "        [ 1.40412000e+03,  1.40765393e+03,  1.41268506e+03,\n",
       "          1.41042200e+03,  1.40468799e+03,  1.40233813e+03],\n",
       "        ...,\n",
       "        [ 2.18716478e+14, -1.25029946e+14, -1.76518542e+14,\n",
       "         -4.40545407e+13, -2.43093220e+14,  1.44539776e+14],\n",
       "        [ 2.18126323e+14, -1.24518635e+14, -1.76736763e+14,\n",
       "         -4.27439046e+13, -2.42120560e+14,  1.43891924e+14],\n",
       "        [ 2.19182751e+14, -1.18484650e+14, -1.74260430e+14,\n",
       "         -3.90191991e+13, -2.44782769e+14,  1.46535828e+14]],\n",
       "\n",
       "       [[ 2.41300347e-03, -4.81967232e-04,  1.32212555e-03,\n",
       "          1.19893963e-03,  1.28848210e-03, -9.77488700e-04],\n",
       "        [ 9.86274567e+01,  9.88992081e+01,  9.93019562e+01,\n",
       "          9.91251678e+01,  9.86719131e+01,  9.84867325e+01],\n",
       "        [ 8.13563707e+11, -8.78824915e+11,  4.95927362e+11,\n",
       "         -8.00894288e+11, -1.72970777e+12,  3.06027790e+11],\n",
       "        ...,\n",
       "        [ 3.44219919e+14, -1.16051744e+14, -2.31140544e+14,\n",
       "         -2.65466266e+13, -3.92639736e+14,  2.50178557e+14],\n",
       "        [ 3.19118419e+14, -1.79570737e+14, -2.58351124e+14,\n",
       "         -6.01885224e+13, -3.54842581e+14,  2.11297308e+14],\n",
       "        [ 3.23279168e+14, -1.69113096e+14, -2.53585456e+14,\n",
       "         -5.52581265e+13, -3.61708657e+14,  2.17830390e+14]],\n",
       "\n",
       "       [[ 2.85472348e-03, -5.66540170e-04,  1.52721815e-03,\n",
       "          1.40841806e-03,  1.51004281e-03, -1.11018890e-03],\n",
       "        [ 7.04088867e+02,  7.06413513e+02,  7.09733032e+02,\n",
       "          7.08242920e+02,  7.04462646e+02,  7.02913818e+02],\n",
       "        [ 1.24253308e+03,  1.24632483e+03,  1.25172534e+03,\n",
       "          1.24929675e+03,  1.24314246e+03,  1.24062061e+03],\n",
       "        ...,\n",
       "        [ 1.52307157e+14, -8.15979697e+13, -1.20660311e+14,\n",
       "         -2.68618349e+13, -1.70165614e+14,  1.02075636e+14],\n",
       "        [ 1.50937029e+14, -8.49857342e+13, -1.22164850e+14,\n",
       "         -2.83535244e+13, -1.67936325e+14,  9.98724935e+13],\n",
       "        [ 1.51874372e+14, -8.28936154e+13, -1.21358613e+14,\n",
       "         -2.76175226e+13, -1.69280767e+14,  1.01381445e+14]],\n",
       "\n",
       "       [[ 2.20340583e-03, -4.37652983e-04,  1.19172083e-03,\n",
       "          1.08713564e-03,  1.16752950e-03, -8.72882025e-04],\n",
       "        [ 2.60252421e+12, -2.34889544e+12,  1.72499193e+12,\n",
       "         -2.27780277e+12, -5.36469360e+12,  1.69589850e+11],\n",
       "        [ 2.70749786e+02,  2.71471313e+02,  2.72511505e+02,\n",
       "          2.72047516e+02,  2.70865967e+02,  2.70382202e+02],\n",
       "        ...,\n",
       "        [ 3.18408172e+14, -1.70177258e+14, -2.51881260e+14,\n",
       "         -5.57324016e+13, -3.55996115e+14,  2.13419777e+14],\n",
       "        [ 3.29345340e+14, -1.43172399e+14, -2.40401802e+14,\n",
       "         -4.28091260e+13, -3.72946674e+14,  2.30165116e+14],\n",
       "        [ 3.18551181e+14, -1.70237522e+14, -2.52150685e+14,\n",
       "         -5.61134290e+13, -3.55869112e+14,  2.13659507e+14]]],      dtype=float32), receivers=Array([[   0,  331, 4817, ..., 2857, 3067, 4257],\n",
       "       [   0, 1379, 4288, ..., 4924, 1628, 3699],\n",
       "       [   0, 3839, 1120, ..., 2544,  411, 1904],\n",
       "       [   0, 4977, 4138, ...,  728, 3965,  693]], dtype=int32), senders=Array([[   0,    0,    0, ..., 4999, 4999, 4999],\n",
       "       [   0,    0,    0, ..., 4999, 4999, 4999],\n",
       "       [   0,    0,    0, ..., 4999, 4999, 4999],\n",
       "       [   0,    0,    0, ..., 4999, 4999, 4999]], dtype=int32), globals=Array([[[1.],\n",
       "        [1.],\n",
       "        [1.],\n",
       "        [1.],\n",
       "        [1.],\n",
       "        [1.],\n",
       "        [1.]],\n",
       "\n",
       "       [[1.],\n",
       "        [1.],\n",
       "        [1.],\n",
       "        [1.],\n",
       "        [1.],\n",
       "        [1.],\n",
       "        [1.]],\n",
       "\n",
       "       [[1.],\n",
       "        [1.],\n",
       "        [1.],\n",
       "        [1.],\n",
       "        [1.],\n",
       "        [1.],\n",
       "        [1.]],\n",
       "\n",
       "       [[1.],\n",
       "        [1.],\n",
       "        [1.],\n",
       "        [1.],\n",
       "        [1.],\n",
       "        [1.],\n",
       "        [1.]]], dtype=float32), n_node=Array([[5000],\n",
       "       [5000],\n",
       "       [5000],\n",
       "       [5000]], dtype=int32), n_edge=Array([[50],\n",
       "       [50],\n",
       "       [50],\n",
       "       [50]], dtype=int32))"
      ]
     },
     "execution_count": 115,
     "metadata": {},
     "output_type": "execute_result"
    }
   ],
   "source": [
    "model = GraphWrapper()\n",
    "rng = jax.random.PRNGKey(42)\n",
    "graph_out, params = model.init_with_output(rng, graph)\n",
    "\n",
    "graph_out"
   ]
  },
  {
   "cell_type": "code",
   "execution_count": 39,
   "id": "144e6c43-d16f-4d61-b72f-55e9c64f56b9",
   "metadata": {},
   "outputs": [
    {
     "name": "stderr",
     "output_type": "stream",
     "text": [
      "/tmp/ipykernel_1353319/236323635.py:1: FutureWarning: jax.tree_leaves is deprecated, and will be removed in a future release. Use jax.tree_util.tree_leaves instead.\n",
      "  sum(x.size for x in jax.tree_leaves(params))\n"
     ]
    },
    {
     "data": {
      "text/plain": [
       "23433"
      ]
     },
     "execution_count": 39,
     "metadata": {},
     "output_type": "execute_result"
    }
   ],
   "source": [
    "sum(x.size for x in jax.tree_leaves(params))"
   ]
  },
  {
   "cell_type": "code",
   "execution_count": 34,
   "id": "5016a900",
   "metadata": {},
   "outputs": [
    {
     "data": {
      "text/plain": [
       "(4, 5000, 3)"
      ]
     },
     "execution_count": 34,
     "metadata": {},
     "output_type": "execute_result"
    }
   ],
   "source": [
    "graph_out.nodes.shape"
   ]
  },
  {
   "cell_type": "code",
   "execution_count": null,
   "id": "c574f342-351f-4073-9cf7-38962e436434",
   "metadata": {},
   "outputs": [],
   "source": []
  }
 ],
 "metadata": {
  "kernelspec": {
   "display_name": "Python 3 (ipykernel)",
   "language": "python",
   "name": "python3"
  },
  "language_info": {
   "codemirror_mode": {
    "name": "ipython",
    "version": 3
   },
   "file_extension": ".py",
   "mimetype": "text/x-python",
   "name": "python",
   "nbconvert_exporter": "python",
   "pygments_lexer": "ipython3",
   "version": "3.10.9"
  },
  "vscode": {
   "interpreter": {
    "hash": "4de8ebced33472280eb2d39fa7eb85126aa4b5bd288871aff7028464b844f159"
   }
  }
 },
 "nbformat": 4,
 "nbformat_minor": 5
}
