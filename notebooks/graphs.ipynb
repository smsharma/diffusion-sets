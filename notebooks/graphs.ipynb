{
 "cells": [
  {
   "cell_type": "code",
   "execution_count": 1,
   "id": "6e5abee5-c59f-4c12-b08a-d75f1f4a9746",
   "metadata": {},
   "outputs": [],
   "source": [
    "import jax\n",
    "import jax.numpy as np\n",
    "import jraph\n",
    "import flax.linen as nn\n",
    "\n",
    "from functools import partial"
   ]
  },
  {
   "cell_type": "code",
   "execution_count": 2,
   "id": "92430e0d",
   "metadata": {},
   "outputs": [],
   "source": [
    "%load_ext autoreload\n",
    "%autoreload 2"
   ]
  },
  {
   "cell_type": "code",
   "execution_count": 3,
   "id": "38145712",
   "metadata": {},
   "outputs": [
    {
     "name": "stderr",
     "output_type": "stream",
     "text": [
      "WARNING:absl:Could not import `jaxkdtree`.\n"
     ]
    }
   ],
   "source": [
    "import sys\n",
    "sys.path.append(\"../\")\n",
    "\n",
    "from models.gnn import GraphConvNet\n",
    "from models.graph_utils import nearest_neighbors"
   ]
  },
  {
   "cell_type": "code",
   "execution_count": 4,
   "id": "79afde5e-eef2-47c1-8122-ad2bcb0dea71",
   "metadata": {},
   "outputs": [],
   "source": [
    "x = np.load(\"../data/halos_small.npy\")\n",
    "n_nodes = 5000\n",
    "k = 20\n",
    "sources, targets, dist = jax.vmap(nearest_neighbors, in_axes=(0, None))(x[:4, :, :3], k)"
   ]
  },
  {
   "cell_type": "code",
   "execution_count": 68,
   "id": "bf116756-9107-47e0-b5e4-6622490bf994",
   "metadata": {},
   "outputs": [],
   "source": [
    "graph = jraph.GraphsTuple(\n",
    "          n_node=np.array(4 * [[n_nodes]]), \n",
    "          n_edge=np.array(4 * [[k]]),\n",
    "          nodes=x[:4, :, :6], \n",
    "          edges=dist,\n",
    "          globals=np.ones((4, 7)),\n",
    "          senders=sources,\n",
    "          receivers=targets)"
   ]
  },
  {
   "cell_type": "code",
   "execution_count": 69,
   "id": "44948bf4-9af8-4d8f-b96b-9a78e92c4fa2",
   "metadata": {},
   "outputs": [
    {
     "data": {
      "text/plain": [
       "Array([20], dtype=int32)"
      ]
     },
     "execution_count": 69,
     "metadata": {},
     "output_type": "execute_result"
    }
   ],
   "source": [
    "graph.n_edge[0]"
   ]
  },
  {
   "cell_type": "code",
   "execution_count": 70,
   "id": "5a6a676e-1be2-4f03-b042-cca830b15dde",
   "metadata": {},
   "outputs": [
    {
     "data": {
      "text/plain": [
       "((4, 1), (4, 1), (4, 5000, 6), (4, 7), (4, 100000), (4, 100000))"
      ]
     },
     "execution_count": 70,
     "metadata": {},
     "output_type": "execute_result"
    }
   ],
   "source": [
    "graph.n_node.shape, graph.n_edge.shape, graph.nodes.shape, graph.globals.shape, graph.senders.shape, graph.receivers.shape, "
   ]
  },
  {
   "cell_type": "code",
   "execution_count": 71,
   "id": "a58b9617-010e-46ce-9a74-5cad902b0f0c",
   "metadata": {},
   "outputs": [
    {
     "data": {
      "text/plain": [
       "(4, 100000, 3)"
      ]
     },
     "execution_count": 71,
     "metadata": {},
     "output_type": "execute_result"
    }
   ],
   "source": [
    "graph.edges.shape"
   ]
  },
  {
   "cell_type": "code",
   "execution_count": 72,
   "id": "82980e01-daea-46fc-bcbc-740e98638124",
   "metadata": {},
   "outputs": [],
   "source": [
    "class GraphWrapper(nn.Module):\n",
    "    @nn.compact\n",
    "    def __call__(self, x):\n",
    "        model = jax.vmap(GraphConvNet(\n",
    "            latent_size=12, \n",
    "            hidden_size=32,\n",
    "            num_mlp_layers=4, \n",
    "            attention=False,\n",
    "            message_passing_steps=3, \n",
    "            shared_weights=False,\n",
    "            skip_connections=True,))\n",
    "        return model(x)"
   ]
  },
  {
   "cell_type": "code",
   "execution_count": 73,
   "id": "b6fea542-1ca9-4034-9011-3d42f04cc78c",
   "metadata": {},
   "outputs": [
    {
     "data": {
      "text/plain": [
       "GraphsTuple(nodes=Array([[[-0.1125825 , -0.09283566,  0.11377222],\n",
       "        [-0.05893194, -0.10181687,  0.07655472],\n",
       "        [-0.1651399 , -0.19137335,  0.06769908],\n",
       "        ...,\n",
       "        [-0.07573469, -0.13577965,  0.09486147],\n",
       "        [-0.14018403, -0.16820411,  0.08733329],\n",
       "        [-0.24084674, -0.20037228, -0.04847446]],\n",
       "\n",
       "       [[-0.11877929, -0.19698136, -0.03018252],\n",
       "        [-0.17410675, -0.20649745,  0.09587927],\n",
       "        [-0.07466327, -0.10741072,  0.10991385],\n",
       "        ...,\n",
       "        [-0.08268358, -0.10388442,  0.08842175],\n",
       "        [-0.1477319 , -0.1747698 ,  0.08993898],\n",
       "        [-0.25986856, -0.2063719 , -0.04190782]],\n",
       "\n",
       "       [[-0.02476275, -0.0844294 , -0.01236729],\n",
       "        [-0.12253042, -0.16551678,  0.08586553],\n",
       "        [-0.13652821, -0.15572608, -0.02954918],\n",
       "        ...,\n",
       "        [-0.08189055, -0.11284494,  0.13404271],\n",
       "        [-0.19673815, -0.22579373,  0.02905469],\n",
       "        [-0.14372848, -0.16787201, -0.00698224]],\n",
       "\n",
       "       [[-0.10140395, -0.1546606 ,  0.06181228],\n",
       "        [-0.07466081, -0.11502039, -0.06072843],\n",
       "        [-0.08943775, -0.16986975,  0.02615207],\n",
       "        ...,\n",
       "        [-0.0826616 , -0.15920779,  0.0493701 ],\n",
       "        [-0.13850187, -0.18320048,  0.0978661 ],\n",
       "        [-0.10013358, -0.13812812,  0.11635987]]], dtype=float32), edges=Array([[[ 0.88516396,  0.31407958,  0.4806278 , ...,  0.14650322,\n",
       "         -2.2151468 , -0.95289034],\n",
       "        [ 0.5660934 , -0.1490982 ,  0.82860416, ..., -0.09905157,\n",
       "         -2.1297164 , -0.60732174],\n",
       "        [ 1.1543216 , -0.6188681 ,  0.5878891 , ..., -0.00548542,\n",
       "         -1.5109735 , -0.5685449 ],\n",
       "        ...,\n",
       "        [ 0.7995469 ,  1.3402715 ,  0.22128278, ..., -1.3798112 ,\n",
       "         -1.0290892 , -0.3696463 ],\n",
       "        [ 1.3632165 ,  1.1527497 ,  0.13117735, ..., -1.301566  ,\n",
       "         -1.1592585 , -0.356965  ],\n",
       "        [ 1.5533485 , -0.9424366 ,  1.013581  , ..., -1.0701131 ,\n",
       "         -0.45314455, -0.34838057]],\n",
       "\n",
       "       [[ 1.2247267 ,  0.39873967, -0.08938053, ..., -0.24007188,\n",
       "         -1.8590592 , -0.308166  ],\n",
       "        [ 1.1595434 , -0.6847038 ,  0.0119025 , ..., -0.22123551,\n",
       "         -0.674191  , -1.1016395 ],\n",
       "        [ 0.9253951 ,  0.4086857 ,  0.63313085, ..., -0.7482914 ,\n",
       "         -1.8498333 ,  0.25082305],\n",
       "        ...,\n",
       "        [ 0.62242866, -0.00688659,  1.0411208 , ..., -1.3920213 ,\n",
       "         -0.38632768,  0.28203586],\n",
       "        [ 0.7983793 ,  0.46077466,  0.6505623 , ..., -1.435333  ,\n",
       "         -1.6557313 ,  0.15826787],\n",
       "        [ 1.0091685 , -0.07657856,  1.0621351 , ..., -1.5566016 ,\n",
       "         -0.5609931 ,  0.11477673]],\n",
       "\n",
       "       [[ 1.6006254 ,  0.28819692, -0.49957734, ..., -0.00850113,\n",
       "         -1.9363045 , -1.097039  ],\n",
       "        [ 1.4369041 ,  0.229456  ,  0.27837604, ..., -0.4976979 ,\n",
       "         -1.952504  , -0.5509631 ],\n",
       "        [ 1.5758845 ,  0.09475273,  0.06568403, ..., -0.6507707 ,\n",
       "         -1.7005085 , -0.5790616 ],\n",
       "        ...,\n",
       "        [ 0.07769471,  0.6135922 ,  1.0957808 , ..., -2.130953  ,\n",
       "         -0.7376427 ,  0.82388747],\n",
       "        [ 1.180199  , -0.7290299 ,  1.0801573 , ..., -1.3418086 ,\n",
       "         -0.4602384 , -0.41323972],\n",
       "        [ 0.9516847 , -0.4289869 ,  1.2596369 , ..., -1.5169314 ,\n",
       "         -0.52381223,  0.13636199]],\n",
       "\n",
       "       [[ 0.46427867, -0.6009448 ,  0.71831846, ...,  0.18076678,\n",
       "         -0.6250586 , -0.84316635],\n",
       "        [ 0.44433466,  0.9348306 , -1.2068068 , ...,  1.8390217 ,\n",
       "         -0.2276    , -1.7349612 ],\n",
       "        [ 1.6885005 , -0.38004252, -0.4993103 , ...,  0.05363013,\n",
       "         -0.9963801 , -0.8786187 ],\n",
       "        ...,\n",
       "        [ 0.9948177 , -0.45956847,  0.5439116 , ..., -0.32665184,\n",
       "         -0.6814819 , -0.41781792],\n",
       "        [ 0.4953695 ,  0.5924925 ,  1.082148  , ..., -0.9312809 ,\n",
       "         -2.05084   , -0.7099261 ],\n",
       "        [ 0.66933405,  0.2488859 ,  0.9242331 , ..., -1.176401  ,\n",
       "         -1.8718809 , -0.05183044]]], dtype=float32), receivers=Array([[   0,  331, 4817, ..., 1608, 3919,  703],\n",
       "       [   0, 1379, 4288, ..., 4232, 3718, 4301],\n",
       "       [   0, 3839, 1120, ..., 2495, 3069,   16],\n",
       "       [   0, 4977, 4138, ..., 3845, 1100, 4405]], dtype=int32), senders=Array([[   0,    0,    0, ..., 4999, 4999, 4999],\n",
       "       [   0,    0,    0, ..., 4999, 4999, 4999],\n",
       "       [   0,    0,    0, ..., 4999, 4999, 4999],\n",
       "       [   0,    0,    0, ..., 4999, 4999, 4999]], dtype=int32), globals=Array([[[1.],\n",
       "        [1.],\n",
       "        [1.],\n",
       "        [1.],\n",
       "        [1.],\n",
       "        [1.],\n",
       "        [1.]],\n",
       "\n",
       "       [[1.],\n",
       "        [1.],\n",
       "        [1.],\n",
       "        [1.],\n",
       "        [1.],\n",
       "        [1.],\n",
       "        [1.]],\n",
       "\n",
       "       [[1.],\n",
       "        [1.],\n",
       "        [1.],\n",
       "        [1.],\n",
       "        [1.],\n",
       "        [1.],\n",
       "        [1.]],\n",
       "\n",
       "       [[1.],\n",
       "        [1.],\n",
       "        [1.],\n",
       "        [1.],\n",
       "        [1.],\n",
       "        [1.],\n",
       "        [1.]]], dtype=float32), n_node=Array([[5000],\n",
       "       [5000],\n",
       "       [5000],\n",
       "       [5000]], dtype=int32), n_edge=Array([[20],\n",
       "       [20],\n",
       "       [20],\n",
       "       [20]], dtype=int32))"
      ]
     },
     "execution_count": 73,
     "metadata": {},
     "output_type": "execute_result"
    }
   ],
   "source": [
    "model = GraphWrapper()\n",
    "rng = jax.random.PRNGKey(42)\n",
    "graph_out, params = model.init_with_output(rng, graph)\n",
    "\n",
    "graph_out"
   ]
  },
  {
   "cell_type": "code",
   "execution_count": 74,
   "id": "144e6c43-d16f-4d61-b72f-55e9c64f56b9",
   "metadata": {},
   "outputs": [
    {
     "data": {
      "text/plain": [
       "38763"
      ]
     },
     "execution_count": 74,
     "metadata": {},
     "output_type": "execute_result"
    }
   ],
   "source": [
    "sum(x.size for x in jax.tree_util.tree_leaves(params))"
   ]
  },
  {
   "cell_type": "code",
   "execution_count": 75,
   "id": "5016a900",
   "metadata": {},
   "outputs": [
    {
     "data": {
      "text/plain": [
       "(4, 5000, 3)"
      ]
     },
     "execution_count": 75,
     "metadata": {},
     "output_type": "execute_result"
    }
   ],
   "source": [
    "graph_out.nodes.shape"
   ]
  },
  {
   "cell_type": "markdown",
   "id": "a1def3ff-1703-494f-b453-0cdba8bc422c",
   "metadata": {},
   "source": [
    "## DynamicEdgeConv test"
   ]
  },
  {
   "cell_type": "code",
   "execution_count": 76,
   "id": "c574f342-351f-4073-9cf7-38962e436434",
   "metadata": {},
   "outputs": [],
   "source": [
    "from models.dynamic_edge_conv import DynamicEdgeConvNet"
   ]
  },
  {
   "cell_type": "code",
   "execution_count": 77,
   "id": "a64353e3-6e85-45b5-b5b1-27a9a9b56867",
   "metadata": {},
   "outputs": [],
   "source": [
    "class GraphWrapper(nn.Module):\n",
    "    @nn.compact\n",
    "    def __call__(self, x):\n",
    "        model = jax.vmap(DynamicEdgeConvNet(\n",
    "            latent_size=12, \n",
    "            hidden_size=32,\n",
    "            num_mlp_layers=4, \n",
    "            message_passing_steps=4, \n",
    "            k=k,\n",
    "            skip_connections=True,))\n",
    "        return model(x)"
   ]
  },
  {
   "cell_type": "code",
   "execution_count": 15,
   "id": "24d660d6-89fd-4dfc-9be1-a735469128d0",
   "metadata": {},
   "outputs": [
    {
     "data": {
      "text/plain": [
       "GraphsTuple(nodes=Array([[[-0.10018387, -0.11065444, -0.05212637],\n",
       "        [-0.08652786, -0.09941588, -0.05340162],\n",
       "        [-0.08675987, -0.09036908, -0.04361029],\n",
       "        ...,\n",
       "        [ 0.0063136 ,  0.09881737, -0.03693786],\n",
       "        [ 0.01601949,  0.10301742, -0.01412692],\n",
       "        [ 0.0157237 ,  0.11117488, -0.01114986]],\n",
       "\n",
       "       [[-0.07606154, -0.08917262, -0.04142701],\n",
       "        [-0.07613653, -0.06745652, -0.04296787],\n",
       "        [-0.079873  , -0.0667052 , -0.05580064],\n",
       "        ...,\n",
       "        [-0.00079158,  0.079138  , -0.02717378],\n",
       "        [ 0.01088912,  0.11066834, -0.01844661],\n",
       "        [ 0.01167948,  0.11263683, -0.01662316]],\n",
       "\n",
       "       [[-0.05494767, -0.03250584, -0.03126454],\n",
       "        [-0.06130821, -0.03933219, -0.0337631 ],\n",
       "        [-0.09967669, -0.10617372, -0.05868438],\n",
       "        ...,\n",
       "        [ 0.00834937,  0.10542567, -0.02426643],\n",
       "        [ 0.02006699,  0.11076612, -0.00348963],\n",
       "        [ 0.00723587,  0.10155639, -0.0291658 ]],\n",
       "\n",
       "       [[-0.06585068, -0.03040348, -0.0412342 ],\n",
       "        [-0.08443369, -0.07126461, -0.05579546],\n",
       "        [-0.06510641, -0.06621303, -0.03505526],\n",
       "        ...,\n",
       "        [-0.00708793,  0.08086057, -0.03576346],\n",
       "        [-0.00636514,  0.07069017, -0.0186041 ],\n",
       "        [ 0.00993953,  0.10875193, -0.02264208]]], dtype=float32), edges=Array([[[ 0.79756016, -1.5612634 , -0.27740082, ...,  0.5830546 ,\n",
       "          0.4425246 ,  0.3113415 ],\n",
       "        [ 1.4592685 , -1.1775072 , -0.07865901, ..., -0.43028003,\n",
       "         -0.37846154, -0.72213537],\n",
       "        [ 1.4670944 , -1.1694145 , -0.09404254, ..., -0.441878  ,\n",
       "         -0.3810932 , -0.72843534],\n",
       "        ...,\n",
       "        [ 0.9516832 , -1.3638896 ,  0.18643413, ..., -0.21944611,\n",
       "          0.26981673,  0.50739765],\n",
       "        [ 1.0343456 , -1.449356  ,  0.189406  , ..., -0.321167  ,\n",
       "          0.23251693,  0.41309354],\n",
       "        [ 1.0120105 , -1.4378569 ,  0.19682375, ..., -0.2817119 ,\n",
       "          0.2950763 ,  0.4345963 ]],\n",
       "\n",
       "       [[ 0.79756016, -1.5612634 , -0.27740082, ...,  0.5830546 ,\n",
       "          0.4425246 ,  0.3113415 ],\n",
       "        [ 1.4527422 , -1.1736811 , -0.07919908, ..., -0.4247039 ,\n",
       "         -0.38108566, -0.7215337 ],\n",
       "        [ 1.4564364 , -1.1786884 , -0.07587107, ..., -0.42621958,\n",
       "         -0.37342936, -0.72409433],\n",
       "        ...,\n",
       "        [ 1.0190166 , -1.4604962 ,  0.19364578, ..., -0.31751716,\n",
       "          0.21127982,  0.32584724],\n",
       "        [ 0.90190876, -1.3363472 ,  0.20781648, ..., -0.13528879,\n",
       "          0.2565073 ,  0.45232615],\n",
       "        [ 1.0436713 , -1.4589045 ,  0.18692759, ..., -0.30866763,\n",
       "          0.18515001,  0.24033827]],\n",
       "\n",
       "       [[ 0.79756016, -1.5612634 , -0.27740082, ...,  0.5830546 ,\n",
       "          0.4425246 ,  0.3113415 ],\n",
       "        [ 1.4688438 , -1.1723571 , -0.09254509, ..., -0.4421382 ,\n",
       "         -0.3858809 , -0.72003657],\n",
       "        [ 1.469095  , -1.1814448 , -0.08471025, ..., -0.4339971 ,\n",
       "         -0.3787333 , -0.72431165],\n",
       "        ...,\n",
       "        [ 0.9410498 , -1.0347587 , -0.11405819, ...,  0.11164372,\n",
       "          0.10045573,  1.0936584 ],\n",
       "        [ 0.87653613, -1.1288162 ,  0.07683341, ..., -0.01736137,\n",
       "          0.32262978,  0.8964989 ],\n",
       "        [ 0.8845756 , -1.1431569 ,  0.07384286, ...,  0.01001335,\n",
       "          0.3292898 ,  0.8789699 ]],\n",
       "\n",
       "       [[ 0.79756016, -1.5612634 , -0.27740082, ...,  0.5830546 ,\n",
       "          0.4425246 ,  0.3113415 ],\n",
       "        [ 1.4685934 , -1.1823272 , -0.08561358, ..., -0.44185236,\n",
       "         -0.38863415, -0.73402244],\n",
       "        [ 1.4792647 , -1.1751033 , -0.09974696, ..., -0.45513695,\n",
       "         -0.37706986, -0.73378545],\n",
       "        ...,\n",
       "        [ 1.154282  , -1.3292068 , -0.11785352, ..., -0.1045026 ,\n",
       "         -0.0780748 ,  0.88981944],\n",
       "        [ 0.89586514, -1.2964139 ,  0.17256865, ..., -0.1410954 ,\n",
       "          0.32075873,  0.6297888 ],\n",
       "        [ 0.96989125, -1.3730972 ,  0.17327164, ..., -0.22810443,\n",
       "          0.29127932,  0.5390954 ]]], dtype=float32), receivers=Array([[   0,  221,  440, ..., 4989, 4968, 4970],\n",
       "       [   0,  196,  100, ..., 4975, 4705, 4903],\n",
       "       [   0,  240,  651, ..., 4964, 4951, 4976],\n",
       "       [   0,  283,  342, ..., 4857, 4925, 4936]], dtype=int32), senders=Array([[   0,    0,    0, ..., 4999, 4999, 4999],\n",
       "       [   0,    0,    0, ..., 4999, 4999, 4999],\n",
       "       [   0,    0,    0, ..., 4999, 4999, 4999],\n",
       "       [   0,    0,    0, ..., 4999, 4999, 4999]], dtype=int32), globals=Array([[[1.],\n",
       "        [1.],\n",
       "        [1.],\n",
       "        [1.],\n",
       "        [1.],\n",
       "        [1.],\n",
       "        [1.]],\n",
       "\n",
       "       [[1.],\n",
       "        [1.],\n",
       "        [1.],\n",
       "        [1.],\n",
       "        [1.],\n",
       "        [1.],\n",
       "        [1.]],\n",
       "\n",
       "       [[1.],\n",
       "        [1.],\n",
       "        [1.],\n",
       "        [1.],\n",
       "        [1.],\n",
       "        [1.],\n",
       "        [1.]],\n",
       "\n",
       "       [[1.],\n",
       "        [1.],\n",
       "        [1.],\n",
       "        [1.],\n",
       "        [1.],\n",
       "        [1.],\n",
       "        [1.]]], dtype=float32), n_node=Array([[5000],\n",
       "       [5000],\n",
       "       [5000],\n",
       "       [5000]], dtype=int32), n_edge=Array([[20],\n",
       "       [20],\n",
       "       [20],\n",
       "       [20]], dtype=int32))"
      ]
     },
     "execution_count": 15,
     "metadata": {},
     "output_type": "execute_result"
    }
   ],
   "source": [
    "model = GraphWrapper()\n",
    "rng = jax.random.PRNGKey(42)\n",
    "graph_out, params = model.init_with_output(rng, graph)\n",
    "\n",
    "graph_out"
   ]
  },
  {
   "cell_type": "markdown",
   "id": "8336793e-0f7c-4acc-81f1-88bcc1aa5452",
   "metadata": {},
   "source": [
    "## ChebConv"
   ]
  },
  {
   "cell_type": "code",
   "execution_count": 78,
   "id": "aaa4efc2-9c3d-497e-9e48-6a7906802c67",
   "metadata": {},
   "outputs": [],
   "source": [
    "graph = jraph.GraphsTuple(\n",
    "          n_node=np.array(4 * [[n_nodes]]), \n",
    "          n_edge=np.array(4 * [[k]]),\n",
    "          nodes=(x[:4, :, :6] - 500) / 500, \n",
    "          edges=dist.sum(-1) / 1000.,\n",
    "          globals=np.ones((4, 7)),\n",
    "          senders=sources,\n",
    "          receivers=targets)"
   ]
  },
  {
   "cell_type": "code",
   "execution_count": 103,
   "id": "160e4959-196e-4e95-ba5e-fdb1fcbc55e8",
   "metadata": {},
   "outputs": [],
   "source": [
    "from jax.experimental.sparse import BCOO, eye"
   ]
  },
  {
   "cell_type": "code",
   "execution_count": 104,
   "id": "45c14cdc-d6ee-496d-86a1-eb16d9552918",
   "metadata": {},
   "outputs": [],
   "source": [
    "from typing import Optional, Tuple\n",
    "import jax\n",
    "import jax.numpy as jnp\n",
    "\n",
    "def get_laplacian(\n",
    "    edge_index: jnp.ndarray,\n",
    "    edge_weight: Optional[jnp.ndarray] = None,\n",
    "    dtype: Optional[jnp.dtype] = None,\n",
    "    num_nodes: Optional[int] = None\n",
    ") -> Tuple[jnp.ndarray, Optional[jnp.ndarray]]:\n",
    "    \n",
    "    if edge_weight is None:\n",
    "        edge_weight = np.ones_like(edge_index[0])\n",
    "\n",
    "    A = BCOO((edge_weight, edge_index.T), shape=(num_nodes,num_nodes))\n",
    "    deg = A.sum(axis=0)\n",
    "    D = BCOO((deg.todense(), np.array([np.arange(num_nodes), np.arange(num_nodes)]).T), shape=(num_nodes, num_nodes))\n",
    "    L = D - A\n",
    "    \n",
    "    return L.indices.T, L.data\n",
    "    \n",
    "def __norm__(edge_index, edge_weight, lambda_max=None, num_nodes=5000):\n",
    "    \n",
    "    # Adjusting the get_laplacian function call to the correct format\n",
    "    edge_index, edge_weight = get_laplacian(edge_index, edge_weight, num_nodes=num_nodes)\n",
    "\n",
    "    assert edge_weight is not None, \"Edge weights cannot be None after getting the Laplacian.\"\n",
    "\n",
    "    # If lambda_max is not specified, calculate it as twice the max of the edge weights\n",
    "    if lambda_max is None:\n",
    "        lambda_max = 2.0 * edge_weight.max()\n",
    "\n",
    "    # Normalizing edge weights\n",
    "    edge_weight = (2.0 * edge_weight) / lambda_max\n",
    "\n",
    "    return edge_index, edge_weight\n",
    "\n",
    "edge_index, edge_weight = __norm__(edge_index=np.array([sources[0], targets[0]]), edge_weight=graph.edges[0], lambda_max=None)"
   ]
  },
  {
   "cell_type": "code",
   "execution_count": 172,
   "id": "8732fa03-9b39-44d3-bbb2-c9d929782461",
   "metadata": {},
   "outputs": [],
   "source": [
    "from typing import Callable\n",
    "import jraph\n",
    "from jraph._src import utils\n",
    "from models.mlp import MLP\n",
    "\n",
    "def get_node_mlp_updates() -> Callable:\n",
    "    \"\"\"Get a node MLP update  function\n",
    "\n",
    "    Args:\n",
    "        mlp_feature_sizes (int): number of features in the MLP\n",
    "        name (str, optional): name of the update function. Defaults to None.\n",
    "\n",
    "    Returns:\n",
    "        Callable: update function\n",
    "    \"\"\"\n",
    "\n",
    "    def update_fn(\n",
    "        nodes: jnp.ndarray,\n",
    "        sent_attributes: jnp.ndarray,\n",
    "        received_attributes: jnp.ndarray,\n",
    "        globals: jnp.ndarray,\n",
    "    ) -> jnp.ndarray:\n",
    "        \n",
    "        return received_attributes[..., None] * nodes\n",
    "\n",
    "    return update_fn\n",
    "\n",
    "# aggregate_edges_for_nodes_fn\n",
    "\n",
    "class ChebConv(nn.Module):\n",
    "    \n",
    "    out_channels: int = 128\n",
    "    K: int = 6\n",
    "    \n",
    "    @nn.compact\n",
    "    def __call__(self, graph: jraph.GraphsTuple, lambda_max: float = None) -> jraph.GraphsTuple:\n",
    "        \"\"\"Do message passing on graph\n",
    "\n",
    "        Args:\n",
    "            graphs (jraph.GraphsTuple): graph object\n",
    "\n",
    "        Returns:\n",
    "            jraph.GraphsTuple: updated graph object\n",
    "        \"\"\"\n",
    "        \n",
    "        (senders, receivers), norm = __norm__(edge_index=np.array([graph.senders, graph.receivers]), edge_weight=graph.edges, lambda_max=lambda_max)\n",
    "        \n",
    "        Tx_0 = graph.nodes\n",
    "        Tx_1 = graph.nodes\n",
    "        out = nn.Dense(self.out_channels)(Tx_0)\n",
    "        \n",
    "        if self.K > 1:\n",
    "            graph_Tx_1 = graph._replace(senders=senders, receivers=receivers, edges=norm)\n",
    "            graph_Tx_1 = jraph.GraphNetwork(update_node_fn=get_node_mlp_updates(), update_edge_fn=None)(graph_Tx_1)\n",
    "            Tx_1 = graph_Tx_1.nodes\n",
    "            \n",
    "            out = out + nn.Dense(self.out_channels)(Tx_1)\n",
    "            \n",
    "        for _ in range(2, self.K):\n",
    "            graph_Tx_2 = graph._replace(nodes=Tx_1, senders=senders, receivers=receivers, edges=norm)\n",
    "            Tx_2 = 2. * graph_Tx_2.nodes - Tx_0\n",
    "            out = out + nn.Dense(self.out_channels)(Tx_2)\n",
    "            Tx_0, Tx_1 = Tx_1, Tx_2\n",
    "        \n",
    "        return graph._replace(nodes=out)            \n",
    "    \n",
    "class AdaLayerNorm(nn.Module):\n",
    "    \"\"\"Adaptive layer norm; generate scale and shift parameters from conditioning context.\"\"\"\n",
    "\n",
    "    @nn.compact\n",
    "    def __call__(self, x, conditioning):\n",
    "        # Compute scale and shift parameters from conditioning context\n",
    "        scale_and_shift = nn.gelu(nn.Dense(2 * x.shape[-1])(conditioning))\n",
    "        scale, shift = np.split(scale_and_shift, 2, axis=-1)\n",
    "\n",
    "        # Apply layer norm\n",
    "        # Don't use bias or scale since these will be learnable through the conditioning context\n",
    "        x = nn.LayerNorm(use_bias=False, use_scale=False)(x)\n",
    "\n",
    "        # Apply scale and shift\n",
    "        # Apple same scale, shift to all elements in sequence\n",
    "        x = x * (1 + scale[None, :]) + shift[None, :]\n",
    "\n",
    "        return x\n",
    "    \n",
    "class ChebConvNet(nn.Module):\n",
    "    \n",
    "    out_channels: int = 128\n",
    "    K: int = 6\n",
    "    message_passing_steps: int = 4\n",
    "    \n",
    "    @nn.compact\n",
    "    def __call__(self, graph: jraph.GraphsTuple, lambda_max: float = None) -> jraph.GraphsTuple:\n",
    "        \n",
    "        in_channels = graph.nodes.shape[-1]\n",
    "        \n",
    "        for _ in range(self.message_passing_steps):\n",
    "            graph = ChebConv(out_channels=self.out_channels, K=self.K)(graph)\n",
    "            graph = graph._replace(nodes=AdaLayerNorm()(nn.gelu(graph.nodes), graph.globals))\n",
    "            \n",
    "        # Readout\n",
    "        graph = graph._replace(nodes=nn.Dense(in_channels)(graph.nodes))\n",
    "            \n",
    "        return graph\n",
    "            "
   ]
  },
  {
   "cell_type": "code",
   "execution_count": 175,
   "id": "a75fd99a-cc07-4609-b3c8-2d74624840ea",
   "metadata": {},
   "outputs": [
    {
     "name": "stderr",
     "output_type": "stream",
     "text": [
      "WARNING:absl:Could not import `jaxkdtree`.\n"
     ]
    }
   ],
   "source": [
    "from models.chebconv import ChebConvNet\n",
    "\n",
    "class GraphWrapper(nn.Module):\n",
    "    @nn.compact\n",
    "    def __call__(self, x):\n",
    "        model = jax.vmap(ChebConvNet())\n",
    "        return model(x)"
   ]
  },
  {
   "cell_type": "code",
   "execution_count": 176,
   "id": "e4ef344d-d412-4118-a30d-fa9fcc12abc7",
   "metadata": {},
   "outputs": [
    {
     "data": {
      "text/plain": [
       "Array([[-0.12269443,  0.14158587,  1.762475  ,  1.150424  ,  0.42675796,\n",
       "         1.1578609 ],\n",
       "       [-0.82985544,  1.5333217 , -0.181583  ,  0.8682801 , -1.1688771 ,\n",
       "        -0.50984365],\n",
       "       [-1.1721395 ,  0.7606144 , -0.02651902,  0.12594089, -0.6179613 ,\n",
       "         2.012218  ],\n",
       "       ...,\n",
       "       [-0.8236913 , -0.2686318 , -1.1953758 , -0.18628658, -2.049673  ,\n",
       "        -1.0728295 ],\n",
       "       [-1.012834  ,  0.58206487, -0.21994793,  0.08183961, -1.3585956 ,\n",
       "         1.6713423 ],\n",
       "       [-0.8718533 , -0.62092274,  1.6060736 , -0.95375323, -0.02815629,\n",
       "         1.244173  ]], dtype=float32)"
      ]
     },
     "execution_count": 176,
     "metadata": {},
     "output_type": "execute_result"
    }
   ],
   "source": [
    "model = GraphWrapper()\n",
    "rng = jax.random.PRNGKey(42)\n",
    "graph_out, params = model.init_with_output(rng, graph)\n",
    "\n",
    "graph_out.nodes[0]"
   ]
  },
  {
   "cell_type": "code",
   "execution_count": 177,
   "id": "a2e69159-7ac2-4f2b-be3a-6ae567ace08c",
   "metadata": {},
   "outputs": [
    {
     "data": {
      "text/plain": [
       "311558"
      ]
     },
     "execution_count": 177,
     "metadata": {},
     "output_type": "execute_result"
    }
   ],
   "source": [
    "sum(x.size for x in jax.tree_util.tree_leaves(params))"
   ]
  },
  {
   "cell_type": "code",
   "execution_count": null,
   "id": "f30ca6be-e7e9-4fea-8f95-762e2a4eb2e7",
   "metadata": {},
   "outputs": [],
   "source": []
  },
  {
   "cell_type": "code",
   "execution_count": null,
   "id": "85641bb5-df8c-4fd4-a5a9-1beeda575f65",
   "metadata": {},
   "outputs": [],
   "source": []
  }
 ],
 "metadata": {
  "kernelspec": {
   "display_name": "Python 3 (ipykernel)",
   "language": "python",
   "name": "python3"
  },
  "language_info": {
   "codemirror_mode": {
    "name": "ipython",
    "version": 3
   },
   "file_extension": ".py",
   "mimetype": "text/x-python",
   "name": "python",
   "nbconvert_exporter": "python",
   "pygments_lexer": "ipython3",
   "version": "3.9.13"
  },
  "vscode": {
   "interpreter": {
    "hash": "4de8ebced33472280eb2d39fa7eb85126aa4b5bd288871aff7028464b844f159"
   }
  }
 },
 "nbformat": 4,
 "nbformat_minor": 5
}
