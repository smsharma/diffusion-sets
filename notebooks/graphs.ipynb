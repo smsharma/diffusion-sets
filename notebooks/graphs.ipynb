{
 "cells": [
  {
   "cell_type": "code",
   "execution_count": 1,
   "id": "6e5abee5-c59f-4c12-b08a-d75f1f4a9746",
   "metadata": {},
   "outputs": [],
   "source": [
    "import jax\n",
    "import jax.numpy as np\n",
    "import jraph\n",
    "import flax.linen as nn\n",
    "\n",
    "from functools import partial"
   ]
  },
  {
   "cell_type": "code",
   "execution_count": 2,
   "id": "92430e0d",
   "metadata": {},
   "outputs": [],
   "source": [
    "%load_ext autoreload\n",
    "%autoreload 2"
   ]
  },
  {
   "cell_type": "code",
   "execution_count": 3,
   "id": "38145712",
   "metadata": {},
   "outputs": [
    {
     "name": "stderr",
     "output_type": "stream",
     "text": [
      "WARNING:absl:Could not import `jaxkdtree`.\n"
     ]
    }
   ],
   "source": [
    "import sys\n",
    "sys.path.append(\"../\")\n",
    "\n",
    "from models.gnn import GraphConvNet\n",
    "from models.graph_utils import nearest_neighbors"
   ]
  },
  {
   "cell_type": "code",
   "execution_count": 4,
   "id": "79afde5e-eef2-47c1-8122-ad2bcb0dea71",
   "metadata": {},
   "outputs": [],
   "source": [
    "x = np.load(\"../data/halos_small.npy\")\n",
    "n_nodes = 5000\n",
    "k = 20\n",
    "sources, targets, dist = jax.vmap(nearest_neighbors, in_axes=(0, None))(x[:4, :, :3], k)"
   ]
  },
  {
   "cell_type": "code",
   "execution_count": 5,
   "id": "bf116756-9107-47e0-b5e4-6622490bf994",
   "metadata": {},
   "outputs": [],
   "source": [
    "graph = jraph.GraphsTuple(\n",
    "          n_node=np.array(4 * [[n_nodes]]), \n",
    "          n_edge=np.array(4 * [[k]]),\n",
    "          nodes=x[:4, :, :6], \n",
    "          edges=dist,\n",
    "          globals=np.ones((4, 7)),\n",
    "          senders=sources,\n",
    "          receivers=targets)"
   ]
  },
  {
   "cell_type": "code",
   "execution_count": 6,
   "id": "44948bf4-9af8-4d8f-b96b-9a78e92c4fa2",
   "metadata": {},
   "outputs": [
    {
     "data": {
      "text/plain": [
       "Array([20], dtype=int32)"
      ]
     },
     "execution_count": 6,
     "metadata": {},
     "output_type": "execute_result"
    }
   ],
   "source": [
    "graph.n_edge[0]"
   ]
  },
  {
   "cell_type": "code",
   "execution_count": 7,
   "id": "5a6a676e-1be2-4f03-b042-cca830b15dde",
   "metadata": {},
   "outputs": [
    {
     "data": {
      "text/plain": [
       "((4, 1), (4, 1), (4, 5000, 6), (4, 7), (4, 100000), (4, 100000))"
      ]
     },
     "execution_count": 7,
     "metadata": {},
     "output_type": "execute_result"
    }
   ],
   "source": [
    "graph.n_node.shape, graph.n_edge.shape, graph.nodes.shape, graph.globals.shape, graph.senders.shape, graph.receivers.shape, "
   ]
  },
  {
   "cell_type": "code",
   "execution_count": 8,
   "id": "a58b9617-010e-46ce-9a74-5cad902b0f0c",
   "metadata": {},
   "outputs": [
    {
     "data": {
      "text/plain": [
       "(4, 100000, 3)"
      ]
     },
     "execution_count": 8,
     "metadata": {},
     "output_type": "execute_result"
    }
   ],
   "source": [
    "graph.edges.shape"
   ]
  },
  {
   "cell_type": "code",
   "execution_count": 9,
   "id": "82980e01-daea-46fc-bcbc-740e98638124",
   "metadata": {},
   "outputs": [],
   "source": [
    "class GraphWrapper(nn.Module):\n",
    "    @nn.compact\n",
    "    def __call__(self, x):\n",
    "        model = jax.vmap(GraphConvNet(\n",
    "            latent_size=12, \n",
    "            hidden_size=32,\n",
    "            num_mlp_layers=4, \n",
    "            attention=False,\n",
    "            message_passing_steps=3, \n",
    "            shared_weights=False,\n",
    "            skip_connections=True,))\n",
    "        return model(x)"
   ]
  },
  {
   "cell_type": "code",
   "execution_count": 10,
   "id": "b6fea542-1ca9-4034-9011-3d42f04cc78c",
   "metadata": {},
   "outputs": [
    {
     "data": {
      "text/plain": [
       "GraphsTuple(nodes=Array([[[-0.1125825 , -0.09283566,  0.11377222],\n",
       "        [-0.05893194, -0.10181687,  0.07655472],\n",
       "        [-0.1651399 , -0.19137335,  0.06769908],\n",
       "        ...,\n",
       "        [-0.07573469, -0.13577965,  0.09486147],\n",
       "        [-0.14018403, -0.16820411,  0.08733329],\n",
       "        [-0.24084674, -0.20037228, -0.04847446]],\n",
       "\n",
       "       [[-0.11877929, -0.19698136, -0.03018252],\n",
       "        [-0.17410675, -0.20649745,  0.09587927],\n",
       "        [-0.07466327, -0.10741072,  0.10991385],\n",
       "        ...,\n",
       "        [-0.08268358, -0.10388442,  0.08842175],\n",
       "        [-0.1477319 , -0.1747698 ,  0.08993898],\n",
       "        [-0.25986856, -0.2063719 , -0.04190782]],\n",
       "\n",
       "       [[-0.02476275, -0.0844294 , -0.01236729],\n",
       "        [-0.12253042, -0.16551678,  0.08586553],\n",
       "        [-0.13652821, -0.15572608, -0.02954918],\n",
       "        ...,\n",
       "        [-0.08189055, -0.11284494,  0.13404271],\n",
       "        [-0.19673815, -0.22579373,  0.02905469],\n",
       "        [-0.14372848, -0.16787201, -0.00698224]],\n",
       "\n",
       "       [[-0.10140395, -0.1546606 ,  0.06181228],\n",
       "        [-0.07466081, -0.11502039, -0.06072843],\n",
       "        [-0.08943775, -0.16986975,  0.02615207],\n",
       "        ...,\n",
       "        [-0.0826616 , -0.15920779,  0.0493701 ],\n",
       "        [-0.13850187, -0.18320048,  0.0978661 ],\n",
       "        [-0.10013358, -0.13812812,  0.11635987]]], dtype=float32), edges=Array([[[ 0.88516396,  0.31407958,  0.4806278 , ...,  0.14650322,\n",
       "         -2.2151468 , -0.95289034],\n",
       "        [ 0.5660934 , -0.1490982 ,  0.82860416, ..., -0.09905157,\n",
       "         -2.1297164 , -0.60732174],\n",
       "        [ 1.1543216 , -0.6188681 ,  0.5878891 , ..., -0.00548542,\n",
       "         -1.5109735 , -0.5685449 ],\n",
       "        ...,\n",
       "        [ 0.7995469 ,  1.3402715 ,  0.22128278, ..., -1.3798112 ,\n",
       "         -1.0290892 , -0.3696463 ],\n",
       "        [ 1.3632165 ,  1.1527497 ,  0.13117735, ..., -1.301566  ,\n",
       "         -1.1592585 , -0.356965  ],\n",
       "        [ 1.5533485 , -0.9424366 ,  1.013581  , ..., -1.0701131 ,\n",
       "         -0.45314455, -0.34838057]],\n",
       "\n",
       "       [[ 1.2247267 ,  0.39873967, -0.08938053, ..., -0.24007188,\n",
       "         -1.8590592 , -0.308166  ],\n",
       "        [ 1.1595434 , -0.6847038 ,  0.0119025 , ..., -0.22123551,\n",
       "         -0.674191  , -1.1016395 ],\n",
       "        [ 0.9253951 ,  0.4086857 ,  0.63313085, ..., -0.7482914 ,\n",
       "         -1.8498333 ,  0.25082305],\n",
       "        ...,\n",
       "        [ 0.62242866, -0.00688659,  1.0411208 , ..., -1.3920213 ,\n",
       "         -0.38632768,  0.28203586],\n",
       "        [ 0.7983793 ,  0.46077466,  0.6505623 , ..., -1.435333  ,\n",
       "         -1.6557313 ,  0.15826787],\n",
       "        [ 1.0091685 , -0.07657856,  1.0621351 , ..., -1.5566016 ,\n",
       "         -0.5609931 ,  0.11477673]],\n",
       "\n",
       "       [[ 1.6006254 ,  0.28819692, -0.49957734, ..., -0.00850113,\n",
       "         -1.9363045 , -1.097039  ],\n",
       "        [ 1.4369041 ,  0.229456  ,  0.27837604, ..., -0.4976979 ,\n",
       "         -1.952504  , -0.5509631 ],\n",
       "        [ 1.5758845 ,  0.09475273,  0.06568403, ..., -0.6507707 ,\n",
       "         -1.7005085 , -0.5790616 ],\n",
       "        ...,\n",
       "        [ 0.07769471,  0.6135922 ,  1.0957808 , ..., -2.130953  ,\n",
       "         -0.7376427 ,  0.82388747],\n",
       "        [ 1.180199  , -0.7290299 ,  1.0801573 , ..., -1.3418086 ,\n",
       "         -0.4602384 , -0.41323972],\n",
       "        [ 0.9516847 , -0.4289869 ,  1.2596369 , ..., -1.5169314 ,\n",
       "         -0.52381223,  0.13636199]],\n",
       "\n",
       "       [[ 0.46427867, -0.6009448 ,  0.71831846, ...,  0.18076678,\n",
       "         -0.6250586 , -0.84316635],\n",
       "        [ 0.44433466,  0.9348306 , -1.2068068 , ...,  1.8390217 ,\n",
       "         -0.2276    , -1.7349612 ],\n",
       "        [ 1.6885005 , -0.38004252, -0.4993103 , ...,  0.05363013,\n",
       "         -0.9963801 , -0.8786187 ],\n",
       "        ...,\n",
       "        [ 0.9948177 , -0.45956847,  0.5439116 , ..., -0.32665184,\n",
       "         -0.6814819 , -0.41781792],\n",
       "        [ 0.4953695 ,  0.5924925 ,  1.082148  , ..., -0.9312809 ,\n",
       "         -2.05084   , -0.7099261 ],\n",
       "        [ 0.66933405,  0.2488859 ,  0.9242331 , ..., -1.176401  ,\n",
       "         -1.8718809 , -0.05183044]]], dtype=float32), receivers=Array([[   0,  331, 4817, ..., 1608, 3919,  703],\n",
       "       [   0, 1379, 4288, ..., 4232, 3718, 4301],\n",
       "       [   0, 3839, 1120, ..., 2495, 3069,   16],\n",
       "       [   0, 4977, 4138, ..., 3845, 1100, 4405]], dtype=int32), senders=Array([[   0,    0,    0, ..., 4999, 4999, 4999],\n",
       "       [   0,    0,    0, ..., 4999, 4999, 4999],\n",
       "       [   0,    0,    0, ..., 4999, 4999, 4999],\n",
       "       [   0,    0,    0, ..., 4999, 4999, 4999]], dtype=int32), globals=Array([[[1.],\n",
       "        [1.],\n",
       "        [1.],\n",
       "        [1.],\n",
       "        [1.],\n",
       "        [1.],\n",
       "        [1.]],\n",
       "\n",
       "       [[1.],\n",
       "        [1.],\n",
       "        [1.],\n",
       "        [1.],\n",
       "        [1.],\n",
       "        [1.],\n",
       "        [1.]],\n",
       "\n",
       "       [[1.],\n",
       "        [1.],\n",
       "        [1.],\n",
       "        [1.],\n",
       "        [1.],\n",
       "        [1.],\n",
       "        [1.]],\n",
       "\n",
       "       [[1.],\n",
       "        [1.],\n",
       "        [1.],\n",
       "        [1.],\n",
       "        [1.],\n",
       "        [1.],\n",
       "        [1.]]], dtype=float32), n_node=Array([[5000],\n",
       "       [5000],\n",
       "       [5000],\n",
       "       [5000]], dtype=int32), n_edge=Array([[20],\n",
       "       [20],\n",
       "       [20],\n",
       "       [20]], dtype=int32))"
      ]
     },
     "execution_count": 10,
     "metadata": {},
     "output_type": "execute_result"
    }
   ],
   "source": [
    "model = GraphWrapper()\n",
    "rng = jax.random.PRNGKey(42)\n",
    "graph_out, params = model.init_with_output(rng, graph)\n",
    "\n",
    "graph_out"
   ]
  },
  {
   "cell_type": "code",
   "execution_count": 11,
   "id": "144e6c43-d16f-4d61-b72f-55e9c64f56b9",
   "metadata": {},
   "outputs": [
    {
     "data": {
      "text/plain": [
       "38763"
      ]
     },
     "execution_count": 11,
     "metadata": {},
     "output_type": "execute_result"
    }
   ],
   "source": [
    "sum(x.size for x in jax.tree_util.tree_leaves(params))"
   ]
  },
  {
   "cell_type": "code",
   "execution_count": 12,
   "id": "5016a900",
   "metadata": {},
   "outputs": [
    {
     "data": {
      "text/plain": [
       "(4, 5000, 3)"
      ]
     },
     "execution_count": 12,
     "metadata": {},
     "output_type": "execute_result"
    }
   ],
   "source": [
    "graph_out.nodes.shape"
   ]
  },
  {
   "cell_type": "markdown",
   "id": "a1def3ff-1703-494f-b453-0cdba8bc422c",
   "metadata": {},
   "source": [
    "## DynamicEdgeConv test"
   ]
  },
  {
   "cell_type": "code",
   "execution_count": 13,
   "id": "c574f342-351f-4073-9cf7-38962e436434",
   "metadata": {},
   "outputs": [],
   "source": [
    "from models.dynamic_edge_conv import DynamicEdgeConvNet"
   ]
  },
  {
   "cell_type": "code",
   "execution_count": 14,
   "id": "a64353e3-6e85-45b5-b5b1-27a9a9b56867",
   "metadata": {},
   "outputs": [],
   "source": [
    "class GraphWrapper(nn.Module):\n",
    "    @nn.compact\n",
    "    def __call__(self, x):\n",
    "        model = jax.vmap(DynamicEdgeConvNet(\n",
    "            latent_size=12, \n",
    "            hidden_size=32,\n",
    "            num_mlp_layers=4, \n",
    "            message_passing_steps=4, \n",
    "            k=k,\n",
    "            skip_connections=True,))\n",
    "        return model(x)"
   ]
  },
  {
   "cell_type": "code",
   "execution_count": 15,
   "id": "24d660d6-89fd-4dfc-9be1-a735469128d0",
   "metadata": {},
   "outputs": [],
   "source": [
    "# model = GraphWrapper()\n",
    "# rng = jax.random.PRNGKey(42)\n",
    "# graph_out, params = model.init_with_output(rng, graph)\n",
    "\n",
    "# graph_out"
   ]
  },
  {
   "cell_type": "markdown",
   "id": "8336793e-0f7c-4acc-81f1-88bcc1aa5452",
   "metadata": {},
   "source": [
    "## ChebConv"
   ]
  },
  {
   "cell_type": "code",
   "execution_count": 111,
   "id": "aaa4efc2-9c3d-497e-9e48-6a7906802c67",
   "metadata": {},
   "outputs": [],
   "source": [
    "graph = jraph.GraphsTuple(\n",
    "          n_node=np.array(4 * [[n_nodes]]), \n",
    "          n_edge=np.array(4 * [[k]]),\n",
    "          nodes=(x[:4, :, :6] - 500) / 500, \n",
    "          edges=dist.sum(-1) / 1000.,\n",
    "          globals=np.ones((4, 7)),\n",
    "          senders=sources,\n",
    "          receivers=targets)"
   ]
  },
  {
   "cell_type": "code",
   "execution_count": 112,
   "id": "a75fd99a-cc07-4609-b3c8-2d74624840ea",
   "metadata": {},
   "outputs": [],
   "source": [
    "from models.chebconv import ChebConvNet\n",
    "\n",
    "class GraphWrapper(nn.Module):\n",
    "    @nn.compact\n",
    "    def __call__(self, x):\n",
    "        model = jax.vmap(ChebConvNet(bias=False))\n",
    "        return model(x)"
   ]
  },
  {
   "cell_type": "code",
   "execution_count": 113,
   "id": "e4ef344d-d412-4118-a30d-fa9fcc12abc7",
   "metadata": {},
   "outputs": [
    {
     "data": {
      "text/plain": [
       "Array([[ 2.3170793 ,  0.16200593, -1.2803118 ,  1.8137808 ,  0.5908083 ,\n",
       "         0.3293581 ],\n",
       "       [ 0.962221  , -1.7021335 , -0.21352464,  0.9629654 ,  0.31692111,\n",
       "         1.0524303 ],\n",
       "       [ 2.8236384 , -1.3319454 , -0.5397958 ,  1.13712   ,  1.1572564 ,\n",
       "         1.2790109 ],\n",
       "       ...,\n",
       "       [ 2.341406  ,  1.8625927 , -1.4193633 ,  1.790666  , -0.31950915,\n",
       "         0.7152538 ],\n",
       "       [ 1.7572807 ,  0.7810406 ,  0.5669117 ,  1.2669858 ,  0.6030566 ,\n",
       "         1.217212  ],\n",
       "       [ 0.05830427,  1.167861  ,  0.33585003,  0.8599856 , -1.3885045 ,\n",
       "         1.2700629 ]], dtype=float32)"
      ]
     },
     "execution_count": 113,
     "metadata": {},
     "output_type": "execute_result"
    }
   ],
   "source": [
    "model = GraphWrapper()\n",
    "rng = jax.random.PRNGKey(42)\n",
    "graph_out, params = model.init_with_output(rng, graph)\n",
    "\n",
    "graph_out.nodes[0]"
   ]
  },
  {
   "cell_type": "code",
   "execution_count": 114,
   "id": "a2e69159-7ac2-4f2b-be3a-6ae567ace08c",
   "metadata": {},
   "outputs": [
    {
     "data": {
      "text/plain": [
       "923910"
      ]
     },
     "execution_count": 114,
     "metadata": {},
     "output_type": "execute_result"
    }
   ],
   "source": [
    "sum(x.size for x in jax.tree_util.tree_leaves(params))"
   ]
  },
  {
   "cell_type": "code",
   "execution_count": null,
   "id": "8d1799ff-c8a5-4e08-8c0a-971fb3876e39",
   "metadata": {},
   "outputs": [],
   "source": []
  }
 ],
 "metadata": {
  "kernelspec": {
   "display_name": "Python 3 (ipykernel)",
   "language": "python",
   "name": "python3"
  },
  "language_info": {
   "codemirror_mode": {
    "name": "ipython",
    "version": 3
   },
   "file_extension": ".py",
   "mimetype": "text/x-python",
   "name": "python",
   "nbconvert_exporter": "python",
   "pygments_lexer": "ipython3",
   "version": "3.9.13"
  },
  "vscode": {
   "interpreter": {
    "hash": "4de8ebced33472280eb2d39fa7eb85126aa4b5bd288871aff7028464b844f159"
   }
  }
 },
 "nbformat": 4,
 "nbformat_minor": 5
}
