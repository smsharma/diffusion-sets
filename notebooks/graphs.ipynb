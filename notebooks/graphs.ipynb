{
 "cells": [
  {
   "cell_type": "code",
   "execution_count": 1,
   "id": "6e5abee5-c59f-4c12-b08a-d75f1f4a9746",
   "metadata": {},
   "outputs": [],
   "source": [
    "import jax\n",
    "import jax.numpy as np\n",
    "import jraph\n",
    "import flax.linen as nn\n",
    "\n",
    "from functools import partial\n",
    "\n"
   ]
  },
  {
   "cell_type": "code",
   "execution_count": 2,
   "id": "92430e0d",
   "metadata": {},
   "outputs": [],
   "source": [
    "%load_ext autoreload\n",
    "%autoreload 2"
   ]
  },
  {
   "cell_type": "code",
   "execution_count": 2,
   "id": "38145712",
   "metadata": {},
   "outputs": [
    {
     "name": "stderr",
     "output_type": "stream",
     "text": [
      "2023-03-10 14:48:38.869017: W tensorflow/compiler/xla/stream_executor/platform/default/dso_loader.cc:64] Could not load dynamic library 'libnvinfer.so.7'; dlerror: libnvinfer.so.7: cannot open shared object file: No such file or directory; LD_LIBRARY_PATH: /n/helmod/apps/centos7/Core/glib/2.56.1-fasrc01/lib64:/n/helmod/apps/centos7/Core/gcc/12.1.0-fasrc01/lib64:/n/helmod/apps/centos7/Core/gcc/12.1.0-fasrc01/lib:/n/helmod/apps/centos7/Core/cudnn/8.5.0.96_cuda11-fasrc01/lib:/n/helmod/apps/centos7/Core/cuda/11.7.1-fasrc01/cuda/extras/CUPTI/lib64:/n/helmod/apps/centos7/Core/cuda/11.7.1-fasrc01/cuda/lib64:/n/helmod/apps/centos7/Core/cuda/11.7.1-fasrc01/cuda/lib:/n/helmod/apps/centos7/Core/mpc/1.2.1-fasrc01/lib64:/n/helmod/apps/centos7/Core/mpfr/4.1.0-fasrc01/lib64:/n/helmod/apps/centos7/Core/gmp/6.2.1-fasrc01/lib64\n",
      "2023-03-10 14:48:38.869336: W tensorflow/compiler/xla/stream_executor/platform/default/dso_loader.cc:64] Could not load dynamic library 'libnvinfer_plugin.so.7'; dlerror: libnvinfer_plugin.so.7: cannot open shared object file: No such file or directory; LD_LIBRARY_PATH: /n/helmod/apps/centos7/Core/glib/2.56.1-fasrc01/lib64:/n/helmod/apps/centos7/Core/gcc/12.1.0-fasrc01/lib64:/n/helmod/apps/centos7/Core/gcc/12.1.0-fasrc01/lib:/n/helmod/apps/centos7/Core/cudnn/8.5.0.96_cuda11-fasrc01/lib:/n/helmod/apps/centos7/Core/cuda/11.7.1-fasrc01/cuda/extras/CUPTI/lib64:/n/helmod/apps/centos7/Core/cuda/11.7.1-fasrc01/cuda/lib64:/n/helmod/apps/centos7/Core/cuda/11.7.1-fasrc01/cuda/lib:/n/helmod/apps/centos7/Core/mpc/1.2.1-fasrc01/lib64:/n/helmod/apps/centos7/Core/mpfr/4.1.0-fasrc01/lib64:/n/helmod/apps/centos7/Core/gmp/6.2.1-fasrc01/lib64\n",
      "2023-03-10 14:48:38.869354: W tensorflow/compiler/tf2tensorrt/utils/py_utils.cc:38] TF-TRT Warning: Cannot dlopen some TensorRT libraries. If you would like to use Nvidia GPU with TensorRT, please make sure the missing libraries mentioned above are installed properly.\n"
     ]
    }
   ],
   "source": [
    "import sys\n",
    "sys.path.append(\"../\")\n",
    "\n",
    "from models.gnn import GraphConvNet\n",
    "from models.graph_utils import nearest_neighbors"
   ]
  },
  {
   "cell_type": "code",
   "execution_count": 3,
   "id": "751aa383-a288-4caa-9c20-99bb8860ca5e",
   "metadata": {},
   "outputs": [
    {
     "name": "stderr",
     "output_type": "stream",
     "text": [
      "No GPU/TPU found, falling back to CPU. (Set TF_CPP_MIN_LOG_LEVEL=0 and rerun for more info.)\n"
     ]
    }
   ],
   "source": [
    "n_nodes = 5000\n",
    "x = np.load(\"/n/holyscratch01/iaifi_lab/ccuesta/data_for_sid/halos.npy\")[:, :n_nodes,:]\n",
    "#x = np.load(\"../data/nbody_samples_only_pos.npz\")['x_true'][:, :n_nodes, :]"
   ]
  },
  {
   "cell_type": "code",
   "execution_count": 4,
   "id": "79afde5e-eef2-47c1-8122-ad2bcb0dea71",
   "metadata": {},
   "outputs": [],
   "source": [
    "sources, targets = jax.vmap(nearest_neighbors, in_axes=(0, None))(x[:4], 20)"
   ]
  },
  {
   "cell_type": "code",
   "execution_count": 5,
   "id": "bf116756-9107-47e0-b5e4-6622490bf994",
   "metadata": {},
   "outputs": [],
   "source": [
    "graph = jraph.GraphsTuple(\n",
    "          n_node=np.array(4 * [[n_nodes]]), \n",
    "          n_edge=np.array(4 * [[10]]),\n",
    "          nodes=x[:4], \n",
    "          edges=None,#np.zeros(sources.shape),\n",
    "          globals=np.ones((4, 7)),\n",
    "          senders=sources,\n",
    "          receivers=targets)"
   ]
  },
  {
   "cell_type": "code",
   "execution_count": 6,
   "id": "82980e01-daea-46fc-bcbc-740e98638124",
   "metadata": {},
   "outputs": [],
   "source": [
    "class GraphWrapper(nn.Module):\n",
    "    @nn.compact\n",
    "    def __call__(self, x):\n",
    "        model = jax.vmap(GraphConvNet(\n",
    "            latent_size=6, \n",
    "            num_mlp_layers=4, \n",
    "            message_passing_steps=3, \n",
    "            skip_connections=False))\n",
    "        return model(x)"
   ]
  },
  {
   "cell_type": "code",
   "execution_count": 7,
   "id": "b6fea542-1ca9-4034-9011-3d42f04cc78c",
   "metadata": {},
   "outputs": [
    {
     "name": "stdout",
     "output_type": "stream",
     "text": [
      "First globals\n",
      "(7,)\n",
      "Second globals\n",
      "(1, 7)\n",
      "Edge Func\n",
      "edges =  Traced<ShapedArray(float32[100000])>with<BatchTrace(level=1/0)> with\n",
      "  val = Array([[0., 0., 0., ..., 0., 0., 0.],\n",
      "       [0., 0., 0., ..., 0., 0., 0.],\n",
      "       [0., 0., 0., ..., 0., 0., 0.],\n",
      "       [0., 0., 0., ..., 0., 0., 0.]], dtype=float32)\n",
      "  batch_dim = 0\n",
      "senders =  (100000, 6)\n",
      "receivers =  (100000, 6)\n",
      "globals =  (100000, 7)\n"
     ]
    },
    {
     "ename": "ValueError",
     "evalue": "axis 1 is out of bounds for array of dimension 1",
     "output_type": "error",
     "traceback": [
      "\u001b[0;31m---------------------------------------------------------------------------\u001b[0m",
      "\u001b[0;31mValueError\u001b[0m                                Traceback (most recent call last)",
      "Cell \u001b[0;32mIn[7], line 3\u001b[0m\n\u001b[1;32m      1\u001b[0m model \u001b[38;5;241m=\u001b[39m GraphWrapper()\n\u001b[1;32m      2\u001b[0m rng \u001b[38;5;241m=\u001b[39m jax\u001b[38;5;241m.\u001b[39mrandom\u001b[38;5;241m.\u001b[39mPRNGKey(\u001b[38;5;241m42\u001b[39m)\n\u001b[0;32m----> 3\u001b[0m graph_out, _ \u001b[38;5;241m=\u001b[39m \u001b[43mmodel\u001b[49m\u001b[38;5;241;43m.\u001b[39;49m\u001b[43minit_with_output\u001b[49m\u001b[43m(\u001b[49m\u001b[43mrng\u001b[49m\u001b[43m,\u001b[49m\u001b[43m \u001b[49m\u001b[43mgraph\u001b[49m\u001b[43m)\u001b[49m\n",
      "    \u001b[0;31m[... skipping hidden 7 frame]\u001b[0m\n",
      "Cell \u001b[0;32mIn[6], line 9\u001b[0m, in \u001b[0;36mGraphWrapper.__call__\u001b[0;34m(self, x)\u001b[0m\n\u001b[1;32m      2\u001b[0m \u001b[38;5;129m@nn\u001b[39m\u001b[38;5;241m.\u001b[39mcompact\n\u001b[1;32m      3\u001b[0m \u001b[38;5;28;01mdef\u001b[39;00m \u001b[38;5;21m__call__\u001b[39m(\u001b[38;5;28mself\u001b[39m, x):\n\u001b[1;32m      4\u001b[0m     model \u001b[38;5;241m=\u001b[39m jax\u001b[38;5;241m.\u001b[39mvmap(GraphConvNet(\n\u001b[1;32m      5\u001b[0m         latent_size\u001b[38;5;241m=\u001b[39m\u001b[38;5;241m6\u001b[39m, \n\u001b[1;32m      6\u001b[0m         num_mlp_layers\u001b[38;5;241m=\u001b[39m\u001b[38;5;241m4\u001b[39m, \n\u001b[1;32m      7\u001b[0m         message_passing_steps\u001b[38;5;241m=\u001b[39m\u001b[38;5;241m3\u001b[39m, \n\u001b[1;32m      8\u001b[0m         skip_connections\u001b[38;5;241m=\u001b[39m\u001b[38;5;28;01mFalse\u001b[39;00m))\n\u001b[0;32m----> 9\u001b[0m     \u001b[38;5;28;01mreturn\u001b[39;00m \u001b[43mmodel\u001b[49m\u001b[43m(\u001b[49m\u001b[43mx\u001b[49m\u001b[43m)\u001b[49m\n",
      "    \u001b[0;31m[... skipping hidden 5 frame]\u001b[0m\n",
      "File \u001b[0;32m~/set-diffuser/models/gnn.py:96\u001b[0m, in \u001b[0;36mGraphConvNet.__call__\u001b[0;34m(self, graphs)\u001b[0m\n\u001b[1;32m     92\u001b[0m         processed_graphs \u001b[39m=\u001b[39m graph_net(processed_graphs)\n\u001b[1;32m     94\u001b[0m     \u001b[39mif\u001b[39;00m \u001b[39mself\u001b[39m\u001b[39m.\u001b[39mlayer_norm:\n\u001b[1;32m     95\u001b[0m         processed_graphs \u001b[39m=\u001b[39m processed_graphs\u001b[39m.\u001b[39m_replace(\n\u001b[0;32m---> 96\u001b[0m             nodes\u001b[39m=\u001b[39mnn\u001b[39m.\u001b[39mLayerNorm()(processed_graphs\u001b[39m.\u001b[39mnodes),\n\u001b[1;32m     97\u001b[0m         )\n\u001b[1;32m     98\u001b[0m \u001b[39mprint\u001b[39m(\u001b[39m'\u001b[39m\u001b[39moutput graphs\u001b[39m\u001b[39m'\u001b[39m)\n\u001b[1;32m     99\u001b[0m \u001b[39mprint\u001b[39m(processed_graphs)\n",
      "File \u001b[0;32m~/.conda/envs/diffjax/lib/python3.10/site-packages/jraph/_src/models.py:182\u001b[0m, in \u001b[0;36mGraphNetwork.<locals>._ApplyGraphNet\u001b[0;34m(graph)\u001b[0m\n\u001b[1;32m    178\u001b[0m global_edge_attributes \u001b[39m=\u001b[39m tree\u001b[39m.\u001b[39mtree_map(\u001b[39mlambda\u001b[39;00m g: jnp\u001b[39m.\u001b[39mrepeat(\n\u001b[1;32m    179\u001b[0m     g, n_edge, axis\u001b[39m=\u001b[39m\u001b[39m0\u001b[39m, total_repeat_length\u001b[39m=\u001b[39msum_n_edge), globals_)\n\u001b[1;32m    181\u001b[0m \u001b[39mif\u001b[39;00m update_edge_fn:\n\u001b[0;32m--> 182\u001b[0m   edges \u001b[39m=\u001b[39m update_edge_fn(edges, sent_attributes, received_attributes,\n\u001b[1;32m    183\u001b[0m                          global_edge_attributes)\n\u001b[1;32m    185\u001b[0m \u001b[39mif\u001b[39;00m attention_logit_fn:\n\u001b[1;32m    186\u001b[0m   logits \u001b[39m=\u001b[39m attention_logit_fn(edges, sent_attributes, received_attributes,\n\u001b[1;32m    187\u001b[0m                               global_edge_attributes)\n",
      "File \u001b[0;32m~/set-diffuser/models/gnn.py:32\u001b[0m, in \u001b[0;36mget_edge_mlp_updates.<locals>.update_fn\u001b[0;34m(edges, senders, receivers, globals)\u001b[0m\n\u001b[1;32m     30\u001b[0m \u001b[39mprint\u001b[39m(\u001b[39m\"\u001b[39m\u001b[39mglobals = \u001b[39m\u001b[39m\"\u001b[39m, \u001b[39mglobals\u001b[39m\u001b[39m.\u001b[39mshape)\n\u001b[1;32m     31\u001b[0m \u001b[39mif\u001b[39;00m edges \u001b[39mis\u001b[39;00m \u001b[39mnot\u001b[39;00m \u001b[39mNone\u001b[39;00m:\n\u001b[0;32m---> 32\u001b[0m     inputs \u001b[39m=\u001b[39m jnp\u001b[39m.\u001b[39;49mconcatenate(\n\u001b[1;32m     33\u001b[0m         [\n\u001b[1;32m     34\u001b[0m             edges,\n\u001b[1;32m     35\u001b[0m             senders,\n\u001b[1;32m     36\u001b[0m             receivers,\n\u001b[1;32m     37\u001b[0m         ],\n\u001b[1;32m     38\u001b[0m         axis\u001b[39m=\u001b[39;49m\u001b[39m1\u001b[39;49m,\n\u001b[1;32m     39\u001b[0m     )\n\u001b[1;32m     40\u001b[0m \u001b[39melse\u001b[39;00m:\n\u001b[1;32m     41\u001b[0m     inputs \u001b[39m=\u001b[39m jnp\u001b[39m.\u001b[39mconcatenate(\n\u001b[1;32m     42\u001b[0m         [\n\u001b[1;32m     43\u001b[0m             senders,\n\u001b[0;32m   (...)\u001b[0m\n\u001b[1;32m     46\u001b[0m         axis\u001b[39m=\u001b[39m\u001b[39m1\u001b[39m,\n\u001b[1;32m     47\u001b[0m     )\n",
      "File \u001b[0;32m~/.conda/envs/diffjax/lib/python3.10/site-packages/jax/_src/numpy/lax_numpy.py:1835\u001b[0m, in \u001b[0;36mconcatenate\u001b[0;34m(arrays, axis, dtype)\u001b[0m\n\u001b[1;32m   1833\u001b[0m \u001b[39mif\u001b[39;00m \u001b[39mhasattr\u001b[39m(arrays[\u001b[39m0\u001b[39m], \u001b[39m\"\u001b[39m\u001b[39mconcatenate\u001b[39m\u001b[39m\"\u001b[39m):\n\u001b[1;32m   1834\u001b[0m   \u001b[39mreturn\u001b[39;00m arrays[\u001b[39m0\u001b[39m]\u001b[39m.\u001b[39mconcatenate(arrays[\u001b[39m1\u001b[39m:], axis, dtype\u001b[39m=\u001b[39mdtype)  \u001b[39m# type: ignore[union-attr]\u001b[39;00m\n\u001b[0;32m-> 1835\u001b[0m axis \u001b[39m=\u001b[39m _canonicalize_axis(axis, ndim(arrays[\u001b[39m0\u001b[39;49m]))\n\u001b[1;32m   1836\u001b[0m \u001b[39mif\u001b[39;00m dtype \u001b[39mis\u001b[39;00m \u001b[39mNone\u001b[39;00m:\n\u001b[1;32m   1837\u001b[0m   arrays_out \u001b[39m=\u001b[39m _promote_dtypes(\u001b[39m*\u001b[39marrays)\n",
      "File \u001b[0;32m~/.conda/envs/diffjax/lib/python3.10/site-packages/jax/_src/util.py:349\u001b[0m, in \u001b[0;36mcanonicalize_axis\u001b[0;34m(axis, num_dims)\u001b[0m\n\u001b[1;32m    347\u001b[0m axis \u001b[39m=\u001b[39m operator\u001b[39m.\u001b[39mindex(axis)\n\u001b[1;32m    348\u001b[0m \u001b[39mif\u001b[39;00m \u001b[39mnot\u001b[39;00m \u001b[39m-\u001b[39mnum_dims \u001b[39m<\u001b[39m\u001b[39m=\u001b[39m axis \u001b[39m<\u001b[39m num_dims:\n\u001b[0;32m--> 349\u001b[0m   \u001b[39mraise\u001b[39;00m \u001b[39mValueError\u001b[39;00m(\u001b[39mf\u001b[39m\u001b[39m\"\u001b[39m\u001b[39maxis \u001b[39m\u001b[39m{\u001b[39;00maxis\u001b[39m}\u001b[39;00m\u001b[39m is out of bounds for array of dimension \u001b[39m\u001b[39m{\u001b[39;00mnum_dims\u001b[39m}\u001b[39;00m\u001b[39m\"\u001b[39m)\n\u001b[1;32m    350\u001b[0m \u001b[39mif\u001b[39;00m axis \u001b[39m<\u001b[39m \u001b[39m0\u001b[39m:\n\u001b[1;32m    351\u001b[0m   axis \u001b[39m=\u001b[39m axis \u001b[39m+\u001b[39m num_dims\n",
      "\u001b[0;31mValueError\u001b[0m: axis 1 is out of bounds for array of dimension 1"
     ]
    }
   ],
   "source": [
    "model = GraphWrapper()\n",
    "rng = jax.random.PRNGKey(42)\n",
    "graph_out, _ = model.init_with_output(rng, graph)"
   ]
  },
  {
   "cell_type": "markdown",
   "id": "9e28e3bc",
   "metadata": {},
   "source": []
  },
  {
   "cell_type": "code",
   "execution_count": null,
   "id": "5016a900",
   "metadata": {},
   "outputs": [
    {
     "ename": "NameError",
     "evalue": "name 'graph_out' is not defined",
     "output_type": "error",
     "traceback": [
      "\u001b[0;31m---------------------------------------------------------------------------\u001b[0m",
      "\u001b[0;31mNameError\u001b[0m                                 Traceback (most recent call last)",
      "Cell \u001b[0;32mIn[5], line 1\u001b[0m\n\u001b[0;32m----> 1\u001b[0m \u001b[43mgraph_out\u001b[49m\u001b[38;5;241m.\u001b[39mnodes\u001b[38;5;241m.\u001b[39mshape\n",
      "\u001b[0;31mNameError\u001b[0m: name 'graph_out' is not defined"
     ]
    }
   ],
   "source": [
    "graph_out.nodes.shape"
   ]
  },
  {
   "cell_type": "code",
   "execution_count": null,
   "id": "eaaa5332-0d5a-462e-81d2-11f84cf79e72",
   "metadata": {},
   "outputs": [],
   "source": [
    "import sys\n",
    "sys.path.append(\"../\")\n",
    "\n",
    "from models.diffusion import ScoreNet"
   ]
  },
  {
   "cell_type": "code",
   "execution_count": null,
   "id": "a401a36f-991b-4e58-af74-9e8e8405e377",
   "metadata": {},
   "outputs": [],
   "source": [
    "model = ScoreNet(5, 16)\n",
    "rng = jax.random.PRNGKey(42)\n",
    "\n",
    "n_batch = 4\n",
    "\n",
    "_, _ = model.init_with_output(rng, x[:n_batch], np.linspace(0., 1., n_batch), np.ones((n_batch, 6)), np.ones((n_batch, x.shape[1])))"
   ]
  },
  {
   "cell_type": "code",
   "execution_count": 11,
   "id": "02463d5f-935c-4446-9150-7e7ba4594344",
   "metadata": {},
   "outputs": [],
   "source": [
    "sources, targets = jax.vmap(nearest_neighbors, in_axes=(0, None))(x[:n_batch], 20, mask=np.ones((n_batch, x.shape[1])))"
   ]
  },
  {
   "cell_type": "code",
   "execution_count": null,
   "id": "a5dc6fb5-56b8-4214-a676-f5de103432c7",
   "metadata": {},
   "outputs": [],
   "source": []
  }
 ],
 "metadata": {
  "kernelspec": {
   "display_name": "Python 3.10.9 ('diffjax')",
   "language": "python",
   "name": "python3"
  },
  "language_info": {
   "codemirror_mode": {
    "name": "ipython",
    "version": 3
   },
   "file_extension": ".py",
   "mimetype": "text/x-python",
   "name": "python",
   "nbconvert_exporter": "python",
   "pygments_lexer": "ipython3",
   "version": "3.10.9"
  },
  "vscode": {
   "interpreter": {
    "hash": "4de8ebced33472280eb2d39fa7eb85126aa4b5bd288871aff7028464b844f159"
   }
  }
 },
 "nbformat": 4,
 "nbformat_minor": 5
}
