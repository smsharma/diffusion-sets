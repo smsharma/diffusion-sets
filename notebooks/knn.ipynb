{
 "cells": [
  {
   "cell_type": "code",
   "execution_count": 1,
   "id": "1de35b15-1e47-4cec-852e-34609e3c963c",
   "metadata": {},
   "outputs": [],
   "source": [
    "%load_ext autoreload\n",
    "%autoreload 2"
   ]
  },
  {
   "cell_type": "code",
   "execution_count": 2,
   "id": "437acf98-ab82-4c31-8f69-0c502b8b019d",
   "metadata": {},
   "outputs": [],
   "source": [
    "import jax\n",
    "import jax.numpy as np\n",
    "import jraph\n",
    "import flax.linen as nn\n",
    "\n",
    "from functools import partial"
   ]
  },
  {
   "cell_type": "code",
   "execution_count": 3,
   "id": "f34ae6d4-3a72-4db6-9a85-df6bea28475b",
   "metadata": {},
   "outputs": [],
   "source": [
    "import sys\n",
    "sys.path.append(\"../\")\n",
    "\n",
    "from models.graph_utils import nearest_neighbors\n",
    "import jaxkdtree"
   ]
  },
  {
   "cell_type": "code",
   "execution_count": 42,
   "id": "336b23b8-75d5-4dd3-bc47-73bbab687018",
   "metadata": {},
   "outputs": [
    {
     "data": {
      "text/plain": [
       "(4, 5000, 3)"
      ]
     },
     "execution_count": 42,
     "metadata": {},
     "output_type": "execute_result"
    }
   ],
   "source": [
    "n_nodes = 5000\n",
    "\n",
    "x = np.load(\"data/halos_small.npy\")[:4, :n_nodes, :3]\n",
    "\n",
    "x.shape"
   ]
  },
  {
   "cell_type": "code",
   "execution_count": 43,
   "id": "81b470d0-53bc-42e0-bed4-b1f14a0b3ebe",
   "metadata": {},
   "outputs": [
    {
     "name": "stdout",
     "output_type": "stream",
     "text": [
      "10.9 ms ± 129 µs per loop (mean ± std. dev. of 7 runs, 100 loops each)\n"
     ]
    }
   ],
   "source": [
    "%%timeit\n",
    "# kD-tree\n",
    "res = jax.vmap(jaxkdtree.kNN, in_axes=(0,None,None))(x[:4, :, :3], 16, 100.0)\n",
    "res.shape"
   ]
  },
  {
   "cell_type": "code",
   "execution_count": 44,
   "id": "f3b24b78-9866-46bd-87b6-cbf38492eea2",
   "metadata": {},
   "outputs": [
    {
     "name": "stdout",
     "output_type": "stream",
     "text": [
      "23.2 ms ± 9.01 µs per loop (mean ± std. dev. of 7 runs, 100 loops each)\n"
     ]
    }
   ],
   "source": [
    "%%timeit\n",
    "# Pairwise distances\n",
    "sources, targets, dist = jax.vmap(nearest_neighbors, in_axes=(0, None))(x[:4, :, :3], 16)\n",
    "np.array([sources, targets])"
   ]
  },
  {
   "cell_type": "code",
   "execution_count": 45,
   "id": "51e2234a-aa14-4c26-9cb9-5bed53c50645",
   "metadata": {},
   "outputs": [],
   "source": [
    "sources, targets, dist = jax.vmap(nearest_neighbors, in_axes=(0, None))(x[:4, :, :3], 8)"
   ]
  },
  {
   "cell_type": "code",
   "execution_count": 108,
   "id": "1d576172-0522-4a57-9772-0aa51a56d5a5",
   "metadata": {},
   "outputs": [],
   "source": [
    "@jax.custom_vjp\n",
    "def nearest_neighbors_kd(x, k, max_radius=2000.0):\n",
    "    # Implementation of nearest neighbors op\n",
    "    res = jaxkdtree.kNN(x, 8, max_radius)\n",
    "    sources = np.repeat(np.arange(x.shape[0]), 8)\n",
    "    targets = res.reshape(-1)\n",
    "    dr = x[sources] - x[targets]\n",
    "    distances = np.sum(dr**2, axis=-1)\n",
    "    return sources, targets, distances\n",
    "\n",
    "def nearest_neighbors_kd_fwd(x, k, max_radius):\n",
    "    sources, targets, distances = nearest_neighbors_kd(x, k, max_radius)\n",
    "    return (sources, targets, distances), (0.,)\n",
    "\n",
    "def nearest_neighbors_kd_bwd(res, g):\n",
    "    return lambda g: g, lambda g: None\n",
    "\n",
    "nearest_neighbors_kd.defvjp(nearest_neighbors_kd_fwd, nearest_neighbors_kd_bwd)"
   ]
  },
  {
   "cell_type": "code",
   "execution_count": 109,
   "id": "fcf4d622-cc00-4bd3-a288-9a7e4d33d662",
   "metadata": {},
   "outputs": [],
   "source": [
    "sources_knn, targets_knn, dist_knn = jax.vmap(nearest_neighbors_kd, in_axes=(0,None,None))(x[:4, :, :3], 8, 1000.)"
   ]
  },
  {
   "cell_type": "code",
   "execution_count": 110,
   "id": "ce42725b-3bce-4474-8765-4959fad29838",
   "metadata": {},
   "outputs": [
    {
     "data": {
      "text/plain": [
       "(Array(True, dtype=bool), Array(True, dtype=bool), Array(True, dtype=bool))"
      ]
     },
     "execution_count": 110,
     "metadata": {},
     "output_type": "execute_result"
    }
   ],
   "source": [
    "np.allclose(sources, sources_knn), np.allclose(targets, targets_knn), np.allclose(dist, dist_knn)"
   ]
  },
  {
   "cell_type": "code",
   "execution_count": 118,
   "id": "8eecdd55-8b1b-4d54-a5bf-101eabc61c22",
   "metadata": {},
   "outputs": [],
   "source": [
    "import jax._src.test_util as jtu\n",
    "\n",
    "def dummy_fn(x):\n",
    "    sources_knn, targets_knn, dist_knn = jax.vmap(nearest_neighbors_kd, in_axes=(0,None,None))(x, 8, 1000.)\n",
    "    return np.mean(dist_knn)\n",
    "\n",
    "dummy_fn(x[:4])\n",
    "\n",
    "jtu.check_grads(dummy_fn, (x[:4],), modes=[\"rev\"], order=1)"
   ]
  },
  {
   "cell_type": "code",
   "execution_count": 121,
   "id": "925b10ab-5777-45e6-9b0d-a623e3c3a97e",
   "metadata": {},
   "outputs": [],
   "source": [
    "@jax.custom_vjp\n",
    "def f(x, y):\n",
    "  return np.sin(x) * y\n",
    "\n",
    "def f_fwd(x, y):\n",
    "  return f(x, y), (np.cos(x), np.sin(x), y)\n",
    "\n",
    "def f_bwd(res, g):\n",
    "  cos_x, sin_x, y = res\n",
    "  return (cos_x * g * y, sin_x * g)\n",
    "\n",
    "f.defvjp(f_fwd, f_bwd)\n",
    "\n",
    "###\n",
    "\n",
    "def dummy_fn(x, y):\n",
    "    return f(x, y)\n",
    "\n",
    "\n",
    "dummy_fn(1., 3.)\n",
    "\n",
    "jtu.check_grads(dummy_fn, (1.,3.,), modes=[\"rev\"], order=1)"
   ]
  },
  {
   "cell_type": "code",
   "execution_count": 156,
   "id": "00e6f1c8-fc2a-4f7d-8f0b-06448cf4e189",
   "metadata": {},
   "outputs": [
    {
     "ename": "ValueError",
     "evalue": "too many values to unpack (expected 3)",
     "output_type": "error",
     "traceback": [
      "\u001b[0;31m---------------------------------------------------------------------------\u001b[0m",
      "\u001b[0;31mValueError\u001b[0m                                Traceback (most recent call last)",
      "Cell \u001b[0;32mIn[156], line 31\u001b[0m\n\u001b[1;32m     27\u001b[0m     \u001b[38;5;28;01mreturn\u001b[39;00m np\u001b[38;5;241m.\u001b[39mmean(dist_knn)\n\u001b[1;32m     29\u001b[0m dummy_fn(x[:\u001b[38;5;241m4\u001b[39m])\n\u001b[0;32m---> 31\u001b[0m \u001b[43mjax\u001b[49m\u001b[38;5;241;43m.\u001b[39;49m\u001b[43mvalue_and_grad\u001b[49m\u001b[43m(\u001b[49m\u001b[43mdummy_fn\u001b[49m\u001b[43m)\u001b[49m\u001b[43m(\u001b[49m\u001b[43mx\u001b[49m\u001b[43m[\u001b[49m\u001b[43m:\u001b[49m\u001b[38;5;241;43m1\u001b[39;49m\u001b[43m]\u001b[49m\u001b[43m)\u001b[49m\n\u001b[1;32m     33\u001b[0m \u001b[38;5;66;03m# jtu.check_grads(dummy_fn, (x[:4],), modes=[\"rev\"], order=1)\u001b[39;00m\n",
      "    \u001b[0;31m[... skipping hidden 8 frame]\u001b[0m\n",
      "Cell \u001b[0;32mIn[156], line 26\u001b[0m, in \u001b[0;36mdummy_fn\u001b[0;34m(x)\u001b[0m\n\u001b[1;32m     25\u001b[0m \u001b[38;5;28;01mdef\u001b[39;00m \u001b[38;5;21mdummy_fn\u001b[39m(x):\n\u001b[0;32m---> 26\u001b[0m     sources_knn, targets_knn, dist_knn \u001b[38;5;241m=\u001b[39m jax\u001b[38;5;241m.\u001b[39mvmap(nearest_neighbors_kd, in_axes\u001b[38;5;241m=\u001b[39m(\u001b[38;5;241m0\u001b[39m,\u001b[38;5;28;01mNone\u001b[39;00m,\u001b[38;5;28;01mNone\u001b[39;00m))(x, \u001b[38;5;241m8\u001b[39m, \u001b[38;5;241m1000.\u001b[39m)\n\u001b[1;32m     27\u001b[0m     \u001b[38;5;28;01mreturn\u001b[39;00m np\u001b[38;5;241m.\u001b[39mmean(dist_knn)\n",
      "\u001b[0;31mValueError\u001b[0m: too many values to unpack (expected 3)"
     ]
    }
   ],
   "source": [
    "@jax.custom_vjp\n",
    "def nearest_neighbors_kd(x, k, max_radius=2000.0):\n",
    "    # Implementation of nearest neighbors op\n",
    "    res = jaxkdtree.kNN(x, 8, max_radius)\n",
    "    sources = np.repeat(np.arange(x.shape[0]), 8)\n",
    "    targets = res.reshape(-1)\n",
    "    dr = x[sources] - x[targets]\n",
    "    distances = np.sum(dr**2, axis=-1)\n",
    "    return sources, targets, distances\n",
    "\n",
    "def nearest_neighbors_kd_fwd(x, k, max_radius):\n",
    "\n",
    "  sources, targets, distances = nearest_neighbors_kd(x, k, max_radius)\n",
    "\n",
    "  # Return dummy outputs\n",
    "  return (0., 0., 0.), (sources, targets, distances)\n",
    "\n",
    "def nearest_neighbors_kd_bwd(res, g):\n",
    "  return lambda g: g, lambda g: None\n",
    "\n",
    "nearest_neighbors_kd.defvjp(nearest_neighbors_kd_fwd, nearest_neighbors_kd_bwd)\n",
    "\n",
    "###\n",
    "\n",
    "def dummy_fn(x):\n",
    "    sources_knn, targets_knn, dist_knn = jax.vmap(nearest_neighbors_kd, in_axes=(0,None,None))(x, 8, 1000.)\n",
    "    return np.mean(dist_knn)\n",
    "\n",
    "dummy_fn(x[:4])\n",
    "\n",
    "jax.value_and_grad(dummy_fn)(x[:1])\n",
    "\n",
    "# jtu.check_grads(dummy_fn, (x[:4],), modes=[\"rev\"], order=1)"
   ]
  },
  {
   "cell_type": "code",
   "execution_count": null,
   "id": "61a4c96e-caf4-479e-9ec4-c77f805457f8",
   "metadata": {},
   "outputs": [],
   "source": []
  }
 ],
 "metadata": {
  "kernelspec": {
   "display_name": "Python 3 (ipykernel)",
   "language": "python",
   "name": "python3"
  },
  "language_info": {
   "codemirror_mode": {
    "name": "ipython",
    "version": 3
   },
   "file_extension": ".py",
   "mimetype": "text/x-python",
   "name": "python",
   "nbconvert_exporter": "python",
   "pygments_lexer": "ipython3",
   "version": "3.10.9"
  }
 },
 "nbformat": 4,
 "nbformat_minor": 5
}
