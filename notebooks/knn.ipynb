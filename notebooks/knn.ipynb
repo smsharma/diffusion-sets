{
 "cells": [
  {
   "cell_type": "code",
   "execution_count": 1,
   "id": "1de35b15-1e47-4cec-852e-34609e3c963c",
   "metadata": {},
   "outputs": [],
   "source": [
    "%load_ext autoreload\n",
    "%autoreload 2"
   ]
  },
  {
   "cell_type": "code",
   "execution_count": 107,
   "id": "437acf98-ab82-4c31-8f69-0c502b8b019d",
   "metadata": {},
   "outputs": [],
   "source": [
    "import jax\n",
    "import jax.numpy as np\n",
    "import jraph\n",
    "import flax.linen as nn\n",
    "\n",
    "from functools import partial"
   ]
  },
  {
   "cell_type": "code",
   "execution_count": 108,
   "id": "f34ae6d4-3a72-4db6-9a85-df6bea28475b",
   "metadata": {},
   "outputs": [],
   "source": [
    "import sys\n",
    "sys.path.append(\"../\")\n",
    "\n",
    "from models.graph_utils import nearest_neighbors\n",
    "import jaxkdtree"
   ]
  },
  {
   "cell_type": "code",
   "execution_count": 109,
   "id": "336b23b8-75d5-4dd3-bc47-73bbab687018",
   "metadata": {},
   "outputs": [
    {
     "data": {
      "text/plain": [
       "(4, 5000, 3)"
      ]
     },
     "execution_count": 109,
     "metadata": {},
     "output_type": "execute_result"
    }
   ],
   "source": [
    "n_nodes = 5000\n",
    "\n",
    "x = np.load(\"data/halos_small.npy\")[:4, :n_nodes, :3]\n",
    "\n",
    "x.shape"
   ]
  },
  {
   "cell_type": "code",
   "execution_count": 110,
   "id": "81b470d0-53bc-42e0-bed4-b1f14a0b3ebe",
   "metadata": {},
   "outputs": [
    {
     "name": "stdout",
     "output_type": "stream",
     "text": [
      "10.9 ms ± 74.5 µs per loop (mean ± std. dev. of 7 runs, 100 loops each)\n"
     ]
    }
   ],
   "source": [
    "%%timeit\n",
    "# kD-tree\n",
    "res = jax.vmap(jaxkdtree.kNN, in_axes=(0,None,None))(x[:4, :, :3], 16, 100.0)\n",
    "res.shape"
   ]
  },
  {
   "cell_type": "code",
   "execution_count": 111,
   "id": "f3b24b78-9866-46bd-87b6-cbf38492eea2",
   "metadata": {},
   "outputs": [
    {
     "name": "stdout",
     "output_type": "stream",
     "text": [
      "23.1 ms ± 1.54 µs per loop (mean ± std. dev. of 7 runs, 100 loops each)\n"
     ]
    }
   ],
   "source": [
    "%%timeit\n",
    "# Pairwise distances\n",
    "sources, targets, dist = jax.vmap(nearest_neighbors, in_axes=(0, None))(x[:4, :, :3], 16)\n",
    "np.array([sources, targets])"
   ]
  },
  {
   "cell_type": "code",
   "execution_count": 112,
   "id": "51e2234a-aa14-4c26-9cb9-5bed53c50645",
   "metadata": {},
   "outputs": [],
   "source": [
    "sources, targets, dist = jax.vmap(nearest_neighbors, in_axes=(0, None))(x[:4, :, :3], 8)"
   ]
  },
  {
   "cell_type": "code",
   "execution_count": 113,
   "id": "1d576172-0522-4a57-9772-0aa51a56d5a5",
   "metadata": {},
   "outputs": [],
   "source": [
    "@jax.jit\n",
    "def nearest_neighbors_kd(x, k, max_radius=2000.):\n",
    "    res = jaxkdtree.kNN(x, k, max_radius)\n",
    "    sources = np.repeat(np.arange(x.shape[0]), k)\n",
    "    targets = res.reshape(-1)\n",
    "    return sources, targets"
   ]
  },
  {
   "cell_type": "code",
   "execution_count": 114,
   "id": "fcf4d622-cc00-4bd3-a288-9a7e4d33d662",
   "metadata": {},
   "outputs": [],
   "source": [
    "sources_knn, targets_knn = jax.vmap(nearest_neighbors_kd, in_axes=(0,None,None))(x[:4, :, :3], 8, 1000.)"
   ]
  },
  {
   "cell_type": "code",
   "execution_count": 115,
   "id": "ce42725b-3bce-4474-8765-4959fad29838",
   "metadata": {},
   "outputs": [
    {
     "data": {
      "text/plain": [
       "Array(True, dtype=bool)"
      ]
     },
     "execution_count": 115,
     "metadata": {},
     "output_type": "execute_result"
    }
   ],
   "source": [
    "np.allclose(sources, sources_knn)"
   ]
  },
  {
   "cell_type": "code",
   "execution_count": null,
   "id": "15e28c30-6e8b-45cd-837f-8d2447c62743",
   "metadata": {},
   "outputs": [],
   "source": []
  }
 ],
 "metadata": {
  "kernelspec": {
   "display_name": "Python 3 (ipykernel)",
   "language": "python",
   "name": "python3"
  },
  "language_info": {
   "codemirror_mode": {
    "name": "ipython",
    "version": 3
   },
   "file_extension": ".py",
   "mimetype": "text/x-python",
   "name": "python",
   "nbconvert_exporter": "python",
   "pygments_lexer": "ipython3",
   "version": "3.10.9"
  }
 },
 "nbformat": 4,
 "nbformat_minor": 5
}
