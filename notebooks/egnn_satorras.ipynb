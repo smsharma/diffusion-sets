{
 "cells": [
  {
   "cell_type": "code",
   "execution_count": 1,
   "id": "6e5abee5-c59f-4c12-b08a-d75f1f4a9746",
   "metadata": {},
   "outputs": [],
   "source": [
    "import jax\n",
    "import jax.numpy as np\n",
    "import jraph\n",
    "import flax.linen as nn\n",
    "import numpy as onp\n",
    "import matplotlib.pyplot as plt\n",
    "\n",
    "from functools import partial"
   ]
  },
  {
   "cell_type": "code",
   "execution_count": 2,
   "id": "92430e0d",
   "metadata": {},
   "outputs": [],
   "source": [
    "%load_ext autoreload\n",
    "%autoreload 2"
   ]
  },
  {
   "cell_type": "code",
   "execution_count": 3,
   "id": "38145712",
   "metadata": {},
   "outputs": [
    {
     "name": "stderr",
     "output_type": "stream",
     "text": [
      "No GPU/TPU found, falling back to CPU. (Set TF_CPP_MIN_LOG_LEVEL=0 and rerun for more info.)\n",
      "2023-04-05 18:30:27.642922: W tensorflow/compiler/xla/stream_executor/platform/default/dso_loader.cc:64] Could not load dynamic library 'libnvinfer.so.7'; dlerror: libnvinfer.so.7: cannot open shared object file: No such file or directory; LD_LIBRARY_PATH: /n/helmod/apps/centos7/Core/glib/2.56.1-fasrc01/lib64:/n/helmod/apps/centos7/Core/gcc/12.1.0-fasrc01/lib64:/n/helmod/apps/centos7/Core/gcc/12.1.0-fasrc01/lib:/n/helmod/apps/centos7/Core/mpc/1.2.1-fasrc01/lib64:/n/helmod/apps/centos7/Core/mpfr/4.1.0-fasrc01/lib64:/n/helmod/apps/centos7/Core/gmp/6.2.1-fasrc01/lib64:/n/helmod/apps/centos7/Core/cudnn/8.5.0.96_cuda11-fasrc01/lib:/n/helmod/apps/centos7/Core/cuda/11.7.1-fasrc01/cuda/extras/CUPTI/lib64:/n/helmod/apps/centos7/Core/cuda/11.7.1-fasrc01/cuda/lib64:/n/helmod/apps/centos7/Core/cuda/11.7.1-fasrc01/cuda/lib\n",
      "2023-04-05 18:30:27.643432: W tensorflow/compiler/xla/stream_executor/platform/default/dso_loader.cc:64] Could not load dynamic library 'libnvinfer_plugin.so.7'; dlerror: libnvinfer_plugin.so.7: cannot open shared object file: No such file or directory; LD_LIBRARY_PATH: /n/helmod/apps/centos7/Core/glib/2.56.1-fasrc01/lib64:/n/helmod/apps/centos7/Core/gcc/12.1.0-fasrc01/lib64:/n/helmod/apps/centos7/Core/gcc/12.1.0-fasrc01/lib:/n/helmod/apps/centos7/Core/mpc/1.2.1-fasrc01/lib64:/n/helmod/apps/centos7/Core/mpfr/4.1.0-fasrc01/lib64:/n/helmod/apps/centos7/Core/gmp/6.2.1-fasrc01/lib64:/n/helmod/apps/centos7/Core/cudnn/8.5.0.96_cuda11-fasrc01/lib:/n/helmod/apps/centos7/Core/cuda/11.7.1-fasrc01/cuda/extras/CUPTI/lib64:/n/helmod/apps/centos7/Core/cuda/11.7.1-fasrc01/cuda/lib64:/n/helmod/apps/centos7/Core/cuda/11.7.1-fasrc01/cuda/lib\n",
      "2023-04-05 18:30:27.643459: W tensorflow/compiler/tf2tensorrt/utils/py_utils.cc:38] TF-TRT Warning: Cannot dlopen some TensorRT libraries. If you would like to use Nvidia GPU with TensorRT, please make sure the missing libraries mentioned above are installed properly.\n"
     ]
    }
   ],
   "source": [
    "import sys\n",
    "sys.path.append(\"../\")\n",
    "\n",
    "from models.gnn import GraphConvNet\n",
    "from models.graph_utils import nearest_neighbors\n",
    "from models.graph_utils import add_graphs_tuples"
   ]
  },
  {
   "cell_type": "code",
   "execution_count": 4,
   "id": "751aa383-a288-4caa-9c20-99bb8860ca5e",
   "metadata": {},
   "outputs": [],
   "source": [
    "n_nodes = 5000\n",
    "x = np.load(\"/n/holyscratch01/iaifi_lab/ccuesta/data_for_sid/halos.npy\")[:, :n_nodes,:]"
   ]
  },
  {
   "cell_type": "code",
   "execution_count": 5,
   "id": "79afde5e-eef2-47c1-8122-ad2bcb0dea71",
   "metadata": {},
   "outputs": [],
   "source": [
    "sources, targets = jax.vmap(nearest_neighbors, in_axes=(0, None))(x[:4], 20)"
   ]
  },
  {
   "cell_type": "markdown",
   "id": "22637510-964f-4e2d-8a45-a852497233c5",
   "metadata": {},
   "source": [
    "## EGNN"
   ]
  },
  {
   "cell_type": "code",
   "execution_count": 6,
   "id": "611d36f3-c871-46ff-b427-0a641eb05295",
   "metadata": {},
   "outputs": [],
   "source": [
    "from models.egnn import EGNN"
   ]
  },
  {
   "cell_type": "code",
   "execution_count": null,
   "id": "0be895ff",
   "metadata": {},
   "outputs": [],
   "source": []
  },
  {
   "cell_type": "code",
   "execution_count": 11,
   "id": "22e68794",
   "metadata": {},
   "outputs": [],
   "source": [
    "class GraphWrapper(nn.Module):\n",
    "    @nn.compact\n",
    "    def __call__(self, x):\n",
    "        model = jax.vmap(GraphConvNet(latent_size=100,\n",
    "                                      num_mlp_layers=2,\n",
    "                                      message_passing_steps=1,\n",
    "                                      layer_norm=True,))\n",
    "        return model(x)\n",
    "    \n",
    "model = GraphWrapper()\n",
    "rng = jax.random.PRNGKey(42)"
   ]
  },
  {
   "cell_type": "markdown",
   "id": "792eb383-e935-44b2-80aa-a24196cf5ee0",
   "metadata": {},
   "source": [
    "## Test equivariance"
   ]
  },
  {
   "cell_type": "code",
   "execution_count": 12,
   "id": "8c9c4aef-880f-4c6e-9374-92804dbd066c",
   "metadata": {},
   "outputs": [],
   "source": [
    "from models.graph_utils import rotate_representation"
   ]
  },
  {
   "cell_type": "code",
   "execution_count": 13,
   "id": "4956f4a2-37ce-41c7-b597-1eb071a3cbaf",
   "metadata": {},
   "outputs": [
    {
     "name": "stdout",
     "output_type": "stream",
     "text": [
      "(5000, 100)\n",
      "(5000, 100)\n"
     ]
    }
   ],
   "source": [
    "graph = jraph.GraphsTuple(\n",
    "          n_node=np.array(4 * [[n_nodes]]), \n",
    "          n_edge=np.array(4 * [[20]]),\n",
    "          nodes=x[:4, :, :], \n",
    "          edges=None,\n",
    "          globals=np.ones((4, 7)),\n",
    "          senders=sources,\n",
    "          receivers=targets)\n",
    "\n",
    "graph_out, _ = model.init_with_output(rng, graph)\n",
    "\n",
    "x_out = graph_out.nodes\n",
    "\n",
    "angle_deg = 45.\n",
    "axis = np.array([0, 1 / np.sqrt(2), 1 / np.sqrt(2)])\n",
    "\n",
    "x_out_rot = jax.vmap(rotate_representation, in_axes=(0,None,None))(x_out, angle_deg, axis)\n",
    "\n",
    "graph = jraph.GraphsTuple(\n",
    "          n_node=np.array(4 * [[n_nodes]]), \n",
    "          n_edge=np.array(4 * [[20]]),\n",
    "          nodes=jax.vmap(rotate_representation, in_axes=(0,None,None))(x[:4, :, :], angle_deg, axis),\n",
    "          edges=None,\n",
    "          globals=np.ones((4, 7)),\n",
    "          senders=sources,\n",
    "          receivers=targets)\n",
    "\n",
    "graph_out, params = model.init_with_output(rng, graph)\n",
    "x_out = graph_out.nodes"
   ]
  },
  {
   "cell_type": "code",
   "execution_count": 14,
   "id": "4e0da170",
   "metadata": {},
   "outputs": [
    {
     "data": {
      "text/plain": [
       "(array([8.000e+00, 9.000e+00, 6.000e+00, 3.976e+03, 8.540e+02, 5.200e+01,\n",
       "        2.600e+01, 3.800e+01, 1.000e+00, 3.000e+01]),\n",
       " array([-0.51620436, -0.38137573, -0.24654709, -0.11171846,  0.02311018,\n",
       "         0.15793881,  0.29276744,  0.42759606,  0.5624247 ,  0.69725335,\n",
       "         0.832082  ], dtype=float32),\n",
       " <BarContainer object of 10 artists>)"
      ]
     },
     "execution_count": 14,
     "metadata": {},
     "output_type": "execute_result"
    },
    {
     "data": {
      "image/png": "[encoded data removed]",
      "text/plain": [
       "<Figure size 640x480 with 1 Axes>"
      ]
     },
     "metadata": {},
     "output_type": "display_data"
    }
   ],
   "source": [
    "plt.hist(onp.array(x_out)[0,:,5])"
   ]
  },
  {
   "cell_type": "code",
   "execution_count": 31,
   "id": "cda2916f-38f0-4e93-b26d-01bb09acad11",
   "metadata": {},
   "outputs": [
    {
     "name": "stdout",
     "output_type": "stream",
     "text": [
      "1049.8004 -1190.6908 [[[ 0.2692127   0.45723802  1.2381907  ...  0.7974723   1.5413969\n",
      "    1.        ]\n",
      "  [ 0.2847087   0.15302382  1.2919043  ...  0.3543039   0.18256754\n",
      "    1.        ]\n",
      "  [ 0.28326762  0.19418299  1.2860186  ...  0.40629193  0.09079668\n",
      "    1.        ]\n",
      "  ...\n",
      "  [ 0.26550445  0.79811376  1.1363125  ...  2.1283274   0.62427646\n",
      "    1.        ]\n",
      "  [ 0.232109    0.62853646  1.1878104  ...  1.4545578   0.84823734\n",
      "    1.        ]\n",
      "  [ 0.13474233  0.75180316  1.1338093  ...  1.913225    0.7989591\n",
      "    1.        ]]\n",
      "\n",
      " [[ 0.284711    0.15302247  1.2919059  ...  0.354302    0.18258248\n",
      "    1.        ]\n",
      "  [ 0.284711    0.15302247  1.2919059  ...  0.354302    0.18258248\n",
      "    1.        ]\n",
      "  [ 0.284711    0.15302247  1.2919059  ...  0.354302    0.18258248\n",
      "    1.        ]\n",
      "  ...\n",
      "  [ 0.24252038  0.7262987   1.1611135  ...  1.6940277   0.76813406\n",
      "    1.        ]\n",
      "  [ 0.16571589  0.8652308   1.0944163  ...  2.4114206   0.67684275\n",
      "    1.        ]\n",
      "  [ 0.1195629   0.78404444  1.1217417  ...  1.9985328   0.77389544\n",
      "    1.        ]]\n",
      "\n",
      " [[ 0.2562146   0.5877623   1.2050565  ...  1.0718361   0.9357136\n",
      "    1.        ]\n",
      "  [ 0.2562146   0.5877623   1.2050565  ...  1.0718361   0.9357136\n",
      "    1.        ]\n",
      "  [ 0.2562146   0.5877623   1.2050565  ...  1.0718361   0.9357136\n",
      "    1.        ]\n",
      "  ...\n",
      "  [ 0.25968385  0.52529496  1.2206563  ...  1.0330251   0.9734229\n",
      "    1.        ]\n",
      "  [ 0.23338495  0.5438394   1.2076892  ...  1.1611325   0.9203396\n",
      "    1.        ]\n",
      "  [-0.05935697  0.89801055  1.0650665  ...  2.7987542   0.72463036\n",
      "    1.        ]]\n",
      "\n",
      " [[ 0.27819315  0.32585266  1.2649205  ...  0.5858047  -1.0868168\n",
      "    1.        ]\n",
      "  [ 0.27819315  0.32585266  1.2649205  ...  0.5858047  -1.0868168\n",
      "    1.        ]\n",
      "  [ 0.27819315  0.32585266  1.2649205  ...  0.5858047  -1.0868168\n",
      "    1.        ]\n",
      "  ...\n",
      "  [ 0.24973978  0.5017549   1.2219243  ...  0.9746497   1.0198399\n",
      "    1.        ]\n",
      "  [ 0.22982611  0.69487786  1.168708   ...  1.423823    0.8163281\n",
      "    1.        ]\n",
      "  [ 0.21448462  0.51764715  1.2064866  ...  1.1773026   0.9268822\n",
      "    1.        ]]]\n"
     ]
    }
   ],
   "source": [
    "# Equivariance ratio\n",
    "eq_ratio = x_out / x_out_rot\n",
    "print(eq_ratio.max(), eq_ratio.min(), eq_ratio)"
   ]
  },
  {
   "cell_type": "code",
   "execution_count": 489,
   "id": "04b09cd5-667d-423c-8aa1-45c471fab6ab",
   "metadata": {},
   "outputs": [
    {
     "data": {
      "text/plain": [
       "119316"
      ]
     },
     "execution_count": 489,
     "metadata": {},
     "output_type": "execute_result"
    }
   ],
   "source": [
    "sum(x.size for x in jax.tree_util.tree_leaves(params))"
   ]
  },
  {
   "cell_type": "code",
   "execution_count": null,
   "id": "76e08a13-eb0a-4310-8b6c-c99279307aca",
   "metadata": {},
   "outputs": [],
   "source": []
  }
 ],
 "metadata": {
  "kernelspec": {
   "display_name": "Python 3 (ipykernel)",
   "language": "python",
   "name": "python3"
  },
  "language_info": {
   "codemirror_mode": {
    "name": "ipython",
    "version": 3
   },
   "file_extension": ".py",
   "mimetype": "text/x-python",
   "name": "python",
   "nbconvert_exporter": "python",
   "pygments_lexer": "ipython3",
   "version": "3.10.9"
  },
  "vscode": {
   "interpreter": {
    "hash": "4de8ebced33472280eb2d39fa7eb85126aa4b5bd288871aff7028464b844f159"
   }
  }
 },
 "nbformat": 4,
 "nbformat_minor": 5
}
