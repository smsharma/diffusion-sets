{
 "cells": [
  {
   "cell_type": "code",
   "execution_count": 1,
   "id": "6e5abee5-c59f-4c12-b08a-d75f1f4a9746",
   "metadata": {},
   "outputs": [],
   "source": [
    "import jax\n",
    "import jax.numpy as np\n",
    "import jraph\n",
    "import flax.linen as nn\n",
    "\n",
    "from functools import partial"
   ]
  },
  {
   "cell_type": "code",
   "execution_count": 2,
   "id": "92430e0d",
   "metadata": {},
   "outputs": [],
   "source": [
    "%load_ext autoreload\n",
    "%autoreload 2"
   ]
  },
  {
   "cell_type": "code",
   "execution_count": 197,
   "id": "38145712",
   "metadata": {},
   "outputs": [],
   "source": [
    "import sys\n",
    "sys.path.append(\"../\")\n",
    "\n",
    "from models.gnn import GraphConvNet\n",
    "from models.graph_utils import nearest_neighbors\n",
    "from models.graph_utils import add_graphs_tuples"
   ]
  },
  {
   "cell_type": "code",
   "execution_count": 4,
   "id": "751aa383-a288-4caa-9c20-99bb8860ca5e",
   "metadata": {},
   "outputs": [],
   "source": [
    "n_nodes = 5000\n",
    "x = np.load(\"/n/holyscratch01/iaifi_lab/ccuesta/data_for_sid/halos.npy\")[:, :n_nodes,:]"
   ]
  },
  {
   "cell_type": "code",
   "execution_count": 5,
   "id": "79afde5e-eef2-47c1-8122-ad2bcb0dea71",
   "metadata": {},
   "outputs": [],
   "source": [
    "sources, targets = jax.vmap(nearest_neighbors, in_axes=(0, None))(x[:4], 20)"
   ]
  },
  {
   "cell_type": "markdown",
   "id": "22637510-964f-4e2d-8a45-a852497233c5",
   "metadata": {},
   "source": [
    "## EGNN"
   ]
  },
  {
   "cell_type": "code",
   "execution_count": 484,
   "id": "611d36f3-c871-46ff-b427-0a641eb05295",
   "metadata": {},
   "outputs": [],
   "source": [
    "from models.egnn import EGNN"
   ]
  },
  {
   "cell_type": "code",
   "execution_count": 485,
   "id": "8ab15704-16d0-41bb-b0c3-fab2ab7f3568",
   "metadata": {},
   "outputs": [],
   "source": [
    "class GraphWrapper(nn.Module):\n",
    "    @nn.compact\n",
    "    def __call__(self, x):\n",
    "        model = jax.vmap(EGNN())\n",
    "        return model(x)\n",
    "    \n",
    "model = GraphWrapper()\n",
    "rng = jax.random.PRNGKey(42)"
   ]
  },
  {
   "cell_type": "markdown",
   "id": "792eb383-e935-44b2-80aa-a24196cf5ee0",
   "metadata": {},
   "source": [
    "## Test equivariance"
   ]
  },
  {
   "cell_type": "code",
   "execution_count": 486,
   "id": "8c9c4aef-880f-4c6e-9374-92804dbd066c",
   "metadata": {},
   "outputs": [],
   "source": [
    "from models.graph_utils import rotate_representation"
   ]
  },
  {
   "cell_type": "code",
   "execution_count": 487,
   "id": "4956f4a2-37ce-41c7-b597-1eb071a3cbaf",
   "metadata": {},
   "outputs": [],
   "source": [
    "graph = jraph.GraphsTuple(\n",
    "          n_node=np.array(4 * [[n_nodes]]), \n",
    "          n_edge=np.array(4 * [[20]]),\n",
    "          nodes=x[:4, :, :], \n",
    "          edges=None,\n",
    "          globals=np.ones((4, 7)),\n",
    "          senders=sources,\n",
    "          receivers=targets)\n",
    "\n",
    "graph_out, _ = model.init_with_output(rng, graph)\n",
    "\n",
    "x_out = graph_out.nodes\n",
    "\n",
    "angle_deg = 45.\n",
    "axis = jnp.array([0, 1 / np.sqrt(2), 1 / np.sqrt(2)])\n",
    "\n",
    "x_out_rot = jax.vmap(rotate_representation, in_axes=(0,None,None))(x_out, angle_deg, axis)\n",
    "\n",
    "graph = jraph.GraphsTuple(\n",
    "          n_node=np.array(4 * [[n_nodes]]), \n",
    "          n_edge=np.array(4 * [[20]]),\n",
    "          nodes=jax.vmap(rotate_representation, in_axes=(0,None,None))(x[:4, :, :], angle_deg, axis),\n",
    "          edges=None,\n",
    "          globals=np.ones((4, 7)),\n",
    "          senders=sources,\n",
    "          receivers=targets)\n",
    "\n",
    "graph_out, params = model.init_with_output(rng, graph)\n",
    "x_out = graph_out.nodes"
   ]
  },
  {
   "cell_type": "code",
   "execution_count": 488,
   "id": "cda2916f-38f0-4e93-b26d-01bb09acad11",
   "metadata": {},
   "outputs": [
    {
     "name": "stdout",
     "output_type": "stream",
     "text": [
      "109.473564 -115.38762 [[[1.0002339  0.9960663  0.99954814 ... 0.99648935 0.99980164 0.99895155]\n",
      "  [0.99985373 1.0009943  0.9863638  ... 1.0014861  0.9888656  0.9974784 ]\n",
      "  [0.9999505  0.9996911  0.9997461  ... 1.0000232  0.9990794  0.9957409 ]\n",
      "  ...\n",
      "  [0.9999879  0.9939521  0.99819815 ... 0.99556774 0.99789757 1.0002339 ]\n",
      "  [1.0008882  0.99951917 1.0003865  ... 0.99909174 1.0002927  0.9990782 ]\n",
      "  [0.9994261  1.000005   0.99979764 ... 0.99999774 0.9999151  0.99951893]]\n",
      "\n",
      " [[0.99888057 1.0005398  0.9565121  ... 1.0004878  0.98075706 0.997439  ]\n",
      "  [0.99880654 1.000618   1.0001235  ... 0.9999942  0.99992913 0.9962117 ]\n",
      "  [1.0002842  0.9994418  0.99967384 ... 1.0002614  0.9988869  1.0009137 ]\n",
      "  ...\n",
      "  [0.9998485  1.0026954  1.0011265  ... 1.0037766  0.9994561  0.99975455]\n",
      "  [1.0006504  1.0000986  1.0005809  ... 0.99983186 1.0003997  0.999679  ]\n",
      "  [1.0000618  0.9999948  0.9998149  ... 1.0003642  0.99999964 1.0001197 ]]\n",
      "\n",
      " [[0.9989343  0.99609506 1.0001825  ... 0.9957949  1.0006255  1.0010105 ]\n",
      "  [1.0001951  0.9990681  0.9994697  ... 0.99928385 0.99960524 0.99989086]\n",
      "  [0.9999046  0.9996314  0.9999599  ... 0.9975607  1.0009413  0.99983376]\n",
      "  ...\n",
      "  [0.9999688  1.0005332  1.0002124  ... 1.0006564  0.9998952  0.9988137 ]\n",
      "  [0.99987894 0.99859244 1.0003852  ... 0.99858415 1.0003289  0.9993874 ]\n",
      "  [0.9984052  1.0001061  0.99995685 ... 1.0001673  0.9999957  0.9997137 ]]\n",
      "\n",
      " [[0.999849   1.0001304  1.0002494  ... 0.99983007 1.0009755  0.9977293 ]\n",
      "  [0.9998151  0.9997284  1.001196   ... 0.9997447  1.0010009  0.99151003]\n",
      "  [0.99994576 0.99933785 1.0000222  ... 1.0001293  1.0002276  1.0034804 ]\n",
      "  ...\n",
      "  [0.99971557 0.9997156  1.0011102  ... 0.9996576  1.0010201  1.0029016 ]\n",
      "  [0.9998917  1.0005825  1.000406   ... 1.0003746  1.0006877  0.99992913]\n",
      "  [1.0002729  1.000119   1.0004936  ... 0.99991995 1.0002093  0.99941427]]]\n"
     ]
    }
   ],
   "source": [
    "# Equivariance ratio\n",
    "eq_ratio = x_out / x_out_rot\n",
    "print(eq_ratio.max(), eq_ratio.min(), eq_ratio)"
   ]
  },
  {
   "cell_type": "code",
   "execution_count": 489,
   "id": "04b09cd5-667d-423c-8aa1-45c471fab6ab",
   "metadata": {},
   "outputs": [
    {
     "data": {
      "text/plain": [
       "119316"
      ]
     },
     "execution_count": 489,
     "metadata": {},
     "output_type": "execute_result"
    }
   ],
   "source": [
    "sum(x.size for x in jax.tree_util.tree_leaves(params))"
   ]
  },
  {
   "cell_type": "code",
   "execution_count": null,
   "id": "76e08a13-eb0a-4310-8b6c-c99279307aca",
   "metadata": {},
   "outputs": [],
   "source": []
  }
 ],
 "metadata": {
  "kernelspec": {
   "display_name": "Python 3 (ipykernel)",
   "language": "python",
   "name": "python3"
  },
  "language_info": {
   "codemirror_mode": {
    "name": "ipython",
    "version": 3
   },
   "file_extension": ".py",
   "mimetype": "text/x-python",
   "name": "python",
   "nbconvert_exporter": "python",
   "pygments_lexer": "ipython3",
   "version": "3.9.12"
  },
  "vscode": {
   "interpreter": {
    "hash": "4de8ebced33472280eb2d39fa7eb85126aa4b5bd288871aff7028464b844f159"
   }
  }
 },
 "nbformat": 4,
 "nbformat_minor": 5
}
