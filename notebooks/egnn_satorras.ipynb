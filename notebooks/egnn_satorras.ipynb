{
 "cells": [
  {
   "cell_type": "code",
   "execution_count": 1,
   "id": "6e5abee5-c59f-4c12-b08a-d75f1f4a9746",
   "metadata": {},
   "outputs": [],
   "source": [
    "import jax\n",
    "import jax.numpy as np\n",
    "import jraph\n",
    "import flax.linen as nn\n",
    "\n",
    "from functools import partial"
   ]
  },
  {
   "cell_type": "code",
   "execution_count": 2,
   "id": "92430e0d",
   "metadata": {},
   "outputs": [],
   "source": [
    "%load_ext autoreload\n",
    "%autoreload 2"
   ]
  },
  {
   "cell_type": "code",
   "execution_count": 197,
   "id": "38145712",
   "metadata": {},
   "outputs": [],
   "source": [
    "import sys\n",
    "sys.path.append(\"../\")\n",
    "\n",
    "from models.gnn import GraphConvNet\n",
    "from models.graph_utils import nearest_neighbors\n",
    "from models.graph_utils import add_graphs_tuples"
   ]
  },
  {
   "cell_type": "code",
   "execution_count": 4,
   "id": "751aa383-a288-4caa-9c20-99bb8860ca5e",
   "metadata": {},
   "outputs": [],
   "source": [
    "n_nodes = 5000\n",
    "x = np.load(\"/n/holyscratch01/iaifi_lab/ccuesta/data_for_sid/halos.npy\")[:, :n_nodes,:]"
   ]
  },
  {
   "cell_type": "code",
   "execution_count": 5,
   "id": "79afde5e-eef2-47c1-8122-ad2bcb0dea71",
   "metadata": {},
   "outputs": [],
   "source": [
    "sources, targets = jax.vmap(nearest_neighbors, in_axes=(0, None))(x[:4], 20)"
   ]
  },
  {
   "cell_type": "markdown",
   "id": "22637510-964f-4e2d-8a45-a852497233c5",
   "metadata": {},
   "source": [
    "## EGNN"
   ]
  },
  {
   "cell_type": "code",
   "execution_count": 7,
   "id": "e5684786-71f0-44a9-bf13-7eb904d1e6a0",
   "metadata": {},
   "outputs": [],
   "source": [
    "import jax.numpy as jnp\n",
    "from jax import jit\n",
    "\n",
    "def rotation_matrix(angle_deg, axis):\n",
    "    angle_rad = jnp.radians(angle_deg)\n",
    "    axis = axis / jnp.linalg.norm(axis)\n",
    "    \n",
    "    a = jnp.cos(angle_rad / 2)\n",
    "    b, c, d = -axis * jnp.sin(angle_rad / 2)\n",
    "    \n",
    "    return jnp.array([\n",
    "        [a*a + b*b - c*c - d*d, 2*(b*c - a*d), 2*(b*d + a*c)],\n",
    "        [2*(b*c + a*d), a*a + c*c - b*b - d*d, 2*(c*d - a*b)],\n",
    "        [2*(b*d - a*c), 2*(c*d + a*b), a*a + d*d - b*b - c*c]\n",
    "    ])\n",
    "\n",
    "@jit\n",
    "def rotate_representation(data, angle_deg, axis):\n",
    "    rot_mat = rotation_matrix(angle_deg, axis)\n",
    "    \n",
    "    positions = data[:, :3]\n",
    "    velocities = data[:, 3:6]\n",
    "    scalars = data[:, 6:]\n",
    "    \n",
    "    rotated_positions = jnp.matmul(rot_mat, positions.T).T\n",
    "    rotated_velocities = jnp.matmul(rot_mat, velocities.T).T\n",
    "    \n",
    "    return jnp.concatenate([rotated_positions, rotated_velocities, scalars], axis=1)"
   ]
  },
  {
   "cell_type": "code",
   "execution_count": 66,
   "id": "3607e777-3afb-48fa-a9d5-172e335ff9f9",
   "metadata": {},
   "outputs": [],
   "source": [
    "x = (x - x.mean((0,1))) / x.std((0, 1))"
   ]
  },
  {
   "cell_type": "code",
   "execution_count": 412,
   "id": "836abb58-c1f6-48b3-b42d-b08dd778c3e7",
   "metadata": {},
   "outputs": [],
   "source": [
    "from typing import Callable\n",
    "import flax.linen as nn\n",
    "import jax.numpy as jnp\n",
    "import jraph\n",
    "\n",
    "from models.graph_utils import add_graphs_tuples\n",
    "from models.mlp import MLP\n",
    "\n",
    "class CoordNorm(nn.Module):\n",
    "    \"\"\" Coordinate normalization, from \n",
    "    https://github.com/lucidrains/egnn-pytorch/blob/main/egnn_pytorch/egnn_pytorch.py#LL67C28-L67C28\n",
    "    \"\"\"\n",
    "    eps: float = 1e-8\n",
    "    scale_init: float = 1.\n",
    "\n",
    "    def setup(self):\n",
    "        self.scale = self.param('scale', nn.initializers.ones, (1,))\n",
    "\n",
    "    def __call__(self, coors):\n",
    "        norm = jnp.linalg.norm(coors, axis=-1, keepdims=True)\n",
    "        normed_coors = coors / jax.lax.clamp(self.eps, norm, jnp.inf)\n",
    "        return normed_coors * self.scale\n",
    "\n",
    "def get_edge_mlp_updates(d_hidden, n_layers, activation) -> Callable:\n",
    "    \"\"\"Get an edge MLP update function\n",
    "\n",
    "    Args:\n",
    "        mlp_feature_sizes (int): number of features in the MLP\n",
    "\n",
    "    Returns:\n",
    "        Callable: update function\n",
    "    \"\"\"\n",
    "\n",
    "    def update_fn(\n",
    "        edges: jnp.ndarray,\n",
    "        senders: jnp.ndarray,\n",
    "        receivers: jnp.ndarray,\n",
    "        globals: jnp.ndarray,\n",
    "    ) -> jnp.ndarray:\n",
    "        \"\"\"update edge features\n",
    "\n",
    "        Args:\n",
    "            edges (jnp.ndarray): edge attributes\n",
    "            senders (jnp.ndarray): senders node attributes\n",
    "            receivers (jnp.ndarray): receivers node attributes\n",
    "            globals (jnp.ndarray): global features\n",
    "\n",
    "        Returns:\n",
    "            jnp.ndarray: updated edge features\n",
    "        \"\"\"\n",
    "                \n",
    "        # Split senders and receivers into coordinates, velocities, and scalar attrs\n",
    "        x_i, v_i, h_i = senders[:, :3], senders[:, 3:6], senders[:, 6:]\n",
    "        x_j, v_j, h_j = receivers[:, :3], receivers[:, 3:6], receivers[:, 6:]\n",
    "                \n",
    "        # Messages from Eqs. (3) and (4)/(7) \n",
    "        phi_e = MLP([d_hidden] * (n_layers), activation=activation)\n",
    "        phi_x = MLP([d_hidden] * (n_layers - 1) + [1], activation=activation)\n",
    "        \n",
    "        m_ij =  phi_e(jnp.concatenate([h_i, h_j, jnp.linalg.norm(x_i - x_j, axis=1, keepdims=True) ** 2, globals], axis=-1))\n",
    "        return (x_i - x_j) * phi_x(m_ij), m_ij\n",
    "\n",
    "    return update_fn\n",
    "\n",
    "def get_node_mlp_updates(d_hidden, n_layers, activation, n_edge) -> Callable:\n",
    "    \"\"\"Get an node MLP update function\n",
    "\n",
    "    Args:\n",
    "        mlp_feature_sizes (int): number of features in the MLP\n",
    "\n",
    "    Returns:\n",
    "        Callable: update function\n",
    "    \"\"\"\n",
    "\n",
    "    def update_fn(\n",
    "        nodes: jnp.ndarray,\n",
    "        senders: jnp.ndarray,\n",
    "        receivers: jnp.ndarray,\n",
    "        globals: jnp.ndarray,\n",
    "    ) -> jnp.ndarray:\n",
    "        \"\"\"update edge features\n",
    "\n",
    "        Args:\n",
    "            edges (jnp.ndarray): edge attributes\n",
    "            senders (jnp.ndarray): senders node attributes\n",
    "            receivers (jnp.ndarray): receivers node attributes\n",
    "            globals (jnp.ndarray): global features\n",
    "\n",
    "        Returns:\n",
    "            jnp.ndarray: updated edge features\n",
    "        \"\"\"\n",
    "        \n",
    "        sum_x_ij, m_i = receivers  # Get aggregated messages\n",
    "        x_i, v_i, h_i = nodes[:, :3], nodes[:, 3:6], nodes[:, 6:]  # Split node attrs\n",
    "                \n",
    "        # From Eqs. (6) and (7)\n",
    "        phi_v = MLP([d_hidden] * (n_layers - 1) + [1], activation=activation)\n",
    "        phi_h = MLP([d_hidden] * (n_layers - 1) + [h_i.shape[-1]], activation=activation)\n",
    "                    \n",
    "        # Apply updates\n",
    "        v_i_p = sum_x_ij / (n_edge - 1) + phi_v(h_i) * v_i  # TODO: generalize connections\n",
    "        x_i_p = x_i + v_i_p\n",
    "        h_i_p = phi_h(jnp.concatenate([h_i, m_i], -1)) + h_i  # Skip connection\n",
    "                \n",
    "        return jnp.concatenate([x_i_p, v_i_p, h_i_p], -1)\n",
    "\n",
    "    return update_fn\n",
    "\n",
    "class GraphConvNet(nn.Module):\n",
    "    \"\"\"A simple graph convolutional network\"\"\"\n",
    "\n",
    "    message_passing_steps: int = 4\n",
    "    skip_connections: bool = False\n",
    "    norm_layer: bool = True\n",
    "    d_hidden: int = 64\n",
    "    n_layers : int = 3\n",
    "    activation: str = \"swish\"\n",
    "\n",
    "    @nn.compact\n",
    "    def __call__(self, graphs: jraph.GraphsTuple) -> jraph.GraphsTuple:\n",
    "        \"\"\"Do message passing on graph\n",
    "\n",
    "        Args:\n",
    "            graphs (jraph.GraphsTuple): graph object\n",
    "\n",
    "        Returns:\n",
    "            jraph.GraphsTuple: updated graph object\n",
    "        \"\"\"\n",
    "        in_features = graphs.nodes.shape[-1]\n",
    "        processed_graphs = graphs\n",
    "        processed_graphs = processed_graphs._replace(globals=processed_graphs.globals.reshape(processed_graphs.globals.shape[0], -1))\n",
    "        \n",
    "        activation = getattr(nn, self.activation)\n",
    "                \n",
    "        update_node_fn = get_node_mlp_updates(self.d_hidden, self.n_layers, activation, n_edge=processed_graphs.n_edge)\n",
    "        update_edge_fn = get_edge_mlp_updates(self.d_hidden, self.n_layers, activation)\n",
    "\n",
    "        # Apply message-passing rounds\n",
    "        for _ in range(self.message_passing_steps):\n",
    "            \n",
    "            graph_net = jraph.GraphNetwork(update_node_fn=update_node_fn, update_edge_fn=update_edge_fn)\n",
    "            \n",
    "            if self.skip_connections:\n",
    "                processed_graphs = add_graphs_tuples(graph_net(processed_graphs), processed_graphs)\n",
    "            else:\n",
    "                processed_graphs = graph_net(processed_graphs)\n",
    "            \n",
    "            if self.norm_layer:\n",
    "                processed_graphs = self.norm(processed_graphs)\n",
    "\n",
    "        return processed_graphs\n",
    "    \n",
    "    def norm(self, graph):\n",
    "        x, v, h = graph.nodes[..., :3], graph.nodes[..., 3:6], graph.nodes[..., 6:]\n",
    "        \n",
    "        # Only apply LN if scalars have more than one feature\n",
    "        x, v, h = CoordNorm()(x), CoordNorm()(v), h if h.shape[-1] == 1 else nn.LayerNorm()(h)\n",
    "        graph = graph._replace(nodes = jnp.concatenate([x, v, h], -1))\n",
    "        return graph\n",
    "        "
   ]
  },
  {
   "cell_type": "code",
   "execution_count": 413,
   "id": "8ab15704-16d0-41bb-b0c3-fab2ab7f3568",
   "metadata": {},
   "outputs": [],
   "source": [
    "class GraphWrapper(nn.Module):\n",
    "    @nn.compact\n",
    "    def __call__(self, x):\n",
    "        model = jax.vmap(GraphConvNet())\n",
    "        return model(x)\n",
    "    \n",
    "model = GraphWrapper()\n",
    "rng = jax.random.PRNGKey(42)"
   ]
  },
  {
   "cell_type": "markdown",
   "id": "792eb383-e935-44b2-80aa-a24196cf5ee0",
   "metadata": {},
   "source": [
    "## Test equivariance"
   ]
  },
  {
   "cell_type": "code",
   "execution_count": 414,
   "id": "4956f4a2-37ce-41c7-b597-1eb071a3cbaf",
   "metadata": {},
   "outputs": [
    {
     "name": "stdout",
     "output_type": "stream",
     "text": [
      "(1,) (5000, 3)\n",
      "(1,) (5000, 3)\n",
      "(1,) (5000, 3)\n",
      "(1,) (5000, 3)\n",
      "(1,) (5000, 3)\n",
      "(1,) (5000, 3)\n",
      "(1,) (5000, 3)\n",
      "(1,) (5000, 3)\n"
     ]
    }
   ],
   "source": [
    "graph = jraph.GraphsTuple(\n",
    "          n_node=np.array(4 * [[n_nodes]]), \n",
    "          n_edge=np.array(4 * [[20]]),\n",
    "          nodes=x[:4, :, :], \n",
    "          edges=None,\n",
    "          globals=np.ones((4, 7)),\n",
    "          senders=sources,\n",
    "          receivers=targets)\n",
    "\n",
    "graph_out, _ = model.init_with_output(rng, graph)\n",
    "\n",
    "x_out = graph_out.nodes\n",
    "\n",
    "angle_deg = 45.\n",
    "axis = jnp.array([0, 1 / np.sqrt(2), 1 / np.sqrt(2)])\n",
    "\n",
    "x_out_rot = jax.vmap(rotate_representation, in_axes=(0,None,None))(x_out, angle_deg, axis)\n",
    "\n",
    "graph = jraph.GraphsTuple(\n",
    "          n_node=np.array(4 * [[n_nodes]]), \n",
    "          n_edge=np.array(4 * [[20]]),\n",
    "          nodes=jax.vmap(rotate_representation, in_axes=(0,None,None))(x[:4, :, :], angle_deg, axis),\n",
    "          edges=None,\n",
    "          globals=np.ones((4, 7)),\n",
    "          senders=sources,\n",
    "          receivers=targets)\n",
    "\n",
    "graph_out, params = model.init_with_output(rng, graph)\n",
    "x_out = graph_out.nodes"
   ]
  },
  {
   "cell_type": "code",
   "execution_count": 415,
   "id": "cda2916f-38f0-4e93-b26d-01bb09acad11",
   "metadata": {},
   "outputs": [
    {
     "name": "stdout",
     "output_type": "stream",
     "text": [
      "82.13094 -173.83261 [[[1.0035228  0.9978963  0.99760026 ... 0.9933725  1.0129737  0.9992706 ]\n",
      "  [0.9998935  1.1863993  1.0017153  ... 1.0673395  1.0010754  1.0006332 ]\n",
      "  [0.9999765  1.0002943  0.9997309  ... 1.000484   0.9994827  0.999958  ]\n",
      "  ...\n",
      "  [0.999844   1.0006032  1.0002435  ... 1.0005755  1.0000297  1.0003574 ]\n",
      "  [1.0000621  0.99974406 1.0000896  ... 0.9997686  1.0004615  1.000152  ]\n",
      "  [0.9994891  0.9999096  0.99968    ... 0.99943495 1.0002725  1.0003402 ]]\n",
      "\n",
      " [[1.0003672  0.9997328  1.0029218  ... 0.9998033  1.0028821  0.9992737 ]\n",
      "  [0.99996704 1.0007361  0.999939   ... 1.0006534  0.99988943 1.0008017 ]\n",
      "  [0.9999453  1.0414947  0.99876714 ... 1.4108531  0.9981786  1.0000074 ]\n",
      "  ...\n",
      "  [1.0001202  1.000273   0.9992023  ... 0.9983159  0.99890506 1.0005789 ]\n",
      "  [0.9998512  1.000236   1.000517   ... 0.99991465 0.9340335  1.0002856 ]\n",
      "  [1.0002218  1.0000648  1.0000988  ... 0.99110144 1.0042105  0.9992367 ]]\n",
      "\n",
      " [[1.00358    1.0215788  0.9995969  ... 1.0004034  0.9991566  0.9998411 ]\n",
      "  [0.99963516 1.000515   1.0009948  ... 1.0006832  1.0000191  1.0000529 ]\n",
      "  [1.0420179  0.99936175 0.99405354 ... 0.974835   1.008546   1.0923343 ]\n",
      "  ...\n",
      "  [0.99962795 0.9999513  0.9999071  ... 1.0010251  0.99872166 1.001006  ]\n",
      "  [1.000938   0.9995452  1.0000021  ... 0.99955595 1.0000396  1.0000472 ]\n",
      "  [0.9994122  0.9999116  0.9997726  ... 1.000841   0.9994827  0.9999948 ]]\n",
      "\n",
      " [[1.0013076  1.0002095  0.99948406 ... 0.9995857  1.0000033  1.0010749 ]\n",
      "  [1.000789   1.0007389  0.9974934  ... 1.4055338  0.9358523  0.99569094]\n",
      "  [0.97861904 0.98409265 1.096762   ... 1.0004994  0.9990532  0.99969226]\n",
      "  ...\n",
      "  [1.0004257  1.0000849  0.99982864 ... 0.99957824 0.9995994  0.99973756]\n",
      "  [0.9998681  0.9999033  1.0002166  ... 1.0007417  1.0003597  0.9997035 ]\n",
      "  [1.0000255  0.9998803  0.99978316 ... 1.000672   0.9997289  1.0001649 ]]]\n"
     ]
    }
   ],
   "source": [
    "# Equivariance ratio\n",
    "eq_ratio = x_out / x_out_rot\n",
    "print(eq_ratio.max(), eq_ratio.min(), eq_ratio)"
   ]
  },
  {
   "cell_type": "code",
   "execution_count": 371,
   "id": "04b09cd5-667d-423c-8aa1-45c471fab6ab",
   "metadata": {},
   "outputs": [
    {
     "data": {
      "text/plain": [
       "119316"
      ]
     },
     "execution_count": 371,
     "metadata": {},
     "output_type": "execute_result"
    }
   ],
   "source": [
    "sum(x.size for x in jax.tree_util.tree_leaves(params))"
   ]
  },
  {
   "cell_type": "code",
   "execution_count": null,
   "id": "76e08a13-eb0a-4310-8b6c-c99279307aca",
   "metadata": {},
   "outputs": [],
   "source": []
  }
 ],
 "metadata": {
  "kernelspec": {
   "display_name": "Python 3 (ipykernel)",
   "language": "python",
   "name": "python3"
  },
  "language_info": {
   "codemirror_mode": {
    "name": "ipython",
    "version": 3
   },
   "file_extension": ".py",
   "mimetype": "text/x-python",
   "name": "python",
   "nbconvert_exporter": "python",
   "pygments_lexer": "ipython3",
   "version": "3.9.12"
  },
  "vscode": {
   "interpreter": {
    "hash": "4de8ebced33472280eb2d39fa7eb85126aa4b5bd288871aff7028464b844f159"
   }
  }
 },
 "nbformat": 4,
 "nbformat_minor": 5
}
