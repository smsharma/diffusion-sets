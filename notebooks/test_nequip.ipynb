{
 "cells": [
  {
   "cell_type": "code",
   "execution_count": 1,
   "metadata": {},
   "outputs": [],
   "source": [
    "import sys\n",
    "from jax import random\n",
    "sys.path.append(\"../\")\n",
    "\n",
    "from models.equivariant_gnn import NEQUIP \n",
    "from models.graph_utils import nearest_neighbors"
   ]
  },
  {
   "cell_type": "code",
   "execution_count": 2,
   "metadata": {},
   "outputs": [],
   "source": [
    "import jax\n",
    "import jax.numpy as np\n",
    "import jraph\n",
    "import flax.linen as nn\n",
    "\n",
    "from functools import partial\n",
    "import e3nn_jax as e3nn\n",
    "\n",
    "%load_ext autoreload\n",
    "%autoreload 2"
   ]
  },
  {
   "cell_type": "code",
   "execution_count": 3,
   "metadata": {},
   "outputs": [
    {
     "name": "stderr",
     "output_type": "stream",
     "text": [
      "No GPU/TPU found, falling back to CPU. (Set TF_CPP_MIN_LOG_LEVEL=0 and rerun for more info.)\n"
     ]
    }
   ],
   "source": [
    "key = random.PRNGKey(42)\n",
    "pos = random.uniform(key, shape=(5000,3))\n",
    "vel = random.uniform(key, shape=(5000,3))\n",
    "mass = random.uniform(key, shape=(5000,1))"
   ]
  },
  {
   "cell_type": "code",
   "execution_count": 4,
   "metadata": {},
   "outputs": [
    {
     "data": {
      "text/plain": [
       "(5000, 3)"
      ]
     },
     "execution_count": 4,
     "metadata": {},
     "output_type": "execute_result"
    }
   ],
   "source": [
    "pos.shape"
   ]
  },
  {
   "cell_type": "code",
   "execution_count": 5,
   "metadata": {},
   "outputs": [],
   "source": [
    "sources, targets = nearest_neighbors(pos, 20)"
   ]
  },
  {
   "cell_type": "code",
   "execution_count": 6,
   "metadata": {},
   "outputs": [],
   "source": [
    "pos = e3nn.IrrepsArray(\"1o\", pos)\n",
    "feat = e3nn.IrrepsArray(\n",
    "    f\"1o + 0e\", \n",
    "    np.concatenate([vel, mass], -1)\n",
    ")\n"
   ]
  },
  {
   "cell_type": "code",
   "execution_count": 7,
   "metadata": {},
   "outputs": [
    {
     "ename": "ValueError",
     "evalue": "IrrepsArray(1x1o) ** scalar is not equivariant.",
     "output_type": "error",
     "traceback": [
      "\u001b[0;31m---------------------------------------------------------------------------\u001b[0m",
      "\u001b[0;31mValueError\u001b[0m                                Traceback (most recent call last)",
      "Cell \u001b[0;32mIn[7], line 3\u001b[0m\n\u001b[1;32m      1\u001b[0m model \u001b[38;5;241m=\u001b[39m NEQUIP()\n\u001b[1;32m      2\u001b[0m rng \u001b[38;5;241m=\u001b[39m jax\u001b[38;5;241m.\u001b[39mrandom\u001b[38;5;241m.\u001b[39mPRNGKey(\u001b[38;5;241m42\u001b[39m)\n\u001b[0;32m----> 3\u001b[0m out, _ \u001b[38;5;241m=\u001b[39m \u001b[43mmodel\u001b[49m\u001b[38;5;241;43m.\u001b[39;49m\u001b[43minit_with_output\u001b[49m\u001b[43m(\u001b[49m\u001b[43mrng\u001b[49m\u001b[43m,\u001b[49m\u001b[43m \u001b[49m\u001b[43mpos\u001b[49m\u001b[43m,\u001b[49m\u001b[43m \u001b[49m\u001b[43mfeat\u001b[49m\u001b[43m,\u001b[49m\u001b[43m \u001b[49m\u001b[43mtargets\u001b[49m\u001b[43m,\u001b[49m\u001b[43m \u001b[49m\u001b[43msources\u001b[49m\u001b[43m)\u001b[49m\n",
      "    \u001b[0;31m[... skipping hidden 7 frame]\u001b[0m\n",
      "File \u001b[0;32m~/set-diffuser/models/equivariant_gnn.py:35\u001b[0m, in \u001b[0;36mNEQUIP.__call__\u001b[0;34m(self, positions, node_features, senders, receivers)\u001b[0m\n\u001b[1;32m     30\u001b[0m \u001b[39mfor\u001b[39;00m l \u001b[39min\u001b[39;00m \u001b[39mrange\u001b[39m(\u001b[39mself\u001b[39m\u001b[39m.\u001b[39mn_layers):\n\u001b[1;32m     31\u001b[0m     layer \u001b[39m=\u001b[39m NEQUIPLayer(\n\u001b[1;32m     32\u001b[0m         avg_num_neighbors\u001b[39m=\u001b[39m\u001b[39m1.0\u001b[39m,\n\u001b[1;32m     33\u001b[0m         target_irreps\u001b[39m=\u001b[39m\u001b[39mself\u001b[39m\u001b[39m.\u001b[39mtarget_irreps,\n\u001b[1;32m     34\u001b[0m     )\n\u001b[0;32m---> 35\u001b[0m     node_features \u001b[39m=\u001b[39m layer(\n\u001b[1;32m     36\u001b[0m         vectors,\n\u001b[1;32m     37\u001b[0m         node_features,\n\u001b[1;32m     38\u001b[0m         senders\u001b[39m=\u001b[39;49msenders,\n\u001b[1;32m     39\u001b[0m         receivers\u001b[39m=\u001b[39;49mreceivers,\n\u001b[1;32m     40\u001b[0m     )\n\u001b[1;32m     41\u001b[0m displacements, node_features \u001b[39m=\u001b[39m (\n\u001b[1;32m     42\u001b[0m     node_features\u001b[39m.\u001b[39mslice_by_mul[:\u001b[39m1\u001b[39m],\n\u001b[1;32m     43\u001b[0m     node_features\u001b[39m.\u001b[39mslice_by_mul[\u001b[39m1\u001b[39m:],\n\u001b[1;32m     44\u001b[0m )\n\u001b[1;32m     45\u001b[0m \u001b[39mreturn\u001b[39;00m positions \u001b[39m+\u001b[39m displacements, node_features\n",
      "    \u001b[0;31m[... skipping hidden 2 frame]\u001b[0m\n",
      "File \u001b[0;32m~/set-diffuser/models/equivariant_gnn.py:88\u001b[0m, in \u001b[0;36mNEQUIPLayer.__call__\u001b[0;34m(self, vectors, node_feats, senders, receivers)\u001b[0m\n\u001b[1;32m     80\u001b[0m self_connection \u001b[39m=\u001b[39m e3nn\u001b[39m.\u001b[39mflax\u001b[39m.\u001b[39mLinear(\n\u001b[1;32m     81\u001b[0m     irreps,\n\u001b[1;32m     82\u001b[0m )(\n\u001b[1;32m     83\u001b[0m     node_feats\n\u001b[1;32m     84\u001b[0m )  \u001b[39m# [n_nodes, feature * target_irreps]\u001b[39;00m\n\u001b[1;32m     86\u001b[0m node_feats \u001b[39m=\u001b[39m e3nn\u001b[39m.\u001b[39mflax\u001b[39m.\u001b[39mLinear(node_feats\u001b[39m.\u001b[39mirreps, name\u001b[39m=\u001b[39m\u001b[39m\"\u001b[39m\u001b[39mlinear_up\u001b[39m\u001b[39m\"\u001b[39m)(node_feats)\n\u001b[0;32m---> 88\u001b[0m node_feats \u001b[39m=\u001b[39m MessagePassingConvolution(\n\u001b[1;32m     89\u001b[0m     \u001b[39mself\u001b[39;49m\u001b[39m.\u001b[39;49mavg_num_neighbors,\n\u001b[1;32m     90\u001b[0m     irreps,\n\u001b[1;32m     91\u001b[0m     \u001b[39mself\u001b[39;49m\u001b[39m.\u001b[39;49mmlp_activation,\n\u001b[1;32m     92\u001b[0m     \u001b[39mself\u001b[39;49m\u001b[39m.\u001b[39;49mmlp_n_hidden,\n\u001b[1;32m     93\u001b[0m     \u001b[39mself\u001b[39;49m\u001b[39m.\u001b[39;49mmlp_n_layers,\n\u001b[1;32m     94\u001b[0m     \u001b[39mself\u001b[39;49m\u001b[39m.\u001b[39;49mn_radial_basis,\n\u001b[1;32m     95\u001b[0m     \u001b[39mself\u001b[39;49m\u001b[39m.\u001b[39;49msh_lmax,\n\u001b[1;32m     96\u001b[0m )(vectors, node_feats, senders, receivers)\n\u001b[1;32m     98\u001b[0m node_feats \u001b[39m=\u001b[39m e3nn\u001b[39m.\u001b[39mflax\u001b[39m.\u001b[39mLinear(irreps, name\u001b[39m=\u001b[39m\u001b[39m\"\u001b[39m\u001b[39mlinear_down\u001b[39m\u001b[39m\"\u001b[39m)(node_feats)\n\u001b[1;32m    100\u001b[0m node_feats \u001b[39m=\u001b[39m node_feats \u001b[39m+\u001b[39m self_connection  \u001b[39m# [n_nodes, irreps]\u001b[39;00m\n",
      "    \u001b[0;31m[... skipping hidden 2 frame]\u001b[0m\n",
      "File \u001b[0;32m~/set-diffuser/models/equivariant_gnn.py:139\u001b[0m, in \u001b[0;36mMessagePassingConvolution.__call__\u001b[0;34m(self, vectors, node_feats, senders, receivers)\u001b[0m\n\u001b[1;32m    132\u001b[0m messages \u001b[39m=\u001b[39m node_feats[senders]\n\u001b[1;32m    133\u001b[0m \u001b[39m# Angular part\u001b[39;00m\n\u001b[1;32m    134\u001b[0m messages \u001b[39m=\u001b[39m e3nn\u001b[39m.\u001b[39mconcatenate(\n\u001b[1;32m    135\u001b[0m     [\n\u001b[1;32m    136\u001b[0m         messages\u001b[39m.\u001b[39mfilter(\u001b[39mself\u001b[39m\u001b[39m.\u001b[39mtarget_irreps),\n\u001b[1;32m    137\u001b[0m         e3nn\u001b[39m.\u001b[39mtensor_product(\n\u001b[1;32m    138\u001b[0m             messages,\n\u001b[0;32m--> 139\u001b[0m             e3nn\u001b[39m.\u001b[39;49mspherical_harmonics(\n\u001b[1;32m    140\u001b[0m                 [l \u001b[39mfor\u001b[39;49;00m l \u001b[39min\u001b[39;49;00m \u001b[39mrange\u001b[39;49m(\u001b[39m1\u001b[39;49m, \u001b[39mself\u001b[39;49m\u001b[39m.\u001b[39;49msh_lmax \u001b[39m+\u001b[39;49m \u001b[39m1\u001b[39;49m)],\n\u001b[1;32m    141\u001b[0m                 vectors,\n\u001b[1;32m    142\u001b[0m                 normalize\u001b[39m=\u001b[39;49m\u001b[39mTrue\u001b[39;49;00m,\n\u001b[1;32m    143\u001b[0m                 normalization\u001b[39m=\u001b[39;49m\u001b[39m\"\u001b[39;49m\u001b[39mcomponent\u001b[39;49m\u001b[39m\"\u001b[39;49m,\n\u001b[1;32m    144\u001b[0m             ),\n\u001b[1;32m    145\u001b[0m             filter_ir_out\u001b[39m=\u001b[39m\u001b[39mself\u001b[39m\u001b[39m.\u001b[39mtarget_irreps,\n\u001b[1;32m    146\u001b[0m         ),\n\u001b[1;32m    147\u001b[0m     ]\n\u001b[1;32m    148\u001b[0m )\u001b[39m.\u001b[39mregroup()  \u001b[39m# [n_edges, irreps]\u001b[39;00m\n\u001b[1;32m    150\u001b[0m \u001b[39m# Radial part\u001b[39;00m\n\u001b[1;32m    151\u001b[0m lengths \u001b[39m=\u001b[39m e3nn\u001b[39m.\u001b[39mnorm(vectors)\u001b[39m.\u001b[39marray  \u001b[39m# [n_edges, 1]\u001b[39;00m\n",
      "File \u001b[0;32m~/.conda/envs/diffjax/lib/python3.10/site-packages/e3nn_jax/_src/spherical_harmonics.py:144\u001b[0m, in \u001b[0;36mspherical_harmonics\u001b[0;34m(irreps_out, input, normalize, normalization, algorithm)\u001b[0m\n\u001b[1;32m    142\u001b[0m \u001b[39massert\u001b[39;00m x\u001b[39m.\u001b[39mshape[\u001b[39m-\u001b[39m\u001b[39m1\u001b[39m] \u001b[39m==\u001b[39m \u001b[39m3\u001b[39m\n\u001b[1;32m    143\u001b[0m \u001b[39mif\u001b[39;00m normalize:\n\u001b[0;32m--> 144\u001b[0m     r2 \u001b[39m=\u001b[39m jnp\u001b[39m.\u001b[39msum(x\u001b[39m*\u001b[39;49m\u001b[39m*\u001b[39;49m\u001b[39m2\u001b[39;49m, axis\u001b[39m=\u001b[39m\u001b[39m-\u001b[39m\u001b[39m1\u001b[39m, keepdims\u001b[39m=\u001b[39m\u001b[39mTrue\u001b[39;00m)\n\u001b[1;32m    145\u001b[0m     r2 \u001b[39m=\u001b[39m jnp\u001b[39m.\u001b[39mwhere(r2 \u001b[39m==\u001b[39m \u001b[39m0.0\u001b[39m, \u001b[39m1.0\u001b[39m, r2)\n\u001b[1;32m    146\u001b[0m     x \u001b[39m=\u001b[39m x \u001b[39m/\u001b[39m jnp\u001b[39m.\u001b[39msqrt(r2)\n",
      "File \u001b[0;32m~/.conda/envs/diffjax/lib/python3.10/site-packages/e3nn_jax/_src/irreps_array.py:399\u001b[0m, in \u001b[0;36mIrrepsArray.__pow__\u001b[0;34m(self, exponent)\u001b[0m\n\u001b[1;32m    396\u001b[0m         irreps \u001b[39m=\u001b[39m [(mul, \u001b[39m\"\u001b[39m\u001b[39m0e\u001b[39m\u001b[39m\"\u001b[39m) \u001b[39mfor\u001b[39;00m mul, ir \u001b[39min\u001b[39;00m \u001b[39mself\u001b[39m\u001b[39m.\u001b[39mirreps]\n\u001b[1;32m    397\u001b[0m     \u001b[39mreturn\u001b[39;00m IrrepsArray(irreps, array\u001b[39m=\u001b[39m\u001b[39mself\u001b[39m\u001b[39m.\u001b[39marray\u001b[39m*\u001b[39m\u001b[39m*\u001b[39mexponent, \u001b[39mlist\u001b[39m\u001b[39m=\u001b[39m[x\u001b[39m*\u001b[39m\u001b[39m*\u001b[39mexponent \u001b[39mfor\u001b[39;00m x \u001b[39min\u001b[39;00m \u001b[39mself\u001b[39m\u001b[39m.\u001b[39mlist])\n\u001b[0;32m--> 399\u001b[0m \u001b[39mraise\u001b[39;00m \u001b[39mValueError\u001b[39;00m(\u001b[39mf\u001b[39m\u001b[39m\"\u001b[39m\u001b[39mIrrepsArray(\u001b[39m\u001b[39m{\u001b[39;00m\u001b[39mself\u001b[39m\u001b[39m.\u001b[39mirreps\u001b[39m}\u001b[39;00m\u001b[39m) ** scalar is not equivariant.\u001b[39m\u001b[39m\"\u001b[39m)\n",
      "\u001b[0;31mValueError\u001b[0m: IrrepsArray(1x1o) ** scalar is not equivariant."
     ]
    }
   ],
   "source": [
    "model = NEQUIP()\n",
    "rng = jax.random.PRNGKey(42)\n",
    "out, _ = model.init_with_output(rng, pos, feat, targets, sources)\n"
   ]
  },
  {
   "cell_type": "code",
   "execution_count": null,
   "metadata": {},
   "outputs": [],
   "source": []
  }
 ],
 "metadata": {
  "kernelspec": {
   "display_name": "Python 3.10.9 ('diffjax')",
   "language": "python",
   "name": "python3"
  },
  "language_info": {
   "codemirror_mode": {
    "name": "ipython",
    "version": 3
   },
   "file_extension": ".py",
   "mimetype": "text/x-python",
   "name": "python",
   "nbconvert_exporter": "python",
   "pygments_lexer": "ipython3",
   "version": "3.10.9"
  },
  "orig_nbformat": 4,
  "vscode": {
   "interpreter": {
    "hash": "4de8ebced33472280eb2d39fa7eb85126aa4b5bd288871aff7028464b844f159"
   }
  }
 },
 "nbformat": 4,
 "nbformat_minor": 2
}
