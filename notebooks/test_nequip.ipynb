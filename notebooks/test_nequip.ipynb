{
 "cells": [
  {
   "cell_type": "code",
   "execution_count": 1,
   "metadata": {},
   "outputs": [
    {
     "name": "stderr",
     "output_type": "stream",
     "text": [
      "No GPU/TPU found, falling back to CPU. (Set TF_CPP_MIN_LOG_LEVEL=0 and rerun for more info.)\n",
      "2023-04-06 09:48:48.082933: W tensorflow/compiler/xla/stream_executor/platform/default/dso_loader.cc:64] Could not load dynamic library 'libnvinfer.so.7'; dlerror: libnvinfer.so.7: cannot open shared object file: No such file or directory; LD_LIBRARY_PATH: /n/helmod/apps/centos7/Core/glib/2.56.1-fasrc01/lib64:/n/helmod/apps/centos7/Core/gcc/12.1.0-fasrc01/lib64:/n/helmod/apps/centos7/Core/gcc/12.1.0-fasrc01/lib:/n/helmod/apps/centos7/Core/cudnn/8.5.0.96_cuda11-fasrc01/lib:/n/helmod/apps/centos7/Core/cuda/11.7.1-fasrc01/cuda/extras/CUPTI/lib64:/n/helmod/apps/centos7/Core/cuda/11.7.1-fasrc01/cuda/lib64:/n/helmod/apps/centos7/Core/cuda/11.7.1-fasrc01/cuda/lib:/n/helmod/apps/centos7/Core/mpc/1.2.1-fasrc01/lib64:/n/helmod/apps/centos7/Core/mpfr/4.1.0-fasrc01/lib64:/n/helmod/apps/centos7/Core/gmp/6.2.1-fasrc01/lib64\n",
      "2023-04-06 09:48:48.083424: W tensorflow/compiler/xla/stream_executor/platform/default/dso_loader.cc:64] Could not load dynamic library 'libnvinfer_plugin.so.7'; dlerror: libnvinfer_plugin.so.7: cannot open shared object file: No such file or directory; LD_LIBRARY_PATH: /n/helmod/apps/centos7/Core/glib/2.56.1-fasrc01/lib64:/n/helmod/apps/centos7/Core/gcc/12.1.0-fasrc01/lib64:/n/helmod/apps/centos7/Core/gcc/12.1.0-fasrc01/lib:/n/helmod/apps/centos7/Core/cudnn/8.5.0.96_cuda11-fasrc01/lib:/n/helmod/apps/centos7/Core/cuda/11.7.1-fasrc01/cuda/extras/CUPTI/lib64:/n/helmod/apps/centos7/Core/cuda/11.7.1-fasrc01/cuda/lib64:/n/helmod/apps/centos7/Core/cuda/11.7.1-fasrc01/cuda/lib:/n/helmod/apps/centos7/Core/mpc/1.2.1-fasrc01/lib64:/n/helmod/apps/centos7/Core/mpfr/4.1.0-fasrc01/lib64:/n/helmod/apps/centos7/Core/gmp/6.2.1-fasrc01/lib64\n",
      "2023-04-06 09:48:48.083451: W tensorflow/compiler/tf2tensorrt/utils/py_utils.cc:38] TF-TRT Warning: Cannot dlopen some TensorRT libraries. If you would like to use Nvidia GPU with TensorRT, please make sure the missing libraries mentioned above are installed properly.\n"
     ]
    }
   ],
   "source": [
    "import sys\n",
    "from jax import random\n",
    "import matplotlib.pyplot as plt\n",
    "sys.path.append(\"../\")\n",
    "\n",
    "from models.equivariant_gnn import NEQUIP \n",
    "from models.egnn import EGNN\n",
    "import e3nn_jax as e3nn\n",
    "from models.graph_utils import nearest_neighbors, rotate_representation"
   ]
  },
  {
   "cell_type": "code",
   "execution_count": 2,
   "metadata": {},
   "outputs": [],
   "source": [
    "import jax\n",
    "import jax.numpy as np\n",
    "import numpy as onp\n",
    "import jax.numpy as jnp\n",
    "import jraph\n",
    "import flax.linen as nn\n",
    "\n",
    "from functools import partial\n",
    "import e3nn_jax as e3nn"
   ]
  },
  {
   "cell_type": "code",
   "execution_count": 3,
   "metadata": {},
   "outputs": [],
   "source": [
    "n_nodes = 5000"
   ]
  },
  {
   "cell_type": "code",
   "execution_count": 4,
   "metadata": {},
   "outputs": [],
   "source": [
    "x = np.load(\"/n/holyscratch01/iaifi_lab/ccuesta/data_for_sid/halos.npy\")[:, :n_nodes,:6]"
   ]
  },
  {
   "cell_type": "code",
   "execution_count": 5,
   "metadata": {},
   "outputs": [],
   "source": [
    "#x = x.at[...,-1].set(np.log10(x[...,-1]))"
   ]
  },
  {
   "cell_type": "code",
   "execution_count": 6,
   "metadata": {},
   "outputs": [],
   "source": [
    "x = (x - np.min(x, axis=0))/(np.max(x,axis=0) - np.min(x, axis=0))"
   ]
  },
  {
   "cell_type": "code",
   "execution_count": 7,
   "metadata": {},
   "outputs": [],
   "source": [
    "sources, targets = jax.vmap(nearest_neighbors, in_axes=(0, None))(x[:4], 20)"
   ]
  },
  {
   "cell_type": "code",
   "execution_count": 8,
   "metadata": {},
   "outputs": [],
   "source": [
    "class GraphWrapper(nn.Module):\n",
    "    @nn.compact\n",
    "    def __call__(self, x):\n",
    "        model = jax.vmap(NEQUIP(\n",
    "          target_irreps=e3nn.Irreps('2x1o'),\n",
    "          input_node_irreps=e3nn.Irreps('1o'),\n",
    "        )\n",
    "        )\n",
    "        return model(x)\n",
    "    \n",
    "model = GraphWrapper()\n",
    "rng = jax.random.PRNGKey(42)"
   ]
  },
  {
   "cell_type": "code",
   "execution_count": 9,
   "metadata": {},
   "outputs": [],
   "source": [
    "graph = jraph.GraphsTuple(\n",
    "          n_node=np.array(4 * [[n_nodes]]), \n",
    "          n_edge=np.array(4 * [[20]]),\n",
    "          nodes=x[:4, :, :], \n",
    "          edges=None,\n",
    "          globals=np.ones((4, 7)),\n",
    "          senders=sources,\n",
    "          receivers=targets)\n",
    "\n",
    "graph_out, _ = model.init_with_output(rng, graph)\n",
    "x_out = graph_out.nodes\n",
    "\n",
    "#x_out = graph_out.nodes\n",
    "\n",
    "angle_deg = 45.\n",
    "axis = jnp.array([0, 1 / np.sqrt(2), 1 / np.sqrt(2)])\n",
    "\n",
    "x_out_rot = jax.vmap(rotate_representation, in_axes=(0,None,None))(x_out, angle_deg, axis)\n",
    "\n",
    "graph = jraph.GraphsTuple(\n",
    "          n_node=np.array(4 * [[n_nodes]]), \n",
    "          n_edge=np.array(4 * [[20]]),\n",
    "          nodes=jax.vmap(rotate_representation, in_axes=(0,None,None))(x[:4, :, :], angle_deg, axis),\n",
    "          edges=None,\n",
    "          globals=np.ones((4, 7)),\n",
    "          senders=sources,\n",
    "          receivers=targets)\n",
    "\n",
    "graph_out, _ = model.init_with_output(rng, graph)\n",
    "x_out = graph_out.nodes\n"
   ]
  },
  {
   "cell_type": "code",
   "execution_count": 10,
   "metadata": {},
   "outputs": [
    {
     "data": {
      "text/plain": [
       "Array([[[-3.92511562e-02,  2.26113200e-02,  1.46758175e+00,\n",
       "         -1.38196573e-01, -7.83844739e-02, -9.87322748e-01],\n",
       "        [ 6.48591459e-01,  3.55460227e-01,  1.53276324e+00,\n",
       "         -5.36513627e-01, -3.02950665e-02, -8.43406618e-01],\n",
       "        [-9.66572523e-01,  1.84800804e-01,  1.74047470e-01,\n",
       "          4.98775393e-01, -9.87088084e-02,  8.60105634e-01],\n",
       "        ...,\n",
       "        [ 4.32177544e-01, -1.14510834e-01,  1.41397905e+00,\n",
       "         -3.31303239e-01, -4.77168441e-01,  8.14024329e-01],\n",
       "        [ 1.09241974e+00,  5.71984410e-01,  1.08878684e+00,\n",
       "         -2.18214646e-01, -7.00573251e-02, -9.73431528e-01],\n",
       "        [ 7.92489588e-01,  1.58725381e-02,  1.44335008e+00,\n",
       "          1.51855096e-01, -2.57182360e-01,  9.54368353e-01]],\n",
       "\n",
       "       [[ 1.28425455e+00, -8.05574536e-01,  1.13942719e+00,\n",
       "         -6.01731181e-01,  4.39949125e-01,  6.66672170e-01],\n",
       "        [ 8.86854410e-01,  3.13297451e-01, -4.00760382e-01,\n",
       "         -9.81579900e-01,  1.23455949e-01,  1.46101385e-01],\n",
       "        [-2.66540200e-01,  9.57595289e-01, -1.28660381e-01,\n",
       "          8.31127226e-01,  4.05849874e-01, -3.80209506e-01],\n",
       "        ...,\n",
       "        [ 1.05235696e+00,  1.42191195e+00,  6.13185704e-01,\n",
       "         -4.66490507e-01, -8.66815567e-01, -1.76088706e-01],\n",
       "        [ 3.72700691e-02,  1.06539369e+00, -1.05435252e-02,\n",
       "          8.97397220e-01,  4.12547410e-01, -1.56561777e-01],\n",
       "        [ 2.10827738e-01, -6.21048808e-01, -3.37394714e-01,\n",
       "         -1.29128590e-01,  2.62367159e-01,  9.56236064e-01]],\n",
       "\n",
       "       [[-9.66721922e-02,  1.53079242e-01, -5.04629612e-02,\n",
       "         -9.73807693e-01, -9.11958441e-02,  2.08520144e-01],\n",
       "        [-1.65338308e-01, -2.52281398e-01,  3.29094708e-01,\n",
       "          7.96501279e-01,  4.10005420e-01,  4.44478929e-01],\n",
       "        [ 2.49081850e-02,  2.42298558e-01,  1.00719118e+00,\n",
       "          3.42594087e-01,  6.30129933e-01, -6.96840286e-01],\n",
       "        ...,\n",
       "        [ 1.09517026e+00,  7.49453008e-01,  1.18177056e+00,\n",
       "          1.29135430e-01, -6.93222702e-01,  7.09130347e-01],\n",
       "        [ 3.50663841e-01,  1.86418474e-01,  1.90343642e+00,\n",
       "         -6.19019628e-01,  7.57063568e-01,  2.09181875e-01],\n",
       "        [-1.05440781e-01,  9.65980053e-01,  3.29146802e-01,\n",
       "         -4.31146145e-01,  7.50173688e-01, -4.95715261e-01]],\n",
       "\n",
       "       [[ 3.22844714e-01,  1.01418197e+00,  1.36947274e+00,\n",
       "          5.26372790e-01, -6.36519909e-01,  5.63442588e-01],\n",
       "        [ 7.75292814e-01,  4.28835213e-01,  8.95813406e-01,\n",
       "          5.33972681e-01,  4.62079644e-01, -7.08135009e-01],\n",
       "        [ 4.73027647e-01,  8.18569779e-01,  8.99538755e-01,\n",
       "         -2.87637264e-01, -9.53703284e-01, -8.81765187e-02],\n",
       "        ...,\n",
       "        [-3.80410671e-01, -4.03813899e-01,  1.84416771e-04,\n",
       "         -3.29834610e-01, -1.63679905e-02, -9.39999104e-01],\n",
       "        [ 1.13740933e+00,  5.36747515e-01,  1.20536554e+00,\n",
       "         -1.13931056e-02, -1.25627533e-01, -9.92041469e-01],\n",
       "        [-8.78790021e-02,  9.81287897e-01,  6.91662550e-01,\n",
       "         -1.16181456e-01,  8.36351931e-01, -5.35832942e-01]]],      dtype=float32)"
      ]
     },
     "execution_count": 10,
     "metadata": {},
     "output_type": "execute_result"
    }
   ],
   "source": [
    "x_out"
   ]
  },
  {
   "cell_type": "code",
   "execution_count": 11,
   "metadata": {},
   "outputs": [
    {
     "data": {
      "text/plain": [
       "(array([680., 540., 450., 420., 421., 439., 436., 467., 500., 647.]),\n",
       " array([-9.9991030e-01, -7.9997677e-01, -6.0004318e-01, -4.0010965e-01,\n",
       "        -2.0017609e-01, -2.4253130e-04,  1.9969103e-01,  3.9962459e-01,\n",
       "         5.9955812e-01,  7.9949170e-01,  9.9942523e-01], dtype=float32),\n",
       " <BarContainer object of 10 artists>)"
      ]
     },
     "execution_count": 11,
     "metadata": {},
     "output_type": "execute_result"
    },
    {
     "data": {
      "image/png": "[encoded data removed]",
      "text/plain": [
       "<Figure size 640x480 with 1 Axes>"
      ]
     },
     "metadata": {},
     "output_type": "display_data"
    }
   ],
   "source": [
    "plt.hist(onp.array(x_out)[0,:,5])"
   ]
  },
  {
   "cell_type": "code",
   "execution_count": 12,
   "metadata": {},
   "outputs": [
    {
     "name": "stdout",
     "output_type": "stream",
     "text": [
      "nan nan [[[0.9999801  1.0000573  1.0000012  1.0000008  1.0000101  0.99999994]\n",
      "  [1.0000014  1.000001   0.9999995  1.0000007  0.99998444 0.9999996 ]\n",
      "  [1.0000001  1.0000021  0.99999976 1.0000001  1.0000035  0.99999994]\n",
      "  ...\n",
      "  [0.99999297 1.0000077  0.9999989  0.99998856 0.99999374 1.000004  ]\n",
      "  [0.9999984  1.0000079  1.0000069  1.0000217  0.99988025 0.99999946]\n",
      "  [0.9999793  1.0004677  1.0000093  0.9999904  1.0003049  0.99997807]]\n",
      "\n",
      " [[0.9999965  1.0000116  0.9999929  0.9999907  1.0000061  1.0000051 ]\n",
      "  [0.9999941  1.000038   1.0000126  0.99999994 0.9999675  1.0000281 ]\n",
      "  [0.9998694  0.9999838  1.0002235  0.99998134 0.999961   1.0001336 ]\n",
      "  ...\n",
      "  [0.9999999  1.0000001  0.9999999  1.0000007  0.9999995  1.0000033 ]\n",
      "  [1.0000012  1.0000014  0.99991995 0.9999995  1.0000019  0.99999905]\n",
      "  [0.9998387  1.000018   0.99996734 0.9995459  1.0004011  0.9999781 ]]\n",
      "\n",
      " [[1.0000073  1.0000026  0.99999464 0.99999994 1.0001022  0.9999832 ]\n",
      "  [1.000008   0.9999966  1.0000004  1.0000023  0.999997   0.9999957 ]\n",
      "  [1.0000069  1.000005   1.0000013  1.0000032  0.9999992  0.99999976]\n",
      "  ...\n",
      "  [1.0000004  0.99999815 0.9999993  1.0000172  1.0000018  0.9999974 ]\n",
      "  [1.0000005  1.0000015  1.         1.0000054  0.9999981  0.99997413]\n",
      "  [1.0000031  1.0000002  1.0000002  0.9999996  1.0000002  0.9999995 ]]\n",
      "\n",
      " [[0.9999977  0.9999971  1.0000011  0.9999992  0.9999979  1.0000035 ]\n",
      "  [1.0000001  1.0000004  0.99999964 1.         0.9999995  1.0000004 ]\n",
      "  [1.0000017  0.99999845 0.9999971  0.9999979  1.0000005  0.9999723 ]\n",
      "  ...\n",
      "  [0.9999769  1.0000225  0.988044   1.0000637  0.99865305 0.99999106]\n",
      "  [0.9999946  1.000008   1.0000064  1.0000468  1.0000293  0.9999995 ]\n",
      "  [0.99997914 0.99999845 1.0000014  0.999993   1.0000002  0.99999964]]]\n"
     ]
    }
   ],
   "source": [
    "# Equivariance ratio\n",
    "eq_ratio = x_out / x_out_rot\n",
    "print(eq_ratio.max(), eq_ratio.min(), eq_ratio)"
   ]
  }
 ],
 "metadata": {
  "kernelspec": {
   "display_name": "Python 3.10.9 ('diffjax')",
   "language": "python",
   "name": "python3"
  },
  "language_info": {
   "codemirror_mode": {
    "name": "ipython",
    "version": 3
   },
   "file_extension": ".py",
   "mimetype": "text/x-python",
   "name": "python",
   "nbconvert_exporter": "python",
   "pygments_lexer": "ipython3",
   "version": "3.10.9"
  },
  "orig_nbformat": 4,
  "vscode": {
   "interpreter": {
    "hash": "4de8ebced33472280eb2d39fa7eb85126aa4b5bd288871aff7028464b844f159"
   }
  }
 },
 "nbformat": 4,
 "nbformat_minor": 2
}
