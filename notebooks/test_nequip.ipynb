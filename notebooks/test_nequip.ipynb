{
 "cells": [
  {
   "cell_type": "code",
   "execution_count": 1,
   "metadata": {},
   "outputs": [],
   "source": [
    "import sys\n",
    "from jax import random\n",
    "sys.path.append(\"../\")\n",
    "\n",
    "from models.equivariant_gnn import NEQUIP \n",
    "from models.graph_utils import nearest_neighbors"
   ]
  },
  {
   "cell_type": "code",
   "execution_count": 2,
   "metadata": {},
   "outputs": [],
   "source": [
    "import jax\n",
    "import jax.numpy as np\n",
    "import jraph\n",
    "import flax.linen as nn\n",
    "\n",
    "from functools import partial\n",
    "import e3nn_jax as e3nn"
   ]
  },
  {
   "cell_type": "code",
   "execution_count": 3,
   "metadata": {},
   "outputs": [
    {
     "name": "stderr",
     "output_type": "stream",
     "text": [
      "No GPU/TPU found, falling back to CPU. (Set TF_CPP_MIN_LOG_LEVEL=0 and rerun for more info.)\n"
     ]
    }
   ],
   "source": [
    "key = random.PRNGKey(42)\n",
    "pos = random.uniform(key, shape=(5000,3))\n",
    "vel = random.uniform(key, shape=(5000,3))\n",
    "mass = random.uniform(key, shape=(5000,1))"
   ]
  },
  {
   "cell_type": "code",
   "execution_count": 4,
   "metadata": {},
   "outputs": [
    {
     "data": {
      "text/plain": [
       "(5000, 3)"
      ]
     },
     "execution_count": 4,
     "metadata": {},
     "output_type": "execute_result"
    }
   ],
   "source": [
    "pos.shape"
   ]
  },
  {
   "cell_type": "code",
   "execution_count": 5,
   "metadata": {},
   "outputs": [],
   "source": [
    "sources, targets = nearest_neighbors(pos, 20)"
   ]
  },
  {
   "cell_type": "code",
   "execution_count": 6,
   "metadata": {},
   "outputs": [],
   "source": [
    "pos = e3nn.IrrepsArray(\"1o\", pos)\n",
    "feat = e3nn.IrrepsArray(\n",
    "    f\"1o + 0e\", \n",
    "    np.concatenate([vel, mass], -1)\n",
    ")\n"
   ]
  },
  {
   "cell_type": "code",
   "execution_count": 7,
   "metadata": {},
   "outputs": [
    {
     "name": "stdout",
     "output_type": "stream",
     "text": [
      "(5000, 7)\n",
      "1x0e+2x1o\n",
      "[[ 4.56897148e+04  2.80651360e+07  4.19894080e+07 ...  0.00000000e+00\n",
      "   0.00000000e+00  0.00000000e+00]\n",
      " [ 8.08763867e+03 -7.00658400e+07 -3.39431584e+08 ... -1.75893104e+08\n",
      "  -3.69769408e+08  4.18078075e+06]\n",
      " [ 6.79649609e+03  0.00000000e+00  0.00000000e+00 ...  0.00000000e+00\n",
      "   0.00000000e+00  0.00000000e+00]\n",
      " ...\n",
      " [ 2.58483281e+04  8.81405200e+06  3.07716925e+06 ...  0.00000000e+00\n",
      "   0.00000000e+00  0.00000000e+00]\n",
      " [ 1.12142705e+04 -2.18803828e+05 -1.45930475e+06 ...  0.00000000e+00\n",
      "   0.00000000e+00  0.00000000e+00]\n",
      " [ 2.96228809e+04 -1.60622140e+07 -1.32592880e+07 ...  0.00000000e+00\n",
      "   0.00000000e+00  0.00000000e+00]]\n"
     ]
    },
    {
     "ename": "IndexError",
     "evalue": "Error in IrrepsArray.__getitem__, Can't slice with 1x1o because it doesn't appear exactly once in 1x0e+2x1o.",
     "output_type": "error",
     "traceback": [
      "\u001b[0;31m---------------------------------------------------------------------------\u001b[0m",
      "\u001b[0;31mIndexError\u001b[0m                                Traceback (most recent call last)",
      "Cell \u001b[0;32mIn[7], line 3\u001b[0m\n\u001b[1;32m      1\u001b[0m model \u001b[38;5;241m=\u001b[39m NEQUIP()\n\u001b[1;32m      2\u001b[0m rng \u001b[38;5;241m=\u001b[39m jax\u001b[38;5;241m.\u001b[39mrandom\u001b[38;5;241m.\u001b[39mPRNGKey(\u001b[38;5;241m42\u001b[39m)\n\u001b[0;32m----> 3\u001b[0m out, _ \u001b[38;5;241m=\u001b[39m \u001b[43mmodel\u001b[49m\u001b[38;5;241;43m.\u001b[39;49m\u001b[43minit_with_output\u001b[49m\u001b[43m(\u001b[49m\u001b[43mrng\u001b[49m\u001b[43m,\u001b[49m\u001b[43m \u001b[49m\u001b[43mpos\u001b[49m\u001b[43m,\u001b[49m\u001b[43m \u001b[49m\u001b[43mfeat\u001b[49m\u001b[43m,\u001b[49m\u001b[43m \u001b[49m\u001b[43mtargets\u001b[49m\u001b[43m,\u001b[49m\u001b[43m \u001b[49m\u001b[43msources\u001b[49m\u001b[43m)\u001b[49m\n",
      "    \u001b[0;31m[... skipping hidden 7 frame]\u001b[0m\n",
      "File \u001b[0;32m~/set-diffuser/models/equivariant_gnn.py:44\u001b[0m, in \u001b[0;36mNEQUIP.__call__\u001b[0;34m(self, positions, node_features, senders, receivers)\u001b[0m\n\u001b[1;32m     42\u001b[0m \u001b[39mprint\u001b[39m(node_features\u001b[39m.\u001b[39mshape)\n\u001b[1;32m     43\u001b[0m \u001b[39mprint\u001b[39m(node_features)\n\u001b[0;32m---> 44\u001b[0m vectors, masses \u001b[39m=\u001b[39m node_features[:, \u001b[39m\"\u001b[39;49m\u001b[39m1o\u001b[39;49m\u001b[39m\"\u001b[39;49m], node_features[:, \u001b[39m\"\u001b[39m\u001b[39m0e\u001b[39m\u001b[39m\"\u001b[39m]\n\u001b[1;32m     45\u001b[0m displacement, vel \u001b[39m=\u001b[39m vectors\u001b[39m.\u001b[39mslice_by_mul[:\u001b[39m1\u001b[39m], vectors\u001b[39m.\u001b[39mslice_by_mul[\u001b[39m1\u001b[39m:]\n\u001b[1;32m     46\u001b[0m positions \u001b[39m=\u001b[39m positions \u001b[39m+\u001b[39m displacement \n",
      "File \u001b[0;32m~/.conda/envs/diffjax/lib/python3.10/site-packages/e3nn_jax/_src/irreps_array.py:422\u001b[0m, in \u001b[0;36mIrrepsArray.__getitem__\u001b[0;34m(self, index)\u001b[0m\n\u001b[1;32m    420\u001b[0m ii \u001b[39m=\u001b[39m [i \u001b[39mfor\u001b[39;00m i \u001b[39min\u001b[39;00m \u001b[39mrange\u001b[39m(\u001b[39mlen\u001b[39m(\u001b[39mself\u001b[39m\u001b[39m.\u001b[39mirreps)) \u001b[39mif\u001b[39;00m \u001b[39mself\u001b[39m\u001b[39m.\u001b[39mirreps[i : i \u001b[39m+\u001b[39m \u001b[39mlen\u001b[39m(irreps)] \u001b[39m==\u001b[39m irreps]\n\u001b[1;32m    421\u001b[0m \u001b[39mif\u001b[39;00m \u001b[39mlen\u001b[39m(ii) \u001b[39m!=\u001b[39m \u001b[39m1\u001b[39m:\n\u001b[0;32m--> 422\u001b[0m     \u001b[39mraise\u001b[39;00m \u001b[39mIndexError\u001b[39;00m(\n\u001b[1;32m    423\u001b[0m         \u001b[39mf\u001b[39m\u001b[39m\"\u001b[39m\u001b[39mError in IrrepsArray.__getitem__, Can\u001b[39m\u001b[39m'\u001b[39m\u001b[39mt slice with \u001b[39m\u001b[39m{\u001b[39;00mirreps\u001b[39m}\u001b[39;00m\u001b[39m \u001b[39m\u001b[39m\"\u001b[39m\n\u001b[1;32m    424\u001b[0m         \u001b[39mf\u001b[39m\u001b[39m\"\u001b[39m\u001b[39mbecause it doesn\u001b[39m\u001b[39m'\u001b[39m\u001b[39mt appear exactly once in \u001b[39m\u001b[39m{\u001b[39;00m\u001b[39mself\u001b[39m\u001b[39m.\u001b[39mirreps\u001b[39m}\u001b[39;00m\u001b[39m.\u001b[39m\u001b[39m\"\u001b[39m\n\u001b[1;32m    425\u001b[0m     )\n\u001b[1;32m    426\u001b[0m i \u001b[39m=\u001b[39m ii[\u001b[39m0\u001b[39m]\n\u001b[1;32m    428\u001b[0m \u001b[39mreturn\u001b[39;00m IrrepsArray(\n\u001b[1;32m    429\u001b[0m     irreps,\n\u001b[1;32m    430\u001b[0m     \u001b[39mself\u001b[39m\u001b[39m.\u001b[39marray[\u001b[39m.\u001b[39m\u001b[39m.\u001b[39m\u001b[39m.\u001b[39m, \u001b[39mself\u001b[39m\u001b[39m.\u001b[39mirreps[:i]\u001b[39m.\u001b[39mdim : \u001b[39mself\u001b[39m\u001b[39m.\u001b[39mirreps[: i \u001b[39m+\u001b[39m \u001b[39mlen\u001b[39m(irreps)]\u001b[39m.\u001b[39mdim],\n\u001b[1;32m    431\u001b[0m     \u001b[39mself\u001b[39m\u001b[39m.\u001b[39mlist[i : i \u001b[39m+\u001b[39m \u001b[39mlen\u001b[39m(irreps)],\n\u001b[1;32m    432\u001b[0m )[index[:\u001b[39m-\u001b[39m\u001b[39m1\u001b[39m] \u001b[39m+\u001b[39m (\u001b[39mslice\u001b[39m(\u001b[39mNone\u001b[39;00m),)]\n",
      "\u001b[0;31mIndexError\u001b[0m: Error in IrrepsArray.__getitem__, Can't slice with 1x1o because it doesn't appear exactly once in 1x0e+2x1o."
     ]
    }
   ],
   "source": [
    "model = NEQUIP()\n",
    "rng = jax.random.PRNGKey(42)\n",
    "out, _ = model.init_with_output(rng, pos, feat, targets, sources)\n"
   ]
  },
  {
   "cell_type": "code",
   "execution_count": null,
   "metadata": {},
   "outputs": [
    {
     "data": {
      "text/plain": [
       "(5000, 7)"
      ]
     },
     "execution_count": 8,
     "metadata": {},
     "output_type": "execute_result"
    }
   ],
   "source": [
    "out.shape"
   ]
  },
  {
   "cell_type": "code",
   "execution_count": 9,
   "metadata": {},
   "outputs": [
    {
     "data": {
      "text/plain": [
       "1x0e+2x1o\n",
       "[[ 4.56897148e+04  2.80651360e+07  4.19894080e+07 ...  0.00000000e+00\n",
       "   0.00000000e+00  0.00000000e+00]\n",
       " [ 8.08763867e+03 -7.00658400e+07 -3.39431584e+08 ... -1.75893104e+08\n",
       "  -3.69769408e+08  4.18078075e+06]\n",
       " [ 6.79649609e+03  0.00000000e+00  0.00000000e+00 ...  0.00000000e+00\n",
       "   0.00000000e+00  0.00000000e+00]\n",
       " ...\n",
       " [ 2.58483281e+04  8.81405200e+06  3.07716925e+06 ...  0.00000000e+00\n",
       "   0.00000000e+00  0.00000000e+00]\n",
       " [ 1.12142705e+04 -2.18803828e+05 -1.45930475e+06 ...  0.00000000e+00\n",
       "   0.00000000e+00  0.00000000e+00]\n",
       " [ 2.96228809e+04 -1.60622140e+07 -1.32592880e+07 ...  0.00000000e+00\n",
       "   0.00000000e+00  0.00000000e+00]]"
      ]
     },
     "execution_count": 9,
     "metadata": {},
     "output_type": "execute_result"
    }
   ],
   "source": [
    "out"
   ]
  },
  {
   "cell_type": "code",
   "execution_count": null,
   "metadata": {},
   "outputs": [],
   "source": []
  }
 ],
 "metadata": {
  "kernelspec": {
   "display_name": "Python 3.10.9 ('diffjax')",
   "language": "python",
   "name": "python3"
  },
  "language_info": {
   "codemirror_mode": {
    "name": "ipython",
    "version": 3
   },
   "file_extension": ".py",
   "mimetype": "text/x-python",
   "name": "python",
   "nbconvert_exporter": "python",
   "pygments_lexer": "ipython3",
   "version": "3.10.9"
  },
  "orig_nbformat": 4,
  "vscode": {
   "interpreter": {
    "hash": "4de8ebced33472280eb2d39fa7eb85126aa4b5bd288871aff7028464b844f159"
   }
  }
 },
 "nbformat": 4,
 "nbformat_minor": 2
}
