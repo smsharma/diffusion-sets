{
 "cells": [
  {
   "cell_type": "code",
   "execution_count": 1,
   "metadata": {},
   "outputs": [
    {
     "name": "stderr",
     "output_type": "stream",
     "text": [
      "No GPU/TPU found, falling back to CPU. (Set TF_CPP_MIN_LOG_LEVEL=0 and rerun for more info.)\n",
      "2023-04-06 09:16:49.100937: W tensorflow/compiler/xla/stream_executor/platform/default/dso_loader.cc:64] Could not load dynamic library 'libnvinfer.so.7'; dlerror: libnvinfer.so.7: cannot open shared object file: No such file or directory; LD_LIBRARY_PATH: /n/helmod/apps/centos7/Core/glib/2.56.1-fasrc01/lib64:/n/helmod/apps/centos7/Core/gcc/12.1.0-fasrc01/lib64:/n/helmod/apps/centos7/Core/gcc/12.1.0-fasrc01/lib:/n/helmod/apps/centos7/Core/cudnn/8.5.0.96_cuda11-fasrc01/lib:/n/helmod/apps/centos7/Core/cuda/11.7.1-fasrc01/cuda/extras/CUPTI/lib64:/n/helmod/apps/centos7/Core/cuda/11.7.1-fasrc01/cuda/lib64:/n/helmod/apps/centos7/Core/cuda/11.7.1-fasrc01/cuda/lib:/n/helmod/apps/centos7/Core/mpc/1.2.1-fasrc01/lib64:/n/helmod/apps/centos7/Core/mpfr/4.1.0-fasrc01/lib64:/n/helmod/apps/centos7/Core/gmp/6.2.1-fasrc01/lib64\n",
      "2023-04-06 09:16:49.101447: W tensorflow/compiler/xla/stream_executor/platform/default/dso_loader.cc:64] Could not load dynamic library 'libnvinfer_plugin.so.7'; dlerror: libnvinfer_plugin.so.7: cannot open shared object file: No such file or directory; LD_LIBRARY_PATH: /n/helmod/apps/centos7/Core/glib/2.56.1-fasrc01/lib64:/n/helmod/apps/centos7/Core/gcc/12.1.0-fasrc01/lib64:/n/helmod/apps/centos7/Core/gcc/12.1.0-fasrc01/lib:/n/helmod/apps/centos7/Core/cudnn/8.5.0.96_cuda11-fasrc01/lib:/n/helmod/apps/centos7/Core/cuda/11.7.1-fasrc01/cuda/extras/CUPTI/lib64:/n/helmod/apps/centos7/Core/cuda/11.7.1-fasrc01/cuda/lib64:/n/helmod/apps/centos7/Core/cuda/11.7.1-fasrc01/cuda/lib:/n/helmod/apps/centos7/Core/mpc/1.2.1-fasrc01/lib64:/n/helmod/apps/centos7/Core/mpfr/4.1.0-fasrc01/lib64:/n/helmod/apps/centos7/Core/gmp/6.2.1-fasrc01/lib64\n",
      "2023-04-06 09:16:49.101475: W tensorflow/compiler/tf2tensorrt/utils/py_utils.cc:38] TF-TRT Warning: Cannot dlopen some TensorRT libraries. If you would like to use Nvidia GPU with TensorRT, please make sure the missing libraries mentioned above are installed properly.\n"
     ]
    }
   ],
   "source": [
    "import sys\n",
    "from jax import random\n",
    "import matplotlib.pyplot as plt\n",
    "sys.path.append(\"../\")\n",
    "\n",
    "from models.equivariant_gnn import NEQUIP \n",
    "from models.egnn import EGNN\n",
    "import e3nn_jax as e3nn\n",
    "from models.graph_utils import nearest_neighbors, rotate_representation"
   ]
  },
  {
   "cell_type": "code",
   "execution_count": 2,
   "metadata": {},
   "outputs": [],
   "source": [
    "import jax\n",
    "import jax.numpy as np\n",
    "import numpy as onp\n",
    "import jax.numpy as jnp\n",
    "import jraph\n",
    "import flax.linen as nn\n",
    "\n",
    "from functools import partial\n",
    "import e3nn_jax as e3nn"
   ]
  },
  {
   "cell_type": "code",
   "execution_count": 3,
   "metadata": {},
   "outputs": [],
   "source": [
    "n_nodes = 5000"
   ]
  },
  {
   "cell_type": "code",
   "execution_count": 4,
   "metadata": {},
   "outputs": [],
   "source": [
    "x = np.load(\"/n/holyscratch01/iaifi_lab/ccuesta/data_for_sid/halos.npy\")[:, :n_nodes,:6]"
   ]
  },
  {
   "cell_type": "code",
   "execution_count": 5,
   "metadata": {},
   "outputs": [],
   "source": [
    "#x = x.at[...,-1].set(np.log10(x[...,-1]))"
   ]
  },
  {
   "cell_type": "code",
   "execution_count": 6,
   "metadata": {},
   "outputs": [],
   "source": [
    "x = (x - np.min(x, axis=0))/(np.max(x,axis=0) - np.min(x, axis=0))"
   ]
  },
  {
   "cell_type": "code",
   "execution_count": 7,
   "metadata": {},
   "outputs": [],
   "source": [
    "sources, targets = jax.vmap(nearest_neighbors, in_axes=(0, None))(x[:4], 20)"
   ]
  },
  {
   "cell_type": "code",
   "execution_count": 8,
   "metadata": {},
   "outputs": [],
   "source": [
    "class GraphWrapper(nn.Module):\n",
    "    @nn.compact\n",
    "    def __call__(self, x):\n",
    "        model = jax.vmap(NEQUIP(\n",
    "          target_irreps=e3nn.Irreps('2x1o'),\n",
    "          input_node_irreps=e3nn.Irreps('1o'),\n",
    "        )\n",
    "        )\n",
    "        return model(x)\n",
    "    \n",
    "model = GraphWrapper()\n",
    "rng = jax.random.PRNGKey(42)"
   ]
  },
  {
   "cell_type": "code",
   "execution_count": 9,
   "metadata": {},
   "outputs": [
    {
     "ename": "ValueError",
     "evalue": "Unable to convert string \"2xo\" into an Irreps",
     "output_type": "error",
     "traceback": [
      "\u001b[0;31m---------------------------------------------------------------------------\u001b[0m",
      "\u001b[0;31mValueError\u001b[0m                                Traceback (most recent call last)",
      "File \u001b[0;32m~/.conda/envs/diffjax/lib/python3.10/site-packages/e3nn_jax/_src/irreps.py:71\u001b[0m, in \u001b[0;36mIrrep.__init__\u001b[0;34m(self, l, p)\u001b[0m\n\u001b[1;32m     70\u001b[0m name \u001b[39m=\u001b[39m l\u001b[39m.\u001b[39mstrip()\n\u001b[0;32m---> 71\u001b[0m l \u001b[39m=\u001b[39m \u001b[39mint\u001b[39;49m(name[:\u001b[39m-\u001b[39;49m\u001b[39m1\u001b[39;49m])\n\u001b[1;32m     72\u001b[0m \u001b[39massert\u001b[39;00m l \u001b[39m>\u001b[39m\u001b[39m=\u001b[39m \u001b[39m0\u001b[39m\n",
      "\u001b[0;31mValueError\u001b[0m: invalid literal for int() with base 10: ''",
      "\nDuring handling of the above exception, another exception occurred:\n",
      "\u001b[0;31mValueError\u001b[0m                                Traceback (most recent call last)",
      "File \u001b[0;32m~/.conda/envs/diffjax/lib/python3.10/site-packages/e3nn_jax/_src/irreps.py:371\u001b[0m, in \u001b[0;36mIrreps.__new__\u001b[0;34m(cls, irreps)\u001b[0m\n\u001b[1;32m    370\u001b[0m     mul \u001b[39m=\u001b[39m \u001b[39mint\u001b[39m(mul)\n\u001b[0;32m--> 371\u001b[0m     ir \u001b[39m=\u001b[39m Irrep(ir)\n\u001b[1;32m    372\u001b[0m \u001b[39melse\u001b[39;00m:\n",
      "File \u001b[0;32m~/.conda/envs/diffjax/lib/python3.10/site-packages/e3nn_jax/_src/irreps.py:79\u001b[0m, in \u001b[0;36mIrrep.__init__\u001b[0;34m(self, l, p)\u001b[0m\n\u001b[1;32m     78\u001b[0m     \u001b[39mexcept\u001b[39;00m \u001b[39mException\u001b[39;00m:\n\u001b[0;32m---> 79\u001b[0m         \u001b[39mraise\u001b[39;00m \u001b[39mValueError\u001b[39;00m(\u001b[39mf\u001b[39m\u001b[39m'\u001b[39m\u001b[39munable to convert string \u001b[39m\u001b[39m\"\u001b[39m\u001b[39m{\u001b[39;00mname\u001b[39m}\u001b[39;00m\u001b[39m\"\u001b[39m\u001b[39m into an Irrep\u001b[39m\u001b[39m'\u001b[39m)\n\u001b[1;32m     80\u001b[0m \u001b[39melif\u001b[39;00m \u001b[39misinstance\u001b[39m(l, \u001b[39mtuple\u001b[39m):\n",
      "\u001b[0;31mValueError\u001b[0m: unable to convert string \"o\" into an Irrep",
      "\nDuring handling of the above exception, another exception occurred:\n",
      "\u001b[0;31mValueError\u001b[0m                                Traceback (most recent call last)",
      "Cell \u001b[0;32mIn[9], line 10\u001b[0m\n\u001b[1;32m      1\u001b[0m graph \u001b[38;5;241m=\u001b[39m jraph\u001b[38;5;241m.\u001b[39mGraphsTuple(\n\u001b[1;32m      2\u001b[0m           n_node\u001b[38;5;241m=\u001b[39mnp\u001b[38;5;241m.\u001b[39marray(\u001b[38;5;241m4\u001b[39m \u001b[38;5;241m*\u001b[39m [[n_nodes]]), \n\u001b[1;32m      3\u001b[0m           n_edge\u001b[38;5;241m=\u001b[39mnp\u001b[38;5;241m.\u001b[39marray(\u001b[38;5;241m4\u001b[39m \u001b[38;5;241m*\u001b[39m [[\u001b[38;5;241m20\u001b[39m]]),\n\u001b[0;32m   (...)\u001b[0m\n\u001b[1;32m      7\u001b[0m           senders\u001b[38;5;241m=\u001b[39msources,\n\u001b[1;32m      8\u001b[0m           receivers\u001b[38;5;241m=\u001b[39mtargets)\n\u001b[0;32m---> 10\u001b[0m graph_out, _ \u001b[38;5;241m=\u001b[39m \u001b[43mmodel\u001b[49m\u001b[38;5;241;43m.\u001b[39;49m\u001b[43minit_with_output\u001b[49m\u001b[43m(\u001b[49m\u001b[43mrng\u001b[49m\u001b[43m,\u001b[49m\u001b[43m \u001b[49m\u001b[43mgraph\u001b[49m\u001b[43m)\u001b[49m\n\u001b[1;32m     11\u001b[0m x_out \u001b[38;5;241m=\u001b[39m graph_out\u001b[38;5;241m.\u001b[39mnodes\n\u001b[1;32m     13\u001b[0m \u001b[38;5;66;03m#x_out = graph_out.nodes\u001b[39;00m\n",
      "    \u001b[0;31m[... skipping hidden 7 frame]\u001b[0m\n",
      "Cell \u001b[0;32mIn[8], line 5\u001b[0m, in \u001b[0;36mGraphWrapper.__call__\u001b[0;34m(self, x)\u001b[0m\n\u001b[1;32m      2\u001b[0m \u001b[38;5;129m@nn\u001b[39m\u001b[38;5;241m.\u001b[39mcompact\n\u001b[1;32m      3\u001b[0m \u001b[38;5;28;01mdef\u001b[39;00m \u001b[38;5;21m__call__\u001b[39m(\u001b[38;5;28mself\u001b[39m, x):\n\u001b[1;32m      4\u001b[0m     model \u001b[38;5;241m=\u001b[39m jax\u001b[38;5;241m.\u001b[39mvmap(NEQUIP(\n\u001b[0;32m----> 5\u001b[0m       target_irreps\u001b[38;5;241m=\u001b[39m\u001b[43me3nn\u001b[49m\u001b[38;5;241;43m.\u001b[39;49m\u001b[43mIrreps\u001b[49m\u001b[43m(\u001b[49m\u001b[38;5;124;43m'\u001b[39;49m\u001b[38;5;124;43m2xo\u001b[39;49m\u001b[38;5;124;43m'\u001b[39;49m\u001b[43m)\u001b[49m,\n\u001b[1;32m      6\u001b[0m       input_node_irreps\u001b[38;5;241m=\u001b[39me3nn\u001b[38;5;241m.\u001b[39mIrreps(\u001b[38;5;124m'\u001b[39m\u001b[38;5;124m1o\u001b[39m\u001b[38;5;124m'\u001b[39m),\n\u001b[1;32m      7\u001b[0m     )\n\u001b[1;32m      8\u001b[0m     )\n\u001b[1;32m      9\u001b[0m     \u001b[38;5;28;01mreturn\u001b[39;00m model(x)\n",
      "File \u001b[0;32m~/.conda/envs/diffjax/lib/python3.10/site-packages/e3nn_jax/_src/irreps.py:379\u001b[0m, in \u001b[0;36mIrreps.__new__\u001b[0;34m(cls, irreps)\u001b[0m\n\u001b[1;32m    377\u001b[0m                 out\u001b[39m.\u001b[39mappend(MulIrrep(mul, ir))\n\u001b[1;32m    378\u001b[0m     \u001b[39mexcept\u001b[39;00m \u001b[39mException\u001b[39;00m:\n\u001b[0;32m--> 379\u001b[0m         \u001b[39mraise\u001b[39;00m \u001b[39mValueError\u001b[39;00m(\u001b[39mf\u001b[39m\u001b[39m'\u001b[39m\u001b[39mUnable to convert string \u001b[39m\u001b[39m\"\u001b[39m\u001b[39m{\u001b[39;00mirreps\u001b[39m}\u001b[39;00m\u001b[39m\"\u001b[39m\u001b[39m into an Irreps\u001b[39m\u001b[39m'\u001b[39m)\n\u001b[1;32m    380\u001b[0m \u001b[39melse\u001b[39;00m:\n\u001b[1;32m    381\u001b[0m     \u001b[39mfor\u001b[39;00m mul_ir \u001b[39min\u001b[39;00m irreps:\n",
      "\u001b[0;31mValueError\u001b[0m: Unable to convert string \"2xo\" into an Irreps"
     ]
    }
   ],
   "source": [
    "graph = jraph.GraphsTuple(\n",
    "          n_node=np.array(4 * [[n_nodes]]), \n",
    "          n_edge=np.array(4 * [[20]]),\n",
    "          nodes=x[:4, :, :], \n",
    "          edges=None,\n",
    "          globals=np.ones((4, 7)),\n",
    "          senders=sources,\n",
    "          receivers=targets)\n",
    "\n",
    "graph_out, _ = model.init_with_output(rng, graph)\n",
    "x_out = graph_out.nodes\n",
    "\n",
    "#x_out = graph_out.nodes\n",
    "\n",
    "angle_deg = 45.\n",
    "axis = jnp.array([0, 1 / np.sqrt(2), 1 / np.sqrt(2)])\n",
    "\n",
    "x_out_rot = jax.vmap(rotate_representation, in_axes=(0,None,None))(x_out, angle_deg, axis)\n",
    "\n",
    "graph = jraph.GraphsTuple(\n",
    "          n_node=np.array(4 * [[n_nodes]]), \n",
    "          n_edge=np.array(4 * [[20]]),\n",
    "          nodes=jax.vmap(rotate_representation, in_axes=(0,None,None))(x[:4, :, :], angle_deg, axis),\n",
    "          edges=None,\n",
    "          globals=np.ones((4, 7)),\n",
    "          senders=sources,\n",
    "          receivers=targets)\n",
    "\n",
    "graph_out, _ = model.init_with_output(rng, graph)\n",
    "x_out = graph_out.nodes\n"
   ]
  },
  {
   "cell_type": "code",
   "execution_count": null,
   "metadata": {},
   "outputs": [
    {
     "data": {
      "text/plain": [
       "Array([[[ 0.27897522,  1.5665269 ,  1.0321441 , ..., -0.76227325,\n",
       "         -0.5838428 ,  0.        ],\n",
       "        [ 0.9546184 ,  0.8013499 ,  0.88975596, ...,  0.26463014,\n",
       "         -0.5422987 ,  0.        ],\n",
       "        [-0.46238297,  1.2226007 ,  1.2003314 , ..., -0.00486011,\n",
       "          0.7661044 ,  0.        ],\n",
       "        ...,\n",
       "        [ 0.66829485,  0.49967432,  0.66091096, ...,  0.        ,\n",
       "          0.        ,  0.        ],\n",
       "        [ 0.11928736,  0.5757254 ,  0.858421  , ...,  0.        ,\n",
       "          0.        ,  0.        ],\n",
       "        [ 0.71536434, -0.41856158, -0.35173106, ..., -0.00994764,\n",
       "          0.82833576,  0.        ]],\n",
       "\n",
       "       [[ 0.906414  ,  0.3395133 ,  1.5557454 , ..., -0.29979503,\n",
       "         -0.83357775,  0.        ],\n",
       "        [-0.55245054,  0.6712479 , -0.4050915 , ...,  0.34202754,\n",
       "         -0.7934763 ,  0.        ],\n",
       "        [-0.2740658 ,  0.15637708, -0.26900858, ..., -0.3533074 ,\n",
       "         -0.9207567 ,  0.        ],\n",
       "        ...,\n",
       "        [ 0.34849352,  0.29535022, -0.25793725, ...,  0.09534483,\n",
       "         -0.9864804 ,  0.        ],\n",
       "        [-0.46458137,  0.26649013,  0.1441406 , ...,  0.40348077,\n",
       "          0.8491433 ,  0.        ],\n",
       "        [ 0.93903875,  0.5707428 ,  0.72621846, ..., -0.18302059,\n",
       "         -0.9677766 ,  0.        ]],\n",
       "\n",
       "       [[-0.06784737, -0.7324205 ,  0.1614312 , ...,  0.44573542,\n",
       "          0.8676556 ,  0.        ],\n",
       "        [-0.36949545, -0.33463475,  0.50336915, ...,  0.40184   ,\n",
       "          0.77466506,  0.        ],\n",
       "        [ 1.4631219 ,  0.12349686, -0.12163955, ..., -0.3042617 ,\n",
       "         -0.8289753 ,  0.        ],\n",
       "        ...,\n",
       "        [-0.19476414,  0.8020769 , -0.30776352, ..., -0.7117325 ,\n",
       "         -0.4312593 ,  0.        ],\n",
       "        [ 0.20722514, -0.22432765, -0.04160291, ..., -0.48687404,\n",
       "         -0.8731899 ,  0.        ],\n",
       "        [-0.08457778, -0.13488355, -0.566548  , ..., -0.35398656,\n",
       "         -0.87689906,  0.        ]],\n",
       "\n",
       "       [[ 1.5368855 ,  0.91210866,  0.15794557, ..., -0.39943266,\n",
       "          0.9116068 ,  0.        ],\n",
       "        [-0.81343514, -0.4637046 ,  0.62308586, ...,  0.458905  ,\n",
       "          0.87930524,  0.        ],\n",
       "        [-0.583345  ,  0.73468155,  1.6451125 , ...,  0.74531025,\n",
       "          0.6490481 ,  0.        ],\n",
       "        ...,\n",
       "        [-0.03989391, -0.35562795, -0.22518879, ..., -0.2844598 ,\n",
       "         -0.5361794 ,  0.        ],\n",
       "        [ 0.8473588 , -0.15459561,  0.03085738, ..., -0.18584943,\n",
       "         -0.8785929 ,  0.        ],\n",
       "        [ 0.4789216 ,  0.26054716,  1.049634  , ...,  0.        ,\n",
       "          0.        ,  0.        ]]], dtype=float32)"
      ]
     },
     "execution_count": 11,
     "metadata": {},
     "output_type": "execute_result"
    }
   ],
   "source": [
    "x_out"
   ]
  },
  {
   "cell_type": "code",
   "execution_count": null,
   "metadata": {},
   "outputs": [
    {
     "data": {
      "text/plain": [
       "(array([   0.,    0.,    0.,    0.,    0., 5000.,    0.,    0.,    0.,\n",
       "           0.]),\n",
       " array([-0.5, -0.4, -0.3, -0.2, -0.1,  0. ,  0.1,  0.2,  0.3,  0.4,  0.5],\n",
       "       dtype=float32),\n",
       " <BarContainer object of 10 artists>)"
      ]
     },
     "execution_count": 19,
     "metadata": {},
     "output_type": "execute_result"
    },
    {
     "data": {
      "image/png": "[encoded data removed]",
      "text/plain": [
       "<Figure size 640x480 with 1 Axes>"
      ]
     },
     "metadata": {},
     "output_type": "display_data"
    }
   ],
   "source": [
    "plt.hist(onp.array(x_out)[0,:,5])"
   ]
  },
  {
   "cell_type": "code",
   "execution_count": null,
   "metadata": {},
   "outputs": [
    {
     "name": "stdout",
     "output_type": "stream",
     "text": [
      "nan nan [[[1.0000026  0.99999976 1.         ... 1.0000001  1.0000004         nan]\n",
      "  [1.0000008  0.9999968  1.0000012  ... 1.0000032  0.99999803        nan]\n",
      "  [0.99999595 1.0000004  1.0000004  ... 1.0000482  1.0000001         nan]\n",
      "  ...\n",
      "  [1.         1.         1.         ...        nan        nan        nan]\n",
      "  [1.         1.         1.         ...        nan        nan        nan]\n",
      "  [0.9999998  1.0000023  0.99999994 ... 0.99998933 0.99999976        nan]]\n",
      "\n",
      " [[1.0000012  1.0000014  0.99999976 ... 1.0000002  1.0000005         nan]\n",
      "  [0.99999946 0.99999964 1.0000012  ... 0.9999989  0.99999994        nan]\n",
      "  [0.99999076 0.9999963  1.0000033  ... 1.0000061  0.9999992         nan]\n",
      "  ...\n",
      "  [1.0000005  1.0000011  1.0000006  ... 0.99999344 1.0000001         nan]\n",
      "  [1.0000013  1.0000052  1.0000004  ... 0.9999984  1.000001          nan]\n",
      "  [1.0000001  0.99999934 1.0000015  ... 0.99999803 0.9999999         nan]]\n",
      "\n",
      " [[1.0000178  1.0000005  1.000004   ... 0.9999988  1.0000004         nan]\n",
      "  [1.         0.99999857 0.9999993  ... 0.99999946 1.0000001         nan]\n",
      "  [1.0000006  1.0000082  0.99999785 ... 1.0000007  0.9999996         nan]\n",
      "  ...\n",
      "  [0.999996   1.0000002  1.0000024  ... 0.9999989  1.0000015         nan]\n",
      "  [1.000002   1.0000042  0.99999934 ... 0.999999   1.0000004         nan]\n",
      "  [1.0000012  0.99999964 0.999998   ... 1.0000001  1.0000001         nan]]\n",
      "\n",
      " [[0.9999997  1.0000008  0.99999726 ... 1.0000036  0.9999994         nan]\n",
      "  [0.9999987  0.9999998  0.999997   ... 1.0000006  0.9999996         nan]\n",
      "  [0.9999964  1.0000023  0.9999997  ... 0.99999887 1.0000012         nan]\n",
      "  ...\n",
      "  [1.000003   0.9999981  1.0000014  ... 1.0000054  0.99999976        nan]\n",
      "  [0.9999997  1.0000002  0.99999005 ... 1.0000021  0.9999998         nan]\n",
      "  [1.         1.         1.         ...        nan        nan        nan]]]\n"
     ]
    }
   ],
   "source": [
    "# Equivariance ratio\n",
    "eq_ratio = x_out / x_out_rot\n",
    "print(eq_ratio.max(), eq_ratio.min(), eq_ratio)"
   ]
  },
  {
   "cell_type": "code",
   "execution_count": null,
   "metadata": {},
   "outputs": [],
   "source": []
  },
  {
   "cell_type": "code",
   "execution_count": null,
   "metadata": {},
   "outputs": [],
   "source": []
  },
  {
   "cell_type": "code",
   "execution_count": null,
   "metadata": {},
   "outputs": [],
   "source": []
  },
  {
   "cell_type": "code",
   "execution_count": 3,
   "metadata": {},
   "outputs": [
    {
     "name": "stderr",
     "output_type": "stream",
     "text": [
      "No GPU/TPU found, falling back to CPU. (Set TF_CPP_MIN_LOG_LEVEL=0 and rerun for more info.)\n"
     ]
    }
   ],
   "source": [
    "key = random.PRNGKey(42)\n",
    "pos = random.uniform(key, shape=(5000,3))\n",
    "vel = random.uniform(key, shape=(5000,3))\n",
    "mass = random.uniform(key, shape=(5000,1))"
   ]
  },
  {
   "cell_type": "code",
   "execution_count": 4,
   "metadata": {},
   "outputs": [
    {
     "data": {
      "text/plain": [
       "(5000, 3)"
      ]
     },
     "execution_count": 4,
     "metadata": {},
     "output_type": "execute_result"
    }
   ],
   "source": [
    "pos.shape"
   ]
  },
  {
   "cell_type": "code",
   "execution_count": 5,
   "metadata": {},
   "outputs": [],
   "source": [
    "sources, targets = nearest_neighbors(pos, 20)"
   ]
  },
  {
   "cell_type": "code",
   "execution_count": 6,
   "metadata": {},
   "outputs": [],
   "source": [
    "pos = e3nn.IrrepsArray(\"1o\", pos)\n",
    "feat = e3nn.IrrepsArray(\n",
    "    f\"1o + 0e\", \n",
    "    np.concatenate([vel, mass], -1)\n",
    ")\n"
   ]
  },
  {
   "cell_type": "code",
   "execution_count": 7,
   "metadata": {},
   "outputs": [
    {
     "name": "stdout",
     "output_type": "stream",
     "text": [
      "(5000, 7)\n",
      "1x0e+2x1o\n",
      "[[ 4.56897148e+04  2.80651360e+07  4.19894080e+07 ...  0.00000000e+00\n",
      "   0.00000000e+00  0.00000000e+00]\n",
      " [ 8.08763867e+03 -7.00658400e+07 -3.39431584e+08 ... -1.75893104e+08\n",
      "  -3.69769408e+08  4.18078075e+06]\n",
      " [ 6.79649609e+03  0.00000000e+00  0.00000000e+00 ...  0.00000000e+00\n",
      "   0.00000000e+00  0.00000000e+00]\n",
      " ...\n",
      " [ 2.58483281e+04  8.81405200e+06  3.07716925e+06 ...  0.00000000e+00\n",
      "   0.00000000e+00  0.00000000e+00]\n",
      " [ 1.12142705e+04 -2.18803828e+05 -1.45930475e+06 ...  0.00000000e+00\n",
      "   0.00000000e+00  0.00000000e+00]\n",
      " [ 2.96228809e+04 -1.60622140e+07 -1.32592880e+07 ...  0.00000000e+00\n",
      "   0.00000000e+00  0.00000000e+00]]\n"
     ]
    },
    {
     "ename": "IndexError",
     "evalue": "Error in IrrepsArray.__getitem__, Can't slice with 1x1o because it doesn't appear exactly once in 1x0e+2x1o.",
     "output_type": "error",
     "traceback": [
      "\u001b[0;31m---------------------------------------------------------------------------\u001b[0m",
      "\u001b[0;31mIndexError\u001b[0m                                Traceback (most recent call last)",
      "Cell \u001b[0;32mIn[7], line 3\u001b[0m\n\u001b[1;32m      1\u001b[0m model \u001b[38;5;241m=\u001b[39m NEQUIP()\n\u001b[1;32m      2\u001b[0m rng \u001b[38;5;241m=\u001b[39m jax\u001b[38;5;241m.\u001b[39mrandom\u001b[38;5;241m.\u001b[39mPRNGKey(\u001b[38;5;241m42\u001b[39m)\n\u001b[0;32m----> 3\u001b[0m out, _ \u001b[38;5;241m=\u001b[39m \u001b[43mmodel\u001b[49m\u001b[38;5;241;43m.\u001b[39;49m\u001b[43minit_with_output\u001b[49m\u001b[43m(\u001b[49m\u001b[43mrng\u001b[49m\u001b[43m,\u001b[49m\u001b[43m \u001b[49m\u001b[43mpos\u001b[49m\u001b[43m,\u001b[49m\u001b[43m \u001b[49m\u001b[43mfeat\u001b[49m\u001b[43m,\u001b[49m\u001b[43m \u001b[49m\u001b[43mtargets\u001b[49m\u001b[43m,\u001b[49m\u001b[43m \u001b[49m\u001b[43msources\u001b[49m\u001b[43m)\u001b[49m\n",
      "    \u001b[0;31m[... skipping hidden 7 frame]\u001b[0m\n",
      "File \u001b[0;32m~/set-diffuser/models/equivariant_gnn.py:44\u001b[0m, in \u001b[0;36mNEQUIP.__call__\u001b[0;34m(self, positions, node_features, senders, receivers)\u001b[0m\n\u001b[1;32m     42\u001b[0m \u001b[39mprint\u001b[39m(node_features\u001b[39m.\u001b[39mshape)\n\u001b[1;32m     43\u001b[0m \u001b[39mprint\u001b[39m(node_features)\n\u001b[0;32m---> 44\u001b[0m vectors, masses \u001b[39m=\u001b[39m node_features[:, \u001b[39m\"\u001b[39;49m\u001b[39m1o\u001b[39;49m\u001b[39m\"\u001b[39;49m], node_features[:, \u001b[39m\"\u001b[39m\u001b[39m0e\u001b[39m\u001b[39m\"\u001b[39m]\n\u001b[1;32m     45\u001b[0m displacement, vel \u001b[39m=\u001b[39m vectors\u001b[39m.\u001b[39mslice_by_mul[:\u001b[39m1\u001b[39m], vectors\u001b[39m.\u001b[39mslice_by_mul[\u001b[39m1\u001b[39m:]\n\u001b[1;32m     46\u001b[0m positions \u001b[39m=\u001b[39m positions \u001b[39m+\u001b[39m displacement \n",
      "File \u001b[0;32m~/.conda/envs/diffjax/lib/python3.10/site-packages/e3nn_jax/_src/irreps_array.py:422\u001b[0m, in \u001b[0;36mIrrepsArray.__getitem__\u001b[0;34m(self, index)\u001b[0m\n\u001b[1;32m    420\u001b[0m ii \u001b[39m=\u001b[39m [i \u001b[39mfor\u001b[39;00m i \u001b[39min\u001b[39;00m \u001b[39mrange\u001b[39m(\u001b[39mlen\u001b[39m(\u001b[39mself\u001b[39m\u001b[39m.\u001b[39mirreps)) \u001b[39mif\u001b[39;00m \u001b[39mself\u001b[39m\u001b[39m.\u001b[39mirreps[i : i \u001b[39m+\u001b[39m \u001b[39mlen\u001b[39m(irreps)] \u001b[39m==\u001b[39m irreps]\n\u001b[1;32m    421\u001b[0m \u001b[39mif\u001b[39;00m \u001b[39mlen\u001b[39m(ii) \u001b[39m!=\u001b[39m \u001b[39m1\u001b[39m:\n\u001b[0;32m--> 422\u001b[0m     \u001b[39mraise\u001b[39;00m \u001b[39mIndexError\u001b[39;00m(\n\u001b[1;32m    423\u001b[0m         \u001b[39mf\u001b[39m\u001b[39m\"\u001b[39m\u001b[39mError in IrrepsArray.__getitem__, Can\u001b[39m\u001b[39m'\u001b[39m\u001b[39mt slice with \u001b[39m\u001b[39m{\u001b[39;00mirreps\u001b[39m}\u001b[39;00m\u001b[39m \u001b[39m\u001b[39m\"\u001b[39m\n\u001b[1;32m    424\u001b[0m         \u001b[39mf\u001b[39m\u001b[39m\"\u001b[39m\u001b[39mbecause it doesn\u001b[39m\u001b[39m'\u001b[39m\u001b[39mt appear exactly once in \u001b[39m\u001b[39m{\u001b[39;00m\u001b[39mself\u001b[39m\u001b[39m.\u001b[39mirreps\u001b[39m}\u001b[39;00m\u001b[39m.\u001b[39m\u001b[39m\"\u001b[39m\n\u001b[1;32m    425\u001b[0m     )\n\u001b[1;32m    426\u001b[0m i \u001b[39m=\u001b[39m ii[\u001b[39m0\u001b[39m]\n\u001b[1;32m    428\u001b[0m \u001b[39mreturn\u001b[39;00m IrrepsArray(\n\u001b[1;32m    429\u001b[0m     irreps,\n\u001b[1;32m    430\u001b[0m     \u001b[39mself\u001b[39m\u001b[39m.\u001b[39marray[\u001b[39m.\u001b[39m\u001b[39m.\u001b[39m\u001b[39m.\u001b[39m, \u001b[39mself\u001b[39m\u001b[39m.\u001b[39mirreps[:i]\u001b[39m.\u001b[39mdim : \u001b[39mself\u001b[39m\u001b[39m.\u001b[39mirreps[: i \u001b[39m+\u001b[39m \u001b[39mlen\u001b[39m(irreps)]\u001b[39m.\u001b[39mdim],\n\u001b[1;32m    431\u001b[0m     \u001b[39mself\u001b[39m\u001b[39m.\u001b[39mlist[i : i \u001b[39m+\u001b[39m \u001b[39mlen\u001b[39m(irreps)],\n\u001b[1;32m    432\u001b[0m )[index[:\u001b[39m-\u001b[39m\u001b[39m1\u001b[39m] \u001b[39m+\u001b[39m (\u001b[39mslice\u001b[39m(\u001b[39mNone\u001b[39;00m),)]\n",
      "\u001b[0;31mIndexError\u001b[0m: Error in IrrepsArray.__getitem__, Can't slice with 1x1o because it doesn't appear exactly once in 1x0e+2x1o."
     ]
    }
   ],
   "source": [
    "model = NEQUIP()\n",
    "rng = jax.random.PRNGKey(42)\n",
    "out, _ = model.init_with_output(rng, pos, feat, targets, sources)\n"
   ]
  },
  {
   "cell_type": "code",
   "execution_count": null,
   "metadata": {},
   "outputs": [
    {
     "data": {
      "text/plain": [
       "(5000, 7)"
      ]
     },
     "execution_count": 8,
     "metadata": {},
     "output_type": "execute_result"
    }
   ],
   "source": [
    "out.shape"
   ]
  },
  {
   "cell_type": "code",
   "execution_count": 9,
   "metadata": {},
   "outputs": [
    {
     "data": {
      "text/plain": [
       "1x0e+2x1o\n",
       "[[ 4.56897148e+04  2.80651360e+07  4.19894080e+07 ...  0.00000000e+00\n",
       "   0.00000000e+00  0.00000000e+00]\n",
       " [ 8.08763867e+03 -7.00658400e+07 -3.39431584e+08 ... -1.75893104e+08\n",
       "  -3.69769408e+08  4.18078075e+06]\n",
       " [ 6.79649609e+03  0.00000000e+00  0.00000000e+00 ...  0.00000000e+00\n",
       "   0.00000000e+00  0.00000000e+00]\n",
       " ...\n",
       " [ 2.58483281e+04  8.81405200e+06  3.07716925e+06 ...  0.00000000e+00\n",
       "   0.00000000e+00  0.00000000e+00]\n",
       " [ 1.12142705e+04 -2.18803828e+05 -1.45930475e+06 ...  0.00000000e+00\n",
       "   0.00000000e+00  0.00000000e+00]\n",
       " [ 2.96228809e+04 -1.60622140e+07 -1.32592880e+07 ...  0.00000000e+00\n",
       "   0.00000000e+00  0.00000000e+00]]"
      ]
     },
     "execution_count": 9,
     "metadata": {},
     "output_type": "execute_result"
    }
   ],
   "source": [
    "out"
   ]
  },
  {
   "cell_type": "code",
   "execution_count": null,
   "metadata": {},
   "outputs": [],
   "source": []
  }
 ],
 "metadata": {
  "kernelspec": {
   "display_name": "Python 3.10.9 ('diffjax')",
   "language": "python",
   "name": "python3"
  },
  "language_info": {
   "codemirror_mode": {
    "name": "ipython",
    "version": 3
   },
   "file_extension": ".py",
   "mimetype": "text/x-python",
   "name": "python",
   "nbconvert_exporter": "python",
   "pygments_lexer": "ipython3",
   "version": "3.10.9"
  },
  "orig_nbformat": 4,
  "vscode": {
   "interpreter": {
    "hash": "4de8ebced33472280eb2d39fa7eb85126aa4b5bd288871aff7028464b844f159"
   }
  }
 },
 "nbformat": 4,
 "nbformat_minor": 2
}
