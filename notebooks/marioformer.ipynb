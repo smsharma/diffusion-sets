{
 "cells": [
  {
   "cell_type": "code",
   "execution_count": 10,
   "id": "3aad917e-08d0-4539-9d74-0e7c8ae20d9e",
   "metadata": {},
   "outputs": [
    {
     "name": "stdout",
     "output_type": "stream",
     "text": [
      "The autoreload extension is already loaded. To reload it, use:\n",
      "  %reload_ext autoreload\n"
     ]
    }
   ],
   "source": [
    "import jax\n",
    "import jax.numpy as np\n",
    "import jraph\n",
    "import flax.linen as nn\n",
    "import e3nn_jax as e3nn\n",
    "\n",
    "from functools import partial\n",
    "from typing import Callable, List, Tuple\n",
    "\n",
    "%load_ext autoreload\n",
    "%autoreload 2"
   ]
  },
  {
   "cell_type": "code",
   "execution_count": 11,
   "id": "204cce78-27b5-4b49-8b51-c46df8619cc8",
   "metadata": {},
   "outputs": [],
   "source": [
    "jnp = np"
   ]
  },
  {
   "cell_type": "code",
   "execution_count": 13,
   "id": "05e85998-ad56-4d1d-b338-02a9a2fef0e4",
   "metadata": {},
   "outputs": [],
   "source": [
    "def _index_max(i: jnp.ndarray, x: jnp.ndarray, out_dim: int) -> jnp.ndarray:\n",
    "    return jnp.zeros((out_dim,) + x.shape[1:], x.dtype).at[i].max(x)\n",
    "\n",
    "\n",
    "class Transformer(nn.Module):\n",
    "    irreps_node_output: e3nn.Irreps\n",
    "    list_neurons: Tuple[int, ...]\n",
    "    act: Callable[[jnp.ndarray], jnp.ndarray]\n",
    "    num_heads: int = 1\n",
    "\n",
    "    @nn.compact\n",
    "    def __call__(\n",
    "        self,\n",
    "        edge_src: jnp.ndarray,  # [E] dtype=int32\n",
    "        edge_dst: jnp.ndarray,  # [E] dtype=int32\n",
    "        edge_weight_cutoff: jnp.ndarray,  # [E] dtype=float\n",
    "        edge_attr: e3nn.IrrepsArray,  # [E, D] dtype=float\n",
    "        node_feat: e3nn.IrrepsArray,  # [N, D] dtype=float\n",
    "    ) -> e3nn.IrrepsArray:\n",
    "        r\"\"\"Equivariant Transformer.\n",
    "\n",
    "        Args:\n",
    "            edge_src (array of int32): source index of the edges\n",
    "            edge_dst (array of int32): destination index of the edges\n",
    "            edge_weight_cutoff (array of float): cutoff weight for the edges (typically given by ``soft_envelope``)\n",
    "            edge_attr (e3nn.IrrepsArray): attributes of the edges (typically given by ``spherical_harmonics``)\n",
    "            node_f (e3nn.IrrepsArray): features of the nodes\n",
    "\n",
    "        Returns:\n",
    "            e3nn.IrrepsArray: output features of the nodes\n",
    "        \"\"\"\n",
    "\n",
    "        def f(x, y, filter_ir_out=None, name=None):\n",
    "            out1 = e3nn.concatenate([x, e3nn.tensor_product(x, y.filter(drop=\"0e\"))]).regroup().filter(keep=filter_ir_out)\n",
    "            out2 = e3nn.flax.MultiLayerPerceptron(\n",
    "                self.list_neurons + (out1.irreps.num_irreps,), self.act, output_activation=False, name=name\n",
    "            )(y.filter(keep=\"0e\"))\n",
    "            return out1 * out2\n",
    "\n",
    "        edge_key = f(node_feat[edge_src], edge_attr, node_feat.irreps, name=\"mlp_key\")\n",
    "        edge_logit = e3nn.flax.Linear(f\"{self.num_heads}x0e\", name=\"linear_logit\")(\n",
    "            e3nn.tensor_product(node_feat[edge_dst], edge_key, filter_ir_out=\"0e\")\n",
    "        ).array  # [E, H]\n",
    "        node_logit_max = _index_max(edge_dst, edge_logit, node_feat.shape[0])  # [N, H]\n",
    "        exp = edge_weight_cutoff[:, None] * jnp.exp(edge_logit - node_logit_max[edge_dst])  # [E, H]\n",
    "        z = e3nn.scatter_sum(exp, dst=edge_dst, output_size=node_feat.shape[0])  # [N, H]\n",
    "        z = jnp.where(z == 0.0, 1.0, z)\n",
    "        alpha = exp / z[edge_dst]  # [E, H]\n",
    "\n",
    "        edge_v = f(node_feat[edge_src], edge_attr, self.irreps_node_output, \"mlp_val\")  # [E, D]\n",
    "        edge_v = edge_v.mul_to_axis(self.num_heads)  # [E, H, D]\n",
    "        edge_v = edge_v * jnp.sqrt(jax.nn.relu(alpha))[:, :, None]  # [E, H, D]\n",
    "        edge_v = edge_v.axis_to_mul()  # [E, D]\n",
    "\n",
    "        node_out = e3nn.scatter_sum(edge_v, dst=edge_dst, output_size=node_feat.shape[0])  # [N, D]\n",
    "        return e3nn.flax.Linear(self.irreps_node_output, name=\"linear_out\")(node_out)  # [N, D]\n"
   ]
  },
  {
   "cell_type": "code",
   "execution_count": 17,
   "id": "ff6619f8-557f-4393-b53f-827b09d18ad7",
   "metadata": {},
   "outputs": [],
   "source": [
    "import sys\n",
    "sys.path.append(\"../\")\n",
    "\n",
    "from models.graph_utils import nearest_neighbors"
   ]
  },
  {
   "cell_type": "code",
   "execution_count": 114,
   "id": "a4c657df-f7ef-41d7-a70f-045915fc20b1",
   "metadata": {},
   "outputs": [],
   "source": [
    "class Module(nn.Module):\n",
    "    irreps_out: e3nn.Irreps\n",
    "\n",
    "    @nn.compact\n",
    "    def __call__(\n",
    "        self,\n",
    "        positions: e3nn.IrrepsArray,  # [N, 3] dtype=float\n",
    "        features: e3nn.IrrepsArray,  # [N, D] dtype=float\n",
    "        senders: np.array, \n",
    "        receivers: np.array,\n",
    "        cutoff: float,\n",
    "    ):\n",
    "        r\"\"\"Equivariant Transformer.\n",
    "\n",
    "        Args:\n",
    "            positions (e3nn.IrrepsArray): positions of the nodes\n",
    "            features (e3nn.IrrepsArray): features of the nodes\n",
    "            senders (np.array): features of the nodes\n",
    "            receivers (np.array): features of the nodes\n",
    "            cutoff (float): cutoff radius\n",
    "\n",
    "        Returns:\n",
    "            e3nn.IrrepsArray: output features of the nodes\n",
    "        \"\"\"\n",
    "\n",
    "        vectors = positions[senders] - positions[receivers]\n",
    "        dist = jnp.linalg.norm(vectors.array, axis=1) / cutoff\n",
    "\n",
    "        edge_attr = e3nn.concatenate([\n",
    "            e3nn.bessel(dist, 8),\n",
    "            e3nn.spherical_harmonics(list(range(1, 3 + 1)), vectors, True)\n",
    "        ])\n",
    "        edge_weight_cutoff = e3nn.soft_envelope(dist)\n",
    "\n",
    "        features = Transformer(\n",
    "            irreps_node_output=e3nn.Irreps(\"1o\") + self.irreps_out,\n",
    "            list_neurons=(64, 64),\n",
    "            act=jax.nn.gelu,\n",
    "            num_heads=1,\n",
    "        )(senders, receivers, edge_weight_cutoff, edge_attr, features)\n",
    "\n",
    "        displacements, features = features.slice_by_mul[:1], features.slice_by_mul[1:]\n",
    "        positions = positions + displacements\n",
    "        return positions, features"
   ]
  },
  {
   "cell_type": "code",
   "execution_count": 115,
   "id": "86b978ca-cf86-48a0-afc2-e2eef080a850",
   "metadata": {},
   "outputs": [],
   "source": [
    "data_dir = \"/n/holyscratch01/iaifi_lab/ccuesta/data_for_sid/\"\n",
    "\n",
    "# Load and normalize\n",
    "x = np.load(\"{}/halos.npy\".format(data_dir))\n",
    "x_mean = x.mean(axis=(0,1))\n",
    "x_std = x.std(axis=(0,1))\n",
    "x = (x - x_mean + 1e-7) / (x_std + 1e-7)"
   ]
  },
  {
   "cell_type": "code",
   "execution_count": 116,
   "id": "f097e193-1171-467f-b49f-716082ea7338",
   "metadata": {},
   "outputs": [],
   "source": [
    "positions = x[:, :, :3]\n",
    "features = x[:, :, 3:]"
   ]
  },
  {
   "cell_type": "code",
   "execution_count": 117,
   "id": "25b953a6-1923-4c3f-9149-eaa94b85bd79",
   "metadata": {},
   "outputs": [],
   "source": [
    "model = Module(irreps_out=\"0e + 1o\")  # masses, velocities"
   ]
  },
  {
   "cell_type": "code",
   "execution_count": 118,
   "id": "e0975e0f-4eaf-4a96-b673-ea38f65a38b6",
   "metadata": {},
   "outputs": [],
   "source": [
    "idx = 0\n",
    "\n",
    "pos = e3nn.IrrepsArray(\"1o\", positions[idx])\n",
    "feat = e3nn.IrrepsArray(\"0e + 1o\", features[idx])  # Concat other parameters (time, cosmology) here as scalars\n",
    "\n",
    "sources, targets = nearest_neighbors(positions[idx], 20)"
   ]
  },
  {
   "cell_type": "code",
   "execution_count": 119,
   "id": "e1dc4e4c-c863-4c76-8229-e57d29b0bd47",
   "metadata": {},
   "outputs": [],
   "source": [
    "rng = jax.random.PRNGKey(42)\n",
    "out, params = model.init_with_output(rng, pos, feat, sources, targets, 1.)"
   ]
  },
  {
   "cell_type": "code",
   "execution_count": 120,
   "id": "09077925-2228-43cb-a0e1-aa548c7d3905",
   "metadata": {},
   "outputs": [
    {
     "name": "stderr",
     "output_type": "stream",
     "text": [
      "/tmp/ipykernel_65233/236323635.py:1: FutureWarning: jax.tree_leaves is deprecated, and will be removed in a future release. Use jax.tree_util.tree_leaves instead.\n",
      "  sum(x.size for x in jax.tree_leaves(params))\n"
     ]
    },
    {
     "data": {
      "text/plain": [
       "9869"
      ]
     },
     "execution_count": 120,
     "metadata": {},
     "output_type": "execute_result"
    }
   ],
   "source": [
    "sum(x.size for x in jax.tree_leaves(params))"
   ]
  },
  {
   "cell_type": "code",
   "execution_count": null,
   "id": "bf573aa3-f1d9-4d7c-93dc-080a5846d5d2",
   "metadata": {},
   "outputs": [],
   "source": []
  }
 ],
 "metadata": {
  "kernelspec": {
   "display_name": "Python 3 (ipykernel)",
   "language": "python",
   "name": "python3"
  },
  "language_info": {
   "codemirror_mode": {
    "name": "ipython",
    "version": 3
   },
   "file_extension": ".py",
   "mimetype": "text/x-python",
   "name": "python",
   "nbconvert_exporter": "python",
   "pygments_lexer": "ipython3",
   "version": "3.9.12"
  }
 },
 "nbformat": 4,
 "nbformat_minor": 5
}
