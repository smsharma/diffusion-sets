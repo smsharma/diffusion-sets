{
 "cells": [
  {
   "cell_type": "code",
   "execution_count": 23,
   "id": "3aad917e-08d0-4539-9d74-0e7c8ae20d9e",
   "metadata": {},
   "outputs": [
    {
     "name": "stdout",
     "output_type": "stream",
     "text": [
      "The autoreload extension is already loaded. To reload it, use:\n",
      "  %reload_ext autoreload\n"
     ]
    }
   ],
   "source": [
    "import jax\n",
    "import jax.numpy as np\n",
    "import jraph\n",
    "import flax.linen as nn\n",
    "import e3nn_jax as e3nn\n",
    "\n",
    "from functools import partial\n",
    "from typing import Callable, List, Tuple\n",
    "\n",
    "%load_ext autoreload\n",
    "%autoreload 2"
   ]
  },
  {
   "cell_type": "code",
   "execution_count": 24,
   "id": "204cce78-27b5-4b49-8b51-c46df8619cc8",
   "metadata": {},
   "outputs": [],
   "source": [
    "jnp = np"
   ]
  },
  {
   "cell_type": "code",
   "execution_count": 25,
   "id": "05e85998-ad56-4d1d-b338-02a9a2fef0e4",
   "metadata": {},
   "outputs": [],
   "source": [
    "def _index_max(i: jnp.ndarray, x: jnp.ndarray, out_dim: int) -> jnp.ndarray:\n",
    "    return jnp.zeros((out_dim,) + x.shape[1:], x.dtype).at[i].max(x)\n",
    "\n",
    "\n",
    "class Transformer(nn.Module):\n",
    "    irreps_node_output: e3nn.Irreps\n",
    "    list_neurons: Tuple[int, ...]\n",
    "    act: Callable[[jnp.ndarray], jnp.ndarray]\n",
    "    num_heads: int = 1\n",
    "\n",
    "    @nn.compact\n",
    "    def __call__(\n",
    "        self,\n",
    "        edge_src: jnp.ndarray,  # [E] dtype=int32\n",
    "        edge_dst: jnp.ndarray,  # [E] dtype=int32\n",
    "        edge_weight_cutoff: jnp.ndarray,  # [E] dtype=float\n",
    "        edge_attr: e3nn.IrrepsArray,  # [E, D] dtype=float\n",
    "        node_feat: e3nn.IrrepsArray,  # [N, D] dtype=float\n",
    "    ) -> e3nn.IrrepsArray:\n",
    "        r\"\"\"Equivariant Transformer.\n",
    "\n",
    "        Args:\n",
    "            edge_src (array of int32): source index of the edges\n",
    "            edge_dst (array of int32): destination index of the edges\n",
    "            edge_weight_cutoff (array of float): cutoff weight for the edges (typically given by ``soft_envelope``)\n",
    "            edge_attr (e3nn.IrrepsArray): attributes of the edges (typically given by ``spherical_harmonics``)\n",
    "            node_f (e3nn.IrrepsArray): features of the nodes\n",
    "\n",
    "        Returns:\n",
    "            e3nn.IrrepsArray: output features of the nodes\n",
    "        \"\"\"\n",
    "\n",
    "        def f(x, y, filter_ir_out=None, name=None):\n",
    "            out1 = e3nn.concatenate([x, e3nn.tensor_product(x, y.filter(drop=\"0e\"))]).regroup().filter(keep=filter_ir_out)\n",
    "            out2 = e3nn.flax.MultiLayerPerceptron(\n",
    "                self.list_neurons + (out1.irreps.num_irreps,), self.act, output_activation=False, name=name\n",
    "            )(y.filter(keep=\"0e\"))\n",
    "            return out1 * out2\n",
    "\n",
    "        edge_key = f(node_feat[edge_src], edge_attr, node_feat.irreps, name=\"mlp_key\")\n",
    "        edge_logit = e3nn.flax.Linear(f\"{self.num_heads}x0e\", name=\"linear_logit\")(\n",
    "            e3nn.tensor_product(node_feat[edge_dst], edge_key, filter_ir_out=\"0e\")\n",
    "        ).array  # [E, H]\n",
    "        node_logit_max = _index_max(edge_dst, edge_logit, node_feat.shape[0])  # [N, H]\n",
    "        exp = edge_weight_cutoff[:, None] * jnp.exp(edge_logit - node_logit_max[edge_dst])  # [E, H]\n",
    "        z = e3nn.scatter_sum(exp, dst=edge_dst, output_size=node_feat.shape[0])  # [N, H]\n",
    "        z = jnp.where(z == 0.0, 1.0, z)\n",
    "        alpha = exp / z[edge_dst]  # [E, H]\n",
    "\n",
    "        edge_v = f(node_feat[edge_src], edge_attr, self.irreps_node_output, \"mlp_val\")  # [E, D]\n",
    "        edge_v = edge_v.mul_to_axis(self.num_heads)  # [E, H, D]\n",
    "        edge_v = edge_v * jnp.sqrt(jax.nn.relu(alpha))[:, :, None]  # [E, H, D]\n",
    "        edge_v = edge_v.axis_to_mul()  # [E, D]\n",
    "\n",
    "        node_out = e3nn.scatter_sum(edge_v, dst=edge_dst, output_size=node_feat.shape[0])  # [N, D]\n",
    "        return e3nn.flax.Linear(self.irreps_node_output, name=\"linear_out\")(node_out)  # [N, D]\n"
   ]
  },
  {
   "cell_type": "code",
   "execution_count": 26,
   "id": "ff6619f8-557f-4393-b53f-827b09d18ad7",
   "metadata": {},
   "outputs": [],
   "source": [
    "@partial(jax.jit, static_argnums=(1,))\n",
    "def nearest_neighbors(x, k, mask=None):\n",
    "    \"\"\"The shittiest implementation of nearest neighbours with masking in the world\"\"\"\n",
    "\n",
    "    if mask is None:\n",
    "        mask = np.ones((x.shape[0],), dtype=np.int32)\n",
    "\n",
    "    n_nodes = x.shape[0]\n",
    "\n",
    "    distance_matrix = np.sum((x[:, None, :] - x[None, :, :]) ** 2, axis=-1)\n",
    "\n",
    "    distance_matrix = np.where(mask[:, None], distance_matrix, np.inf)\n",
    "    distance_matrix = np.where(mask[None, :], distance_matrix, np.inf)\n",
    "\n",
    "    indices = np.argsort(distance_matrix, axis=-1)[:, :k]\n",
    "\n",
    "    sources = indices[:, 0].repeat(k)\n",
    "    targets = indices.reshape(n_nodes * (k))\n",
    "\n",
    "    return (sources, targets)"
   ]
  },
  {
   "cell_type": "code",
   "execution_count": 27,
   "id": "a4c657df-f7ef-41d7-a70f-045915fc20b1",
   "metadata": {},
   "outputs": [],
   "source": [
    "class Module(nn.Module):\n",
    "    irreps_out: e3nn.Irreps\n",
    "\n",
    "    @nn.compact\n",
    "    def __call__(\n",
    "        self,\n",
    "        positions: e3nn.IrrepsArray,  # [N, 3] dtype=float\n",
    "        features: e3nn.IrrepsArray,  # [N, D] dtype=float\n",
    "        senders: np.array, \n",
    "        receivers: np.array,\n",
    "        cutoff: float = 1.,\n",
    "    ):\n",
    "        r\"\"\"Equivariant Transformer.\n",
    "\n",
    "        Args:\n",
    "            positions (e3nn.IrrepsArray): positions of the nodes\n",
    "            features (e3nn.IrrepsArray): features of the nodes\n",
    "            senders (np.array): features of the nodes\n",
    "            receivers (np.array): features of the nodes\n",
    "            cutoff (float): cutoff radius\n",
    "\n",
    "        Returns:\n",
    "            e3nn.IrrepsArray: output features of the nodes\n",
    "        \"\"\"\n",
    "\n",
    "        vectors = positions[senders] - positions[receivers]\n",
    "        dist = jnp.linalg.norm(vectors.array, axis=1) / cutoff\n",
    "\n",
    "        edge_attr = e3nn.concatenate([\n",
    "            e3nn.bessel(dist, 8),\n",
    "            e3nn.spherical_harmonics(list(range(1, 3 + 1)), vectors, True)\n",
    "        ])\n",
    "        edge_weight_cutoff = e3nn.soft_envelope(dist)\n",
    "\n",
    "        features = Transformer(\n",
    "            irreps_node_output=e3nn.Irreps(\"1o\") + self.irreps_out,\n",
    "            list_neurons=(64, 64),\n",
    "            act=jax.nn.gelu,\n",
    "            num_heads=1,\n",
    "        )(senders, receivers, edge_weight_cutoff, edge_attr, features)\n",
    "\n",
    "        displacements, features = features.slice_by_mul[:1], features.slice_by_mul[1:]\n",
    "        positions = positions + displacements\n",
    "        return positions, features"
   ]
  },
  {
   "cell_type": "markdown",
   "id": "d4bed8bf-2434-4b32-8c05-9ff2b690036b",
   "metadata": {},
   "source": [
    "## Batched"
   ]
  },
  {
   "cell_type": "code",
   "execution_count": 34,
   "id": "bf573aa3-f1d9-4d7c-93dc-080a5846d5d2",
   "metadata": {},
   "outputs": [],
   "source": [
    "class GraphWrapper(nn.Module):\n",
    "    @nn.compact\n",
    "    def __call__(self, pos, feat, sources, targets):\n",
    "        model = jax.vmap(Module(irreps_out=\"0e + 1o\"), in_axes=(0,0,0,0,None))\n",
    "        return model(pos, feat, sources, targets, 0.1)"
   ]
  },
  {
   "cell_type": "code",
   "execution_count": 35,
   "id": "3bf0b872-fd85-432c-b0c0-b5ac5165b09c",
   "metadata": {},
   "outputs": [],
   "source": [
    "# Make some dummy data\n",
    "\n",
    "n_batch = 4\n",
    "\n",
    "rng = jax.random.PRNGKey(345)\n",
    "\n",
    "positions = jax.random.uniform(rng, (n_batch, 5000, 3))\n",
    "vel = jax.random.normal(rng, (n_batch, 5000, 3))\n",
    "mass = jax.random.normal(rng, (n_batch, 5000, 1))\n",
    "cond = jax.random.normal(rng, (n_batch, 3))"
   ]
  },
  {
   "cell_type": "code",
   "execution_count": 38,
   "id": "6136da04-7269-4ef7-92c4-4e415da99e4a",
   "metadata": {},
   "outputs": [],
   "source": [
    "# Make irreps arrays, get edges\n",
    "\n",
    "pos = e3nn.IrrepsArray(\"1o\", positions[:n_batch])\n",
    "feat = e3nn.IrrepsArray(\"1o + 3x0e\", np.concatenate([vel, mass + cond[:, None, :]], -1))  # Velocities and masses; concat other parameters (time, cosmology) here as scalars\n",
    "\n",
    "sources, targets = jax.vmap(nearest_neighbors, in_axes=(0, None))(positions[:n_batch], 50)  # 50 is number of edge connections"
   ]
  },
  {
   "cell_type": "code",
   "execution_count": 39,
   "id": "a9a5e801-220c-4102-8bd8-d50e14862443",
   "metadata": {},
   "outputs": [],
   "source": [
    "# Update positions and features\n",
    "model = GraphWrapper()\n",
    "(pos_update, feat_update), params = model.init_with_output(rng, pos, feat, sources, targets)"
   ]
  },
  {
   "cell_type": "code",
   "execution_count": 40,
   "id": "61e24327-571b-4b54-940c-0c4dfa4ee3f3",
   "metadata": {},
   "outputs": [
    {
     "data": {
      "text/plain": [
       "(Array(0.9999982, dtype=float32),\n",
       " Array(2.2649765e-05, dtype=float32),\n",
       " Array(4.875551, dtype=float32),\n",
       " Array(-5.4267583, dtype=float32))"
      ]
     },
     "execution_count": 40,
     "metadata": {},
     "output_type": "execute_result"
    }
   ],
   "source": [
    "# Original positions\n",
    "np.max(pos.array), np.min(pos.array), np.max(feat.array), np.min(feat.array), "
   ]
  },
  {
   "cell_type": "code",
   "execution_count": 41,
   "id": "b1e5b499-a609-4810-885f-3798b857eca9",
   "metadata": {},
   "outputs": [
    {
     "data": {
      "text/plain": [
       "(Array(88.94738, dtype=float32),\n",
       " Array(-72.18628, dtype=float32),\n",
       " Array(206.50436, dtype=float32),\n",
       " Array(-197.39395, dtype=float32))"
      ]
     },
     "execution_count": 41,
     "metadata": {},
     "output_type": "execute_result"
    }
   ],
   "source": [
    "# Updated positions are big\n",
    "np.max(pos_update.array), np.min(pos_update.array), np.max(feat_update.array), np.min(feat_update.array), "
   ]
  },
  {
   "cell_type": "code",
   "execution_count": 42,
   "id": "e5e01e6e-2e7f-4687-b6c8-a13f18c66f00",
   "metadata": {},
   "outputs": [],
   "source": [
    "# Updated full array\n",
    "z = np.concatenate([pos_update.array, feat_update.array], -1)"
   ]
  },
  {
   "cell_type": "code",
   "execution_count": 43,
   "id": "fa04214b-6315-410b-9728-717aff7673e2",
   "metadata": {},
   "outputs": [
    {
     "name": "stderr",
     "output_type": "stream",
     "text": [
      "/tmp/ipykernel_29694/236323635.py:1: FutureWarning: jax.tree_leaves is deprecated, and will be removed in a future release. Use jax.tree_util.tree_leaves instead.\n",
      "  sum(x.size for x in jax.tree_leaves(params))\n"
     ]
    },
    {
     "data": {
      "text/plain": [
       "10399"
      ]
     },
     "execution_count": 43,
     "metadata": {},
     "output_type": "execute_result"
    }
   ],
   "source": [
    "sum(x.size for x in jax.tree_leaves(params))"
   ]
  },
  {
   "cell_type": "code",
   "execution_count": null,
   "id": "a19eb3c8-41b4-4360-9cd4-ab1b5ff6a70f",
   "metadata": {},
   "outputs": [],
   "source": []
  }
 ],
 "metadata": {
  "kernelspec": {
   "display_name": "Python 3 (ipykernel)",
   "language": "python",
   "name": "python3"
  },
  "language_info": {
   "codemirror_mode": {
    "name": "ipython",
    "version": 3
   },
   "file_extension": ".py",
   "mimetype": "text/x-python",
   "name": "python",
   "nbconvert_exporter": "python",
   "pygments_lexer": "ipython3",
   "version": "3.9.12"
  }
 },
 "nbformat": 4,
 "nbformat_minor": 5
}
