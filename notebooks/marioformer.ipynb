{
 "cells": [
  {
   "cell_type": "code",
   "execution_count": 1,
   "id": "3aad917e-08d0-4539-9d74-0e7c8ae20d9e",
   "metadata": {},
   "outputs": [],
   "source": [
    "import jax\n",
    "import jax.numpy as np\n",
    "import jraph\n",
    "import flax.linen as nn\n",
    "import e3nn_jax as e3nn\n",
    "\n",
    "from functools import partial\n",
    "from typing import Callable, List, Tuple\n",
    "\n",
    "%load_ext autoreload\n",
    "%autoreload 2"
   ]
  },
  {
   "cell_type": "code",
   "execution_count": 2,
   "id": "204cce78-27b5-4b49-8b51-c46df8619cc8",
   "metadata": {},
   "outputs": [],
   "source": [
    "jnp = np"
   ]
  },
  {
   "cell_type": "code",
   "execution_count": 3,
   "id": "05e85998-ad56-4d1d-b338-02a9a2fef0e4",
   "metadata": {},
   "outputs": [],
   "source": [
    "def _index_max(i: jnp.ndarray, x: jnp.ndarray, out_dim: int) -> jnp.ndarray:\n",
    "    return jnp.zeros((out_dim,) + x.shape[1:], x.dtype).at[i].max(x)\n",
    "\n",
    "\n",
    "class Transformer(nn.Module):\n",
    "    irreps_node_output: e3nn.Irreps\n",
    "    list_neurons: Tuple[int, ...]\n",
    "    act: Callable[[jnp.ndarray], jnp.ndarray]\n",
    "    num_heads: int = 1\n",
    "\n",
    "    @nn.compact\n",
    "    def __call__(\n",
    "        self,\n",
    "        edge_src: jnp.ndarray,  # [E] dtype=int32\n",
    "        edge_dst: jnp.ndarray,  # [E] dtype=int32\n",
    "        edge_weight_cutoff: jnp.ndarray,  # [E] dtype=float\n",
    "        edge_attr: e3nn.IrrepsArray,  # [E, D] dtype=float\n",
    "        node_feat: e3nn.IrrepsArray,  # [N, D] dtype=float\n",
    "    ) -> e3nn.IrrepsArray:\n",
    "        r\"\"\"Equivariant Transformer.\n",
    "\n",
    "        Args:\n",
    "            edge_src (array of int32): source index of the edges\n",
    "            edge_dst (array of int32): destination index of the edges\n",
    "            edge_weight_cutoff (array of float): cutoff weight for the edges (typically given by ``soft_envelope``)\n",
    "            edge_attr (e3nn.IrrepsArray): attributes of the edges (typically given by ``spherical_harmonics``)\n",
    "            node_f (e3nn.IrrepsArray): features of the nodes\n",
    "\n",
    "        Returns:\n",
    "            e3nn.IrrepsArray: output features of the nodes\n",
    "        \"\"\"\n",
    "\n",
    "        def f(x, y, filter_ir_out=None, name=None):\n",
    "            out1 = e3nn.concatenate([x, e3nn.tensor_product(x, y.filter(drop=\"0e\"))]).regroup().filter(keep=filter_ir_out)\n",
    "            out2 = e3nn.flax.MultiLayerPerceptron(\n",
    "                self.list_neurons + (out1.irreps.num_irreps,), self.act, output_activation=False, name=name\n",
    "            )(y.filter(keep=\"0e\"))\n",
    "            return out1 * out2\n",
    "\n",
    "        edge_key = f(node_feat[edge_src], edge_attr, node_feat.irreps, name=\"mlp_key\")\n",
    "        edge_logit = e3nn.flax.Linear(f\"{self.num_heads}x0e\", name=\"linear_logit\")(\n",
    "            e3nn.tensor_product(node_feat[edge_dst], edge_key, filter_ir_out=\"0e\")\n",
    "        ).array  # [E, H]\n",
    "        node_logit_max = _index_max(edge_dst, edge_logit, node_feat.shape[0])  # [N, H]\n",
    "        exp = edge_weight_cutoff[:, None] * jnp.exp(edge_logit - node_logit_max[edge_dst])  # [E, H]\n",
    "        z = e3nn.scatter_sum(exp, dst=edge_dst, output_size=node_feat.shape[0])  # [N, H]\n",
    "        z = jnp.where(z == 0.0, 1.0, z)\n",
    "        alpha = exp / z[edge_dst]  # [E, H]\n",
    "\n",
    "        edge_v = f(node_feat[edge_src], edge_attr, self.irreps_node_output, \"mlp_val\")  # [E, D]\n",
    "        edge_v = edge_v.mul_to_axis(self.num_heads)  # [E, H, D]\n",
    "        edge_v = edge_v * jnp.sqrt(jax.nn.relu(alpha))[:, :, None]  # [E, H, D]\n",
    "        edge_v = edge_v.axis_to_mul()  # [E, D]\n",
    "\n",
    "        node_out = e3nn.scatter_sum(edge_v, dst=edge_dst, output_size=node_feat.shape[0])  # [N, D]\n",
    "        return e3nn.flax.Linear(self.irreps_node_output, name=\"linear_out\")(node_out)  # [N, D]\n"
   ]
  },
  {
   "cell_type": "code",
   "execution_count": 4,
   "id": "ff6619f8-557f-4393-b53f-827b09d18ad7",
   "metadata": {},
   "outputs": [],
   "source": [
    "import sys\n",
    "sys.path.append(\"../\")\n",
    "\n",
    "from models.graph_utils import nearest_neighbors"
   ]
  },
  {
   "cell_type": "code",
   "execution_count": 24,
   "id": "a4c657df-f7ef-41d7-a70f-045915fc20b1",
   "metadata": {},
   "outputs": [],
   "source": [
    "class Module(nn.Module):\n",
    "    irreps_out: e3nn.Irreps\n",
    "\n",
    "    @nn.compact\n",
    "    def __call__(\n",
    "        self,\n",
    "        positions: e3nn.IrrepsArray,  # [N, 3] dtype=float\n",
    "        features: e3nn.IrrepsArray,  # [N, D] dtype=float\n",
    "        senders: np.array, \n",
    "        receivers: np.array,\n",
    "        cutoff: float = 1.,\n",
    "    ):\n",
    "        r\"\"\"Equivariant Transformer.\n",
    "\n",
    "        Args:\n",
    "            positions (e3nn.IrrepsArray): positions of the nodes\n",
    "            features (e3nn.IrrepsArray): features of the nodes\n",
    "            senders (np.array): features of the nodes\n",
    "            receivers (np.array): features of the nodes\n",
    "            cutoff (float): cutoff radius\n",
    "\n",
    "        Returns:\n",
    "            e3nn.IrrepsArray: output features of the nodes\n",
    "        \"\"\"\n",
    "\n",
    "        vectors = positions[senders] - positions[receivers]\n",
    "        dist = jnp.linalg.norm(vectors.array, axis=1) / cutoff\n",
    "\n",
    "        edge_attr = e3nn.concatenate([\n",
    "            e3nn.bessel(dist, 8),\n",
    "            e3nn.spherical_harmonics(list(range(1, 3 + 1)), vectors, True)\n",
    "        ])\n",
    "        edge_weight_cutoff = e3nn.soft_envelope(dist)\n",
    "\n",
    "        features = Transformer(\n",
    "            irreps_node_output=e3nn.Irreps(\"1o\") + self.irreps_out,\n",
    "            list_neurons=(64, 64),\n",
    "            act=jax.nn.gelu,\n",
    "            num_heads=1,\n",
    "        )(senders, receivers, edge_weight_cutoff, edge_attr, features)\n",
    "\n",
    "        displacements, features = features.slice_by_mul[:1], features.slice_by_mul[1:]\n",
    "        positions = positions + displacements\n",
    "        return positions, features"
   ]
  },
  {
   "cell_type": "code",
   "execution_count": 25,
   "id": "86b978ca-cf86-48a0-afc2-e2eef080a850",
   "metadata": {},
   "outputs": [],
   "source": [
    "data_dir = \"/n/holyscratch01/iaifi_lab/ccuesta/data_for_sid/\"\n",
    "\n",
    "# Load and normalize\n",
    "x = np.load(\"{}/halos.npy\".format(data_dir))\n",
    "x_mean = x.mean(axis=(0,1))\n",
    "x_std = x.std(axis=(0,1))\n",
    "x = (x - x_mean + 1e-7) / (x_std + 1e-7)"
   ]
  },
  {
   "cell_type": "code",
   "execution_count": 26,
   "id": "f097e193-1171-467f-b49f-716082ea7338",
   "metadata": {},
   "outputs": [],
   "source": [
    "positions = x[:, :, :3]\n",
    "features = x[:, :, 3:]"
   ]
  },
  {
   "cell_type": "code",
   "execution_count": 46,
   "id": "25b953a6-1923-4c3f-9149-eaa94b85bd79",
   "metadata": {},
   "outputs": [],
   "source": [
    "model = Module(irreps_out=\" 1o + 0e\")  # Masses, velocities"
   ]
  },
  {
   "cell_type": "code",
   "execution_count": 47,
   "id": "e0975e0f-4eaf-4a96-b673-ea38f65a38b6",
   "metadata": {},
   "outputs": [],
   "source": [
    "idx = 0\n",
    "\n",
    "pos = e3nn.IrrepsArray(\"1o\", positions[idx])\n",
    "feat = e3nn.IrrepsArray(\"1o + 0e\", features[idx])  # Concat other parameters (time, cosmology) here as scalars\n",
    "\n",
    "sources, targets = nearest_neighbors(positions[idx], 20)"
   ]
  },
  {
   "cell_type": "code",
   "execution_count": 48,
   "id": "e1dc4e4c-c863-4c76-8229-e57d29b0bd47",
   "metadata": {},
   "outputs": [],
   "source": [
    "rng = jax.random.PRNGKey(42)\n",
    "out, params = model.init_with_output(rng, pos, feat, sources, targets, 1.)"
   ]
  },
  {
   "cell_type": "code",
   "execution_count": 49,
   "id": "09077925-2228-43cb-a0e1-aa548c7d3905",
   "metadata": {},
   "outputs": [
    {
     "name": "stderr",
     "output_type": "stream",
     "text": [
      "/tmp/ipykernel_18530/236323635.py:1: FutureWarning: jax.tree_leaves is deprecated, and will be removed in a future release. Use jax.tree_util.tree_leaves instead.\n",
      "  sum(x.size for x in jax.tree_leaves(params))\n"
     ]
    },
    {
     "data": {
      "text/plain": [
       "9869"
      ]
     },
     "execution_count": 49,
     "metadata": {},
     "output_type": "execute_result"
    }
   ],
   "source": [
    "sum(x.size for x in jax.tree_leaves(params))"
   ]
  },
  {
   "cell_type": "markdown",
   "id": "d4bed8bf-2434-4b32-8c05-9ff2b690036b",
   "metadata": {},
   "source": [
    "## Batched"
   ]
  },
  {
   "cell_type": "code",
   "execution_count": 91,
   "id": "bf573aa3-f1d9-4d7c-93dc-080a5846d5d2",
   "metadata": {},
   "outputs": [],
   "source": [
    "class GraphWrapper(nn.Module):\n",
    "    @nn.compact\n",
    "    def __call__(self, pos, feat, sources, targets):\n",
    "        model = jax.vmap(Module(irreps_out=\"0e + 1o\"))\n",
    "        return model(pos, feat, sources, targets)"
   ]
  },
  {
   "cell_type": "code",
   "execution_count": 103,
   "id": "aacb3ded-afd2-474c-8a0e-6aa88fe86ead",
   "metadata": {},
   "outputs": [],
   "source": [
    "vel, mass = features[:, :, :3], features[:, :, 3:] "
   ]
  },
  {
   "cell_type": "code",
   "execution_count": 105,
   "id": "be1222f9-1950-4298-9bca-e26659cbd88c",
   "metadata": {},
   "outputs": [],
   "source": [
    "cond = jax.random.normal(rng, (n_batch, 3))"
   ]
  },
  {
   "cell_type": "code",
   "execution_count": 123,
   "id": "6136da04-7269-4ef7-92c4-4e415da99e4a",
   "metadata": {},
   "outputs": [],
   "source": [
    "n_batch = 4\n",
    "\n",
    "pos = e3nn.IrrepsArray(\"1o\", positions[:n_batch])\n",
    "feat = e3nn.IrrepsArray(\"1o + 3x0e\", np.concatenate([vel[:n_batch], mass[:n_batch] + cond[:, None, :]], -1))  # Velocities and masses; concat other parameters (time, cosmology) here as scalars\n",
    "\n",
    "sources, targets = jax.vmap(nearest_neighbors, in_axes=(0, None))(positions[:n_batch], 20)"
   ]
  },
  {
   "cell_type": "code",
   "execution_count": 124,
   "id": "a9a5e801-220c-4102-8bd8-d50e14862443",
   "metadata": {},
   "outputs": [],
   "source": [
    "model = GraphWrapper()\n",
    "rng = jax.random.PRNGKey(42)\n",
    "graph_out, _ = model.init_with_output(rng, pos, feat, sources, targets)"
   ]
  },
  {
   "cell_type": "code",
   "execution_count": 125,
   "id": "8ab141f3-38b4-4ef2-b869-15efbec90e54",
   "metadata": {},
   "outputs": [],
   "source": [
    "pos_update, feat_update = graph_out"
   ]
  },
  {
   "cell_type": "code",
   "execution_count": 126,
   "id": "e5e01e6e-2e7f-4687-b6c8-a13f18c66f00",
   "metadata": {},
   "outputs": [],
   "source": [
    "z = np.concatenate([pos_update.array, feat_update.array], -1)"
   ]
  },
  {
   "cell_type": "code",
   "execution_count": 128,
   "id": "a2504f9f-ab69-4e7e-b7aa-d3894d7393ec",
   "metadata": {},
   "outputs": [
    {
     "data": {
      "text/plain": [
       "Array([[[-7.7683401e-01,  1.4123533e+00, -1.0109222e-01, ...,\n",
       "         -5.1964450e+00, -4.0435457e+00,  3.0125337e+00],\n",
       "        [-1.9902754e+00,  3.4663868e-01,  1.9180111e+00, ...,\n",
       "          4.8906431e+00,  7.3061442e-01, -4.4355278e+00],\n",
       "        [-1.8633548e+00,  7.1310925e-01,  3.1873112e+00, ...,\n",
       "          2.1785817e+00,  1.9830981e+00, -2.3987551e-01],\n",
       "        ...,\n",
       "        [-2.2503205e-01,  1.8321974e+00, -9.1458201e-02, ...,\n",
       "          1.5460939e+00, -2.2586634e+00, -2.2370868e+00],\n",
       "        [-1.7145429e+00,  1.1601226e+00,  1.0122617e+00, ...,\n",
       "          2.9002097e+00, -2.0736446e+00, -4.6399626e-01],\n",
       "        [-1.7706704e-01, -1.0801482e+00, -9.5355856e-01, ...,\n",
       "          2.9872074e+00, -1.5950775e+00,  5.1751769e-01]],\n",
       "\n",
       "       [[ 1.2023078e+01, -4.3291950e-01,  3.6274630e-01, ...,\n",
       "         -3.3836920e+00, -4.0713320e+00, -1.5207373e+00],\n",
       "        [-9.3178052e-01,  1.6736686e+00,  1.5778362e+00, ...,\n",
       "          3.7244375e+00,  7.8742927e-01, -2.9427314e+00],\n",
       "        [ 1.2329445e+01,  1.0129408e+00,  1.0861597e+01, ...,\n",
       "          4.6724784e-03, -8.4904556e+00,  8.3546772e+00],\n",
       "        ...,\n",
       "        [-4.1108704e-01,  1.4744734e+00, -1.7568880e-01, ...,\n",
       "          2.2434750e+00, -9.0279621e-01, -1.8888470e+00],\n",
       "        [-1.6837734e+00,  1.2141289e+00,  1.1070859e+00, ...,\n",
       "          2.7709546e+00, -2.2652447e+00, -8.1851274e-01],\n",
       "        [-2.4569136e-01, -1.1111710e+00, -1.0531195e+00, ...,\n",
       "          3.2276509e+00, -1.4815506e+00,  8.9874238e-01]],\n",
       "\n",
       "       [[ 6.8525046e-02, -2.2945304e+00,  3.2676637e-01, ...,\n",
       "          1.1791968e+00,  4.0003738e+00,  7.7952904e-01],\n",
       "        [ 1.5095539e+00, -1.5046830e+00,  2.5710368e+00, ...,\n",
       "         -5.0538249e+00,  1.6213983e+00, -3.0814004e+00],\n",
       "        [-1.2121763e+00,  1.5469726e+01, -2.2900167e+00, ...,\n",
       "          2.3504498e+00, -2.7578266e+00, -2.0779238e+00],\n",
       "        ...,\n",
       "        [-1.7046713e+00,  1.4858663e+00,  7.1768034e-01, ...,\n",
       "          1.0760649e+00,  3.8077509e-01, -3.9476125e+00],\n",
       "        [ 1.1136540e+00, -2.0856762e+00, -2.9275835e-01, ...,\n",
       "         -1.8978951e+00,  3.7333167e+00,  3.4957030e+00],\n",
       "        [-1.3899333e+00, -2.5919249e+00, -3.0704272e+00, ...,\n",
       "          1.9071194e+00,  4.8292994e+00,  7.5202746e+00]],\n",
       "\n",
       "       [[ 1.7330784e+01,  3.8401394e+00,  4.1537300e+01, ...,\n",
       "         -2.0740430e+00, -2.3244100e+00, -8.2620163e+00],\n",
       "        [-8.0679709e-01, -3.1785727e+00,  1.0562747e+00, ...,\n",
       "          4.7975059e+00,  5.8355141e+00,  2.2189634e-02],\n",
       "        [ 4.2290127e-01, -2.2643216e+00,  1.1714419e+00, ...,\n",
       "         -1.6743835e+00,  4.7871828e+00,  7.2354758e-01],\n",
       "        ...,\n",
       "        [-4.0447009e-01, -1.0814068e+00, -3.1343734e-01, ...,\n",
       "          1.2309380e+00,  7.5504863e-01,  4.0805653e-01],\n",
       "        [-6.3022977e-01,  9.0737206e-01, -1.5013309e+00, ...,\n",
       "         -4.5025313e-01, -7.3606062e-01,  4.3027043e+00],\n",
       "        [ 1.5114715e+00,  2.5646329e+00,  1.0474962e+00, ...,\n",
       "         -2.6665301e+00, -8.1957684e+00, -1.4136794e+00]]], dtype=float32)"
      ]
     },
     "execution_count": 128,
     "metadata": {},
     "output_type": "execute_result"
    }
   ],
   "source": [
    "z"
   ]
  },
  {
   "cell_type": "code",
   "execution_count": 127,
   "id": "b76fd427-0c06-4eb7-8325-e39b06235147",
   "metadata": {},
   "outputs": [
    {
     "data": {
      "text/plain": [
       "Array(0, dtype=int32)"
      ]
     },
     "execution_count": 127,
     "metadata": {},
     "output_type": "execute_result"
    }
   ],
   "source": [
    "np.isnan(z).sum()"
   ]
  },
  {
   "cell_type": "code",
   "execution_count": null,
   "id": "8f71d665-7bcc-4dc0-bbbc-61ecddd9275a",
   "metadata": {},
   "outputs": [],
   "source": []
  }
 ],
 "metadata": {
  "kernelspec": {
   "display_name": "Python 3 (ipykernel)",
   "language": "python",
   "name": "python3"
  },
  "language_info": {
   "codemirror_mode": {
    "name": "ipython",
    "version": 3
   },
   "file_extension": ".py",
   "mimetype": "text/x-python",
   "name": "python",
   "nbconvert_exporter": "python",
   "pygments_lexer": "ipython3",
   "version": "3.9.12"
  }
 },
 "nbformat": 4,
 "nbformat_minor": 5
}
