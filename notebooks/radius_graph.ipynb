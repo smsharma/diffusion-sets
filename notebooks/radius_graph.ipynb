{
 "cells": [
  {
   "cell_type": "code",
   "execution_count": 1,
   "id": "3c9de05e-2b61-4efd-b5c9-408b95a0af6d",
   "metadata": {},
   "outputs": [],
   "source": [
    "import sys\n",
    "sys.path.append(\"../\")\n",
    "\n",
    "import jax\n",
    "import jax.numpy as np\n",
    "from functools import partial\n",
    "import jraph\n",
    "from jax_md import space, partition\n",
    "\n",
    "from models.graph_utils import RadiusSearch"
   ]
  },
  {
   "cell_type": "code",
   "execution_count": 6,
   "id": "7be300e1-db63-46e3-8733-9c5f8808a36d",
   "metadata": {},
   "outputs": [],
   "source": [
    "n_batch = 4\n",
    "n_nodes = 5000\n",
    "n_pos = 3\n",
    "\n",
    "x = np.load(\"/n/holyscratch01/iaifi_lab/ccuesta/data_for_sid/halos.npy\")[:n_batch, :n_nodes]\n",
    "x_pos = x[:, :, :n_pos]"
   ]
  },
  {
   "cell_type": "code",
   "execution_count": 7,
   "id": "7d6c036b-dde8-40cc-91fe-a0d769fd9ed0",
   "metadata": {},
   "outputs": [],
   "source": [
    "ns = RadiusSearch(box_size=1000., cutoff=30.)\n",
    "nbr = ns.init_neighbor_lst(x_pos[0])"
   ]
  },
  {
   "cell_type": "code",
   "execution_count": 9,
   "id": "da1e1e1b-f46b-4fea-818e-89f07fce5f2a",
   "metadata": {},
   "outputs": [],
   "source": [
    "nbr_update, nbr = ns.update_neighbor_lst(x_pos, nbr)"
   ]
  },
  {
   "cell_type": "code",
   "execution_count": 21,
   "id": "08733084-306e-4145-bb53-c023791da045",
   "metadata": {},
   "outputs": [],
   "source": [
    "rng = jax.random.PRNGKey(42)\n",
    "globals = jax.random.normal(rng, (n_batch, 1, 2))"
   ]
  },
  {
   "cell_type": "code",
   "execution_count": 22,
   "id": "1476146b-9159-4bbe-9061-9d1bb3bf6314",
   "metadata": {},
   "outputs": [],
   "source": [
    "graph = jax.vmap(partition.to_jraph)(nbr_update, mask=None,  nodes=x, edges=None, globals=globals)"
   ]
  },
  {
   "cell_type": "code",
   "execution_count": 23,
   "id": "fedd166f-4b68-4f92-a103-75b145493d61",
   "metadata": {},
   "outputs": [
    {
     "data": {
      "text/plain": [
       "((4, 2), (4, 2), (4, 5001, 7), (4, 2, 2), (4, 29868), (4, 29868), (4, 29868))"
      ]
     },
     "execution_count": 23,
     "metadata": {},
     "output_type": "execute_result"
    }
   ],
   "source": [
    "graph.n_node.shape, graph.n_edge.shape, graph.nodes.shape, graph.globals.shape, graph.senders.shape, graph.receivers.shape, graph.receivers.shape "
   ]
  },
  {
   "cell_type": "code",
   "execution_count": 24,
   "id": "a38db034-1764-4509-8c08-141bc43997a1",
   "metadata": {},
   "outputs": [],
   "source": [
    "from models.gnn import GraphConvNet\n",
    "import flax.linen as nn\n",
    "\n",
    "class GraphWrapper(nn.Module):\n",
    "    @nn.compact\n",
    "    def __call__(self, x):\n",
    "        model = jax.vmap(GraphConvNet(\n",
    "            latent_size=6, \n",
    "            num_mlp_layers=4, \n",
    "            message_passing_steps=3))\n",
    "        return model(x)"
   ]
  },
  {
   "cell_type": "code",
   "execution_count": 25,
   "id": "6f702fa1-042a-4b09-acc0-1ac298b4954b",
   "metadata": {},
   "outputs": [
    {
     "ename": "ValueError",
     "evalue": "Incompatible shapes for broadcasting: (2,) and requested shape (1,)",
     "output_type": "error",
     "traceback": [
      "\u001b[0;31m---------------------------------------------------------------------------\u001b[0m",
      "\u001b[0;31mValueError\u001b[0m                                Traceback (most recent call last)",
      "Input \u001b[0;32mIn [25]\u001b[0m, in \u001b[0;36m<cell line: 2>\u001b[0;34m()\u001b[0m\n\u001b[1;32m      1\u001b[0m model \u001b[38;5;241m=\u001b[39m GraphWrapper()\n\u001b[0;32m----> 2\u001b[0m graph_update, params  \u001b[38;5;241m=\u001b[39m \u001b[43mmodel\u001b[49m\u001b[38;5;241;43m.\u001b[39;49m\u001b[43minit_with_output\u001b[49m\u001b[43m(\u001b[49m\u001b[43mrng\u001b[49m\u001b[43m,\u001b[49m\u001b[43m \u001b[49m\u001b[43mgraph\u001b[49m\u001b[43m)\u001b[49m\n",
      "    \u001b[0;31m[... skipping hidden 7 frame]\u001b[0m\n",
      "Input \u001b[0;32mIn [24]\u001b[0m, in \u001b[0;36mGraphWrapper.__call__\u001b[0;34m(self, x)\u001b[0m\n\u001b[1;32m      5\u001b[0m \u001b[38;5;129m@nn\u001b[39m\u001b[38;5;241m.\u001b[39mcompact\n\u001b[1;32m      6\u001b[0m \u001b[38;5;28;01mdef\u001b[39;00m \u001b[38;5;21m__call__\u001b[39m(\u001b[38;5;28mself\u001b[39m, x):\n\u001b[1;32m      7\u001b[0m     model \u001b[38;5;241m=\u001b[39m jax\u001b[38;5;241m.\u001b[39mvmap(GraphConvNet(\n\u001b[1;32m      8\u001b[0m         latent_size\u001b[38;5;241m=\u001b[39m\u001b[38;5;241m6\u001b[39m, \n\u001b[1;32m      9\u001b[0m         num_mlp_layers\u001b[38;5;241m=\u001b[39m\u001b[38;5;241m4\u001b[39m, \n\u001b[1;32m     10\u001b[0m         message_passing_steps\u001b[38;5;241m=\u001b[39m\u001b[38;5;241m3\u001b[39m))\n\u001b[0;32m---> 11\u001b[0m     \u001b[38;5;28;01mreturn\u001b[39;00m \u001b[43mmodel\u001b[49m\u001b[43m(\u001b[49m\u001b[43mx\u001b[49m\u001b[43m)\u001b[49m\n",
      "    \u001b[0;31m[... skipping hidden 5 frame]\u001b[0m\n",
      "File \u001b[0;32m/n/holystore01/LABS/iaifi_lab/Users/smsharma/set-diffuser/notebooks/../models/gnn.py:130\u001b[0m, in \u001b[0;36mGraphConvNet.__call__\u001b[0;34m(self, graphs)\u001b[0m\n\u001b[1;32m    124\u001b[0m graph_net \u001b[38;5;241m=\u001b[39m jraph\u001b[38;5;241m.\u001b[39mGraphNetwork(\n\u001b[1;32m    125\u001b[0m     update_node_fn\u001b[38;5;241m=\u001b[39mupdate_node_fn,\n\u001b[1;32m    126\u001b[0m     update_edge_fn\u001b[38;5;241m=\u001b[39mupdate_edge_fn,\n\u001b[1;32m    127\u001b[0m )\n\u001b[1;32m    128\u001b[0m \u001b[38;5;28;01mif\u001b[39;00m \u001b[38;5;28mself\u001b[39m\u001b[38;5;241m.\u001b[39mskip_connections:\n\u001b[1;32m    129\u001b[0m     processed_graphs \u001b[38;5;241m=\u001b[39m add_graphs_tuples(\n\u001b[0;32m--> 130\u001b[0m         \u001b[43mgraph_net\u001b[49m\u001b[43m(\u001b[49m\u001b[43mprocessed_graphs\u001b[49m\u001b[43m)\u001b[49m, processed_graphs\n\u001b[1;32m    131\u001b[0m     )\n\u001b[1;32m    132\u001b[0m \u001b[38;5;28;01melse\u001b[39;00m:\n\u001b[1;32m    133\u001b[0m     processed_graphs \u001b[38;5;241m=\u001b[39m graph_net(processed_graphs)\n",
      "File \u001b[0;32m~/.local/lib/python3.9/site-packages/jraph/_src/models.py:178\u001b[0m, in \u001b[0;36mGraphNetwork.<locals>._ApplyGraphNet\u001b[0;34m(graph)\u001b[0m\n\u001b[1;32m    175\u001b[0m received_attributes \u001b[38;5;241m=\u001b[39m tree\u001b[38;5;241m.\u001b[39mtree_map(\u001b[38;5;28;01mlambda\u001b[39;00m n: n[receivers], nodes)\n\u001b[1;32m    176\u001b[0m \u001b[38;5;66;03m# Here we scatter the global features to the corresponding edges,\u001b[39;00m\n\u001b[1;32m    177\u001b[0m \u001b[38;5;66;03m# giving us tensors of shape [num_edges, global_feat].\u001b[39;00m\n\u001b[0;32m--> 178\u001b[0m global_edge_attributes \u001b[38;5;241m=\u001b[39m \u001b[43mtree\u001b[49m\u001b[38;5;241;43m.\u001b[39;49m\u001b[43mtree_map\u001b[49m\u001b[43m(\u001b[49m\u001b[38;5;28;43;01mlambda\u001b[39;49;00m\u001b[43m \u001b[49m\u001b[43mg\u001b[49m\u001b[43m:\u001b[49m\u001b[43m \u001b[49m\u001b[43mjnp\u001b[49m\u001b[38;5;241;43m.\u001b[39;49m\u001b[43mrepeat\u001b[49m\u001b[43m(\u001b[49m\n\u001b[1;32m    179\u001b[0m \u001b[43m    \u001b[49m\u001b[43mg\u001b[49m\u001b[43m,\u001b[49m\u001b[43m \u001b[49m\u001b[43mn_edge\u001b[49m\u001b[43m,\u001b[49m\u001b[43m \u001b[49m\u001b[43maxis\u001b[49m\u001b[38;5;241;43m=\u001b[39;49m\u001b[38;5;241;43m0\u001b[39;49m\u001b[43m,\u001b[49m\u001b[43m \u001b[49m\u001b[43mtotal_repeat_length\u001b[49m\u001b[38;5;241;43m=\u001b[39;49m\u001b[43msum_n_edge\u001b[49m\u001b[43m)\u001b[49m\u001b[43m,\u001b[49m\u001b[43m \u001b[49m\u001b[43mglobals_\u001b[49m\u001b[43m)\u001b[49m\n\u001b[1;32m    181\u001b[0m \u001b[38;5;28;01mif\u001b[39;00m update_edge_fn:\n\u001b[1;32m    182\u001b[0m   edges \u001b[38;5;241m=\u001b[39m update_edge_fn(edges, sent_attributes, received_attributes,\n\u001b[1;32m    183\u001b[0m                          global_edge_attributes)\n",
      "    \u001b[0;31m[... skipping hidden 2 frame]\u001b[0m\n",
      "File \u001b[0;32m~/.local/lib/python3.9/site-packages/jraph/_src/models.py:178\u001b[0m, in \u001b[0;36mGraphNetwork.<locals>._ApplyGraphNet.<locals>.<lambda>\u001b[0;34m(g)\u001b[0m\n\u001b[1;32m    175\u001b[0m received_attributes \u001b[38;5;241m=\u001b[39m tree\u001b[38;5;241m.\u001b[39mtree_map(\u001b[38;5;28;01mlambda\u001b[39;00m n: n[receivers], nodes)\n\u001b[1;32m    176\u001b[0m \u001b[38;5;66;03m# Here we scatter the global features to the corresponding edges,\u001b[39;00m\n\u001b[1;32m    177\u001b[0m \u001b[38;5;66;03m# giving us tensors of shape [num_edges, global_feat].\u001b[39;00m\n\u001b[0;32m--> 178\u001b[0m global_edge_attributes \u001b[38;5;241m=\u001b[39m tree\u001b[38;5;241m.\u001b[39mtree_map(\u001b[38;5;28;01mlambda\u001b[39;00m g: \u001b[43mjnp\u001b[49m\u001b[38;5;241;43m.\u001b[39;49m\u001b[43mrepeat\u001b[49m\u001b[43m(\u001b[49m\n\u001b[1;32m    179\u001b[0m \u001b[43m    \u001b[49m\u001b[43mg\u001b[49m\u001b[43m,\u001b[49m\u001b[43m \u001b[49m\u001b[43mn_edge\u001b[49m\u001b[43m,\u001b[49m\u001b[43m \u001b[49m\u001b[43maxis\u001b[49m\u001b[38;5;241;43m=\u001b[39;49m\u001b[38;5;241;43m0\u001b[39;49m\u001b[43m,\u001b[49m\u001b[43m \u001b[49m\u001b[43mtotal_repeat_length\u001b[49m\u001b[38;5;241;43m=\u001b[39;49m\u001b[43msum_n_edge\u001b[49m\u001b[43m)\u001b[49m, globals_)\n\u001b[1;32m    181\u001b[0m \u001b[38;5;28;01mif\u001b[39;00m update_edge_fn:\n\u001b[1;32m    182\u001b[0m   edges \u001b[38;5;241m=\u001b[39m update_edge_fn(edges, sent_attributes, received_attributes,\n\u001b[1;32m    183\u001b[0m                          global_edge_attributes)\n",
      "File \u001b[0;32m~/.local/lib/python3.9/site-packages/jax/_src/numpy/lax_numpy.py:2604\u001b[0m, in \u001b[0;36mrepeat\u001b[0;34m(a, repeats, axis, total_repeat_length)\u001b[0m\n\u001b[1;32m   2602\u001b[0m   repeats \u001b[38;5;241m=\u001b[39m ravel(repeats)\n\u001b[1;32m   2603\u001b[0m   \u001b[38;5;28;01mif\u001b[39;00m ndim(a) \u001b[38;5;241m!=\u001b[39m \u001b[38;5;241m0\u001b[39m:\n\u001b[0;32m-> 2604\u001b[0m     repeats \u001b[38;5;241m=\u001b[39m \u001b[43mbroadcast_to\u001b[49m\u001b[43m(\u001b[49m\u001b[43mrepeats\u001b[49m\u001b[43m,\u001b[49m\u001b[43m \u001b[49m\u001b[43m[\u001b[49m\u001b[43mshape\u001b[49m\u001b[43m(\u001b[49m\u001b[43ma\u001b[49m\u001b[43m)\u001b[49m\u001b[43m[\u001b[49m\u001b[43maxis\u001b[49m\u001b[43m]\u001b[49m\u001b[43m]\u001b[49m\u001b[43m)\u001b[49m\n\u001b[1;32m   2606\u001b[0m \u001b[38;5;66;03m# Special case when a is a scalar.\u001b[39;00m\n\u001b[1;32m   2607\u001b[0m \u001b[38;5;28;01mif\u001b[39;00m ndim(a) \u001b[38;5;241m==\u001b[39m \u001b[38;5;241m0\u001b[39m:\n",
      "File \u001b[0;32m~/.local/lib/python3.9/site-packages/jax/_src/numpy/lax_numpy.py:1193\u001b[0m, in \u001b[0;36mbroadcast_to\u001b[0;34m(array, shape)\u001b[0m\n\u001b[1;32m   1189\u001b[0m \u001b[38;5;129m@_wraps\u001b[39m(np\u001b[38;5;241m.\u001b[39mbroadcast_to, lax_description\u001b[38;5;241m=\u001b[39m\u001b[38;5;124m\"\"\"\u001b[39m\u001b[38;5;130;01m\\\u001b[39;00m\n\u001b[1;32m   1190\u001b[0m \u001b[38;5;124mThe JAX version does not necessarily return a view of the input.\u001b[39m\n\u001b[1;32m   1191\u001b[0m \u001b[38;5;124m\"\"\"\u001b[39m)\n\u001b[1;32m   1192\u001b[0m \u001b[38;5;28;01mdef\u001b[39;00m \u001b[38;5;21mbroadcast_to\u001b[39m(array: ArrayLike, shape: Shape) \u001b[38;5;241m-\u001b[39m\u001b[38;5;241m>\u001b[39m Array:\n\u001b[0;32m-> 1193\u001b[0m   \u001b[38;5;28;01mreturn\u001b[39;00m \u001b[43m_broadcast_to\u001b[49m\u001b[43m(\u001b[49m\u001b[43marray\u001b[49m\u001b[43m,\u001b[49m\u001b[43m \u001b[49m\u001b[43mshape\u001b[49m\u001b[43m)\u001b[49m\n",
      "File \u001b[0;32m~/.local/lib/python3.9/site-packages/jax/_src/numpy/util.py:409\u001b[0m, in \u001b[0;36m_broadcast_to\u001b[0;34m(arr, shape)\u001b[0m\n\u001b[1;32m    407\u001b[0m \u001b[38;5;28;01mif\u001b[39;00m nlead \u001b[38;5;241m<\u001b[39m \u001b[38;5;241m0\u001b[39m \u001b[38;5;129;01mor\u001b[39;00m \u001b[38;5;129;01mnot\u001b[39;00m compatible:\n\u001b[1;32m    408\u001b[0m   msg \u001b[38;5;241m=\u001b[39m \u001b[38;5;124m\"\u001b[39m\u001b[38;5;124mIncompatible shapes for broadcasting: \u001b[39m\u001b[38;5;132;01m{}\u001b[39;00m\u001b[38;5;124m and requested shape \u001b[39m\u001b[38;5;132;01m{}\u001b[39;00m\u001b[38;5;124m\"\u001b[39m\n\u001b[0;32m--> 409\u001b[0m   \u001b[38;5;28;01mraise\u001b[39;00m \u001b[38;5;167;01mValueError\u001b[39;00m(msg\u001b[38;5;241m.\u001b[39mformat(arr_shape, shape))\n\u001b[1;32m    410\u001b[0m diff, \u001b[38;5;241m=\u001b[39m np\u001b[38;5;241m.\u001b[39mwhere(\u001b[38;5;28mtuple\u001b[39m(\u001b[38;5;129;01mnot\u001b[39;00m core\u001b[38;5;241m.\u001b[39msymbolic_equal_dim(arr_d, shape_d)\n\u001b[1;32m    411\u001b[0m                        \u001b[38;5;28;01mfor\u001b[39;00m arr_d, shape_d \u001b[38;5;129;01min\u001b[39;00m safe_zip(arr_shape, shape_tail)))\n\u001b[1;32m    412\u001b[0m new_dims \u001b[38;5;241m=\u001b[39m \u001b[38;5;28mtuple\u001b[39m(\u001b[38;5;28mrange\u001b[39m(nlead)) \u001b[38;5;241m+\u001b[39m \u001b[38;5;28mtuple\u001b[39m(nlead \u001b[38;5;241m+\u001b[39m diff)\n",
      "\u001b[0;31mValueError\u001b[0m: Incompatible shapes for broadcasting: (2,) and requested shape (1,)"
     ]
    }
   ],
   "source": [
    "model = GraphWrapper()\n",
    "graph_update, params  = model.init_with_output(rng, graph)"
   ]
  },
  {
   "cell_type": "code",
   "execution_count": null,
   "id": "5fb710a7-e69b-4b0a-9c77-b88a1cc00b23",
   "metadata": {},
   "outputs": [],
   "source": []
  }
 ],
 "metadata": {
  "kernelspec": {
   "display_name": "Python 3 (ipykernel)",
   "language": "python",
   "name": "python3"
  },
  "language_info": {
   "codemirror_mode": {
    "name": "ipython",
    "version": 3
   },
   "file_extension": ".py",
   "mimetype": "text/x-python",
   "name": "python",
   "nbconvert_exporter": "python",
   "pygments_lexer": "ipython3",
   "version": "3.9.12"
  }
 },
 "nbformat": 4,
 "nbformat_minor": 5
}
